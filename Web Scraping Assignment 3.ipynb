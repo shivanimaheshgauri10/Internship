{
 "cells": [
  {
   "cell_type": "markdown",
   "id": "67b2fd7b",
   "metadata": {},
   "source": [
    "# WEB SCRAPING ASSIGNMENT - 3"
   ]
  },
  {
   "cell_type": "code",
   "execution_count": null,
   "id": "3d575750",
   "metadata": {},
   "outputs": [],
   "source": []
  },
  {
   "cell_type": "code",
   "execution_count": 1,
   "id": "0f7a01e7",
   "metadata": {},
   "outputs": [
    {
     "name": "stdout",
     "output_type": "stream",
     "text": [
      "Requirement already satisfied: selenium in c:\\users\\hello world\\anaconda3\\lib\\site-packages (4.4.3)\n",
      "Requirement already satisfied: trio~=0.17 in c:\\users\\hello world\\anaconda3\\lib\\site-packages (from selenium) (0.21.0)\n",
      "Requirement already satisfied: urllib3[socks]~=1.26 in c:\\users\\hello world\\anaconda3\\lib\\site-packages (from selenium) (1.26.9)\n",
      "Requirement already satisfied: certifi>=2021.10.8 in c:\\users\\hello world\\anaconda3\\lib\\site-packages (from selenium) (2021.10.8)\n",
      "Requirement already satisfied: trio-websocket~=0.9 in c:\\users\\hello world\\anaconda3\\lib\\site-packages (from selenium) (0.9.2)\n",
      "Requirement already satisfied: outcome in c:\\users\\hello world\\anaconda3\\lib\\site-packages (from trio~=0.17->selenium) (1.2.0)\n",
      "Requirement already satisfied: sortedcontainers in c:\\users\\hello world\\anaconda3\\lib\\site-packages (from trio~=0.17->selenium) (2.4.0)\n",
      "Requirement already satisfied: async-generator>=1.9 in c:\\users\\hello world\\anaconda3\\lib\\site-packages (from trio~=0.17->selenium) (1.10)\n",
      "Requirement already satisfied: attrs>=19.2.0 in c:\\users\\hello world\\anaconda3\\lib\\site-packages (from trio~=0.17->selenium) (21.4.0)\n",
      "Requirement already satisfied: cffi>=1.14 in c:\\users\\hello world\\anaconda3\\lib\\site-packages (from trio~=0.17->selenium) (1.15.0)\n",
      "Requirement already satisfied: sniffio in c:\\users\\hello world\\anaconda3\\lib\\site-packages (from trio~=0.17->selenium) (1.2.0)\n",
      "Requirement already satisfied: idna in c:\\users\\hello world\\anaconda3\\lib\\site-packages (from trio~=0.17->selenium) (3.3)\n",
      "Requirement already satisfied: pycparser in c:\\users\\hello world\\anaconda3\\lib\\site-packages (from cffi>=1.14->trio~=0.17->selenium) (2.21)\n",
      "Requirement already satisfied: wsproto>=0.14 in c:\\users\\hello world\\anaconda3\\lib\\site-packages (from trio-websocket~=0.9->selenium) (1.2.0)\n",
      "Requirement already satisfied: PySocks!=1.5.7,<2.0,>=1.5.6 in c:\\users\\hello world\\anaconda3\\lib\\site-packages (from urllib3[socks]~=1.26->selenium) (1.7.1)\n",
      "Requirement already satisfied: h11<1,>=0.9.0 in c:\\users\\hello world\\anaconda3\\lib\\site-packages (from wsproto>=0.14->trio-websocket~=0.9->selenium) (0.14.0)\n"
     ]
    }
   ],
   "source": [
    "!pip install selenium"
   ]
  },
  {
   "cell_type": "code",
   "execution_count": 2,
   "id": "3e33c8ef",
   "metadata": {},
   "outputs": [],
   "source": [
    "import selenium\n",
    "import pandas as pd\n",
    "from selenium import webdriver\n",
    "import warnings\n",
    "warnings.filterwarnings('ignore')\n",
    "from selenium.common.exceptions import StaleElementReferenceException, NoSuchElementException\n",
    "from selenium.webdriver.common.by import By\n",
    "import time"
   ]
  },
  {
   "cell_type": "markdown",
   "id": "6bd614c9",
   "metadata": {},
   "source": [
    "1. Write a python program which searches all the product under a particular product from www.amazon.in. The product to be searched will be taken as input from user. For e.g. If user input is ‘guitar’. Then search for guitars."
   ]
  },
  {
   "cell_type": "code",
   "execution_count": 212,
   "id": "dc87518c",
   "metadata": {},
   "outputs": [],
   "source": [
    "driver=webdriver.Chrome(r\"C:\\Users\\Hello world\\Downloads\\chromedriver_win32\\chromedriver.exe\")"
   ]
  },
  {
   "cell_type": "code",
   "execution_count": 213,
   "id": "c137b7bc",
   "metadata": {},
   "outputs": [],
   "source": [
    "driver.get(\"https://www.amazon.in/\")"
   ]
  },
  {
   "cell_type": "code",
   "execution_count": 214,
   "id": "6ada2618",
   "metadata": {},
   "outputs": [
    {
     "name": "stdout",
     "output_type": "stream",
     "text": [
      "Enter any product you want to search: Indoor plants for house\n"
     ]
    }
   ],
   "source": [
    "user_input=input(\"Enter any product you want to search: \")"
   ]
  },
  {
   "cell_type": "code",
   "execution_count": null,
   "id": "6edf220e",
   "metadata": {},
   "outputs": [],
   "source": []
  },
  {
   "cell_type": "code",
   "execution_count": 215,
   "id": "1b84080a",
   "metadata": {},
   "outputs": [],
   "source": [
    "product=driver.find_element(By.XPATH, \"/html/body/div[1]/header/div/div[1]/div[2]/div/form/div[2]/div[1]/input\")\n",
    "product.send_keys(user_input)"
   ]
  },
  {
   "cell_type": "code",
   "execution_count": 216,
   "id": "5b810801",
   "metadata": {},
   "outputs": [],
   "source": [
    "search=driver.find_element(By.XPATH, '/html/body/div[1]/header/div/div[1]/div[2]/div/form/div[3]/div/span/input')\n",
    "search.click()"
   ]
  },
  {
   "cell_type": "code",
   "execution_count": null,
   "id": "91733bfd",
   "metadata": {},
   "outputs": [],
   "source": []
  },
  {
   "cell_type": "markdown",
   "id": "2fe126c1",
   "metadata": {},
   "source": [
    "2. In the above question, now scrape the following details of each product listed in first 3 pages of your search results and save it in a data frame and csv. In case if any product has less than 3 pages in search results then scrape all the products available under that product name. Details to be scraped are: \"Brand Name\", \"Name of the Product\", \"Price\", \"Return/Exchange\", \"Expected Delivery\", \"Availability\" and “Product URL”. In case, if any of the details are missing for any of the product then replace it by “-“."
   ]
  },
  {
   "cell_type": "code",
   "execution_count": 230,
   "id": "4cab5825",
   "metadata": {},
   "outputs": [],
   "source": [
    "prod_urls = []\n",
    "start=0\n",
    "end=2\n",
    "\n",
    "for page in range(start,end):\n",
    "    url= driver.find_elements(By.XPATH,'//a[@class=\"a-link-normal a-text-normal\"]')\n",
    "    for j in url:\n",
    "        prod_urls.append(j.get_attribute('href'))"
   ]
  },
  {
   "cell_type": "code",
   "execution_count": 232,
   "id": "605ef09f",
   "metadata": {},
   "outputs": [
    {
     "data": {
      "text/plain": [
       "86"
      ]
     },
     "execution_count": 232,
     "metadata": {},
     "output_type": "execute_result"
    }
   ],
   "source": [
    "len(prod_urls)"
   ]
  },
  {
   "cell_type": "code",
   "execution_count": 233,
   "id": "d3ac32c5",
   "metadata": {},
   "outputs": [
    {
     "data": {
      "text/plain": [
       "['https://www.amazon.in/Rolling-Nature-Purifying-Syngonium-Ceramic/dp/B07V9BXWT3/ref=sr_1_23_sspa?crid=3VML5HSOB7NJN&keywords=Indoor+plants+for+house&qid=1666961503&qu=eyJxc2MiOiI0LjIyIiwicXNhIjoiMC4wMCIsInFzcCI6IjAuMDAifQ%3D%3D&sprefix=indoor+plants+for+house%2Caps%2C761&sr=8-23-spons&psc=1#',\n",
       " 'https://www.amazon.in/PlantMela-Purifier-Watering-Zamioculcas-Zamiifolia/dp/B0B3F7V49P/ref=d_pb_allspark_purchase_sims_desktop_sccl_2_1/259-7660848-5638859?pd_rd_w=7Qis3&content-id=amzn1.sym.a4543507-b579-4aa3-8a29-824b6607c4d8&pf_rd_p=a4543507-b579-4aa3-8a29-824b6607c4d8&pf_rd_r=VX95QD88FMK1T9ST4RQS&pd_rd_wg=WVucz&pd_rd_r=fd497bc7-8ebb-4aeb-8996-ddb2fb14cd53&pd_rd_i=B0B3F7V49P&psc=1',\n",
       " 'https://www.amazon.in/Rolling-Nature-Plant-Happy-Ceramic/dp/B07V52QMY5/ref=d_pb_allspark_purchase_sims_desktop_sccl_2_2/259-7660848-5638859?pd_rd_w=7Qis3&content-id=amzn1.sym.a4543507-b579-4aa3-8a29-824b6607c4d8&pf_rd_p=a4543507-b579-4aa3-8a29-824b6607c4d8&pf_rd_r=VX95QD88FMK1T9ST4RQS&pd_rd_wg=WVucz&pd_rd_r=fd497bc7-8ebb-4aeb-8996-ddb2fb14cd53&pd_rd_i=B07V52QMY5&psc=1',\n",
       " 'https://www.amazon.in/PlantMela-Purifier-Watering-Zamioculcas-Zamiifolia/dp/B0B3F94V4J/ref=d_pb_allspark_purchase_sims_desktop_sccl_2_3/259-7660848-5638859?pd_rd_w=7Qis3&content-id=amzn1.sym.a4543507-b579-4aa3-8a29-824b6607c4d8&pf_rd_p=a4543507-b579-4aa3-8a29-824b6607c4d8&pf_rd_r=VX95QD88FMK1T9ST4RQS&pd_rd_wg=WVucz&pd_rd_r=fd497bc7-8ebb-4aeb-8996-ddb2fb14cd53&pd_rd_i=B0B3F94V4J&psc=1',\n",
       " 'https://www.amazon.in/Rolling-Nature-Aralia-Variegated-Ceramic/dp/B07V8CZFC3/ref=d_pb_allspark_purchase_sims_desktop_sccl_2_4/259-7660848-5638859?pd_rd_w=7Qis3&content-id=amzn1.sym.a4543507-b579-4aa3-8a29-824b6607c4d8&pf_rd_p=a4543507-b579-4aa3-8a29-824b6607c4d8&pf_rd_r=VX95QD88FMK1T9ST4RQS&pd_rd_wg=WVucz&pd_rd_r=fd497bc7-8ebb-4aeb-8996-ddb2fb14cd53&pd_rd_i=B07V8CZFC3&psc=1',\n",
       " 'https://www.amazon.in/Rolling-Nature-Purifying-Syngonium-Ceramic/dp/B07V9BX9MM/ref=d_pb_allspark_purchase_sims_desktop_sccl_2_5/259-7660848-5638859?pd_rd_w=7Qis3&content-id=amzn1.sym.a4543507-b579-4aa3-8a29-824b6607c4d8&pf_rd_p=a4543507-b579-4aa3-8a29-824b6607c4d8&pf_rd_r=VX95QD88FMK1T9ST4RQS&pd_rd_wg=WVucz&pd_rd_r=fd497bc7-8ebb-4aeb-8996-ddb2fb14cd53&pd_rd_i=B07V9BX9MM&psc=1',\n",
       " 'https://www.amazon.in/Rolling-Nature-Plant-Emoji-Ceramic/dp/B07S3LCF2V/ref=d_pb_allspark_purchase_sims_desktop_sccl_2_6/259-7660848-5638859?pd_rd_w=7Qis3&content-id=amzn1.sym.a4543507-b579-4aa3-8a29-824b6607c4d8&pf_rd_p=a4543507-b579-4aa3-8a29-824b6607c4d8&pf_rd_r=VX95QD88FMK1T9ST4RQS&pd_rd_wg=WVucz&pd_rd_r=fd497bc7-8ebb-4aeb-8996-ddb2fb14cd53&pd_rd_i=B07S3LCF2V&psc=1',\n",
       " 'https://aax-eu.amazon.in/x/c/RDreG1agJ61ERurMRjQeqoQAAAGEHsPWhgMAAAH2AQBOL0EgICAgICAgICAgICBOL0EgICAgICAgICAgICAPO4Yz/https://www.amazon.in/dp/B09SHS8621?pd_rd_i=B09SHS8621&pf_rd_p=8f3367e5-d155-4e93-a00e-b3dbf03d1505&pf_rd_r=VX95QD88FMK1T9ST4RQS&pd_rd_wg=WVucz&pd_rd_w=PD81t&pd_rd_r=fd497bc7-8ebb-4aeb-8996-ddb2fb14cd53',\n",
       " 'https://aax-eu.amazon.in/x/c/RDreG1agJ61ERurMRjQeqoQAAAGEHsPWhgMAAAH2AQBOL0EgICAgICAgICAgICBOL0EgICAgICAgICAgICAPO4Yz/https://www.amazon.in/dp/B09SHS8621?pd_rd_i=B09SHS8621&pf_rd_p=8f3367e5-d155-4e93-a00e-b3dbf03d1505&pf_rd_r=VX95QD88FMK1T9ST4RQS&pd_rd_wg=WVucz&pd_rd_w=PD81t&pd_rd_r=fd497bc7-8ebb-4aeb-8996-ddb2fb14cd53',\n",
       " 'https://aax-eu.amazon.in/x/c/RLquxLUokcbqVXyZBBrXLkoAAAGEHsPWhgMAAAH2AQBOL0EgICAgICAgICAgICBOL0EgICAgICAgICAgICAJc-__/https://www.amazon.in/dp/B09G6SVS73?pd_rd_i=B09G6SVS73&pf_rd_p=8f3367e5-d155-4e93-a00e-b3dbf03d1505&pf_rd_r=VX95QD88FMK1T9ST4RQS&pd_rd_wg=WVucz&pd_rd_w=PD81t&pd_rd_r=fd497bc7-8ebb-4aeb-8996-ddb2fb14cd53',\n",
       " 'https://aax-eu.amazon.in/x/c/RLquxLUokcbqVXyZBBrXLkoAAAGEHsPWhgMAAAH2AQBOL0EgICAgICAgICAgICBOL0EgICAgICAgICAgICAJc-__/https://www.amazon.in/dp/B09G6SVS73?pd_rd_i=B09G6SVS73&pf_rd_p=8f3367e5-d155-4e93-a00e-b3dbf03d1505&pf_rd_r=VX95QD88FMK1T9ST4RQS&pd_rd_wg=WVucz&pd_rd_w=PD81t&pd_rd_r=fd497bc7-8ebb-4aeb-8996-ddb2fb14cd53',\n",
       " 'https://aax-eu.amazon.in/x/c/RIzT_haHI7eTCnsH5AMl2i0AAAGEHsPWhgMAAAH2AQBOL0EgICAgICAgICAgICBOL0EgICAgICAgICAgICBpPdKZ/https://www.amazon.in/dp/B0918CFZC1?pd_rd_i=B0918CFZC1&pf_rd_p=8f3367e5-d155-4e93-a00e-b3dbf03d1505&pf_rd_r=VX95QD88FMK1T9ST4RQS&pd_rd_wg=WVucz&pd_rd_w=PD81t&pd_rd_r=fd497bc7-8ebb-4aeb-8996-ddb2fb14cd53',\n",
       " 'https://aax-eu.amazon.in/x/c/RIzT_haHI7eTCnsH5AMl2i0AAAGEHsPWhgMAAAH2AQBOL0EgICAgICAgICAgICBOL0EgICAgICAgICAgICBpPdKZ/https://www.amazon.in/dp/B0918CFZC1?pd_rd_i=B0918CFZC1&pf_rd_p=8f3367e5-d155-4e93-a00e-b3dbf03d1505&pf_rd_r=VX95QD88FMK1T9ST4RQS&pd_rd_wg=WVucz&pd_rd_w=PD81t&pd_rd_r=fd497bc7-8ebb-4aeb-8996-ddb2fb14cd53',\n",
       " 'https://aax-eu.amazon.in/x/c/RKL3qByvT6hZVq_EltIuuW8AAAGEHsPWhgMAAAH2AQBOL0EgICAgICAgICAgICBOL0EgICAgICAgICAgICDgGloE/https://www.amazon.in/dp/B09XTY8Q7F?pd_rd_i=B09XTY8Q7F&pf_rd_p=8f3367e5-d155-4e93-a00e-b3dbf03d1505&pf_rd_r=VX95QD88FMK1T9ST4RQS&pd_rd_wg=WVucz&pd_rd_w=PD81t&pd_rd_r=fd497bc7-8ebb-4aeb-8996-ddb2fb14cd53',\n",
       " 'https://aax-eu.amazon.in/x/c/RKL3qByvT6hZVq_EltIuuW8AAAGEHsPWhgMAAAH2AQBOL0EgICAgICAgICAgICBOL0EgICAgICAgICAgICDgGloE/https://www.amazon.in/dp/B09XTY8Q7F?pd_rd_i=B09XTY8Q7F&pf_rd_p=8f3367e5-d155-4e93-a00e-b3dbf03d1505&pf_rd_r=VX95QD88FMK1T9ST4RQS&pd_rd_wg=WVucz&pd_rd_w=PD81t&pd_rd_r=fd497bc7-8ebb-4aeb-8996-ddb2fb14cd53',\n",
       " 'https://aax-eu.amazon.in/x/c/RJecj_oXmEgvoXtgtOlwOjIAAAGEHsPWhgMAAAH2AQBOL0EgICAgICAgICAgICBOL0EgICAgICAgICAgICC1SzCK/https://www.amazon.in/dp/B0B6R4XTCH?pd_rd_i=B0B6R4XTCH&pf_rd_p=8f3367e5-d155-4e93-a00e-b3dbf03d1505&pf_rd_r=VX95QD88FMK1T9ST4RQS&pd_rd_wg=WVucz&pd_rd_w=PD81t&pd_rd_r=fd497bc7-8ebb-4aeb-8996-ddb2fb14cd53',\n",
       " 'https://aax-eu.amazon.in/x/c/RJecj_oXmEgvoXtgtOlwOjIAAAGEHsPWhgMAAAH2AQBOL0EgICAgICAgICAgICBOL0EgICAgICAgICAgICC1SzCK/https://www.amazon.in/dp/B0B6R4XTCH?pd_rd_i=B0B6R4XTCH&pf_rd_p=8f3367e5-d155-4e93-a00e-b3dbf03d1505&pf_rd_r=VX95QD88FMK1T9ST4RQS&pd_rd_wg=WVucz&pd_rd_w=PD81t&pd_rd_r=fd497bc7-8ebb-4aeb-8996-ddb2fb14cd53',\n",
       " 'https://www.amazon.in/sspa/click?ie=UTF8&spc=MTo1MzA1NjIxMzQ2MTY4MTg0OjE2NjY5NjM0NjA6c3BfZGV0YWlsMjoyMDAzMjg5NDQwNjk5ODo6Ojo&url=%2Fdp%2FB071SJV9ZG%2Fref%3Dsspa_dk_detail_0%3Fpsc%3D1%26pd_rd_i%3DB071SJV9ZG%26pd_rd_w%3DBz2cZ%26content-id%3Damzn1.sym.341eb43e-ea7c-457f-aa0f-a8bbc2ea1307%26pf_rd_p%3D341eb43e-ea7c-457f-aa0f-a8bbc2ea1307%26pf_rd_r%3DVX95QD88FMK1T9ST4RQS%26pd_rd_wg%3DWVucz%26pd_rd_r%3Dfd497bc7-8ebb-4aeb-8996-ddb2fb14cd53%26s%3Dgarden%26sp_csd%3Dd2lkZ2V0TmFtZT1zcF9kZXRhaWwy',\n",
       " 'https://www.amazon.in/sspa/click?ie=UTF8&spc=MTo1MzA1NjIxMzQ2MTY4MTg0OjE2NjY5NjM0NjA6c3BfZGV0YWlsMjoyMDAzMjg5NDQwNjk5ODo6Ojo&url=%2Fdp%2FB071SJV9ZG%2Fref%3Dsspa_dk_detail_0%3Fpsc%3D1%26pd_rd_i%3DB071SJV9ZG%26pd_rd_w%3DBz2cZ%26content-id%3Damzn1.sym.341eb43e-ea7c-457f-aa0f-a8bbc2ea1307%26pf_rd_p%3D341eb43e-ea7c-457f-aa0f-a8bbc2ea1307%26pf_rd_r%3DVX95QD88FMK1T9ST4RQS%26pd_rd_wg%3DWVucz%26pd_rd_r%3Dfd497bc7-8ebb-4aeb-8996-ddb2fb14cd53%26s%3Dgarden%26sp_csd%3Dd2lkZ2V0TmFtZT1zcF9kZXRhaWwy',\n",
       " 'https://www.amazon.in/sspa/click?ie=UTF8&spc=MTo1MzA1NjIxMzQ2MTY4MTg0OjE2NjY5NjM0NjA6c3BfZGV0YWlsMjoyMDAzMjg5NDQwNjk5ODo6Ojo&url=%2Fdp%2FB071SJV9ZG%2Fref%3Dsspa_dk_detail_0%3Fpsc%3D1%26pd_rd_i%3DB071SJV9ZG%26pd_rd_w%3DBz2cZ%26content-id%3Damzn1.sym.341eb43e-ea7c-457f-aa0f-a8bbc2ea1307%26pf_rd_p%3D341eb43e-ea7c-457f-aa0f-a8bbc2ea1307%26pf_rd_r%3DVX95QD88FMK1T9ST4RQS%26pd_rd_wg%3DWVucz%26pd_rd_r%3Dfd497bc7-8ebb-4aeb-8996-ddb2fb14cd53%26s%3Dgarden%26sp_csd%3Dd2lkZ2V0TmFtZT1zcF9kZXRhaWwy',\n",
       " 'https://www.amazon.in/sspa/click?ie=UTF8&spc=MTo1MzA1NjIxMzQ2MTY4MTg0OjE2NjY5NjM0NjA6c3BfZGV0YWlsMjoyMDAzMjg5NDQwNjk5ODo6Ojo&url=%2Fdp%2FB071SJV9ZG%2Fref%3Dsspa_dk_detail_0%3Fpsc%3D1%26pd_rd_i%3DB071SJV9ZG%26pd_rd_w%3DBz2cZ%26content-id%3Damzn1.sym.341eb43e-ea7c-457f-aa0f-a8bbc2ea1307%26pf_rd_p%3D341eb43e-ea7c-457f-aa0f-a8bbc2ea1307%26pf_rd_r%3DVX95QD88FMK1T9ST4RQS%26pd_rd_wg%3DWVucz%26pd_rd_r%3Dfd497bc7-8ebb-4aeb-8996-ddb2fb14cd53%26s%3Dgarden%26sp_csd%3Dd2lkZ2V0TmFtZT1zcF9kZXRhaWwy',\n",
       " 'https://www.amazon.in/sspa/click?ie=UTF8&spc=MTo1MzA1NjIxMzQ2MTY4MTg0OjE2NjY5NjM0NjA6c3BfZGV0YWlsMjoyMDA4MTIzMTk4NjIwNzo6Ojo&url=%2Fdp%2FB07V9BX9MM%2Fref%3Dsspa_dk_detail_1%3Fpsc%3D1%26pd_rd_i%3DB07V9BX9MM%26pd_rd_w%3DBz2cZ%26content-id%3Damzn1.sym.341eb43e-ea7c-457f-aa0f-a8bbc2ea1307%26pf_rd_p%3D341eb43e-ea7c-457f-aa0f-a8bbc2ea1307%26pf_rd_r%3DVX95QD88FMK1T9ST4RQS%26pd_rd_wg%3DWVucz%26pd_rd_r%3Dfd497bc7-8ebb-4aeb-8996-ddb2fb14cd53%26s%3Dgarden%26sp_csd%3Dd2lkZ2V0TmFtZT1zcF9kZXRhaWwy',\n",
       " 'https://www.amazon.in/sspa/click?ie=UTF8&spc=MTo1MzA1NjIxMzQ2MTY4MTg0OjE2NjY5NjM0NjA6c3BfZGV0YWlsMjoyMDA4MTIzMTk4NjIwNzo6Ojo&url=%2Fdp%2FB07V9BX9MM%2Fref%3Dsspa_dk_detail_1%3Fpsc%3D1%26pd_rd_i%3DB07V9BX9MM%26pd_rd_w%3DBz2cZ%26content-id%3Damzn1.sym.341eb43e-ea7c-457f-aa0f-a8bbc2ea1307%26pf_rd_p%3D341eb43e-ea7c-457f-aa0f-a8bbc2ea1307%26pf_rd_r%3DVX95QD88FMK1T9ST4RQS%26pd_rd_wg%3DWVucz%26pd_rd_r%3Dfd497bc7-8ebb-4aeb-8996-ddb2fb14cd53%26s%3Dgarden%26sp_csd%3Dd2lkZ2V0TmFtZT1zcF9kZXRhaWwy',\n",
       " 'https://www.amazon.in/sspa/click?ie=UTF8&spc=MTo1MzA1NjIxMzQ2MTY4MTg0OjE2NjY5NjM0NjA6c3BfZGV0YWlsMjoyMDA4MTIzMTk4NjIwNzo6Ojo&url=%2Fdp%2FB07V9BX9MM%2Fref%3Dsspa_dk_detail_1%3Fpsc%3D1%26pd_rd_i%3DB07V9BX9MM%26pd_rd_w%3DBz2cZ%26content-id%3Damzn1.sym.341eb43e-ea7c-457f-aa0f-a8bbc2ea1307%26pf_rd_p%3D341eb43e-ea7c-457f-aa0f-a8bbc2ea1307%26pf_rd_r%3DVX95QD88FMK1T9ST4RQS%26pd_rd_wg%3DWVucz%26pd_rd_r%3Dfd497bc7-8ebb-4aeb-8996-ddb2fb14cd53%26s%3Dgarden%26sp_csd%3Dd2lkZ2V0TmFtZT1zcF9kZXRhaWwy',\n",
       " 'https://www.amazon.in/sspa/click?ie=UTF8&spc=MTo1MzA1NjIxMzQ2MTY4MTg0OjE2NjY5NjM0NjA6c3BfZGV0YWlsMjoyMDA4MTIzMTk4NjIwNzo6Ojo&url=%2Fdp%2FB07V9BX9MM%2Fref%3Dsspa_dk_detail_1%3Fpsc%3D1%26pd_rd_i%3DB07V9BX9MM%26pd_rd_w%3DBz2cZ%26content-id%3Damzn1.sym.341eb43e-ea7c-457f-aa0f-a8bbc2ea1307%26pf_rd_p%3D341eb43e-ea7c-457f-aa0f-a8bbc2ea1307%26pf_rd_r%3DVX95QD88FMK1T9ST4RQS%26pd_rd_wg%3DWVucz%26pd_rd_r%3Dfd497bc7-8ebb-4aeb-8996-ddb2fb14cd53%26s%3Dgarden%26sp_csd%3Dd2lkZ2V0TmFtZT1zcF9kZXRhaWwy',\n",
       " 'https://www.amazon.in/sspa/click?ie=UTF8&spc=MTo1MzA1NjIxMzQ2MTY4MTg0OjE2NjY5NjM0NjA6c3BfZGV0YWlsMjoyMDAzMjkwMDIxNDU5ODo6Ojo&url=%2Fdp%2FB07B8PL5KY%2Fref%3Dsspa_dk_detail_2%3Fpsc%3D1%26pd_rd_i%3DB07B8PL5KY%26pd_rd_w%3DBz2cZ%26content-id%3Damzn1.sym.341eb43e-ea7c-457f-aa0f-a8bbc2ea1307%26pf_rd_p%3D341eb43e-ea7c-457f-aa0f-a8bbc2ea1307%26pf_rd_r%3DVX95QD88FMK1T9ST4RQS%26pd_rd_wg%3DWVucz%26pd_rd_r%3Dfd497bc7-8ebb-4aeb-8996-ddb2fb14cd53%26s%3Dgarden%26sp_csd%3Dd2lkZ2V0TmFtZT1zcF9kZXRhaWwy',\n",
       " 'https://www.amazon.in/sspa/click?ie=UTF8&spc=MTo1MzA1NjIxMzQ2MTY4MTg0OjE2NjY5NjM0NjA6c3BfZGV0YWlsMjoyMDAzMjkwMDIxNDU5ODo6Ojo&url=%2Fdp%2FB07B8PL5KY%2Fref%3Dsspa_dk_detail_2%3Fpsc%3D1%26pd_rd_i%3DB07B8PL5KY%26pd_rd_w%3DBz2cZ%26content-id%3Damzn1.sym.341eb43e-ea7c-457f-aa0f-a8bbc2ea1307%26pf_rd_p%3D341eb43e-ea7c-457f-aa0f-a8bbc2ea1307%26pf_rd_r%3DVX95QD88FMK1T9ST4RQS%26pd_rd_wg%3DWVucz%26pd_rd_r%3Dfd497bc7-8ebb-4aeb-8996-ddb2fb14cd53%26s%3Dgarden%26sp_csd%3Dd2lkZ2V0TmFtZT1zcF9kZXRhaWwy',\n",
       " 'https://www.amazon.in/sspa/click?ie=UTF8&spc=MTo1MzA1NjIxMzQ2MTY4MTg0OjE2NjY5NjM0NjA6c3BfZGV0YWlsMjoyMDAzMjkwMDIxNDU5ODo6Ojo&url=%2Fdp%2FB07B8PL5KY%2Fref%3Dsspa_dk_detail_2%3Fpsc%3D1%26pd_rd_i%3DB07B8PL5KY%26pd_rd_w%3DBz2cZ%26content-id%3Damzn1.sym.341eb43e-ea7c-457f-aa0f-a8bbc2ea1307%26pf_rd_p%3D341eb43e-ea7c-457f-aa0f-a8bbc2ea1307%26pf_rd_r%3DVX95QD88FMK1T9ST4RQS%26pd_rd_wg%3DWVucz%26pd_rd_r%3Dfd497bc7-8ebb-4aeb-8996-ddb2fb14cd53%26s%3Dgarden%26sp_csd%3Dd2lkZ2V0TmFtZT1zcF9kZXRhaWwy',\n",
       " 'https://www.amazon.in/sspa/click?ie=UTF8&spc=MTo1MzA1NjIxMzQ2MTY4MTg0OjE2NjY5NjM0NjA6c3BfZGV0YWlsMjoyMDAzMjkwMDIxNDU5ODo6Ojo&url=%2Fdp%2FB07B8PL5KY%2Fref%3Dsspa_dk_detail_2%3Fpsc%3D1%26pd_rd_i%3DB07B8PL5KY%26pd_rd_w%3DBz2cZ%26content-id%3Damzn1.sym.341eb43e-ea7c-457f-aa0f-a8bbc2ea1307%26pf_rd_p%3D341eb43e-ea7c-457f-aa0f-a8bbc2ea1307%26pf_rd_r%3DVX95QD88FMK1T9ST4RQS%26pd_rd_wg%3DWVucz%26pd_rd_r%3Dfd497bc7-8ebb-4aeb-8996-ddb2fb14cd53%26s%3Dgarden%26sp_csd%3Dd2lkZ2V0TmFtZT1zcF9kZXRhaWwy',\n",
       " 'https://www.amazon.in/sspa/click?ie=UTF8&spc=MTo1MzA1NjIxMzQ2MTY4MTg0OjE2NjY5NjM0NjA6c3BfZGV0YWlsMjoyMDAzMjg5NDQwNzU5ODo6Ojo&url=%2Fdp%2FB07942CVM9%2Fref%3Dsspa_dk_detail_3%3Fpsc%3D1%26pd_rd_i%3DB07942CVM9%26pd_rd_w%3DBz2cZ%26content-id%3Damzn1.sym.341eb43e-ea7c-457f-aa0f-a8bbc2ea1307%26pf_rd_p%3D341eb43e-ea7c-457f-aa0f-a8bbc2ea1307%26pf_rd_r%3DVX95QD88FMK1T9ST4RQS%26pd_rd_wg%3DWVucz%26pd_rd_r%3Dfd497bc7-8ebb-4aeb-8996-ddb2fb14cd53%26s%3Dgarden%26sp_csd%3Dd2lkZ2V0TmFtZT1zcF9kZXRhaWwy',\n",
       " 'https://www.amazon.in/sspa/click?ie=UTF8&spc=MTo1MzA1NjIxMzQ2MTY4MTg0OjE2NjY5NjM0NjA6c3BfZGV0YWlsMjoyMDAzMjg5NDQwNzU5ODo6Ojo&url=%2Fdp%2FB07942CVM9%2Fref%3Dsspa_dk_detail_3%3Fpsc%3D1%26pd_rd_i%3DB07942CVM9%26pd_rd_w%3DBz2cZ%26content-id%3Damzn1.sym.341eb43e-ea7c-457f-aa0f-a8bbc2ea1307%26pf_rd_p%3D341eb43e-ea7c-457f-aa0f-a8bbc2ea1307%26pf_rd_r%3DVX95QD88FMK1T9ST4RQS%26pd_rd_wg%3DWVucz%26pd_rd_r%3Dfd497bc7-8ebb-4aeb-8996-ddb2fb14cd53%26s%3Dgarden%26sp_csd%3Dd2lkZ2V0TmFtZT1zcF9kZXRhaWwy',\n",
       " 'https://www.amazon.in/sspa/click?ie=UTF8&spc=MTo1MzA1NjIxMzQ2MTY4MTg0OjE2NjY5NjM0NjA6c3BfZGV0YWlsMjoyMDAzMjg5NDQwNzI5ODo6Ojo&url=%2Fdp%2FB0789NZX3B%2Fref%3Dsspa_dk_detail_4%3Fpsc%3D1%26pd_rd_i%3DB0789NZX3B%26pd_rd_w%3DBz2cZ%26content-id%3Damzn1.sym.341eb43e-ea7c-457f-aa0f-a8bbc2ea1307%26pf_rd_p%3D341eb43e-ea7c-457f-aa0f-a8bbc2ea1307%26pf_rd_r%3DVX95QD88FMK1T9ST4RQS%26pd_rd_wg%3DWVucz%26pd_rd_r%3Dfd497bc7-8ebb-4aeb-8996-ddb2fb14cd53%26s%3Dgarden%26sp_csd%3Dd2lkZ2V0TmFtZT1zcF9kZXRhaWwy',\n",
       " 'https://www.amazon.in/sspa/click?ie=UTF8&spc=MTo1MzA1NjIxMzQ2MTY4MTg0OjE2NjY5NjM0NjA6c3BfZGV0YWlsMjoyMDAzMjg5NDQwNzI5ODo6Ojo&url=%2Fdp%2FB0789NZX3B%2Fref%3Dsspa_dk_detail_4%3Fpsc%3D1%26pd_rd_i%3DB0789NZX3B%26pd_rd_w%3DBz2cZ%26content-id%3Damzn1.sym.341eb43e-ea7c-457f-aa0f-a8bbc2ea1307%26pf_rd_p%3D341eb43e-ea7c-457f-aa0f-a8bbc2ea1307%26pf_rd_r%3DVX95QD88FMK1T9ST4RQS%26pd_rd_wg%3DWVucz%26pd_rd_r%3Dfd497bc7-8ebb-4aeb-8996-ddb2fb14cd53%26s%3Dgarden%26sp_csd%3Dd2lkZ2V0TmFtZT1zcF9kZXRhaWwy',\n",
       " 'https://www.amazon.in/sspa/click?ie=UTF8&spc=MTo1MzA1NjIxMzQ2MTY4MTg0OjE2NjY5NjM0NjA6c3BfZGV0YWlsMjoyMDAzMjg5NDQwNzI5ODo6Ojo&url=%2Fdp%2FB0789NZX3B%2Fref%3Dsspa_dk_detail_4%3Fpsc%3D1%26pd_rd_i%3DB0789NZX3B%26pd_rd_w%3DBz2cZ%26content-id%3Damzn1.sym.341eb43e-ea7c-457f-aa0f-a8bbc2ea1307%26pf_rd_p%3D341eb43e-ea7c-457f-aa0f-a8bbc2ea1307%26pf_rd_r%3DVX95QD88FMK1T9ST4RQS%26pd_rd_wg%3DWVucz%26pd_rd_r%3Dfd497bc7-8ebb-4aeb-8996-ddb2fb14cd53%26s%3Dgarden%26sp_csd%3Dd2lkZ2V0TmFtZT1zcF9kZXRhaWwy',\n",
       " 'https://www.amazon.in/sspa/click?ie=UTF8&spc=MTo1MzA1NjIxMzQ2MTY4MTg0OjE2NjY5NjM0NjA6c3BfZGV0YWlsMjoyMDAzMjg5NDQwNzI5ODo6Ojo&url=%2Fdp%2FB0789NZX3B%2Fref%3Dsspa_dk_detail_4%3Fpsc%3D1%26pd_rd_i%3DB0789NZX3B%26pd_rd_w%3DBz2cZ%26content-id%3Damzn1.sym.341eb43e-ea7c-457f-aa0f-a8bbc2ea1307%26pf_rd_p%3D341eb43e-ea7c-457f-aa0f-a8bbc2ea1307%26pf_rd_r%3DVX95QD88FMK1T9ST4RQS%26pd_rd_wg%3DWVucz%26pd_rd_r%3Dfd497bc7-8ebb-4aeb-8996-ddb2fb14cd53%26s%3Dgarden%26sp_csd%3Dd2lkZ2V0TmFtZT1zcF9kZXRhaWwy',\n",
       " 'https://www.amazon.in/sspa/click?ie=UTF8&spc=MTo1MzA1NjIxMzQ2MTY4MTg0OjE2NjY5NjM0NjA6c3BfZGV0YWlsMjoyMDAzMjkwMDIxNDY5ODo6Ojo&url=%2Fdp%2FB0793Z4X4W%2Fref%3Dsspa_dk_detail_5%3Fpsc%3D1%26pd_rd_i%3DB0793Z4X4W%26pd_rd_w%3DBz2cZ%26content-id%3Damzn1.sym.341eb43e-ea7c-457f-aa0f-a8bbc2ea1307%26pf_rd_p%3D341eb43e-ea7c-457f-aa0f-a8bbc2ea1307%26pf_rd_r%3DVX95QD88FMK1T9ST4RQS%26pd_rd_wg%3DWVucz%26pd_rd_r%3Dfd497bc7-8ebb-4aeb-8996-ddb2fb14cd53%26s%3Dgarden%26sp_csd%3Dd2lkZ2V0TmFtZT1zcF9kZXRhaWwy',\n",
       " 'https://www.amazon.in/sspa/click?ie=UTF8&spc=MTo1MzA1NjIxMzQ2MTY4MTg0OjE2NjY5NjM0NjA6c3BfZGV0YWlsMjoyMDAzMjkwMDIxNDY5ODo6Ojo&url=%2Fdp%2FB0793Z4X4W%2Fref%3Dsspa_dk_detail_5%3Fpsc%3D1%26pd_rd_i%3DB0793Z4X4W%26pd_rd_w%3DBz2cZ%26content-id%3Damzn1.sym.341eb43e-ea7c-457f-aa0f-a8bbc2ea1307%26pf_rd_p%3D341eb43e-ea7c-457f-aa0f-a8bbc2ea1307%26pf_rd_r%3DVX95QD88FMK1T9ST4RQS%26pd_rd_wg%3DWVucz%26pd_rd_r%3Dfd497bc7-8ebb-4aeb-8996-ddb2fb14cd53%26s%3Dgarden%26sp_csd%3Dd2lkZ2V0TmFtZT1zcF9kZXRhaWwy',\n",
       " 'https://www.amazon.in/sspa/click?ie=UTF8&spc=MTo1MzA1NjIxMzQ2MTY4MTg0OjE2NjY5NjM0NjA6c3BfZGV0YWlsMjoyMDAzMjkwMDIxNDY5ODo6Ojo&url=%2Fdp%2FB0793Z4X4W%2Fref%3Dsspa_dk_detail_5%3Fpsc%3D1%26pd_rd_i%3DB0793Z4X4W%26pd_rd_w%3DBz2cZ%26content-id%3Damzn1.sym.341eb43e-ea7c-457f-aa0f-a8bbc2ea1307%26pf_rd_p%3D341eb43e-ea7c-457f-aa0f-a8bbc2ea1307%26pf_rd_r%3DVX95QD88FMK1T9ST4RQS%26pd_rd_wg%3DWVucz%26pd_rd_r%3Dfd497bc7-8ebb-4aeb-8996-ddb2fb14cd53%26s%3Dgarden%26sp_csd%3Dd2lkZ2V0TmFtZT1zcF9kZXRhaWwy',\n",
       " 'https://www.amazon.in/sspa/click?ie=UTF8&spc=MTo1MzA1NjIxMzQ2MTY4MTg0OjE2NjY5NjM0NjA6c3BfZGV0YWlsMjoyMDAzMjkwMDIxNDY5ODo6Ojo&url=%2Fdp%2FB0793Z4X4W%2Fref%3Dsspa_dk_detail_5%3Fpsc%3D1%26pd_rd_i%3DB0793Z4X4W%26pd_rd_w%3DBz2cZ%26content-id%3Damzn1.sym.341eb43e-ea7c-457f-aa0f-a8bbc2ea1307%26pf_rd_p%3D341eb43e-ea7c-457f-aa0f-a8bbc2ea1307%26pf_rd_r%3DVX95QD88FMK1T9ST4RQS%26pd_rd_wg%3DWVucz%26pd_rd_r%3Dfd497bc7-8ebb-4aeb-8996-ddb2fb14cd53%26s%3Dgarden%26sp_csd%3Dd2lkZ2V0TmFtZT1zcF9kZXRhaWwy',\n",
       " 'https://www.amazon.in/sspa/click?ie=UTF8&spc=MTo1MzA1NjIxMzQ2MTY4MTg0OjE2NjY5NjM0NjA6c3BfZGV0YWlsMjoyMDA4MTIzMjU5NjQwNzo6Ojo&url=%2Fdp%2FB07V52QMY5%2Fref%3Dsspa_dk_detail_6%3Fpsc%3D1%26pd_rd_i%3DB07V52QMY5%26pd_rd_w%3DBz2cZ%26content-id%3Damzn1.sym.341eb43e-ea7c-457f-aa0f-a8bbc2ea1307%26pf_rd_p%3D341eb43e-ea7c-457f-aa0f-a8bbc2ea1307%26pf_rd_r%3DVX95QD88FMK1T9ST4RQS%26pd_rd_wg%3DWVucz%26pd_rd_r%3Dfd497bc7-8ebb-4aeb-8996-ddb2fb14cd53%26s%3Dgarden%26sp_csd%3Dd2lkZ2V0TmFtZT1zcF9kZXRhaWwy',\n",
       " 'https://www.amazon.in/sspa/click?ie=UTF8&spc=MTo1MzA1NjIxMzQ2MTY4MTg0OjE2NjY5NjM0NjA6c3BfZGV0YWlsMjoyMDA4MTIzMjU5NjQwNzo6Ojo&url=%2Fdp%2FB07V52QMY5%2Fref%3Dsspa_dk_detail_6%3Fpsc%3D1%26pd_rd_i%3DB07V52QMY5%26pd_rd_w%3DBz2cZ%26content-id%3Damzn1.sym.341eb43e-ea7c-457f-aa0f-a8bbc2ea1307%26pf_rd_p%3D341eb43e-ea7c-457f-aa0f-a8bbc2ea1307%26pf_rd_r%3DVX95QD88FMK1T9ST4RQS%26pd_rd_wg%3DWVucz%26pd_rd_r%3Dfd497bc7-8ebb-4aeb-8996-ddb2fb14cd53%26s%3Dgarden%26sp_csd%3Dd2lkZ2V0TmFtZT1zcF9kZXRhaWwy',\n",
       " 'https://www.amazon.in/sspa/click?ie=UTF8&spc=MTo1MzA1NjIxMzQ2MTY4MTg0OjE2NjY5NjM0NjA6c3BfZGV0YWlsMjoyMDA4MTIzMjU5NjQwNzo6Ojo&url=%2Fdp%2FB07V52QMY5%2Fref%3Dsspa_dk_detail_6%3Fpsc%3D1%26pd_rd_i%3DB07V52QMY5%26pd_rd_w%3DBz2cZ%26content-id%3Damzn1.sym.341eb43e-ea7c-457f-aa0f-a8bbc2ea1307%26pf_rd_p%3D341eb43e-ea7c-457f-aa0f-a8bbc2ea1307%26pf_rd_r%3DVX95QD88FMK1T9ST4RQS%26pd_rd_wg%3DWVucz%26pd_rd_r%3Dfd497bc7-8ebb-4aeb-8996-ddb2fb14cd53%26s%3Dgarden%26sp_csd%3Dd2lkZ2V0TmFtZT1zcF9kZXRhaWwy',\n",
       " 'https://www.amazon.in/sspa/click?ie=UTF8&spc=MTo1MzA1NjIxMzQ2MTY4MTg0OjE2NjY5NjM0NjA6c3BfZGV0YWlsMjoyMDA4MTIzMjU5NjQwNzo6Ojo&url=%2Fdp%2FB07V52QMY5%2Fref%3Dsspa_dk_detail_6%3Fpsc%3D1%26pd_rd_i%3DB07V52QMY5%26pd_rd_w%3DBz2cZ%26content-id%3Damzn1.sym.341eb43e-ea7c-457f-aa0f-a8bbc2ea1307%26pf_rd_p%3D341eb43e-ea7c-457f-aa0f-a8bbc2ea1307%26pf_rd_r%3DVX95QD88FMK1T9ST4RQS%26pd_rd_wg%3DWVucz%26pd_rd_r%3Dfd497bc7-8ebb-4aeb-8996-ddb2fb14cd53%26s%3Dgarden%26sp_csd%3Dd2lkZ2V0TmFtZT1zcF9kZXRhaWwy',\n",
       " 'https://www.amazon.in/Rolling-Nature-Purifying-Syngonium-Ceramic/dp/B07V9BXWT3/ref=sr_1_23_sspa?crid=3VML5HSOB7NJN&keywords=Indoor+plants+for+house&qid=1666961503&qu=eyJxc2MiOiI0LjIyIiwicXNhIjoiMC4wMCIsInFzcCI6IjAuMDAifQ%3D%3D&sprefix=indoor+plants+for+house%2Caps%2C761&sr=8-23-spons&psc=1#',\n",
       " 'https://www.amazon.in/PlantMela-Purifier-Watering-Zamioculcas-Zamiifolia/dp/B0B3F7V49P/ref=d_pb_allspark_purchase_sims_desktop_sccl_2_1/259-7660848-5638859?pd_rd_w=7Qis3&content-id=amzn1.sym.a4543507-b579-4aa3-8a29-824b6607c4d8&pf_rd_p=a4543507-b579-4aa3-8a29-824b6607c4d8&pf_rd_r=VX95QD88FMK1T9ST4RQS&pd_rd_wg=WVucz&pd_rd_r=fd497bc7-8ebb-4aeb-8996-ddb2fb14cd53&pd_rd_i=B0B3F7V49P&psc=1',\n",
       " 'https://www.amazon.in/Rolling-Nature-Plant-Happy-Ceramic/dp/B07V52QMY5/ref=d_pb_allspark_purchase_sims_desktop_sccl_2_2/259-7660848-5638859?pd_rd_w=7Qis3&content-id=amzn1.sym.a4543507-b579-4aa3-8a29-824b6607c4d8&pf_rd_p=a4543507-b579-4aa3-8a29-824b6607c4d8&pf_rd_r=VX95QD88FMK1T9ST4RQS&pd_rd_wg=WVucz&pd_rd_r=fd497bc7-8ebb-4aeb-8996-ddb2fb14cd53&pd_rd_i=B07V52QMY5&psc=1',\n",
       " 'https://www.amazon.in/PlantMela-Purifier-Watering-Zamioculcas-Zamiifolia/dp/B0B3F94V4J/ref=d_pb_allspark_purchase_sims_desktop_sccl_2_3/259-7660848-5638859?pd_rd_w=7Qis3&content-id=amzn1.sym.a4543507-b579-4aa3-8a29-824b6607c4d8&pf_rd_p=a4543507-b579-4aa3-8a29-824b6607c4d8&pf_rd_r=VX95QD88FMK1T9ST4RQS&pd_rd_wg=WVucz&pd_rd_r=fd497bc7-8ebb-4aeb-8996-ddb2fb14cd53&pd_rd_i=B0B3F94V4J&psc=1',\n",
       " 'https://www.amazon.in/Rolling-Nature-Aralia-Variegated-Ceramic/dp/B07V8CZFC3/ref=d_pb_allspark_purchase_sims_desktop_sccl_2_4/259-7660848-5638859?pd_rd_w=7Qis3&content-id=amzn1.sym.a4543507-b579-4aa3-8a29-824b6607c4d8&pf_rd_p=a4543507-b579-4aa3-8a29-824b6607c4d8&pf_rd_r=VX95QD88FMK1T9ST4RQS&pd_rd_wg=WVucz&pd_rd_r=fd497bc7-8ebb-4aeb-8996-ddb2fb14cd53&pd_rd_i=B07V8CZFC3&psc=1',\n",
       " 'https://www.amazon.in/Rolling-Nature-Purifying-Syngonium-Ceramic/dp/B07V9BX9MM/ref=d_pb_allspark_purchase_sims_desktop_sccl_2_5/259-7660848-5638859?pd_rd_w=7Qis3&content-id=amzn1.sym.a4543507-b579-4aa3-8a29-824b6607c4d8&pf_rd_p=a4543507-b579-4aa3-8a29-824b6607c4d8&pf_rd_r=VX95QD88FMK1T9ST4RQS&pd_rd_wg=WVucz&pd_rd_r=fd497bc7-8ebb-4aeb-8996-ddb2fb14cd53&pd_rd_i=B07V9BX9MM&psc=1',\n",
       " 'https://www.amazon.in/Rolling-Nature-Plant-Emoji-Ceramic/dp/B07S3LCF2V/ref=d_pb_allspark_purchase_sims_desktop_sccl_2_6/259-7660848-5638859?pd_rd_w=7Qis3&content-id=amzn1.sym.a4543507-b579-4aa3-8a29-824b6607c4d8&pf_rd_p=a4543507-b579-4aa3-8a29-824b6607c4d8&pf_rd_r=VX95QD88FMK1T9ST4RQS&pd_rd_wg=WVucz&pd_rd_r=fd497bc7-8ebb-4aeb-8996-ddb2fb14cd53&pd_rd_i=B07S3LCF2V&psc=1',\n",
       " 'https://aax-eu.amazon.in/x/c/RDreG1agJ61ERurMRjQeqoQAAAGEHsPWhgMAAAH2AQBOL0EgICAgICAgICAgICBOL0EgICAgICAgICAgICAPO4Yz/https://www.amazon.in/dp/B09SHS8621?pd_rd_i=B09SHS8621&pf_rd_p=8f3367e5-d155-4e93-a00e-b3dbf03d1505&pf_rd_r=VX95QD88FMK1T9ST4RQS&pd_rd_wg=WVucz&pd_rd_w=PD81t&pd_rd_r=fd497bc7-8ebb-4aeb-8996-ddb2fb14cd53',\n",
       " 'https://aax-eu.amazon.in/x/c/RDreG1agJ61ERurMRjQeqoQAAAGEHsPWhgMAAAH2AQBOL0EgICAgICAgICAgICBOL0EgICAgICAgICAgICAPO4Yz/https://www.amazon.in/dp/B09SHS8621?pd_rd_i=B09SHS8621&pf_rd_p=8f3367e5-d155-4e93-a00e-b3dbf03d1505&pf_rd_r=VX95QD88FMK1T9ST4RQS&pd_rd_wg=WVucz&pd_rd_w=PD81t&pd_rd_r=fd497bc7-8ebb-4aeb-8996-ddb2fb14cd53',\n",
       " 'https://aax-eu.amazon.in/x/c/RLquxLUokcbqVXyZBBrXLkoAAAGEHsPWhgMAAAH2AQBOL0EgICAgICAgICAgICBOL0EgICAgICAgICAgICAJc-__/https://www.amazon.in/dp/B09G6SVS73?pd_rd_i=B09G6SVS73&pf_rd_p=8f3367e5-d155-4e93-a00e-b3dbf03d1505&pf_rd_r=VX95QD88FMK1T9ST4RQS&pd_rd_wg=WVucz&pd_rd_w=PD81t&pd_rd_r=fd497bc7-8ebb-4aeb-8996-ddb2fb14cd53',\n",
       " 'https://aax-eu.amazon.in/x/c/RLquxLUokcbqVXyZBBrXLkoAAAGEHsPWhgMAAAH2AQBOL0EgICAgICAgICAgICBOL0EgICAgICAgICAgICAJc-__/https://www.amazon.in/dp/B09G6SVS73?pd_rd_i=B09G6SVS73&pf_rd_p=8f3367e5-d155-4e93-a00e-b3dbf03d1505&pf_rd_r=VX95QD88FMK1T9ST4RQS&pd_rd_wg=WVucz&pd_rd_w=PD81t&pd_rd_r=fd497bc7-8ebb-4aeb-8996-ddb2fb14cd53',\n",
       " 'https://aax-eu.amazon.in/x/c/RIzT_haHI7eTCnsH5AMl2i0AAAGEHsPWhgMAAAH2AQBOL0EgICAgICAgICAgICBOL0EgICAgICAgICAgICBpPdKZ/https://www.amazon.in/dp/B0918CFZC1?pd_rd_i=B0918CFZC1&pf_rd_p=8f3367e5-d155-4e93-a00e-b3dbf03d1505&pf_rd_r=VX95QD88FMK1T9ST4RQS&pd_rd_wg=WVucz&pd_rd_w=PD81t&pd_rd_r=fd497bc7-8ebb-4aeb-8996-ddb2fb14cd53',\n",
       " 'https://aax-eu.amazon.in/x/c/RIzT_haHI7eTCnsH5AMl2i0AAAGEHsPWhgMAAAH2AQBOL0EgICAgICAgICAgICBOL0EgICAgICAgICAgICBpPdKZ/https://www.amazon.in/dp/B0918CFZC1?pd_rd_i=B0918CFZC1&pf_rd_p=8f3367e5-d155-4e93-a00e-b3dbf03d1505&pf_rd_r=VX95QD88FMK1T9ST4RQS&pd_rd_wg=WVucz&pd_rd_w=PD81t&pd_rd_r=fd497bc7-8ebb-4aeb-8996-ddb2fb14cd53',\n",
       " 'https://aax-eu.amazon.in/x/c/RKL3qByvT6hZVq_EltIuuW8AAAGEHsPWhgMAAAH2AQBOL0EgICAgICAgICAgICBOL0EgICAgICAgICAgICDgGloE/https://www.amazon.in/dp/B09XTY8Q7F?pd_rd_i=B09XTY8Q7F&pf_rd_p=8f3367e5-d155-4e93-a00e-b3dbf03d1505&pf_rd_r=VX95QD88FMK1T9ST4RQS&pd_rd_wg=WVucz&pd_rd_w=PD81t&pd_rd_r=fd497bc7-8ebb-4aeb-8996-ddb2fb14cd53',\n",
       " 'https://aax-eu.amazon.in/x/c/RKL3qByvT6hZVq_EltIuuW8AAAGEHsPWhgMAAAH2AQBOL0EgICAgICAgICAgICBOL0EgICAgICAgICAgICDgGloE/https://www.amazon.in/dp/B09XTY8Q7F?pd_rd_i=B09XTY8Q7F&pf_rd_p=8f3367e5-d155-4e93-a00e-b3dbf03d1505&pf_rd_r=VX95QD88FMK1T9ST4RQS&pd_rd_wg=WVucz&pd_rd_w=PD81t&pd_rd_r=fd497bc7-8ebb-4aeb-8996-ddb2fb14cd53',\n",
       " 'https://aax-eu.amazon.in/x/c/RJecj_oXmEgvoXtgtOlwOjIAAAGEHsPWhgMAAAH2AQBOL0EgICAgICAgICAgICBOL0EgICAgICAgICAgICC1SzCK/https://www.amazon.in/dp/B0B6R4XTCH?pd_rd_i=B0B6R4XTCH&pf_rd_p=8f3367e5-d155-4e93-a00e-b3dbf03d1505&pf_rd_r=VX95QD88FMK1T9ST4RQS&pd_rd_wg=WVucz&pd_rd_w=PD81t&pd_rd_r=fd497bc7-8ebb-4aeb-8996-ddb2fb14cd53',\n",
       " 'https://aax-eu.amazon.in/x/c/RJecj_oXmEgvoXtgtOlwOjIAAAGEHsPWhgMAAAH2AQBOL0EgICAgICAgICAgICBOL0EgICAgICAgICAgICC1SzCK/https://www.amazon.in/dp/B0B6R4XTCH?pd_rd_i=B0B6R4XTCH&pf_rd_p=8f3367e5-d155-4e93-a00e-b3dbf03d1505&pf_rd_r=VX95QD88FMK1T9ST4RQS&pd_rd_wg=WVucz&pd_rd_w=PD81t&pd_rd_r=fd497bc7-8ebb-4aeb-8996-ddb2fb14cd53',\n",
       " 'https://www.amazon.in/sspa/click?ie=UTF8&spc=MTo1MzA1NjIxMzQ2MTY4MTg0OjE2NjY5NjM0NjA6c3BfZGV0YWlsMjoyMDAzMjg5NDQwNjk5ODo6Ojo&url=%2Fdp%2FB071SJV9ZG%2Fref%3Dsspa_dk_detail_0%3Fpsc%3D1%26pd_rd_i%3DB071SJV9ZG%26pd_rd_w%3DBz2cZ%26content-id%3Damzn1.sym.341eb43e-ea7c-457f-aa0f-a8bbc2ea1307%26pf_rd_p%3D341eb43e-ea7c-457f-aa0f-a8bbc2ea1307%26pf_rd_r%3DVX95QD88FMK1T9ST4RQS%26pd_rd_wg%3DWVucz%26pd_rd_r%3Dfd497bc7-8ebb-4aeb-8996-ddb2fb14cd53%26s%3Dgarden%26sp_csd%3Dd2lkZ2V0TmFtZT1zcF9kZXRhaWwy',\n",
       " 'https://www.amazon.in/sspa/click?ie=UTF8&spc=MTo1MzA1NjIxMzQ2MTY4MTg0OjE2NjY5NjM0NjA6c3BfZGV0YWlsMjoyMDAzMjg5NDQwNjk5ODo6Ojo&url=%2Fdp%2FB071SJV9ZG%2Fref%3Dsspa_dk_detail_0%3Fpsc%3D1%26pd_rd_i%3DB071SJV9ZG%26pd_rd_w%3DBz2cZ%26content-id%3Damzn1.sym.341eb43e-ea7c-457f-aa0f-a8bbc2ea1307%26pf_rd_p%3D341eb43e-ea7c-457f-aa0f-a8bbc2ea1307%26pf_rd_r%3DVX95QD88FMK1T9ST4RQS%26pd_rd_wg%3DWVucz%26pd_rd_r%3Dfd497bc7-8ebb-4aeb-8996-ddb2fb14cd53%26s%3Dgarden%26sp_csd%3Dd2lkZ2V0TmFtZT1zcF9kZXRhaWwy',\n",
       " 'https://www.amazon.in/sspa/click?ie=UTF8&spc=MTo1MzA1NjIxMzQ2MTY4MTg0OjE2NjY5NjM0NjA6c3BfZGV0YWlsMjoyMDAzMjg5NDQwNjk5ODo6Ojo&url=%2Fdp%2FB071SJV9ZG%2Fref%3Dsspa_dk_detail_0%3Fpsc%3D1%26pd_rd_i%3DB071SJV9ZG%26pd_rd_w%3DBz2cZ%26content-id%3Damzn1.sym.341eb43e-ea7c-457f-aa0f-a8bbc2ea1307%26pf_rd_p%3D341eb43e-ea7c-457f-aa0f-a8bbc2ea1307%26pf_rd_r%3DVX95QD88FMK1T9ST4RQS%26pd_rd_wg%3DWVucz%26pd_rd_r%3Dfd497bc7-8ebb-4aeb-8996-ddb2fb14cd53%26s%3Dgarden%26sp_csd%3Dd2lkZ2V0TmFtZT1zcF9kZXRhaWwy',\n",
       " 'https://www.amazon.in/sspa/click?ie=UTF8&spc=MTo1MzA1NjIxMzQ2MTY4MTg0OjE2NjY5NjM0NjA6c3BfZGV0YWlsMjoyMDAzMjg5NDQwNjk5ODo6Ojo&url=%2Fdp%2FB071SJV9ZG%2Fref%3Dsspa_dk_detail_0%3Fpsc%3D1%26pd_rd_i%3DB071SJV9ZG%26pd_rd_w%3DBz2cZ%26content-id%3Damzn1.sym.341eb43e-ea7c-457f-aa0f-a8bbc2ea1307%26pf_rd_p%3D341eb43e-ea7c-457f-aa0f-a8bbc2ea1307%26pf_rd_r%3DVX95QD88FMK1T9ST4RQS%26pd_rd_wg%3DWVucz%26pd_rd_r%3Dfd497bc7-8ebb-4aeb-8996-ddb2fb14cd53%26s%3Dgarden%26sp_csd%3Dd2lkZ2V0TmFtZT1zcF9kZXRhaWwy',\n",
       " 'https://www.amazon.in/sspa/click?ie=UTF8&spc=MTo1MzA1NjIxMzQ2MTY4MTg0OjE2NjY5NjM0NjA6c3BfZGV0YWlsMjoyMDA4MTIzMTk4NjIwNzo6Ojo&url=%2Fdp%2FB07V9BX9MM%2Fref%3Dsspa_dk_detail_1%3Fpsc%3D1%26pd_rd_i%3DB07V9BX9MM%26pd_rd_w%3DBz2cZ%26content-id%3Damzn1.sym.341eb43e-ea7c-457f-aa0f-a8bbc2ea1307%26pf_rd_p%3D341eb43e-ea7c-457f-aa0f-a8bbc2ea1307%26pf_rd_r%3DVX95QD88FMK1T9ST4RQS%26pd_rd_wg%3DWVucz%26pd_rd_r%3Dfd497bc7-8ebb-4aeb-8996-ddb2fb14cd53%26s%3Dgarden%26sp_csd%3Dd2lkZ2V0TmFtZT1zcF9kZXRhaWwy',\n",
       " 'https://www.amazon.in/sspa/click?ie=UTF8&spc=MTo1MzA1NjIxMzQ2MTY4MTg0OjE2NjY5NjM0NjA6c3BfZGV0YWlsMjoyMDA4MTIzMTk4NjIwNzo6Ojo&url=%2Fdp%2FB07V9BX9MM%2Fref%3Dsspa_dk_detail_1%3Fpsc%3D1%26pd_rd_i%3DB07V9BX9MM%26pd_rd_w%3DBz2cZ%26content-id%3Damzn1.sym.341eb43e-ea7c-457f-aa0f-a8bbc2ea1307%26pf_rd_p%3D341eb43e-ea7c-457f-aa0f-a8bbc2ea1307%26pf_rd_r%3DVX95QD88FMK1T9ST4RQS%26pd_rd_wg%3DWVucz%26pd_rd_r%3Dfd497bc7-8ebb-4aeb-8996-ddb2fb14cd53%26s%3Dgarden%26sp_csd%3Dd2lkZ2V0TmFtZT1zcF9kZXRhaWwy',\n",
       " 'https://www.amazon.in/sspa/click?ie=UTF8&spc=MTo1MzA1NjIxMzQ2MTY4MTg0OjE2NjY5NjM0NjA6c3BfZGV0YWlsMjoyMDA4MTIzMTk4NjIwNzo6Ojo&url=%2Fdp%2FB07V9BX9MM%2Fref%3Dsspa_dk_detail_1%3Fpsc%3D1%26pd_rd_i%3DB07V9BX9MM%26pd_rd_w%3DBz2cZ%26content-id%3Damzn1.sym.341eb43e-ea7c-457f-aa0f-a8bbc2ea1307%26pf_rd_p%3D341eb43e-ea7c-457f-aa0f-a8bbc2ea1307%26pf_rd_r%3DVX95QD88FMK1T9ST4RQS%26pd_rd_wg%3DWVucz%26pd_rd_r%3Dfd497bc7-8ebb-4aeb-8996-ddb2fb14cd53%26s%3Dgarden%26sp_csd%3Dd2lkZ2V0TmFtZT1zcF9kZXRhaWwy',\n",
       " 'https://www.amazon.in/sspa/click?ie=UTF8&spc=MTo1MzA1NjIxMzQ2MTY4MTg0OjE2NjY5NjM0NjA6c3BfZGV0YWlsMjoyMDA4MTIzMTk4NjIwNzo6Ojo&url=%2Fdp%2FB07V9BX9MM%2Fref%3Dsspa_dk_detail_1%3Fpsc%3D1%26pd_rd_i%3DB07V9BX9MM%26pd_rd_w%3DBz2cZ%26content-id%3Damzn1.sym.341eb43e-ea7c-457f-aa0f-a8bbc2ea1307%26pf_rd_p%3D341eb43e-ea7c-457f-aa0f-a8bbc2ea1307%26pf_rd_r%3DVX95QD88FMK1T9ST4RQS%26pd_rd_wg%3DWVucz%26pd_rd_r%3Dfd497bc7-8ebb-4aeb-8996-ddb2fb14cd53%26s%3Dgarden%26sp_csd%3Dd2lkZ2V0TmFtZT1zcF9kZXRhaWwy',\n",
       " 'https://www.amazon.in/sspa/click?ie=UTF8&spc=MTo1MzA1NjIxMzQ2MTY4MTg0OjE2NjY5NjM0NjA6c3BfZGV0YWlsMjoyMDAzMjkwMDIxNDU5ODo6Ojo&url=%2Fdp%2FB07B8PL5KY%2Fref%3Dsspa_dk_detail_2%3Fpsc%3D1%26pd_rd_i%3DB07B8PL5KY%26pd_rd_w%3DBz2cZ%26content-id%3Damzn1.sym.341eb43e-ea7c-457f-aa0f-a8bbc2ea1307%26pf_rd_p%3D341eb43e-ea7c-457f-aa0f-a8bbc2ea1307%26pf_rd_r%3DVX95QD88FMK1T9ST4RQS%26pd_rd_wg%3DWVucz%26pd_rd_r%3Dfd497bc7-8ebb-4aeb-8996-ddb2fb14cd53%26s%3Dgarden%26sp_csd%3Dd2lkZ2V0TmFtZT1zcF9kZXRhaWwy',\n",
       " 'https://www.amazon.in/sspa/click?ie=UTF8&spc=MTo1MzA1NjIxMzQ2MTY4MTg0OjE2NjY5NjM0NjA6c3BfZGV0YWlsMjoyMDAzMjkwMDIxNDU5ODo6Ojo&url=%2Fdp%2FB07B8PL5KY%2Fref%3Dsspa_dk_detail_2%3Fpsc%3D1%26pd_rd_i%3DB07B8PL5KY%26pd_rd_w%3DBz2cZ%26content-id%3Damzn1.sym.341eb43e-ea7c-457f-aa0f-a8bbc2ea1307%26pf_rd_p%3D341eb43e-ea7c-457f-aa0f-a8bbc2ea1307%26pf_rd_r%3DVX95QD88FMK1T9ST4RQS%26pd_rd_wg%3DWVucz%26pd_rd_r%3Dfd497bc7-8ebb-4aeb-8996-ddb2fb14cd53%26s%3Dgarden%26sp_csd%3Dd2lkZ2V0TmFtZT1zcF9kZXRhaWwy',\n",
       " 'https://www.amazon.in/sspa/click?ie=UTF8&spc=MTo1MzA1NjIxMzQ2MTY4MTg0OjE2NjY5NjM0NjA6c3BfZGV0YWlsMjoyMDAzMjkwMDIxNDU5ODo6Ojo&url=%2Fdp%2FB07B8PL5KY%2Fref%3Dsspa_dk_detail_2%3Fpsc%3D1%26pd_rd_i%3DB07B8PL5KY%26pd_rd_w%3DBz2cZ%26content-id%3Damzn1.sym.341eb43e-ea7c-457f-aa0f-a8bbc2ea1307%26pf_rd_p%3D341eb43e-ea7c-457f-aa0f-a8bbc2ea1307%26pf_rd_r%3DVX95QD88FMK1T9ST4RQS%26pd_rd_wg%3DWVucz%26pd_rd_r%3Dfd497bc7-8ebb-4aeb-8996-ddb2fb14cd53%26s%3Dgarden%26sp_csd%3Dd2lkZ2V0TmFtZT1zcF9kZXRhaWwy',\n",
       " 'https://www.amazon.in/sspa/click?ie=UTF8&spc=MTo1MzA1NjIxMzQ2MTY4MTg0OjE2NjY5NjM0NjA6c3BfZGV0YWlsMjoyMDAzMjkwMDIxNDU5ODo6Ojo&url=%2Fdp%2FB07B8PL5KY%2Fref%3Dsspa_dk_detail_2%3Fpsc%3D1%26pd_rd_i%3DB07B8PL5KY%26pd_rd_w%3DBz2cZ%26content-id%3Damzn1.sym.341eb43e-ea7c-457f-aa0f-a8bbc2ea1307%26pf_rd_p%3D341eb43e-ea7c-457f-aa0f-a8bbc2ea1307%26pf_rd_r%3DVX95QD88FMK1T9ST4RQS%26pd_rd_wg%3DWVucz%26pd_rd_r%3Dfd497bc7-8ebb-4aeb-8996-ddb2fb14cd53%26s%3Dgarden%26sp_csd%3Dd2lkZ2V0TmFtZT1zcF9kZXRhaWwy',\n",
       " 'https://www.amazon.in/sspa/click?ie=UTF8&spc=MTo1MzA1NjIxMzQ2MTY4MTg0OjE2NjY5NjM0NjA6c3BfZGV0YWlsMjoyMDAzMjg5NDQwNzU5ODo6Ojo&url=%2Fdp%2FB07942CVM9%2Fref%3Dsspa_dk_detail_3%3Fpsc%3D1%26pd_rd_i%3DB07942CVM9%26pd_rd_w%3DBz2cZ%26content-id%3Damzn1.sym.341eb43e-ea7c-457f-aa0f-a8bbc2ea1307%26pf_rd_p%3D341eb43e-ea7c-457f-aa0f-a8bbc2ea1307%26pf_rd_r%3DVX95QD88FMK1T9ST4RQS%26pd_rd_wg%3DWVucz%26pd_rd_r%3Dfd497bc7-8ebb-4aeb-8996-ddb2fb14cd53%26s%3Dgarden%26sp_csd%3Dd2lkZ2V0TmFtZT1zcF9kZXRhaWwy',\n",
       " 'https://www.amazon.in/sspa/click?ie=UTF8&spc=MTo1MzA1NjIxMzQ2MTY4MTg0OjE2NjY5NjM0NjA6c3BfZGV0YWlsMjoyMDAzMjg5NDQwNzU5ODo6Ojo&url=%2Fdp%2FB07942CVM9%2Fref%3Dsspa_dk_detail_3%3Fpsc%3D1%26pd_rd_i%3DB07942CVM9%26pd_rd_w%3DBz2cZ%26content-id%3Damzn1.sym.341eb43e-ea7c-457f-aa0f-a8bbc2ea1307%26pf_rd_p%3D341eb43e-ea7c-457f-aa0f-a8bbc2ea1307%26pf_rd_r%3DVX95QD88FMK1T9ST4RQS%26pd_rd_wg%3DWVucz%26pd_rd_r%3Dfd497bc7-8ebb-4aeb-8996-ddb2fb14cd53%26s%3Dgarden%26sp_csd%3Dd2lkZ2V0TmFtZT1zcF9kZXRhaWwy',\n",
       " 'https://www.amazon.in/sspa/click?ie=UTF8&spc=MTo1MzA1NjIxMzQ2MTY4MTg0OjE2NjY5NjM0NjA6c3BfZGV0YWlsMjoyMDAzMjg5NDQwNzI5ODo6Ojo&url=%2Fdp%2FB0789NZX3B%2Fref%3Dsspa_dk_detail_4%3Fpsc%3D1%26pd_rd_i%3DB0789NZX3B%26pd_rd_w%3DBz2cZ%26content-id%3Damzn1.sym.341eb43e-ea7c-457f-aa0f-a8bbc2ea1307%26pf_rd_p%3D341eb43e-ea7c-457f-aa0f-a8bbc2ea1307%26pf_rd_r%3DVX95QD88FMK1T9ST4RQS%26pd_rd_wg%3DWVucz%26pd_rd_r%3Dfd497bc7-8ebb-4aeb-8996-ddb2fb14cd53%26s%3Dgarden%26sp_csd%3Dd2lkZ2V0TmFtZT1zcF9kZXRhaWwy',\n",
       " 'https://www.amazon.in/sspa/click?ie=UTF8&spc=MTo1MzA1NjIxMzQ2MTY4MTg0OjE2NjY5NjM0NjA6c3BfZGV0YWlsMjoyMDAzMjg5NDQwNzI5ODo6Ojo&url=%2Fdp%2FB0789NZX3B%2Fref%3Dsspa_dk_detail_4%3Fpsc%3D1%26pd_rd_i%3DB0789NZX3B%26pd_rd_w%3DBz2cZ%26content-id%3Damzn1.sym.341eb43e-ea7c-457f-aa0f-a8bbc2ea1307%26pf_rd_p%3D341eb43e-ea7c-457f-aa0f-a8bbc2ea1307%26pf_rd_r%3DVX95QD88FMK1T9ST4RQS%26pd_rd_wg%3DWVucz%26pd_rd_r%3Dfd497bc7-8ebb-4aeb-8996-ddb2fb14cd53%26s%3Dgarden%26sp_csd%3Dd2lkZ2V0TmFtZT1zcF9kZXRhaWwy',\n",
       " 'https://www.amazon.in/sspa/click?ie=UTF8&spc=MTo1MzA1NjIxMzQ2MTY4MTg0OjE2NjY5NjM0NjA6c3BfZGV0YWlsMjoyMDAzMjg5NDQwNzI5ODo6Ojo&url=%2Fdp%2FB0789NZX3B%2Fref%3Dsspa_dk_detail_4%3Fpsc%3D1%26pd_rd_i%3DB0789NZX3B%26pd_rd_w%3DBz2cZ%26content-id%3Damzn1.sym.341eb43e-ea7c-457f-aa0f-a8bbc2ea1307%26pf_rd_p%3D341eb43e-ea7c-457f-aa0f-a8bbc2ea1307%26pf_rd_r%3DVX95QD88FMK1T9ST4RQS%26pd_rd_wg%3DWVucz%26pd_rd_r%3Dfd497bc7-8ebb-4aeb-8996-ddb2fb14cd53%26s%3Dgarden%26sp_csd%3Dd2lkZ2V0TmFtZT1zcF9kZXRhaWwy',\n",
       " 'https://www.amazon.in/sspa/click?ie=UTF8&spc=MTo1MzA1NjIxMzQ2MTY4MTg0OjE2NjY5NjM0NjA6c3BfZGV0YWlsMjoyMDAzMjg5NDQwNzI5ODo6Ojo&url=%2Fdp%2FB0789NZX3B%2Fref%3Dsspa_dk_detail_4%3Fpsc%3D1%26pd_rd_i%3DB0789NZX3B%26pd_rd_w%3DBz2cZ%26content-id%3Damzn1.sym.341eb43e-ea7c-457f-aa0f-a8bbc2ea1307%26pf_rd_p%3D341eb43e-ea7c-457f-aa0f-a8bbc2ea1307%26pf_rd_r%3DVX95QD88FMK1T9ST4RQS%26pd_rd_wg%3DWVucz%26pd_rd_r%3Dfd497bc7-8ebb-4aeb-8996-ddb2fb14cd53%26s%3Dgarden%26sp_csd%3Dd2lkZ2V0TmFtZT1zcF9kZXRhaWwy',\n",
       " 'https://www.amazon.in/sspa/click?ie=UTF8&spc=MTo1MzA1NjIxMzQ2MTY4MTg0OjE2NjY5NjM0NjA6c3BfZGV0YWlsMjoyMDAzMjkwMDIxNDY5ODo6Ojo&url=%2Fdp%2FB0793Z4X4W%2Fref%3Dsspa_dk_detail_5%3Fpsc%3D1%26pd_rd_i%3DB0793Z4X4W%26pd_rd_w%3DBz2cZ%26content-id%3Damzn1.sym.341eb43e-ea7c-457f-aa0f-a8bbc2ea1307%26pf_rd_p%3D341eb43e-ea7c-457f-aa0f-a8bbc2ea1307%26pf_rd_r%3DVX95QD88FMK1T9ST4RQS%26pd_rd_wg%3DWVucz%26pd_rd_r%3Dfd497bc7-8ebb-4aeb-8996-ddb2fb14cd53%26s%3Dgarden%26sp_csd%3Dd2lkZ2V0TmFtZT1zcF9kZXRhaWwy',\n",
       " 'https://www.amazon.in/sspa/click?ie=UTF8&spc=MTo1MzA1NjIxMzQ2MTY4MTg0OjE2NjY5NjM0NjA6c3BfZGV0YWlsMjoyMDAzMjkwMDIxNDY5ODo6Ojo&url=%2Fdp%2FB0793Z4X4W%2Fref%3Dsspa_dk_detail_5%3Fpsc%3D1%26pd_rd_i%3DB0793Z4X4W%26pd_rd_w%3DBz2cZ%26content-id%3Damzn1.sym.341eb43e-ea7c-457f-aa0f-a8bbc2ea1307%26pf_rd_p%3D341eb43e-ea7c-457f-aa0f-a8bbc2ea1307%26pf_rd_r%3DVX95QD88FMK1T9ST4RQS%26pd_rd_wg%3DWVucz%26pd_rd_r%3Dfd497bc7-8ebb-4aeb-8996-ddb2fb14cd53%26s%3Dgarden%26sp_csd%3Dd2lkZ2V0TmFtZT1zcF9kZXRhaWwy',\n",
       " 'https://www.amazon.in/sspa/click?ie=UTF8&spc=MTo1MzA1NjIxMzQ2MTY4MTg0OjE2NjY5NjM0NjA6c3BfZGV0YWlsMjoyMDAzMjkwMDIxNDY5ODo6Ojo&url=%2Fdp%2FB0793Z4X4W%2Fref%3Dsspa_dk_detail_5%3Fpsc%3D1%26pd_rd_i%3DB0793Z4X4W%26pd_rd_w%3DBz2cZ%26content-id%3Damzn1.sym.341eb43e-ea7c-457f-aa0f-a8bbc2ea1307%26pf_rd_p%3D341eb43e-ea7c-457f-aa0f-a8bbc2ea1307%26pf_rd_r%3DVX95QD88FMK1T9ST4RQS%26pd_rd_wg%3DWVucz%26pd_rd_r%3Dfd497bc7-8ebb-4aeb-8996-ddb2fb14cd53%26s%3Dgarden%26sp_csd%3Dd2lkZ2V0TmFtZT1zcF9kZXRhaWwy',\n",
       " 'https://www.amazon.in/sspa/click?ie=UTF8&spc=MTo1MzA1NjIxMzQ2MTY4MTg0OjE2NjY5NjM0NjA6c3BfZGV0YWlsMjoyMDAzMjkwMDIxNDY5ODo6Ojo&url=%2Fdp%2FB0793Z4X4W%2Fref%3Dsspa_dk_detail_5%3Fpsc%3D1%26pd_rd_i%3DB0793Z4X4W%26pd_rd_w%3DBz2cZ%26content-id%3Damzn1.sym.341eb43e-ea7c-457f-aa0f-a8bbc2ea1307%26pf_rd_p%3D341eb43e-ea7c-457f-aa0f-a8bbc2ea1307%26pf_rd_r%3DVX95QD88FMK1T9ST4RQS%26pd_rd_wg%3DWVucz%26pd_rd_r%3Dfd497bc7-8ebb-4aeb-8996-ddb2fb14cd53%26s%3Dgarden%26sp_csd%3Dd2lkZ2V0TmFtZT1zcF9kZXRhaWwy',\n",
       " 'https://www.amazon.in/sspa/click?ie=UTF8&spc=MTo1MzA1NjIxMzQ2MTY4MTg0OjE2NjY5NjM0NjA6c3BfZGV0YWlsMjoyMDA4MTIzMjU5NjQwNzo6Ojo&url=%2Fdp%2FB07V52QMY5%2Fref%3Dsspa_dk_detail_6%3Fpsc%3D1%26pd_rd_i%3DB07V52QMY5%26pd_rd_w%3DBz2cZ%26content-id%3Damzn1.sym.341eb43e-ea7c-457f-aa0f-a8bbc2ea1307%26pf_rd_p%3D341eb43e-ea7c-457f-aa0f-a8bbc2ea1307%26pf_rd_r%3DVX95QD88FMK1T9ST4RQS%26pd_rd_wg%3DWVucz%26pd_rd_r%3Dfd497bc7-8ebb-4aeb-8996-ddb2fb14cd53%26s%3Dgarden%26sp_csd%3Dd2lkZ2V0TmFtZT1zcF9kZXRhaWwy',\n",
       " 'https://www.amazon.in/sspa/click?ie=UTF8&spc=MTo1MzA1NjIxMzQ2MTY4MTg0OjE2NjY5NjM0NjA6c3BfZGV0YWlsMjoyMDA4MTIzMjU5NjQwNzo6Ojo&url=%2Fdp%2FB07V52QMY5%2Fref%3Dsspa_dk_detail_6%3Fpsc%3D1%26pd_rd_i%3DB07V52QMY5%26pd_rd_w%3DBz2cZ%26content-id%3Damzn1.sym.341eb43e-ea7c-457f-aa0f-a8bbc2ea1307%26pf_rd_p%3D341eb43e-ea7c-457f-aa0f-a8bbc2ea1307%26pf_rd_r%3DVX95QD88FMK1T9ST4RQS%26pd_rd_wg%3DWVucz%26pd_rd_r%3Dfd497bc7-8ebb-4aeb-8996-ddb2fb14cd53%26s%3Dgarden%26sp_csd%3Dd2lkZ2V0TmFtZT1zcF9kZXRhaWwy',\n",
       " 'https://www.amazon.in/sspa/click?ie=UTF8&spc=MTo1MzA1NjIxMzQ2MTY4MTg0OjE2NjY5NjM0NjA6c3BfZGV0YWlsMjoyMDA4MTIzMjU5NjQwNzo6Ojo&url=%2Fdp%2FB07V52QMY5%2Fref%3Dsspa_dk_detail_6%3Fpsc%3D1%26pd_rd_i%3DB07V52QMY5%26pd_rd_w%3DBz2cZ%26content-id%3Damzn1.sym.341eb43e-ea7c-457f-aa0f-a8bbc2ea1307%26pf_rd_p%3D341eb43e-ea7c-457f-aa0f-a8bbc2ea1307%26pf_rd_r%3DVX95QD88FMK1T9ST4RQS%26pd_rd_wg%3DWVucz%26pd_rd_r%3Dfd497bc7-8ebb-4aeb-8996-ddb2fb14cd53%26s%3Dgarden%26sp_csd%3Dd2lkZ2V0TmFtZT1zcF9kZXRhaWwy',\n",
       " 'https://www.amazon.in/sspa/click?ie=UTF8&spc=MTo1MzA1NjIxMzQ2MTY4MTg0OjE2NjY5NjM0NjA6c3BfZGV0YWlsMjoyMDA4MTIzMjU5NjQwNzo6Ojo&url=%2Fdp%2FB07V52QMY5%2Fref%3Dsspa_dk_detail_6%3Fpsc%3D1%26pd_rd_i%3DB07V52QMY5%26pd_rd_w%3DBz2cZ%26content-id%3Damzn1.sym.341eb43e-ea7c-457f-aa0f-a8bbc2ea1307%26pf_rd_p%3D341eb43e-ea7c-457f-aa0f-a8bbc2ea1307%26pf_rd_r%3DVX95QD88FMK1T9ST4RQS%26pd_rd_wg%3DWVucz%26pd_rd_r%3Dfd497bc7-8ebb-4aeb-8996-ddb2fb14cd53%26s%3Dgarden%26sp_csd%3Dd2lkZ2V0TmFtZT1zcF9kZXRhaWwy']"
      ]
     },
     "execution_count": 233,
     "metadata": {},
     "output_type": "execute_result"
    }
   ],
   "source": [
    "prod_urls"
   ]
  },
  {
   "cell_type": "code",
   "execution_count": null,
   "id": "10013c95",
   "metadata": {},
   "outputs": [],
   "source": []
  },
  {
   "cell_type": "code",
   "execution_count": 236,
   "id": "7ce13194",
   "metadata": {},
   "outputs": [],
   "source": [
    "Name=[]\n",
    "\n",
    "for url in prod_urls:\n",
    "    driver.get(url)\n",
    "    time.sleep(2)\n",
    "\n",
    "    # Extracting name from id\n",
    "    try:\n",
    "        name = driver.find_element(By.ID,'productTitle')      \n",
    "        Name.append(name.text)\n",
    "    except NoSuchElementException:\n",
    "        Name.append('-')\n",
    "    time.sleep(1) "
   ]
  },
  {
   "cell_type": "code",
   "execution_count": null,
   "id": "5482f2c0",
   "metadata": {},
   "outputs": [],
   "source": []
  },
  {
   "cell_type": "code",
   "execution_count": 115,
   "id": "ec9f0b4d",
   "metadata": {},
   "outputs": [],
   "source": [
    "PRICE=[]\n",
    "Return=[]\n",
    "Expected_Delivery=[]\n",
    "Availability=[]\n",
    "\n",
    "\n",
    "\n",
    "\n",
    "for url in prod_urls:\n",
    "    driver.get(url)\n",
    "    time.sleep(2)\n",
    "\n",
    "# Extracting Price\n",
    "    try:\n",
    "        pri = driver.find_element(By.XPATH,'//span[@class=\"a-offscreen\"]')\n",
    "        PRICE.append(pri)\n",
    "    except NoSuchElementException:\n",
    "        PRICE.append('-')\n",
    "        \n",
    "# Extracting Return/Exchange\n",
    "\n",
    "    try:\n",
    "        RT = driver.find_element(By.XPATH,'//div[@class=\"a-section a-spacing-none icon-content\"]')\n",
    "        Return.append(RT)\n",
    "    except NoSuchElementException:\n",
    "        Return.append('-')\n",
    "        \n",
    "\n",
    "# Extracting Expected Delivery\n",
    "\n",
    "    try:\n",
    "        ED = driver.find_element(By.XPATH,'//span[@class=\"a-text-bold\"]')\n",
    "        Expected_Delivery.append(ED)\n",
    "    except NoSuchElementException:\n",
    "        Expected_Delivery.append('-')\n",
    "        \n",
    "        \n",
    "# Extracting Availability\n",
    "\n",
    "    try:\n",
    "        AV = driver.find_element(By.XPATH,'//span[@class=\"a-size-medium a-color-success\"]')\n",
    "        Availability.append(AV)\n",
    "    except NoSuchElementException:\n",
    "        Availability.append('-')"
   ]
  },
  {
   "cell_type": "code",
   "execution_count": null,
   "id": "fb39ec07",
   "metadata": {},
   "outputs": [],
   "source": []
  },
  {
   "cell_type": "code",
   "execution_count": null,
   "id": "0a56fce9",
   "metadata": {},
   "outputs": [],
   "source": []
  },
  {
   "cell_type": "code",
   "execution_count": null,
   "id": "4681c9e6",
   "metadata": {},
   "outputs": [],
   "source": []
  },
  {
   "cell_type": "markdown",
   "id": "b7a4888c",
   "metadata": {},
   "source": [
    "3. Write a python program to access the search bar and search button on images.google.com and scrape 10 images each for keywords ‘fruits’, ‘cars’ and ‘Machine Learning’, ‘Guitar’, ‘Cakes’."
   ]
  },
  {
   "cell_type": "code",
   "execution_count": 50,
   "id": "29a86f5b",
   "metadata": {},
   "outputs": [],
   "source": [
    "# Lets first connect to the webdriver\n",
    "\n",
    "driver=webdriver.Chrome(r\"C:\\Users\\Hello world\\Downloads\\chromedriver_win32\\chromedriver.exe\")"
   ]
  },
  {
   "cell_type": "code",
   "execution_count": 51,
   "id": "02fa27fa",
   "metadata": {},
   "outputs": [],
   "source": [
    "driver.get(\"https://images.google.com\")"
   ]
  },
  {
   "cell_type": "markdown",
   "id": "4ada9655",
   "metadata": {},
   "source": [
    "Fruits"
   ]
  },
  {
   "cell_type": "code",
   "execution_count": 52,
   "id": "78bd570d",
   "metadata": {},
   "outputs": [],
   "source": [
    "designation=driver.find_element(By.XPATH, \"/html/body/div[1]/div[3]/form/div[1]/div[1]/div[1]/div/div[2]/input\")\n",
    "designation.send_keys('fruits')"
   ]
  },
  {
   "cell_type": "code",
   "execution_count": 54,
   "id": "5663a4d7",
   "metadata": {},
   "outputs": [],
   "source": [
    "search=driver.find_element(By.XPATH, '/html/body/div[1]/div[3]/form/div[1]/div[1]/div[1]/button/div/span')\n",
    "search.click()"
   ]
  },
  {
   "cell_type": "code",
   "execution_count": 55,
   "id": "4c8c2b75",
   "metadata": {},
   "outputs": [],
   "source": [
    "for _ in range(20):\n",
    "    driver.execute_script(\"window.scrollBy(0,1000)\")\n",
    "    images = driver.find_elements(By.XPATH,'//img[@class=\"rg_i Q4LuWd\"]')"
   ]
  },
  {
   "cell_type": "code",
   "execution_count": 56,
   "id": "368e081d",
   "metadata": {},
   "outputs": [
    {
     "data": {
      "text/plain": [
       "[<selenium.webdriver.remote.webelement.WebElement (session=\"cbf5d8dbb3b2d99b295f8a8957844e09\", element=\"82447291-df44-4660-96c0-7a045d2c3c37\")>,\n",
       " <selenium.webdriver.remote.webelement.WebElement (session=\"cbf5d8dbb3b2d99b295f8a8957844e09\", element=\"bb8b0698-f8fc-41aa-a682-847a9de0cab7\")>,\n",
       " <selenium.webdriver.remote.webelement.WebElement (session=\"cbf5d8dbb3b2d99b295f8a8957844e09\", element=\"be59f0e9-ddb6-48c4-9b0f-8ecda8113506\")>,\n",
       " <selenium.webdriver.remote.webelement.WebElement (session=\"cbf5d8dbb3b2d99b295f8a8957844e09\", element=\"cbd54381-362f-474e-a9ac-8c2fd6cb0def\")>,\n",
       " <selenium.webdriver.remote.webelement.WebElement (session=\"cbf5d8dbb3b2d99b295f8a8957844e09\", element=\"06bd90fb-07af-4b59-a5e0-708206afcdf4\")>,\n",
       " <selenium.webdriver.remote.webelement.WebElement (session=\"cbf5d8dbb3b2d99b295f8a8957844e09\", element=\"719fe9ff-0608-4faa-ba73-4c45558a3bff\")>,\n",
       " <selenium.webdriver.remote.webelement.WebElement (session=\"cbf5d8dbb3b2d99b295f8a8957844e09\", element=\"804fc663-60e6-4ead-8a36-b518f3004825\")>,\n",
       " <selenium.webdriver.remote.webelement.WebElement (session=\"cbf5d8dbb3b2d99b295f8a8957844e09\", element=\"9bcd02b9-ae3c-48b9-b166-54c7542338e3\")>,\n",
       " <selenium.webdriver.remote.webelement.WebElement (session=\"cbf5d8dbb3b2d99b295f8a8957844e09\", element=\"23f39a06-f25e-43d4-955c-be3ecbd9051f\")>,\n",
       " <selenium.webdriver.remote.webelement.WebElement (session=\"cbf5d8dbb3b2d99b295f8a8957844e09\", element=\"9c369e94-53ae-4e87-acc9-e0e913d6bc94\")>,\n",
       " <selenium.webdriver.remote.webelement.WebElement (session=\"cbf5d8dbb3b2d99b295f8a8957844e09\", element=\"e37d6278-05ac-4605-9881-53cfacdf09b2\")>,\n",
       " <selenium.webdriver.remote.webelement.WebElement (session=\"cbf5d8dbb3b2d99b295f8a8957844e09\", element=\"85ac05d9-11a1-4877-a74f-4522c01b6cf4\")>,\n",
       " <selenium.webdriver.remote.webelement.WebElement (session=\"cbf5d8dbb3b2d99b295f8a8957844e09\", element=\"0f4f8c93-eb89-4253-874e-d2613c3209f4\")>,\n",
       " <selenium.webdriver.remote.webelement.WebElement (session=\"cbf5d8dbb3b2d99b295f8a8957844e09\", element=\"5ebce176-db56-438f-974c-dc5571d39569\")>,\n",
       " <selenium.webdriver.remote.webelement.WebElement (session=\"cbf5d8dbb3b2d99b295f8a8957844e09\", element=\"f7ca7681-5f2d-49c7-b217-e941d916bd3d\")>,\n",
       " <selenium.webdriver.remote.webelement.WebElement (session=\"cbf5d8dbb3b2d99b295f8a8957844e09\", element=\"2455aea7-b98f-4792-8d59-b4e80e4106b8\")>,\n",
       " <selenium.webdriver.remote.webelement.WebElement (session=\"cbf5d8dbb3b2d99b295f8a8957844e09\", element=\"9c0090e0-41c0-4a85-bf07-df835adeed9e\")>,\n",
       " <selenium.webdriver.remote.webelement.WebElement (session=\"cbf5d8dbb3b2d99b295f8a8957844e09\", element=\"9167e9ab-338e-454e-aaaf-3631c8e21854\")>,\n",
       " <selenium.webdriver.remote.webelement.WebElement (session=\"cbf5d8dbb3b2d99b295f8a8957844e09\", element=\"da9e15cf-1095-41ca-9c65-1424caa9a983\")>,\n",
       " <selenium.webdriver.remote.webelement.WebElement (session=\"cbf5d8dbb3b2d99b295f8a8957844e09\", element=\"ff56a98c-5fee-4e1e-9f04-bc3ae3e53fbb\")>,\n",
       " <selenium.webdriver.remote.webelement.WebElement (session=\"cbf5d8dbb3b2d99b295f8a8957844e09\", element=\"e7dc5d63-092e-475a-a189-94f5f1590641\")>,\n",
       " <selenium.webdriver.remote.webelement.WebElement (session=\"cbf5d8dbb3b2d99b295f8a8957844e09\", element=\"5de175e8-b2ad-4a89-b8fd-e717b121ded2\")>,\n",
       " <selenium.webdriver.remote.webelement.WebElement (session=\"cbf5d8dbb3b2d99b295f8a8957844e09\", element=\"f9a1b16b-5145-46a9-914c-2c676a5702c6\")>,\n",
       " <selenium.webdriver.remote.webelement.WebElement (session=\"cbf5d8dbb3b2d99b295f8a8957844e09\", element=\"950210c3-de3d-4cba-995f-93949c0f2f96\")>,\n",
       " <selenium.webdriver.remote.webelement.WebElement (session=\"cbf5d8dbb3b2d99b295f8a8957844e09\", element=\"5881dae8-c6fa-4412-951a-3ed51c078901\")>,\n",
       " <selenium.webdriver.remote.webelement.WebElement (session=\"cbf5d8dbb3b2d99b295f8a8957844e09\", element=\"fc83a71f-9850-43c4-87db-11777a81be9a\")>,\n",
       " <selenium.webdriver.remote.webelement.WebElement (session=\"cbf5d8dbb3b2d99b295f8a8957844e09\", element=\"b1eeccd1-4971-4931-b97a-aea9a9058827\")>,\n",
       " <selenium.webdriver.remote.webelement.WebElement (session=\"cbf5d8dbb3b2d99b295f8a8957844e09\", element=\"19937928-169e-4def-bc3e-e9d29339ae2e\")>,\n",
       " <selenium.webdriver.remote.webelement.WebElement (session=\"cbf5d8dbb3b2d99b295f8a8957844e09\", element=\"3f4ba0f1-fa0f-4438-8beb-c6226cb1feef\")>,\n",
       " <selenium.webdriver.remote.webelement.WebElement (session=\"cbf5d8dbb3b2d99b295f8a8957844e09\", element=\"e0a3cfb0-1bed-477a-a898-db84ff1a3a66\")>,\n",
       " <selenium.webdriver.remote.webelement.WebElement (session=\"cbf5d8dbb3b2d99b295f8a8957844e09\", element=\"bafb0ee8-ece8-488b-9b75-5608a61a3773\")>,\n",
       " <selenium.webdriver.remote.webelement.WebElement (session=\"cbf5d8dbb3b2d99b295f8a8957844e09\", element=\"9a8dce1e-34f3-41b9-99c7-0a9d27986dcb\")>,\n",
       " <selenium.webdriver.remote.webelement.WebElement (session=\"cbf5d8dbb3b2d99b295f8a8957844e09\", element=\"44753448-a05e-4b4a-87ee-6623c27cbc92\")>,\n",
       " <selenium.webdriver.remote.webelement.WebElement (session=\"cbf5d8dbb3b2d99b295f8a8957844e09\", element=\"0af95832-772a-495a-a66a-c37c99314a5e\")>,\n",
       " <selenium.webdriver.remote.webelement.WebElement (session=\"cbf5d8dbb3b2d99b295f8a8957844e09\", element=\"5fb14fc8-113d-4377-892a-d274a545e7bd\")>,\n",
       " <selenium.webdriver.remote.webelement.WebElement (session=\"cbf5d8dbb3b2d99b295f8a8957844e09\", element=\"59db7bb4-a782-440c-9555-9d085dd46b20\")>,\n",
       " <selenium.webdriver.remote.webelement.WebElement (session=\"cbf5d8dbb3b2d99b295f8a8957844e09\", element=\"c5a0b275-8327-40a7-8f24-d42fac436e0e\")>,\n",
       " <selenium.webdriver.remote.webelement.WebElement (session=\"cbf5d8dbb3b2d99b295f8a8957844e09\", element=\"07fb862f-dcbb-4727-9f0e-46137482d30d\")>,\n",
       " <selenium.webdriver.remote.webelement.WebElement (session=\"cbf5d8dbb3b2d99b295f8a8957844e09\", element=\"2086fe23-265f-455b-8ea8-4677fa0c82d1\")>,\n",
       " <selenium.webdriver.remote.webelement.WebElement (session=\"cbf5d8dbb3b2d99b295f8a8957844e09\", element=\"5901f421-6210-4e5f-9083-9dc7d8d0af28\")>,\n",
       " <selenium.webdriver.remote.webelement.WebElement (session=\"cbf5d8dbb3b2d99b295f8a8957844e09\", element=\"a8cdeb68-3d27-4a4e-8521-b29bc4d7edd6\")>,\n",
       " <selenium.webdriver.remote.webelement.WebElement (session=\"cbf5d8dbb3b2d99b295f8a8957844e09\", element=\"6365fad9-5eff-414b-9440-2a209e0a6c49\")>,\n",
       " <selenium.webdriver.remote.webelement.WebElement (session=\"cbf5d8dbb3b2d99b295f8a8957844e09\", element=\"a2ede92e-3649-429a-aba5-e4095ed3bb69\")>,\n",
       " <selenium.webdriver.remote.webelement.WebElement (session=\"cbf5d8dbb3b2d99b295f8a8957844e09\", element=\"64cc5f91-2a17-4fb4-8337-624dc72c95bd\")>,\n",
       " <selenium.webdriver.remote.webelement.WebElement (session=\"cbf5d8dbb3b2d99b295f8a8957844e09\", element=\"eabcb004-6133-48ce-8371-c673b2002c83\")>,\n",
       " <selenium.webdriver.remote.webelement.WebElement (session=\"cbf5d8dbb3b2d99b295f8a8957844e09\", element=\"b1738a66-fbb0-4ef0-a4b0-6fad3ce29735\")>,\n",
       " <selenium.webdriver.remote.webelement.WebElement (session=\"cbf5d8dbb3b2d99b295f8a8957844e09\", element=\"e01a6a4e-d6ac-4cdd-8000-9b4405f75e93\")>,\n",
       " <selenium.webdriver.remote.webelement.WebElement (session=\"cbf5d8dbb3b2d99b295f8a8957844e09\", element=\"ec68c04e-408f-471a-8e19-d04934323b5d\")>,\n",
       " <selenium.webdriver.remote.webelement.WebElement (session=\"cbf5d8dbb3b2d99b295f8a8957844e09\", element=\"3c3ea31a-15ec-46da-b214-8ae1b9be4701\")>,\n",
       " <selenium.webdriver.remote.webelement.WebElement (session=\"cbf5d8dbb3b2d99b295f8a8957844e09\", element=\"fc4fa566-b3b4-4a52-ad64-8cda874134ec\")>,\n",
       " <selenium.webdriver.remote.webelement.WebElement (session=\"cbf5d8dbb3b2d99b295f8a8957844e09\", element=\"7cdcb205-15d5-4501-aaa4-919c9091cefd\")>,\n",
       " <selenium.webdriver.remote.webelement.WebElement (session=\"cbf5d8dbb3b2d99b295f8a8957844e09\", element=\"88fb1e5a-a754-40fd-9b09-65882c7fefdd\")>,\n",
       " <selenium.webdriver.remote.webelement.WebElement (session=\"cbf5d8dbb3b2d99b295f8a8957844e09\", element=\"75e98528-d1f1-45e4-8090-136c89a2601d\")>,\n",
       " <selenium.webdriver.remote.webelement.WebElement (session=\"cbf5d8dbb3b2d99b295f8a8957844e09\", element=\"aea507ce-636d-4c71-8a96-08de6945bb31\")>,\n",
       " <selenium.webdriver.remote.webelement.WebElement (session=\"cbf5d8dbb3b2d99b295f8a8957844e09\", element=\"89bc8ee2-9a54-4fbf-a6f2-357f74702d70\")>,\n",
       " <selenium.webdriver.remote.webelement.WebElement (session=\"cbf5d8dbb3b2d99b295f8a8957844e09\", element=\"ff676379-0590-4d63-a06f-8d35131431bc\")>,\n",
       " <selenium.webdriver.remote.webelement.WebElement (session=\"cbf5d8dbb3b2d99b295f8a8957844e09\", element=\"2dd6b489-ab7c-4ab3-9287-0a51429d2b50\")>,\n",
       " <selenium.webdriver.remote.webelement.WebElement (session=\"cbf5d8dbb3b2d99b295f8a8957844e09\", element=\"3b866146-867f-4651-b243-fded8373d150\")>,\n",
       " <selenium.webdriver.remote.webelement.WebElement (session=\"cbf5d8dbb3b2d99b295f8a8957844e09\", element=\"679169c5-e70c-4130-9763-4c22a6508880\")>,\n",
       " <selenium.webdriver.remote.webelement.WebElement (session=\"cbf5d8dbb3b2d99b295f8a8957844e09\", element=\"da4e6f0b-06b9-4870-a3cb-971607939094\")>,\n",
       " <selenium.webdriver.remote.webelement.WebElement (session=\"cbf5d8dbb3b2d99b295f8a8957844e09\", element=\"ad74e95c-8060-48bf-9c54-b92ffd5f034f\")>,\n",
       " <selenium.webdriver.remote.webelement.WebElement (session=\"cbf5d8dbb3b2d99b295f8a8957844e09\", element=\"7b5f3746-140b-4576-bad0-b82fe183be23\")>,\n",
       " <selenium.webdriver.remote.webelement.WebElement (session=\"cbf5d8dbb3b2d99b295f8a8957844e09\", element=\"faa38c22-111e-43a5-a2cb-7084d5f64369\")>,\n",
       " <selenium.webdriver.remote.webelement.WebElement (session=\"cbf5d8dbb3b2d99b295f8a8957844e09\", element=\"b55b183d-93ca-48ab-806f-c7a89dd2de5b\")>,\n",
       " <selenium.webdriver.remote.webelement.WebElement (session=\"cbf5d8dbb3b2d99b295f8a8957844e09\", element=\"b64ac525-4343-40c5-b50e-f77ec22e3fd2\")>,\n",
       " <selenium.webdriver.remote.webelement.WebElement (session=\"cbf5d8dbb3b2d99b295f8a8957844e09\", element=\"3648a58a-8964-46ba-980a-2f7ffee04952\")>,\n",
       " <selenium.webdriver.remote.webelement.WebElement (session=\"cbf5d8dbb3b2d99b295f8a8957844e09\", element=\"234904cd-9f1f-410f-b174-61aea914324d\")>,\n",
       " <selenium.webdriver.remote.webelement.WebElement (session=\"cbf5d8dbb3b2d99b295f8a8957844e09\", element=\"f9a16c09-703a-46fb-8e41-1578f5c2e2c4\")>,\n",
       " <selenium.webdriver.remote.webelement.WebElement (session=\"cbf5d8dbb3b2d99b295f8a8957844e09\", element=\"580e3a77-34fa-49d7-9479-f7d839a54f10\")>,\n",
       " <selenium.webdriver.remote.webelement.WebElement (session=\"cbf5d8dbb3b2d99b295f8a8957844e09\", element=\"a745cb88-28d5-4181-81fa-0e29eeb7952e\")>,\n",
       " <selenium.webdriver.remote.webelement.WebElement (session=\"cbf5d8dbb3b2d99b295f8a8957844e09\", element=\"10e0f0c0-1154-4476-9eed-38ee702967b3\")>,\n",
       " <selenium.webdriver.remote.webelement.WebElement (session=\"cbf5d8dbb3b2d99b295f8a8957844e09\", element=\"2d65ab5f-5c28-4cdb-9d8e-3e6ab7613c61\")>,\n",
       " <selenium.webdriver.remote.webelement.WebElement (session=\"cbf5d8dbb3b2d99b295f8a8957844e09\", element=\"e489dc79-50ac-4fd7-a47d-84cd7554d757\")>,\n",
       " <selenium.webdriver.remote.webelement.WebElement (session=\"cbf5d8dbb3b2d99b295f8a8957844e09\", element=\"df758439-926d-4c56-8b17-4973092d77e7\")>,\n",
       " <selenium.webdriver.remote.webelement.WebElement (session=\"cbf5d8dbb3b2d99b295f8a8957844e09\", element=\"986f91f6-ddaa-478a-97aa-1f7e272d9ca1\")>,\n",
       " <selenium.webdriver.remote.webelement.WebElement (session=\"cbf5d8dbb3b2d99b295f8a8957844e09\", element=\"89770332-8226-42a1-8b5b-d4bced375a1a\")>,\n",
       " <selenium.webdriver.remote.webelement.WebElement (session=\"cbf5d8dbb3b2d99b295f8a8957844e09\", element=\"42e558e9-3aa9-480a-9c0c-d7540ba3f830\")>,\n",
       " <selenium.webdriver.remote.webelement.WebElement (session=\"cbf5d8dbb3b2d99b295f8a8957844e09\", element=\"c3004172-dcb3-4105-af33-b8a976386668\")>,\n",
       " <selenium.webdriver.remote.webelement.WebElement (session=\"cbf5d8dbb3b2d99b295f8a8957844e09\", element=\"e945f5b5-406e-4685-a8ce-61926e31d8ce\")>,\n",
       " <selenium.webdriver.remote.webelement.WebElement (session=\"cbf5d8dbb3b2d99b295f8a8957844e09\", element=\"ea409504-f926-4352-abb6-64ffd68488ad\")>,\n",
       " <selenium.webdriver.remote.webelement.WebElement (session=\"cbf5d8dbb3b2d99b295f8a8957844e09\", element=\"285e8683-c791-482c-badb-844ddcef32b1\")>,\n",
       " <selenium.webdriver.remote.webelement.WebElement (session=\"cbf5d8dbb3b2d99b295f8a8957844e09\", element=\"009ca946-1768-4b6f-84c4-0f1e19d2902a\")>,\n",
       " <selenium.webdriver.remote.webelement.WebElement (session=\"cbf5d8dbb3b2d99b295f8a8957844e09\", element=\"708aa6a1-3d84-46d7-b54c-14f5f19fc618\")>,\n",
       " <selenium.webdriver.remote.webelement.WebElement (session=\"cbf5d8dbb3b2d99b295f8a8957844e09\", element=\"9b510202-5743-4858-aa38-b4b5fc961eda\")>,\n",
       " <selenium.webdriver.remote.webelement.WebElement (session=\"cbf5d8dbb3b2d99b295f8a8957844e09\", element=\"b8937a13-87d5-4bd4-980a-4389343cb8c6\")>,\n",
       " <selenium.webdriver.remote.webelement.WebElement (session=\"cbf5d8dbb3b2d99b295f8a8957844e09\", element=\"88c59336-9b2a-4a9f-ad2d-867b4f637275\")>,\n",
       " <selenium.webdriver.remote.webelement.WebElement (session=\"cbf5d8dbb3b2d99b295f8a8957844e09\", element=\"bba8c76b-870e-41cf-a068-6bae3e1fef3e\")>,\n",
       " <selenium.webdriver.remote.webelement.WebElement (session=\"cbf5d8dbb3b2d99b295f8a8957844e09\", element=\"7402726f-c545-4aee-a899-928ee6e6f03b\")>,\n",
       " <selenium.webdriver.remote.webelement.WebElement (session=\"cbf5d8dbb3b2d99b295f8a8957844e09\", element=\"d1f28510-3bc4-42dc-bfdf-c71c5807097a\")>,\n",
       " <selenium.webdriver.remote.webelement.WebElement (session=\"cbf5d8dbb3b2d99b295f8a8957844e09\", element=\"9c515e85-a5ab-4c3c-b13d-00a24d5f857b\")>,\n",
       " <selenium.webdriver.remote.webelement.WebElement (session=\"cbf5d8dbb3b2d99b295f8a8957844e09\", element=\"608fc630-207e-4b28-8f7c-62e81203838b\")>,\n",
       " <selenium.webdriver.remote.webelement.WebElement (session=\"cbf5d8dbb3b2d99b295f8a8957844e09\", element=\"226e9f0e-8020-4cb8-a03e-d83119e91b79\")>,\n",
       " <selenium.webdriver.remote.webelement.WebElement (session=\"cbf5d8dbb3b2d99b295f8a8957844e09\", element=\"a5299d7d-40dc-4fcb-87d0-9cb79168d207\")>,\n",
       " <selenium.webdriver.remote.webelement.WebElement (session=\"cbf5d8dbb3b2d99b295f8a8957844e09\", element=\"e203487c-5606-48bd-8f59-bf64d43bcf3e\")>,\n",
       " <selenium.webdriver.remote.webelement.WebElement (session=\"cbf5d8dbb3b2d99b295f8a8957844e09\", element=\"45e8eec1-2bfa-46c3-8190-4aa9b5fbb748\")>,\n",
       " <selenium.webdriver.remote.webelement.WebElement (session=\"cbf5d8dbb3b2d99b295f8a8957844e09\", element=\"13e23045-713a-4212-843b-e94f474393d4\")>,\n",
       " <selenium.webdriver.remote.webelement.WebElement (session=\"cbf5d8dbb3b2d99b295f8a8957844e09\", element=\"c19753ea-3365-4702-912b-0d7712c9aa0b\")>,\n",
       " <selenium.webdriver.remote.webelement.WebElement (session=\"cbf5d8dbb3b2d99b295f8a8957844e09\", element=\"b5570036-0026-4380-85fa-6bee594a0377\")>,\n",
       " <selenium.webdriver.remote.webelement.WebElement (session=\"cbf5d8dbb3b2d99b295f8a8957844e09\", element=\"608d4cea-86a1-4aaf-8e95-27c96c6751db\")>,\n",
       " <selenium.webdriver.remote.webelement.WebElement (session=\"cbf5d8dbb3b2d99b295f8a8957844e09\", element=\"6e0650a6-0b6b-475a-9f06-f545be1daba2\")>,\n",
       " <selenium.webdriver.remote.webelement.WebElement (session=\"cbf5d8dbb3b2d99b295f8a8957844e09\", element=\"39ea1761-fdf3-4cd1-b6b3-ba027bec52ac\")>,\n",
       " <selenium.webdriver.remote.webelement.WebElement (session=\"cbf5d8dbb3b2d99b295f8a8957844e09\", element=\"6d5d1cb2-e64d-40f7-955c-34793c713047\")>,\n",
       " <selenium.webdriver.remote.webelement.WebElement (session=\"cbf5d8dbb3b2d99b295f8a8957844e09\", element=\"d819de1b-e0af-4141-b297-7eacdd18bb07\")>,\n",
       " <selenium.webdriver.remote.webelement.WebElement (session=\"cbf5d8dbb3b2d99b295f8a8957844e09\", element=\"d53f243c-d5d8-47a9-8185-4ab8ca6b38a9\")>,\n",
       " <selenium.webdriver.remote.webelement.WebElement (session=\"cbf5d8dbb3b2d99b295f8a8957844e09\", element=\"03460f70-c988-4ac5-922f-964d401ba023\")>,\n",
       " <selenium.webdriver.remote.webelement.WebElement (session=\"cbf5d8dbb3b2d99b295f8a8957844e09\", element=\"31e5730f-49a3-40e2-bc9e-502a639587c7\")>,\n",
       " <selenium.webdriver.remote.webelement.WebElement (session=\"cbf5d8dbb3b2d99b295f8a8957844e09\", element=\"66e59eae-3e03-4757-8eaa-2ed74dd9f672\")>,\n",
       " <selenium.webdriver.remote.webelement.WebElement (session=\"cbf5d8dbb3b2d99b295f8a8957844e09\", element=\"79991f37-9db0-4c36-8c04-4e49b0a5f925\")>,\n",
       " <selenium.webdriver.remote.webelement.WebElement (session=\"cbf5d8dbb3b2d99b295f8a8957844e09\", element=\"7cfb25e7-020e-44d5-a927-09e186c4d6dc\")>,\n",
       " <selenium.webdriver.remote.webelement.WebElement (session=\"cbf5d8dbb3b2d99b295f8a8957844e09\", element=\"a4c11036-ef86-4dd6-827a-8217ace0cd2c\")>,\n",
       " <selenium.webdriver.remote.webelement.WebElement (session=\"cbf5d8dbb3b2d99b295f8a8957844e09\", element=\"4ca33a85-e362-494e-9f95-dc3862ec4ba8\")>,\n",
       " <selenium.webdriver.remote.webelement.WebElement (session=\"cbf5d8dbb3b2d99b295f8a8957844e09\", element=\"9d123c41-1891-45b1-bcda-7e8afce896e9\")>,\n",
       " <selenium.webdriver.remote.webelement.WebElement (session=\"cbf5d8dbb3b2d99b295f8a8957844e09\", element=\"50f839c4-4c2a-453a-a8b9-8d479357e884\")>,\n",
       " <selenium.webdriver.remote.webelement.WebElement (session=\"cbf5d8dbb3b2d99b295f8a8957844e09\", element=\"fa4be05e-4199-41d0-9df0-0edbe955c44b\")>,\n",
       " <selenium.webdriver.remote.webelement.WebElement (session=\"cbf5d8dbb3b2d99b295f8a8957844e09\", element=\"2dc44045-5271-4c39-ba03-43d794d5ed20\")>,\n",
       " <selenium.webdriver.remote.webelement.WebElement (session=\"cbf5d8dbb3b2d99b295f8a8957844e09\", element=\"58962cc8-b227-4c93-b442-f83141ded9c3\")>,\n",
       " <selenium.webdriver.remote.webelement.WebElement (session=\"cbf5d8dbb3b2d99b295f8a8957844e09\", element=\"45b3c415-371e-4f10-9095-c7ad7af42e48\")>,\n",
       " <selenium.webdriver.remote.webelement.WebElement (session=\"cbf5d8dbb3b2d99b295f8a8957844e09\", element=\"0b3a259f-782f-4b0a-a69c-483583f6f495\")>,\n",
       " <selenium.webdriver.remote.webelement.WebElement (session=\"cbf5d8dbb3b2d99b295f8a8957844e09\", element=\"4a491674-9872-4ba1-a533-c89c7da7af45\")>,\n",
       " <selenium.webdriver.remote.webelement.WebElement (session=\"cbf5d8dbb3b2d99b295f8a8957844e09\", element=\"727f094f-d8da-4fa9-b9db-08d57aefa689\")>,\n",
       " <selenium.webdriver.remote.webelement.WebElement (session=\"cbf5d8dbb3b2d99b295f8a8957844e09\", element=\"82c87d81-5417-4d2a-9c98-e86fe4606e17\")>,\n",
       " <selenium.webdriver.remote.webelement.WebElement (session=\"cbf5d8dbb3b2d99b295f8a8957844e09\", element=\"f179d91c-dabf-42d0-9236-1a6154c4a6e2\")>,\n",
       " <selenium.webdriver.remote.webelement.WebElement (session=\"cbf5d8dbb3b2d99b295f8a8957844e09\", element=\"4ab13998-1a3f-4ef8-ac80-93cafb27e859\")>,\n",
       " <selenium.webdriver.remote.webelement.WebElement (session=\"cbf5d8dbb3b2d99b295f8a8957844e09\", element=\"e253879c-417c-4fd2-b412-b9fada28fc2d\")>,\n",
       " <selenium.webdriver.remote.webelement.WebElement (session=\"cbf5d8dbb3b2d99b295f8a8957844e09\", element=\"883d71ff-4a16-4414-a0bb-b41018e140e3\")>,\n",
       " <selenium.webdriver.remote.webelement.WebElement (session=\"cbf5d8dbb3b2d99b295f8a8957844e09\", element=\"b59817c6-17c2-4856-9d2d-a9a0f6b8dc85\")>,\n",
       " <selenium.webdriver.remote.webelement.WebElement (session=\"cbf5d8dbb3b2d99b295f8a8957844e09\", element=\"62c5e82f-f51b-4b39-8c99-6db27e6c58dd\")>,\n",
       " <selenium.webdriver.remote.webelement.WebElement (session=\"cbf5d8dbb3b2d99b295f8a8957844e09\", element=\"ca6f493a-038d-4985-bd65-e684f2777269\")>,\n",
       " <selenium.webdriver.remote.webelement.WebElement (session=\"cbf5d8dbb3b2d99b295f8a8957844e09\", element=\"e8e7174b-621d-4a4d-9501-7f18fce6208d\")>,\n",
       " <selenium.webdriver.remote.webelement.WebElement (session=\"cbf5d8dbb3b2d99b295f8a8957844e09\", element=\"7692a0f2-1be2-489e-a42f-f869435e595a\")>,\n",
       " <selenium.webdriver.remote.webelement.WebElement (session=\"cbf5d8dbb3b2d99b295f8a8957844e09\", element=\"d3f0dacb-700f-4ba1-a895-6cee09445204\")>,\n",
       " <selenium.webdriver.remote.webelement.WebElement (session=\"cbf5d8dbb3b2d99b295f8a8957844e09\", element=\"6677c7d8-0c28-4afb-b8db-0e10abcf7e72\")>,\n",
       " <selenium.webdriver.remote.webelement.WebElement (session=\"cbf5d8dbb3b2d99b295f8a8957844e09\", element=\"d993daba-bcd2-4e24-a89d-99b904091063\")>,\n",
       " <selenium.webdriver.remote.webelement.WebElement (session=\"cbf5d8dbb3b2d99b295f8a8957844e09\", element=\"a0dc12b2-dfb5-4f71-8aff-263debf25758\")>,\n",
       " <selenium.webdriver.remote.webelement.WebElement (session=\"cbf5d8dbb3b2d99b295f8a8957844e09\", element=\"88868da9-7612-4408-8a14-e4e18bc5a8c6\")>,\n",
       " <selenium.webdriver.remote.webelement.WebElement (session=\"cbf5d8dbb3b2d99b295f8a8957844e09\", element=\"126d2a97-91cc-4b2a-a64d-6627ca2bdc5b\")>,\n",
       " <selenium.webdriver.remote.webelement.WebElement (session=\"cbf5d8dbb3b2d99b295f8a8957844e09\", element=\"fe453868-e7d7-4ec9-81d4-c0bae6b0b26f\")>,\n",
       " <selenium.webdriver.remote.webelement.WebElement (session=\"cbf5d8dbb3b2d99b295f8a8957844e09\", element=\"cd801cc3-2997-4d67-880e-288060bbe3cf\")>,\n",
       " <selenium.webdriver.remote.webelement.WebElement (session=\"cbf5d8dbb3b2d99b295f8a8957844e09\", element=\"443c4043-03a5-471d-8700-7366e84ca0ff\")>,\n",
       " <selenium.webdriver.remote.webelement.WebElement (session=\"cbf5d8dbb3b2d99b295f8a8957844e09\", element=\"e82c4e84-3a42-451b-a7ea-2e3afd4c38bb\")>,\n",
       " <selenium.webdriver.remote.webelement.WebElement (session=\"cbf5d8dbb3b2d99b295f8a8957844e09\", element=\"7e73fe2b-62bd-4afe-9c0b-969b9ef1b445\")>,\n",
       " <selenium.webdriver.remote.webelement.WebElement (session=\"cbf5d8dbb3b2d99b295f8a8957844e09\", element=\"1a5391d2-6a44-4ba6-a8c0-d54a0d9be1e5\")>,\n",
       " <selenium.webdriver.remote.webelement.WebElement (session=\"cbf5d8dbb3b2d99b295f8a8957844e09\", element=\"ad2ebf48-c035-4f2f-a3d3-b47b83228258\")>,\n",
       " <selenium.webdriver.remote.webelement.WebElement (session=\"cbf5d8dbb3b2d99b295f8a8957844e09\", element=\"4db26c79-847c-4d83-b80c-ae89f8d2fe10\")>,\n",
       " <selenium.webdriver.remote.webelement.WebElement (session=\"cbf5d8dbb3b2d99b295f8a8957844e09\", element=\"d7a4a7d4-027b-4be1-aaf1-50b37acaac7a\")>,\n",
       " <selenium.webdriver.remote.webelement.WebElement (session=\"cbf5d8dbb3b2d99b295f8a8957844e09\", element=\"645274a5-14e8-496d-83de-fd6e528b22ce\")>,\n",
       " <selenium.webdriver.remote.webelement.WebElement (session=\"cbf5d8dbb3b2d99b295f8a8957844e09\", element=\"a797878c-4a65-4227-9c5e-7fdaa068b758\")>,\n",
       " <selenium.webdriver.remote.webelement.WebElement (session=\"cbf5d8dbb3b2d99b295f8a8957844e09\", element=\"636b536a-e881-41fc-8f91-3cc736557b88\")>,\n",
       " <selenium.webdriver.remote.webelement.WebElement (session=\"cbf5d8dbb3b2d99b295f8a8957844e09\", element=\"c0ed615e-81f6-4b37-8b7c-2d3fe61d948c\")>,\n",
       " <selenium.webdriver.remote.webelement.WebElement (session=\"cbf5d8dbb3b2d99b295f8a8957844e09\", element=\"556d7703-8491-42f8-bc1f-41bffc907ee7\")>,\n",
       " <selenium.webdriver.remote.webelement.WebElement (session=\"cbf5d8dbb3b2d99b295f8a8957844e09\", element=\"979e0a56-e6b5-4b4d-84a5-6a2867b91cba\")>,\n",
       " <selenium.webdriver.remote.webelement.WebElement (session=\"cbf5d8dbb3b2d99b295f8a8957844e09\", element=\"e6a64f1d-0771-453d-a2c7-3cb00f6029e6\")>,\n",
       " <selenium.webdriver.remote.webelement.WebElement (session=\"cbf5d8dbb3b2d99b295f8a8957844e09\", element=\"71d2c8f2-d80b-42c3-8741-2b85cc5f24ad\")>,\n",
       " <selenium.webdriver.remote.webelement.WebElement (session=\"cbf5d8dbb3b2d99b295f8a8957844e09\", element=\"da0c3947-7b19-415f-af54-9cd5adc23ef5\")>,\n",
       " <selenium.webdriver.remote.webelement.WebElement (session=\"cbf5d8dbb3b2d99b295f8a8957844e09\", element=\"3f3938b1-ef4d-442d-98cd-e51c8d0ee313\")>,\n",
       " <selenium.webdriver.remote.webelement.WebElement (session=\"cbf5d8dbb3b2d99b295f8a8957844e09\", element=\"87e4360b-496f-4f72-95c3-4aef4efa9699\")>,\n",
       " <selenium.webdriver.remote.webelement.WebElement (session=\"cbf5d8dbb3b2d99b295f8a8957844e09\", element=\"cd2cb3fd-29cc-48f4-83a0-57b2ac853397\")>,\n",
       " <selenium.webdriver.remote.webelement.WebElement (session=\"cbf5d8dbb3b2d99b295f8a8957844e09\", element=\"807211ea-d2df-45bc-8460-f93a17902816\")>,\n",
       " <selenium.webdriver.remote.webelement.WebElement (session=\"cbf5d8dbb3b2d99b295f8a8957844e09\", element=\"acebc722-95df-4840-9635-a1a77cd8064b\")>,\n",
       " <selenium.webdriver.remote.webelement.WebElement (session=\"cbf5d8dbb3b2d99b295f8a8957844e09\", element=\"23a337d6-9f23-4f69-a6a6-0a1ac3ed925c\")>,\n",
       " <selenium.webdriver.remote.webelement.WebElement (session=\"cbf5d8dbb3b2d99b295f8a8957844e09\", element=\"7050f004-c631-4c06-a6be-6ee4b80eb181\")>,\n",
       " <selenium.webdriver.remote.webelement.WebElement (session=\"cbf5d8dbb3b2d99b295f8a8957844e09\", element=\"5ee2e28a-9dd8-4e03-aeed-f9adfad50670\")>,\n",
       " <selenium.webdriver.remote.webelement.WebElement (session=\"cbf5d8dbb3b2d99b295f8a8957844e09\", element=\"d92a951d-748c-4e10-8b00-739e36a1fd32\")>,\n",
       " <selenium.webdriver.remote.webelement.WebElement (session=\"cbf5d8dbb3b2d99b295f8a8957844e09\", element=\"ec9fac50-8dd5-4a9c-8ad6-eaf24e668f67\")>,\n",
       " <selenium.webdriver.remote.webelement.WebElement (session=\"cbf5d8dbb3b2d99b295f8a8957844e09\", element=\"c6bad0c9-116b-4d16-b5bd-dde1ef9777ab\")>,\n",
       " <selenium.webdriver.remote.webelement.WebElement (session=\"cbf5d8dbb3b2d99b295f8a8957844e09\", element=\"49ca9b16-3c6d-4faf-abf7-8b0e6b371b96\")>,\n",
       " <selenium.webdriver.remote.webelement.WebElement (session=\"cbf5d8dbb3b2d99b295f8a8957844e09\", element=\"d221fbd4-88eb-4312-8d18-93cee0f68c0f\")>,\n",
       " <selenium.webdriver.remote.webelement.WebElement (session=\"cbf5d8dbb3b2d99b295f8a8957844e09\", element=\"d213cd98-b12b-4b75-88a3-300ade4e3d1c\")>,\n",
       " <selenium.webdriver.remote.webelement.WebElement (session=\"cbf5d8dbb3b2d99b295f8a8957844e09\", element=\"4b139d8a-f74f-4040-88c2-4385da1f07f5\")>,\n",
       " <selenium.webdriver.remote.webelement.WebElement (session=\"cbf5d8dbb3b2d99b295f8a8957844e09\", element=\"16e69a6a-cc62-434d-9e7c-8c7bbd09aa99\")>,\n",
       " <selenium.webdriver.remote.webelement.WebElement (session=\"cbf5d8dbb3b2d99b295f8a8957844e09\", element=\"0f0b4ed3-4681-421e-af3b-9c07b53805cd\")>,\n",
       " <selenium.webdriver.remote.webelement.WebElement (session=\"cbf5d8dbb3b2d99b295f8a8957844e09\", element=\"e875b891-6a3c-4166-998e-eb6ba17f24b0\")>,\n",
       " <selenium.webdriver.remote.webelement.WebElement (session=\"cbf5d8dbb3b2d99b295f8a8957844e09\", element=\"42548adb-cf9f-4f5b-8798-8dd5fc27d682\")>,\n",
       " <selenium.webdriver.remote.webelement.WebElement (session=\"cbf5d8dbb3b2d99b295f8a8957844e09\", element=\"7cff4c97-6c19-4233-b0bb-030bbee6e360\")>,\n",
       " <selenium.webdriver.remote.webelement.WebElement (session=\"cbf5d8dbb3b2d99b295f8a8957844e09\", element=\"48cfc63f-77d0-4031-893a-369e2e68996a\")>,\n",
       " <selenium.webdriver.remote.webelement.WebElement (session=\"cbf5d8dbb3b2d99b295f8a8957844e09\", element=\"75d16f6c-3f6e-4672-9dac-845b7ee0858c\")>,\n",
       " <selenium.webdriver.remote.webelement.WebElement (session=\"cbf5d8dbb3b2d99b295f8a8957844e09\", element=\"3c7eba0d-0ccf-48a6-ae5d-90f22a59745f\")>,\n",
       " <selenium.webdriver.remote.webelement.WebElement (session=\"cbf5d8dbb3b2d99b295f8a8957844e09\", element=\"495aa6e0-648f-4722-a4b4-a17b391f674b\")>,\n",
       " <selenium.webdriver.remote.webelement.WebElement (session=\"cbf5d8dbb3b2d99b295f8a8957844e09\", element=\"4e6d7708-ee2d-4009-a145-6238e091b94e\")>,\n",
       " <selenium.webdriver.remote.webelement.WebElement (session=\"cbf5d8dbb3b2d99b295f8a8957844e09\", element=\"bcc5491e-84ff-4b4f-a558-d67c07e38f1a\")>,\n",
       " <selenium.webdriver.remote.webelement.WebElement (session=\"cbf5d8dbb3b2d99b295f8a8957844e09\", element=\"4cd0503a-74d6-4ca1-8b91-8501b0d01c1f\")>,\n",
       " <selenium.webdriver.remote.webelement.WebElement (session=\"cbf5d8dbb3b2d99b295f8a8957844e09\", element=\"cc051b8e-93fb-4def-87c0-c982b9750693\")>,\n",
       " <selenium.webdriver.remote.webelement.WebElement (session=\"cbf5d8dbb3b2d99b295f8a8957844e09\", element=\"b357da2c-8cc6-45a1-96fd-d375378bd6b4\")>,\n",
       " <selenium.webdriver.remote.webelement.WebElement (session=\"cbf5d8dbb3b2d99b295f8a8957844e09\", element=\"7b8041b3-504e-48a1-ae89-b405d2201e26\")>,\n",
       " <selenium.webdriver.remote.webelement.WebElement (session=\"cbf5d8dbb3b2d99b295f8a8957844e09\", element=\"3de53f31-bf90-4c67-b810-81e1edaaad4c\")>,\n",
       " <selenium.webdriver.remote.webelement.WebElement (session=\"cbf5d8dbb3b2d99b295f8a8957844e09\", element=\"3f4a27e4-5ff0-4a99-82ae-92a3bc6b6e34\")>,\n",
       " <selenium.webdriver.remote.webelement.WebElement (session=\"cbf5d8dbb3b2d99b295f8a8957844e09\", element=\"d4b3b9c7-001d-4180-aba2-6e57a7ff63ae\")>,\n",
       " <selenium.webdriver.remote.webelement.WebElement (session=\"cbf5d8dbb3b2d99b295f8a8957844e09\", element=\"35c3885a-7982-418b-ac8b-04b373071e51\")>,\n",
       " <selenium.webdriver.remote.webelement.WebElement (session=\"cbf5d8dbb3b2d99b295f8a8957844e09\", element=\"a79bfd87-060e-448c-9da3-f0b92578994c\")>,\n",
       " <selenium.webdriver.remote.webelement.WebElement (session=\"cbf5d8dbb3b2d99b295f8a8957844e09\", element=\"ff2c827e-8759-4929-96d1-4a21566c8dc1\")>,\n",
       " <selenium.webdriver.remote.webelement.WebElement (session=\"cbf5d8dbb3b2d99b295f8a8957844e09\", element=\"2415acf5-70bd-45bf-b079-c4fd73db4e50\")>,\n",
       " <selenium.webdriver.remote.webelement.WebElement (session=\"cbf5d8dbb3b2d99b295f8a8957844e09\", element=\"5bed2a9f-8ddf-4113-8a35-932d7a4889a2\")>,\n",
       " <selenium.webdriver.remote.webelement.WebElement (session=\"cbf5d8dbb3b2d99b295f8a8957844e09\", element=\"09410076-9065-46bd-9610-f207e5483273\")>,\n",
       " <selenium.webdriver.remote.webelement.WebElement (session=\"cbf5d8dbb3b2d99b295f8a8957844e09\", element=\"6119bfa1-1ddf-4a53-b7b0-b99fcb819fe1\")>,\n",
       " <selenium.webdriver.remote.webelement.WebElement (session=\"cbf5d8dbb3b2d99b295f8a8957844e09\", element=\"7d4b9da1-1fbd-4f86-b21f-37ed63c121c3\")>,\n",
       " <selenium.webdriver.remote.webelement.WebElement (session=\"cbf5d8dbb3b2d99b295f8a8957844e09\", element=\"57f39cc2-5cef-4750-a1b3-fcbf33859e52\")>,\n",
       " <selenium.webdriver.remote.webelement.WebElement (session=\"cbf5d8dbb3b2d99b295f8a8957844e09\", element=\"40e14d40-ba7c-49a0-9820-dfd8b88587f5\")>,\n",
       " <selenium.webdriver.remote.webelement.WebElement (session=\"cbf5d8dbb3b2d99b295f8a8957844e09\", element=\"1a90d880-4389-44f6-b18c-bd4dca4e04cc\")>,\n",
       " <selenium.webdriver.remote.webelement.WebElement (session=\"cbf5d8dbb3b2d99b295f8a8957844e09\", element=\"5cdf3636-6faf-4a0a-b0b6-013aeeb2c8c1\")>,\n",
       " <selenium.webdriver.remote.webelement.WebElement (session=\"cbf5d8dbb3b2d99b295f8a8957844e09\", element=\"c5f078a1-ace5-43ec-ba5a-a41ee2a29b77\")>]"
      ]
     },
     "execution_count": 56,
     "metadata": {},
     "output_type": "execute_result"
    }
   ],
   "source": [
    "images"
   ]
  },
  {
   "cell_type": "code",
   "execution_count": 57,
   "id": "e9973bfb",
   "metadata": {},
   "outputs": [],
   "source": [
    "img_urls = []\n",
    "img_data = []\n",
    "\n",
    "for image in images:\n",
    "    source= image.get_attribute('src')\n",
    "    if source is not None:\n",
    "        if(source[0:4] == 'http'):\n",
    "            img_urls.append(source)"
   ]
  },
  {
   "cell_type": "code",
   "execution_count": 59,
   "id": "a392ce4c",
   "metadata": {},
   "outputs": [
    {
     "name": "stdout",
     "output_type": "stream",
     "text": [
      "Downloading 0 of 10 images\n",
      "Downloading 1 of 10 images\n",
      "Downloading 2 of 10 images\n",
      "Downloading 3 of 10 images\n",
      "Downloading 4 of 10 images\n",
      "Downloading 5 of 10 images\n",
      "Downloading 6 of 10 images\n",
      "Downloading 7 of 10 images\n",
      "Downloading 8 of 10 images\n",
      "Downloading 9 of 10 images\n",
      "Downloading 10 of 10 images\n"
     ]
    }
   ],
   "source": [
    "import requests\n",
    "\n",
    "for i in range(len(img_urls)):\n",
    "    if i > 10:\n",
    "        break\n",
    "    print(\"Downloading {0} of {1} images\" .format(i, 10))\n",
    "    response= requests.get(img_urls[i])\n",
    "    file = open(r\"E:\\AssignmentImage\\ML\"+str(i)+\".jpg\", \"wb\")\n",
    "    file.write(response.content)"
   ]
  },
  {
   "cell_type": "markdown",
   "id": "cf810a4d",
   "metadata": {},
   "source": [
    "Cars"
   ]
  },
  {
   "cell_type": "code",
   "execution_count": null,
   "id": "a8638a48",
   "metadata": {},
   "outputs": [],
   "source": [
    "# Lets first connect to the webdriver\n",
    "\n",
    "driver=webdriver.Chrome(r\"C:\\Users\\Hello world\\Downloads\\chromedriver_win32\\chromedriver.exe\")"
   ]
  },
  {
   "cell_type": "code",
   "execution_count": null,
   "id": "437c1e67",
   "metadata": {},
   "outputs": [],
   "source": [
    "driver.get(\"https://images.google.com\")"
   ]
  },
  {
   "cell_type": "code",
   "execution_count": 28,
   "id": "fcb70eaf",
   "metadata": {},
   "outputs": [],
   "source": [
    "designation=driver.find_element(By.XPATH, \"/html/body/div[1]/div[3]/form/div[1]/div[1]/div[1]/div/div[2]/input\")\n",
    "designation.send_keys('cars')"
   ]
  },
  {
   "cell_type": "code",
   "execution_count": 29,
   "id": "b557690d",
   "metadata": {},
   "outputs": [],
   "source": [
    "search=driver.find_element(By.XPATH, '/html/body/div[1]/div[3]/form/div[1]/div[1]/div[1]/button/div/span')\n",
    "search.click()"
   ]
  },
  {
   "cell_type": "code",
   "execution_count": 36,
   "id": "2103ec86",
   "metadata": {},
   "outputs": [],
   "source": [
    "for _ in range(20):\n",
    "    driver.execute_script(\"window.scrollBy(0,1000)\")\n",
    "    images1 = driver.find_elements(By.XPATH,'//img[@class=\"rg_i Q4LuWd\"]')"
   ]
  },
  {
   "cell_type": "code",
   "execution_count": 37,
   "id": "08e1f9e1",
   "metadata": {},
   "outputs": [
    {
     "data": {
      "text/plain": [
       "[<selenium.webdriver.remote.webelement.WebElement (session=\"d60d9c3112a6fb4815b0eac6f408b555\", element=\"5f121608-d91b-480d-85e2-f395200ea3da\")>,\n",
       " <selenium.webdriver.remote.webelement.WebElement (session=\"d60d9c3112a6fb4815b0eac6f408b555\", element=\"bef22098-61dd-4792-8461-d8ba831cce9c\")>,\n",
       " <selenium.webdriver.remote.webelement.WebElement (session=\"d60d9c3112a6fb4815b0eac6f408b555\", element=\"505d677a-1c50-48d3-92f5-66b95555df57\")>,\n",
       " <selenium.webdriver.remote.webelement.WebElement (session=\"d60d9c3112a6fb4815b0eac6f408b555\", element=\"499a1947-693d-44dd-8b27-a1957cc2bf9f\")>,\n",
       " <selenium.webdriver.remote.webelement.WebElement (session=\"d60d9c3112a6fb4815b0eac6f408b555\", element=\"89eb6bc0-62a5-4db0-94a6-78d4a6034ed2\")>,\n",
       " <selenium.webdriver.remote.webelement.WebElement (session=\"d60d9c3112a6fb4815b0eac6f408b555\", element=\"fd2df4ff-c2f9-4414-81df-a2ab8303472d\")>,\n",
       " <selenium.webdriver.remote.webelement.WebElement (session=\"d60d9c3112a6fb4815b0eac6f408b555\", element=\"264e8e4b-7123-4580-989e-7bdb940032d6\")>,\n",
       " <selenium.webdriver.remote.webelement.WebElement (session=\"d60d9c3112a6fb4815b0eac6f408b555\", element=\"1069d766-9d3d-44c3-81c2-daed1425b6a4\")>,\n",
       " <selenium.webdriver.remote.webelement.WebElement (session=\"d60d9c3112a6fb4815b0eac6f408b555\", element=\"8e5da53f-2548-4500-9e91-78e32ab1429e\")>,\n",
       " <selenium.webdriver.remote.webelement.WebElement (session=\"d60d9c3112a6fb4815b0eac6f408b555\", element=\"b822d77b-bb0a-4163-b433-67be0986017c\")>,\n",
       " <selenium.webdriver.remote.webelement.WebElement (session=\"d60d9c3112a6fb4815b0eac6f408b555\", element=\"e621ee6f-af30-401f-a430-b38c7fb53c09\")>,\n",
       " <selenium.webdriver.remote.webelement.WebElement (session=\"d60d9c3112a6fb4815b0eac6f408b555\", element=\"f31101a2-a186-4868-9da5-1b2fdd376e8a\")>,\n",
       " <selenium.webdriver.remote.webelement.WebElement (session=\"d60d9c3112a6fb4815b0eac6f408b555\", element=\"c497d038-022e-454d-8d19-64c1af6cc29c\")>,\n",
       " <selenium.webdriver.remote.webelement.WebElement (session=\"d60d9c3112a6fb4815b0eac6f408b555\", element=\"f373e9c1-377f-42b3-9777-d67c0e0b8c86\")>,\n",
       " <selenium.webdriver.remote.webelement.WebElement (session=\"d60d9c3112a6fb4815b0eac6f408b555\", element=\"4e2699e4-f5c0-42c0-aa62-2e53594de4b3\")>,\n",
       " <selenium.webdriver.remote.webelement.WebElement (session=\"d60d9c3112a6fb4815b0eac6f408b555\", element=\"7b0fe8f0-dc75-45a4-85e3-109179b9980b\")>,\n",
       " <selenium.webdriver.remote.webelement.WebElement (session=\"d60d9c3112a6fb4815b0eac6f408b555\", element=\"39013cb7-21ac-4dbe-8d09-66a294a74916\")>,\n",
       " <selenium.webdriver.remote.webelement.WebElement (session=\"d60d9c3112a6fb4815b0eac6f408b555\", element=\"ec570cbb-e093-4042-a6c8-adf2523da356\")>,\n",
       " <selenium.webdriver.remote.webelement.WebElement (session=\"d60d9c3112a6fb4815b0eac6f408b555\", element=\"3617f6b6-d8e4-4bc9-8163-11ca9b7d9dd0\")>,\n",
       " <selenium.webdriver.remote.webelement.WebElement (session=\"d60d9c3112a6fb4815b0eac6f408b555\", element=\"04d55f9e-f210-489e-8c56-1f05087f6247\")>,\n",
       " <selenium.webdriver.remote.webelement.WebElement (session=\"d60d9c3112a6fb4815b0eac6f408b555\", element=\"4a60f025-6b24-413e-98be-e77fc4a306ff\")>,\n",
       " <selenium.webdriver.remote.webelement.WebElement (session=\"d60d9c3112a6fb4815b0eac6f408b555\", element=\"4f34f65f-3bd0-448e-af8f-7c2420024d38\")>,\n",
       " <selenium.webdriver.remote.webelement.WebElement (session=\"d60d9c3112a6fb4815b0eac6f408b555\", element=\"9de21898-f875-454d-afdf-1543be31f759\")>,\n",
       " <selenium.webdriver.remote.webelement.WebElement (session=\"d60d9c3112a6fb4815b0eac6f408b555\", element=\"a3d20774-b13e-4c48-8d52-286fc00ae672\")>,\n",
       " <selenium.webdriver.remote.webelement.WebElement (session=\"d60d9c3112a6fb4815b0eac6f408b555\", element=\"b7cd00eb-ff17-4b9e-81d3-74290cd823e0\")>,\n",
       " <selenium.webdriver.remote.webelement.WebElement (session=\"d60d9c3112a6fb4815b0eac6f408b555\", element=\"6aedcccd-117f-4e9c-a050-ed882a50a1a3\")>,\n",
       " <selenium.webdriver.remote.webelement.WebElement (session=\"d60d9c3112a6fb4815b0eac6f408b555\", element=\"340654d3-7a2a-4ba8-b2f1-1af41aaf922a\")>,\n",
       " <selenium.webdriver.remote.webelement.WebElement (session=\"d60d9c3112a6fb4815b0eac6f408b555\", element=\"7d34202a-7383-46b4-a583-7a110da20399\")>,\n",
       " <selenium.webdriver.remote.webelement.WebElement (session=\"d60d9c3112a6fb4815b0eac6f408b555\", element=\"db7fecfd-fac3-412b-a5ce-d4c8d4c06edd\")>,\n",
       " <selenium.webdriver.remote.webelement.WebElement (session=\"d60d9c3112a6fb4815b0eac6f408b555\", element=\"40cbfb70-6894-4d70-b1d7-8f9c58271d91\")>,\n",
       " <selenium.webdriver.remote.webelement.WebElement (session=\"d60d9c3112a6fb4815b0eac6f408b555\", element=\"8a93587c-6029-4869-a696-e13e0a67a5d0\")>,\n",
       " <selenium.webdriver.remote.webelement.WebElement (session=\"d60d9c3112a6fb4815b0eac6f408b555\", element=\"253996fa-dddb-4303-8255-c5c29eebaa1a\")>,\n",
       " <selenium.webdriver.remote.webelement.WebElement (session=\"d60d9c3112a6fb4815b0eac6f408b555\", element=\"6527c89d-3e7d-46ab-a85d-34c07633c92a\")>,\n",
       " <selenium.webdriver.remote.webelement.WebElement (session=\"d60d9c3112a6fb4815b0eac6f408b555\", element=\"14b289e4-3af0-4188-ab01-9da9c7cf1049\")>,\n",
       " <selenium.webdriver.remote.webelement.WebElement (session=\"d60d9c3112a6fb4815b0eac6f408b555\", element=\"5f1a006b-b7d8-4c0a-9d3e-196b899defd0\")>,\n",
       " <selenium.webdriver.remote.webelement.WebElement (session=\"d60d9c3112a6fb4815b0eac6f408b555\", element=\"d7be74ee-e929-4e20-8863-601bc9654b3a\")>,\n",
       " <selenium.webdriver.remote.webelement.WebElement (session=\"d60d9c3112a6fb4815b0eac6f408b555\", element=\"58d8809a-1ac4-4909-9a9c-7a3f0bf32ea0\")>,\n",
       " <selenium.webdriver.remote.webelement.WebElement (session=\"d60d9c3112a6fb4815b0eac6f408b555\", element=\"dd13accc-f6f1-414b-88e5-9c46b6e8992d\")>,\n",
       " <selenium.webdriver.remote.webelement.WebElement (session=\"d60d9c3112a6fb4815b0eac6f408b555\", element=\"d23f27f6-4096-4237-99d7-38c7cabb700f\")>,\n",
       " <selenium.webdriver.remote.webelement.WebElement (session=\"d60d9c3112a6fb4815b0eac6f408b555\", element=\"f657ac3d-784a-4675-9c39-d2afb6a76d64\")>,\n",
       " <selenium.webdriver.remote.webelement.WebElement (session=\"d60d9c3112a6fb4815b0eac6f408b555\", element=\"e413a26d-7175-4d4c-b843-de57ca3a095c\")>,\n",
       " <selenium.webdriver.remote.webelement.WebElement (session=\"d60d9c3112a6fb4815b0eac6f408b555\", element=\"ef9bb21d-64ce-41b7-8d15-9a9cb6b99a79\")>,\n",
       " <selenium.webdriver.remote.webelement.WebElement (session=\"d60d9c3112a6fb4815b0eac6f408b555\", element=\"9aa0a93d-4f18-40c7-aa6f-ad9b4b533fff\")>,\n",
       " <selenium.webdriver.remote.webelement.WebElement (session=\"d60d9c3112a6fb4815b0eac6f408b555\", element=\"b1714ce6-247d-4ec8-a2d0-be3b69039ee1\")>,\n",
       " <selenium.webdriver.remote.webelement.WebElement (session=\"d60d9c3112a6fb4815b0eac6f408b555\", element=\"1e030174-23a2-4c1f-a75e-9291858396f7\")>,\n",
       " <selenium.webdriver.remote.webelement.WebElement (session=\"d60d9c3112a6fb4815b0eac6f408b555\", element=\"dd2cb7ec-c387-4760-9772-82758330be1f\")>,\n",
       " <selenium.webdriver.remote.webelement.WebElement (session=\"d60d9c3112a6fb4815b0eac6f408b555\", element=\"2c30078d-fcfe-4952-991e-b3fadf92c733\")>,\n",
       " <selenium.webdriver.remote.webelement.WebElement (session=\"d60d9c3112a6fb4815b0eac6f408b555\", element=\"ae1a3b2e-5e91-4452-b9f5-cdb365d5bbc3\")>,\n",
       " <selenium.webdriver.remote.webelement.WebElement (session=\"d60d9c3112a6fb4815b0eac6f408b555\", element=\"83643adc-a231-46a7-adf0-540320a16ead\")>,\n",
       " <selenium.webdriver.remote.webelement.WebElement (session=\"d60d9c3112a6fb4815b0eac6f408b555\", element=\"a8a9e180-b80b-4952-93fd-53d0b7e36d2b\")>,\n",
       " <selenium.webdriver.remote.webelement.WebElement (session=\"d60d9c3112a6fb4815b0eac6f408b555\", element=\"2e95544c-50c1-433c-a0be-9340ea9db6b9\")>,\n",
       " <selenium.webdriver.remote.webelement.WebElement (session=\"d60d9c3112a6fb4815b0eac6f408b555\", element=\"0f75a14d-7fd8-4251-9efc-8c459734143a\")>,\n",
       " <selenium.webdriver.remote.webelement.WebElement (session=\"d60d9c3112a6fb4815b0eac6f408b555\", element=\"4fa3de33-ab69-4890-a42a-66e2970aedb3\")>,\n",
       " <selenium.webdriver.remote.webelement.WebElement (session=\"d60d9c3112a6fb4815b0eac6f408b555\", element=\"fd0dae09-4b30-4544-bade-275afa43628f\")>,\n",
       " <selenium.webdriver.remote.webelement.WebElement (session=\"d60d9c3112a6fb4815b0eac6f408b555\", element=\"6e42984c-cecb-48f2-b7aa-260dca24a79b\")>,\n",
       " <selenium.webdriver.remote.webelement.WebElement (session=\"d60d9c3112a6fb4815b0eac6f408b555\", element=\"ec75f8ee-e7f9-458d-b675-44372840d2f8\")>,\n",
       " <selenium.webdriver.remote.webelement.WebElement (session=\"d60d9c3112a6fb4815b0eac6f408b555\", element=\"9a9610e6-fa5e-49dd-b345-590458ddd1b1\")>,\n",
       " <selenium.webdriver.remote.webelement.WebElement (session=\"d60d9c3112a6fb4815b0eac6f408b555\", element=\"dc185d3b-2c2a-47aa-8e98-b7368fb3e0f3\")>,\n",
       " <selenium.webdriver.remote.webelement.WebElement (session=\"d60d9c3112a6fb4815b0eac6f408b555\", element=\"85f364ac-1a32-4f74-a6b2-9aaaaeb817a1\")>,\n",
       " <selenium.webdriver.remote.webelement.WebElement (session=\"d60d9c3112a6fb4815b0eac6f408b555\", element=\"652a3631-e6ce-4beb-8db9-8b7447782525\")>,\n",
       " <selenium.webdriver.remote.webelement.WebElement (session=\"d60d9c3112a6fb4815b0eac6f408b555\", element=\"798c3091-4b71-4322-bf8b-6cd4c6c8080d\")>,\n",
       " <selenium.webdriver.remote.webelement.WebElement (session=\"d60d9c3112a6fb4815b0eac6f408b555\", element=\"b9c3c782-ad81-4c2c-a3a6-5a425492db20\")>,\n",
       " <selenium.webdriver.remote.webelement.WebElement (session=\"d60d9c3112a6fb4815b0eac6f408b555\", element=\"4cbee84c-0875-46d4-a5c4-d04e91da8657\")>,\n",
       " <selenium.webdriver.remote.webelement.WebElement (session=\"d60d9c3112a6fb4815b0eac6f408b555\", element=\"88141fe1-6365-499e-bf5f-4a0892f8e999\")>,\n",
       " <selenium.webdriver.remote.webelement.WebElement (session=\"d60d9c3112a6fb4815b0eac6f408b555\", element=\"f402f127-71df-4943-b5a4-db531872c1a6\")>,\n",
       " <selenium.webdriver.remote.webelement.WebElement (session=\"d60d9c3112a6fb4815b0eac6f408b555\", element=\"24e2d652-c0e4-4405-8208-e75b6092496e\")>,\n",
       " <selenium.webdriver.remote.webelement.WebElement (session=\"d60d9c3112a6fb4815b0eac6f408b555\", element=\"14ea26e4-63f6-4654-87ec-22e5447e0e47\")>,\n",
       " <selenium.webdriver.remote.webelement.WebElement (session=\"d60d9c3112a6fb4815b0eac6f408b555\", element=\"3b3b8d6a-589e-4e23-afe5-04dd02974df6\")>,\n",
       " <selenium.webdriver.remote.webelement.WebElement (session=\"d60d9c3112a6fb4815b0eac6f408b555\", element=\"2173659f-212a-4952-abec-4023ae1a8f5e\")>,\n",
       " <selenium.webdriver.remote.webelement.WebElement (session=\"d60d9c3112a6fb4815b0eac6f408b555\", element=\"04d0bb53-ea33-4a56-8061-cf81d9449b24\")>,\n",
       " <selenium.webdriver.remote.webelement.WebElement (session=\"d60d9c3112a6fb4815b0eac6f408b555\", element=\"9f734b41-8d93-4e88-bf4b-f29f2015a709\")>,\n",
       " <selenium.webdriver.remote.webelement.WebElement (session=\"d60d9c3112a6fb4815b0eac6f408b555\", element=\"f7d088d3-c54e-4d4e-9efc-de827f12214f\")>,\n",
       " <selenium.webdriver.remote.webelement.WebElement (session=\"d60d9c3112a6fb4815b0eac6f408b555\", element=\"667d9bc4-b693-44dc-a3bb-a41de17ee804\")>,\n",
       " <selenium.webdriver.remote.webelement.WebElement (session=\"d60d9c3112a6fb4815b0eac6f408b555\", element=\"d17d2d20-01c1-4995-8d29-b272e344613b\")>,\n",
       " <selenium.webdriver.remote.webelement.WebElement (session=\"d60d9c3112a6fb4815b0eac6f408b555\", element=\"d5a34930-ecc5-4aa6-83b8-312ea6179615\")>,\n",
       " <selenium.webdriver.remote.webelement.WebElement (session=\"d60d9c3112a6fb4815b0eac6f408b555\", element=\"82fdefbd-8243-416b-996a-4724e4ece6ee\")>,\n",
       " <selenium.webdriver.remote.webelement.WebElement (session=\"d60d9c3112a6fb4815b0eac6f408b555\", element=\"323ba6fc-3fb7-402f-8c52-ca8885edc88a\")>,\n",
       " <selenium.webdriver.remote.webelement.WebElement (session=\"d60d9c3112a6fb4815b0eac6f408b555\", element=\"24ecc79c-8052-4864-abb0-21d792432e24\")>,\n",
       " <selenium.webdriver.remote.webelement.WebElement (session=\"d60d9c3112a6fb4815b0eac6f408b555\", element=\"cfb96164-8d88-4a4c-b8e8-2617bdc69a6e\")>,\n",
       " <selenium.webdriver.remote.webelement.WebElement (session=\"d60d9c3112a6fb4815b0eac6f408b555\", element=\"411a64b4-5fe6-4896-84fe-9845fa044162\")>,\n",
       " <selenium.webdriver.remote.webelement.WebElement (session=\"d60d9c3112a6fb4815b0eac6f408b555\", element=\"19563cea-58fd-4d9d-8ca2-9d166a82f642\")>,\n",
       " <selenium.webdriver.remote.webelement.WebElement (session=\"d60d9c3112a6fb4815b0eac6f408b555\", element=\"f6504747-0c10-4906-941c-5ef0902a37b7\")>,\n",
       " <selenium.webdriver.remote.webelement.WebElement (session=\"d60d9c3112a6fb4815b0eac6f408b555\", element=\"3940cbff-33e7-4e91-86a3-f522552e6105\")>,\n",
       " <selenium.webdriver.remote.webelement.WebElement (session=\"d60d9c3112a6fb4815b0eac6f408b555\", element=\"12791802-a7fe-4253-bf90-df0f453fa6ea\")>,\n",
       " <selenium.webdriver.remote.webelement.WebElement (session=\"d60d9c3112a6fb4815b0eac6f408b555\", element=\"79b22fd7-1003-4543-9e84-7fd45a7c57c8\")>,\n",
       " <selenium.webdriver.remote.webelement.WebElement (session=\"d60d9c3112a6fb4815b0eac6f408b555\", element=\"6c252153-292f-4472-8779-bdba96cf5948\")>,\n",
       " <selenium.webdriver.remote.webelement.WebElement (session=\"d60d9c3112a6fb4815b0eac6f408b555\", element=\"6499a5c0-db69-4c36-ace2-9c93495e3ad6\")>,\n",
       " <selenium.webdriver.remote.webelement.WebElement (session=\"d60d9c3112a6fb4815b0eac6f408b555\", element=\"a278faf3-dccd-4d8a-a70a-eb1a9aedf9fe\")>,\n",
       " <selenium.webdriver.remote.webelement.WebElement (session=\"d60d9c3112a6fb4815b0eac6f408b555\", element=\"8ea2571d-9d8b-49f8-8714-4baff1761ae3\")>,\n",
       " <selenium.webdriver.remote.webelement.WebElement (session=\"d60d9c3112a6fb4815b0eac6f408b555\", element=\"23f123eb-707d-4627-ac92-bd772ee7062b\")>,\n",
       " <selenium.webdriver.remote.webelement.WebElement (session=\"d60d9c3112a6fb4815b0eac6f408b555\", element=\"89d39139-9ac9-4549-b189-110a9cf7654b\")>,\n",
       " <selenium.webdriver.remote.webelement.WebElement (session=\"d60d9c3112a6fb4815b0eac6f408b555\", element=\"3e840243-2bfb-4139-bee3-30229f001932\")>,\n",
       " <selenium.webdriver.remote.webelement.WebElement (session=\"d60d9c3112a6fb4815b0eac6f408b555\", element=\"fc59f2be-271c-46fd-ae49-94bc4bab2b40\")>,\n",
       " <selenium.webdriver.remote.webelement.WebElement (session=\"d60d9c3112a6fb4815b0eac6f408b555\", element=\"57156d06-f601-4f75-a079-ef1c58b6376d\")>,\n",
       " <selenium.webdriver.remote.webelement.WebElement (session=\"d60d9c3112a6fb4815b0eac6f408b555\", element=\"1548b476-b13c-4213-b549-9221632b5ddd\")>,\n",
       " <selenium.webdriver.remote.webelement.WebElement (session=\"d60d9c3112a6fb4815b0eac6f408b555\", element=\"cc2055cf-6b07-4475-9a71-e0882f2b5d4c\")>,\n",
       " <selenium.webdriver.remote.webelement.WebElement (session=\"d60d9c3112a6fb4815b0eac6f408b555\", element=\"f53860d3-94f2-41eb-8aba-c217cd43ae8b\")>,\n",
       " <selenium.webdriver.remote.webelement.WebElement (session=\"d60d9c3112a6fb4815b0eac6f408b555\", element=\"f1a100b4-ac1a-4108-b797-d4ddddec55a6\")>,\n",
       " <selenium.webdriver.remote.webelement.WebElement (session=\"d60d9c3112a6fb4815b0eac6f408b555\", element=\"225c3780-8a7d-40f6-86f8-abe6fad24466\")>,\n",
       " <selenium.webdriver.remote.webelement.WebElement (session=\"d60d9c3112a6fb4815b0eac6f408b555\", element=\"e0f15b91-96d0-4be8-83d0-e56676139d99\")>,\n",
       " <selenium.webdriver.remote.webelement.WebElement (session=\"d60d9c3112a6fb4815b0eac6f408b555\", element=\"e02a2c73-7640-4ff5-8a8a-f769f6e7bf29\")>,\n",
       " <selenium.webdriver.remote.webelement.WebElement (session=\"d60d9c3112a6fb4815b0eac6f408b555\", element=\"ea36d949-e801-4c72-bfc6-ddf2a0f0bb6d\")>,\n",
       " <selenium.webdriver.remote.webelement.WebElement (session=\"d60d9c3112a6fb4815b0eac6f408b555\", element=\"4da697df-b8cb-46ca-a620-46851c0e774f\")>,\n",
       " <selenium.webdriver.remote.webelement.WebElement (session=\"d60d9c3112a6fb4815b0eac6f408b555\", element=\"a8fc542c-5065-4404-b226-2b982f74e20d\")>,\n",
       " <selenium.webdriver.remote.webelement.WebElement (session=\"d60d9c3112a6fb4815b0eac6f408b555\", element=\"13b214de-1502-4cfa-96a1-1fded80143d7\")>,\n",
       " <selenium.webdriver.remote.webelement.WebElement (session=\"d60d9c3112a6fb4815b0eac6f408b555\", element=\"cd56207c-65b7-42fe-84d8-538f24854af8\")>,\n",
       " <selenium.webdriver.remote.webelement.WebElement (session=\"d60d9c3112a6fb4815b0eac6f408b555\", element=\"d1fea6f7-54cb-4c15-9f4c-82f3a7fcf569\")>,\n",
       " <selenium.webdriver.remote.webelement.WebElement (session=\"d60d9c3112a6fb4815b0eac6f408b555\", element=\"09077959-d39c-42ef-9fa7-8bc9fa22f790\")>,\n",
       " <selenium.webdriver.remote.webelement.WebElement (session=\"d60d9c3112a6fb4815b0eac6f408b555\", element=\"8ae780e4-630f-4ff6-8360-3f555f7c65f8\")>,\n",
       " <selenium.webdriver.remote.webelement.WebElement (session=\"d60d9c3112a6fb4815b0eac6f408b555\", element=\"db21925c-e9ce-4097-ae02-4ffffd1abfa4\")>,\n",
       " <selenium.webdriver.remote.webelement.WebElement (session=\"d60d9c3112a6fb4815b0eac6f408b555\", element=\"7518d241-6bc0-4bec-b30c-199424179a5d\")>,\n",
       " <selenium.webdriver.remote.webelement.WebElement (session=\"d60d9c3112a6fb4815b0eac6f408b555\", element=\"01b4ac9e-e066-4bf7-9fa9-96e6c8d7333e\")>,\n",
       " <selenium.webdriver.remote.webelement.WebElement (session=\"d60d9c3112a6fb4815b0eac6f408b555\", element=\"7181646a-ca8f-4f3b-b67f-0d4c8e5919d9\")>,\n",
       " <selenium.webdriver.remote.webelement.WebElement (session=\"d60d9c3112a6fb4815b0eac6f408b555\", element=\"7ccd131b-8f1a-415f-afcb-c4fac763797d\")>,\n",
       " <selenium.webdriver.remote.webelement.WebElement (session=\"d60d9c3112a6fb4815b0eac6f408b555\", element=\"b8703d2b-b096-49d4-aba1-d403c2cbe882\")>,\n",
       " <selenium.webdriver.remote.webelement.WebElement (session=\"d60d9c3112a6fb4815b0eac6f408b555\", element=\"2017904b-8fe6-4287-855c-f2c9c7124ce9\")>,\n",
       " <selenium.webdriver.remote.webelement.WebElement (session=\"d60d9c3112a6fb4815b0eac6f408b555\", element=\"6f6a849a-c8d5-4454-9a36-96e2a79a1f05\")>,\n",
       " <selenium.webdriver.remote.webelement.WebElement (session=\"d60d9c3112a6fb4815b0eac6f408b555\", element=\"88a882c6-a856-4751-a127-3c40cf077e48\")>,\n",
       " <selenium.webdriver.remote.webelement.WebElement (session=\"d60d9c3112a6fb4815b0eac6f408b555\", element=\"da4c11cc-bd12-4e2f-95d7-24f4be1e2ced\")>,\n",
       " <selenium.webdriver.remote.webelement.WebElement (session=\"d60d9c3112a6fb4815b0eac6f408b555\", element=\"e69d5ee9-0e8e-4409-99d7-6d72698c0dd0\")>,\n",
       " <selenium.webdriver.remote.webelement.WebElement (session=\"d60d9c3112a6fb4815b0eac6f408b555\", element=\"1fbe32b2-8ea7-4819-90e3-d71bff8aae44\")>,\n",
       " <selenium.webdriver.remote.webelement.WebElement (session=\"d60d9c3112a6fb4815b0eac6f408b555\", element=\"e10b8069-54f5-4832-9b06-88bfde213418\")>,\n",
       " <selenium.webdriver.remote.webelement.WebElement (session=\"d60d9c3112a6fb4815b0eac6f408b555\", element=\"8989f65d-ce4e-4ba7-b687-25674498d83c\")>,\n",
       " <selenium.webdriver.remote.webelement.WebElement (session=\"d60d9c3112a6fb4815b0eac6f408b555\", element=\"16eeecae-f726-4ea0-a728-4069c1a2ce78\")>,\n",
       " <selenium.webdriver.remote.webelement.WebElement (session=\"d60d9c3112a6fb4815b0eac6f408b555\", element=\"c08e13a3-695d-4798-bb32-be09c88a0aa0\")>,\n",
       " <selenium.webdriver.remote.webelement.WebElement (session=\"d60d9c3112a6fb4815b0eac6f408b555\", element=\"ad338448-95ea-4735-b48f-2463ccb5fe9a\")>,\n",
       " <selenium.webdriver.remote.webelement.WebElement (session=\"d60d9c3112a6fb4815b0eac6f408b555\", element=\"a9d0271c-b1fd-425e-8db8-7127ec4a8cdf\")>,\n",
       " <selenium.webdriver.remote.webelement.WebElement (session=\"d60d9c3112a6fb4815b0eac6f408b555\", element=\"b09a4400-68d9-416c-9692-1683a09616dc\")>,\n",
       " <selenium.webdriver.remote.webelement.WebElement (session=\"d60d9c3112a6fb4815b0eac6f408b555\", element=\"4738f8f5-c8aa-406a-95b2-cd0c255eddf8\")>,\n",
       " <selenium.webdriver.remote.webelement.WebElement (session=\"d60d9c3112a6fb4815b0eac6f408b555\", element=\"cfac5dcf-87bd-454c-88c8-444b5e3cdd2b\")>,\n",
       " <selenium.webdriver.remote.webelement.WebElement (session=\"d60d9c3112a6fb4815b0eac6f408b555\", element=\"14ed992c-f933-47c6-a213-1e93c9090a88\")>,\n",
       " <selenium.webdriver.remote.webelement.WebElement (session=\"d60d9c3112a6fb4815b0eac6f408b555\", element=\"3f7257e6-74d9-4434-9b5b-b44c37b22896\")>,\n",
       " <selenium.webdriver.remote.webelement.WebElement (session=\"d60d9c3112a6fb4815b0eac6f408b555\", element=\"0b3a6d62-9f73-4b3f-af93-99376e6d5b63\")>,\n",
       " <selenium.webdriver.remote.webelement.WebElement (session=\"d60d9c3112a6fb4815b0eac6f408b555\", element=\"b6343834-115d-4ff5-a8b3-a7785b4dcd71\")>,\n",
       " <selenium.webdriver.remote.webelement.WebElement (session=\"d60d9c3112a6fb4815b0eac6f408b555\", element=\"8149706a-c637-45b6-a362-04d13d594700\")>,\n",
       " <selenium.webdriver.remote.webelement.WebElement (session=\"d60d9c3112a6fb4815b0eac6f408b555\", element=\"e1838a11-2489-40a0-bb10-8d9413ff810e\")>,\n",
       " <selenium.webdriver.remote.webelement.WebElement (session=\"d60d9c3112a6fb4815b0eac6f408b555\", element=\"1346c78d-4bbd-4ae6-901a-7e047fba469b\")>,\n",
       " <selenium.webdriver.remote.webelement.WebElement (session=\"d60d9c3112a6fb4815b0eac6f408b555\", element=\"053a7842-2b92-487c-976b-8acdc262e55f\")>,\n",
       " <selenium.webdriver.remote.webelement.WebElement (session=\"d60d9c3112a6fb4815b0eac6f408b555\", element=\"7f7513f3-1ee6-41e3-a2b6-9d8c27187c15\")>,\n",
       " <selenium.webdriver.remote.webelement.WebElement (session=\"d60d9c3112a6fb4815b0eac6f408b555\", element=\"b7b6a10f-e293-40d9-90e1-afc1e084cc11\")>,\n",
       " <selenium.webdriver.remote.webelement.WebElement (session=\"d60d9c3112a6fb4815b0eac6f408b555\", element=\"b36007ac-3d57-4cdd-8442-fd1c59e47a56\")>,\n",
       " <selenium.webdriver.remote.webelement.WebElement (session=\"d60d9c3112a6fb4815b0eac6f408b555\", element=\"643a6765-0dd5-4816-b9bb-75cf1a2da191\")>,\n",
       " <selenium.webdriver.remote.webelement.WebElement (session=\"d60d9c3112a6fb4815b0eac6f408b555\", element=\"080f40f1-1c66-4835-98a8-2581153a4018\")>,\n",
       " <selenium.webdriver.remote.webelement.WebElement (session=\"d60d9c3112a6fb4815b0eac6f408b555\", element=\"fe0b9712-8a40-4b3f-8579-73cc59a9bdbd\")>,\n",
       " <selenium.webdriver.remote.webelement.WebElement (session=\"d60d9c3112a6fb4815b0eac6f408b555\", element=\"8d3c2cc5-e092-4dbf-8cdd-844650ca040f\")>,\n",
       " <selenium.webdriver.remote.webelement.WebElement (session=\"d60d9c3112a6fb4815b0eac6f408b555\", element=\"b8c3d6bd-3d55-4d31-b955-1865500a4c20\")>,\n",
       " <selenium.webdriver.remote.webelement.WebElement (session=\"d60d9c3112a6fb4815b0eac6f408b555\", element=\"c77f9aa8-2ed0-4da9-81a5-138f224bbdbb\")>,\n",
       " <selenium.webdriver.remote.webelement.WebElement (session=\"d60d9c3112a6fb4815b0eac6f408b555\", element=\"945151aa-e0f8-4b8d-b402-7da4ab558e79\")>,\n",
       " <selenium.webdriver.remote.webelement.WebElement (session=\"d60d9c3112a6fb4815b0eac6f408b555\", element=\"293f078b-ab5a-4352-a66e-2e64b2512ceb\")>,\n",
       " <selenium.webdriver.remote.webelement.WebElement (session=\"d60d9c3112a6fb4815b0eac6f408b555\", element=\"274619c2-ee33-4135-85d5-4fcc6501b6f2\")>,\n",
       " <selenium.webdriver.remote.webelement.WebElement (session=\"d60d9c3112a6fb4815b0eac6f408b555\", element=\"ffef2cfe-2888-45e3-a650-ac7f4f737784\")>,\n",
       " <selenium.webdriver.remote.webelement.WebElement (session=\"d60d9c3112a6fb4815b0eac6f408b555\", element=\"54bf04be-86e1-4096-82c6-2c9b0d013bca\")>,\n",
       " <selenium.webdriver.remote.webelement.WebElement (session=\"d60d9c3112a6fb4815b0eac6f408b555\", element=\"9d820f7f-5e38-4489-9528-a0d93d88ce5e\")>,\n",
       " <selenium.webdriver.remote.webelement.WebElement (session=\"d60d9c3112a6fb4815b0eac6f408b555\", element=\"28568f0e-4792-46f4-9d08-292b337c1ae1\")>,\n",
       " <selenium.webdriver.remote.webelement.WebElement (session=\"d60d9c3112a6fb4815b0eac6f408b555\", element=\"c3ef7f9c-3f27-4134-ab7a-3ec4e5334418\")>,\n",
       " <selenium.webdriver.remote.webelement.WebElement (session=\"d60d9c3112a6fb4815b0eac6f408b555\", element=\"81cc3df4-93ef-4746-b581-3f7ea89e8370\")>,\n",
       " <selenium.webdriver.remote.webelement.WebElement (session=\"d60d9c3112a6fb4815b0eac6f408b555\", element=\"69fee86d-6d79-4f84-9a90-77d7ca7cf490\")>,\n",
       " <selenium.webdriver.remote.webelement.WebElement (session=\"d60d9c3112a6fb4815b0eac6f408b555\", element=\"84f13cbe-439b-48f2-ad89-39a2d4f64d1c\")>,\n",
       " <selenium.webdriver.remote.webelement.WebElement (session=\"d60d9c3112a6fb4815b0eac6f408b555\", element=\"f01dfa1f-fac2-464a-9508-69bfd2bec294\")>,\n",
       " <selenium.webdriver.remote.webelement.WebElement (session=\"d60d9c3112a6fb4815b0eac6f408b555\", element=\"956baf41-539c-478a-a0b7-e5a9ebd7787a\")>,\n",
       " <selenium.webdriver.remote.webelement.WebElement (session=\"d60d9c3112a6fb4815b0eac6f408b555\", element=\"127bb4c0-4e69-4137-9849-041631a87d8d\")>,\n",
       " <selenium.webdriver.remote.webelement.WebElement (session=\"d60d9c3112a6fb4815b0eac6f408b555\", element=\"ce700009-9781-4390-9c88-651ad0901455\")>,\n",
       " <selenium.webdriver.remote.webelement.WebElement (session=\"d60d9c3112a6fb4815b0eac6f408b555\", element=\"c6bd5a31-2e2d-4378-9289-df497c295cfe\")>,\n",
       " <selenium.webdriver.remote.webelement.WebElement (session=\"d60d9c3112a6fb4815b0eac6f408b555\", element=\"a353e0c7-47cf-4295-b849-ec1f882e2f14\")>,\n",
       " <selenium.webdriver.remote.webelement.WebElement (session=\"d60d9c3112a6fb4815b0eac6f408b555\", element=\"9d0dc888-43a3-4c38-8d2e-7253991d2b84\")>,\n",
       " <selenium.webdriver.remote.webelement.WebElement (session=\"d60d9c3112a6fb4815b0eac6f408b555\", element=\"7ce4e9a5-bfa7-489c-ae49-757c7c00457d\")>,\n",
       " <selenium.webdriver.remote.webelement.WebElement (session=\"d60d9c3112a6fb4815b0eac6f408b555\", element=\"9f6b8417-148b-48aa-a2b1-f429c637d14a\")>,\n",
       " <selenium.webdriver.remote.webelement.WebElement (session=\"d60d9c3112a6fb4815b0eac6f408b555\", element=\"a0e9463f-b422-4b4c-a810-7727c2cf4f7a\")>,\n",
       " <selenium.webdriver.remote.webelement.WebElement (session=\"d60d9c3112a6fb4815b0eac6f408b555\", element=\"2be985e7-bef0-4f1e-98c0-ec57b22fd788\")>,\n",
       " <selenium.webdriver.remote.webelement.WebElement (session=\"d60d9c3112a6fb4815b0eac6f408b555\", element=\"e683d40d-8696-444a-8819-fd341de641d1\")>,\n",
       " <selenium.webdriver.remote.webelement.WebElement (session=\"d60d9c3112a6fb4815b0eac6f408b555\", element=\"92829571-8850-42a9-9918-985487c5fdf7\")>,\n",
       " <selenium.webdriver.remote.webelement.WebElement (session=\"d60d9c3112a6fb4815b0eac6f408b555\", element=\"52a44335-9c2c-4986-b940-fb25f91851a1\")>,\n",
       " <selenium.webdriver.remote.webelement.WebElement (session=\"d60d9c3112a6fb4815b0eac6f408b555\", element=\"ee9efb3d-955b-4f2a-a667-a940445e05fe\")>,\n",
       " <selenium.webdriver.remote.webelement.WebElement (session=\"d60d9c3112a6fb4815b0eac6f408b555\", element=\"58e68129-1430-4b09-b122-5d6d8df4ba06\")>,\n",
       " <selenium.webdriver.remote.webelement.WebElement (session=\"d60d9c3112a6fb4815b0eac6f408b555\", element=\"dd46b2ec-530e-4f2e-84d8-a47b4cb6df7e\")>,\n",
       " <selenium.webdriver.remote.webelement.WebElement (session=\"d60d9c3112a6fb4815b0eac6f408b555\", element=\"19e7148b-3a96-4ede-b0e2-172d78bfd69b\")>,\n",
       " <selenium.webdriver.remote.webelement.WebElement (session=\"d60d9c3112a6fb4815b0eac6f408b555\", element=\"c02ed9b0-872e-4807-8d1c-a4fe2ba7e348\")>,\n",
       " <selenium.webdriver.remote.webelement.WebElement (session=\"d60d9c3112a6fb4815b0eac6f408b555\", element=\"697b361c-84fc-48bb-9b26-55dafa10235d\")>,\n",
       " <selenium.webdriver.remote.webelement.WebElement (session=\"d60d9c3112a6fb4815b0eac6f408b555\", element=\"0ad2770c-7a45-4269-80af-4d431c9397f0\")>,\n",
       " <selenium.webdriver.remote.webelement.WebElement (session=\"d60d9c3112a6fb4815b0eac6f408b555\", element=\"4b4a40c0-c569-441b-bba9-c7adf376e529\")>,\n",
       " <selenium.webdriver.remote.webelement.WebElement (session=\"d60d9c3112a6fb4815b0eac6f408b555\", element=\"33a60048-74a8-4984-b013-0dce392df039\")>,\n",
       " <selenium.webdriver.remote.webelement.WebElement (session=\"d60d9c3112a6fb4815b0eac6f408b555\", element=\"612374da-1e78-45f3-8a94-9f88503471be\")>,\n",
       " <selenium.webdriver.remote.webelement.WebElement (session=\"d60d9c3112a6fb4815b0eac6f408b555\", element=\"e2708881-53a9-4012-a8f7-ffd9986ec09c\")>,\n",
       " <selenium.webdriver.remote.webelement.WebElement (session=\"d60d9c3112a6fb4815b0eac6f408b555\", element=\"c8778ad5-5d28-4caf-9d56-07761b82dc62\")>,\n",
       " <selenium.webdriver.remote.webelement.WebElement (session=\"d60d9c3112a6fb4815b0eac6f408b555\", element=\"db367d7f-fb22-472b-ae62-896e265d4563\")>,\n",
       " <selenium.webdriver.remote.webelement.WebElement (session=\"d60d9c3112a6fb4815b0eac6f408b555\", element=\"94e36de7-cd71-41c0-bbdb-86fb9306986b\")>,\n",
       " <selenium.webdriver.remote.webelement.WebElement (session=\"d60d9c3112a6fb4815b0eac6f408b555\", element=\"9b9de6a0-4042-466d-9b26-0bc49f7a813f\")>,\n",
       " <selenium.webdriver.remote.webelement.WebElement (session=\"d60d9c3112a6fb4815b0eac6f408b555\", element=\"4257d4d2-3ba4-4b74-b182-fe725ac74b95\")>,\n",
       " <selenium.webdriver.remote.webelement.WebElement (session=\"d60d9c3112a6fb4815b0eac6f408b555\", element=\"0e191e9e-08d5-4698-9891-07fc18fb3810\")>,\n",
       " <selenium.webdriver.remote.webelement.WebElement (session=\"d60d9c3112a6fb4815b0eac6f408b555\", element=\"dc3fd9ff-835b-4e76-8a92-a846daa2bdde\")>,\n",
       " <selenium.webdriver.remote.webelement.WebElement (session=\"d60d9c3112a6fb4815b0eac6f408b555\", element=\"a1d094c8-0f71-4989-af53-f701033e01da\")>,\n",
       " <selenium.webdriver.remote.webelement.WebElement (session=\"d60d9c3112a6fb4815b0eac6f408b555\", element=\"113a14e7-a839-4251-bffa-6345e20e9aef\")>,\n",
       " <selenium.webdriver.remote.webelement.WebElement (session=\"d60d9c3112a6fb4815b0eac6f408b555\", element=\"261ad0fe-8102-48a7-917d-a4482c2cab4e\")>,\n",
       " <selenium.webdriver.remote.webelement.WebElement (session=\"d60d9c3112a6fb4815b0eac6f408b555\", element=\"3f1d617e-8702-4ed4-9ff7-8763881c2aea\")>,\n",
       " <selenium.webdriver.remote.webelement.WebElement (session=\"d60d9c3112a6fb4815b0eac6f408b555\", element=\"1ebbcac5-2bda-4e6b-97e4-d92b1d831de9\")>,\n",
       " <selenium.webdriver.remote.webelement.WebElement (session=\"d60d9c3112a6fb4815b0eac6f408b555\", element=\"552b0e5f-d4cb-430a-9608-4691cf86b408\")>,\n",
       " <selenium.webdriver.remote.webelement.WebElement (session=\"d60d9c3112a6fb4815b0eac6f408b555\", element=\"b9d25ad3-d3d5-4b55-81a6-87e1c556f6ec\")>,\n",
       " <selenium.webdriver.remote.webelement.WebElement (session=\"d60d9c3112a6fb4815b0eac6f408b555\", element=\"92aabe6b-9be4-48f5-87bb-26485925fe2a\")>,\n",
       " <selenium.webdriver.remote.webelement.WebElement (session=\"d60d9c3112a6fb4815b0eac6f408b555\", element=\"4d1d4e07-3265-4fc2-9e91-b06027b06c26\")>,\n",
       " <selenium.webdriver.remote.webelement.WebElement (session=\"d60d9c3112a6fb4815b0eac6f408b555\", element=\"f79eab48-e166-4934-8739-26da3f94a642\")>,\n",
       " <selenium.webdriver.remote.webelement.WebElement (session=\"d60d9c3112a6fb4815b0eac6f408b555\", element=\"51300791-fbc9-4646-920a-c2ee2c917a6d\")>,\n",
       " <selenium.webdriver.remote.webelement.WebElement (session=\"d60d9c3112a6fb4815b0eac6f408b555\", element=\"b1f50d9b-b37a-4af9-aa92-a166239a28f6\")>,\n",
       " <selenium.webdriver.remote.webelement.WebElement (session=\"d60d9c3112a6fb4815b0eac6f408b555\", element=\"bbc0e246-7ed1-4ad7-9259-91129b28fbb3\")>,\n",
       " <selenium.webdriver.remote.webelement.WebElement (session=\"d60d9c3112a6fb4815b0eac6f408b555\", element=\"5e4d7ac3-3128-404b-8c36-cc346e6fb09d\")>,\n",
       " <selenium.webdriver.remote.webelement.WebElement (session=\"d60d9c3112a6fb4815b0eac6f408b555\", element=\"64770ad7-7623-4b19-8b87-b82202149ce3\")>,\n",
       " <selenium.webdriver.remote.webelement.WebElement (session=\"d60d9c3112a6fb4815b0eac6f408b555\", element=\"5558d10e-6828-40a2-8a74-ce7cc2a35422\")>,\n",
       " <selenium.webdriver.remote.webelement.WebElement (session=\"d60d9c3112a6fb4815b0eac6f408b555\", element=\"2b1476cd-53f2-4241-93cd-353653780257\")>,\n",
       " <selenium.webdriver.remote.webelement.WebElement (session=\"d60d9c3112a6fb4815b0eac6f408b555\", element=\"e51fb9dc-0cc8-4711-a6d1-069d5f35804c\")>,\n",
       " <selenium.webdriver.remote.webelement.WebElement (session=\"d60d9c3112a6fb4815b0eac6f408b555\", element=\"8c3e7220-d6e8-45b3-baef-3d8b8e23d780\")>,\n",
       " <selenium.webdriver.remote.webelement.WebElement (session=\"d60d9c3112a6fb4815b0eac6f408b555\", element=\"51a3831a-8b6a-46bc-89cf-176c38448e75\")>,\n",
       " <selenium.webdriver.remote.webelement.WebElement (session=\"d60d9c3112a6fb4815b0eac6f408b555\", element=\"17f597b0-7c6b-4992-aeb3-ba0f3e254060\")>,\n",
       " <selenium.webdriver.remote.webelement.WebElement (session=\"d60d9c3112a6fb4815b0eac6f408b555\", element=\"8404ff29-8138-4828-8f98-0e32afd51b07\")>,\n",
       " <selenium.webdriver.remote.webelement.WebElement (session=\"d60d9c3112a6fb4815b0eac6f408b555\", element=\"54cf81de-1da3-4356-a58a-2c03b1e48a2c\")>,\n",
       " <selenium.webdriver.remote.webelement.WebElement (session=\"d60d9c3112a6fb4815b0eac6f408b555\", element=\"c92c4947-3361-4ed7-bf79-227dab13eca8\")>,\n",
       " <selenium.webdriver.remote.webelement.WebElement (session=\"d60d9c3112a6fb4815b0eac6f408b555\", element=\"e9914453-d141-49d7-90bc-94ca509f0f54\")>,\n",
       " <selenium.webdriver.remote.webelement.WebElement (session=\"d60d9c3112a6fb4815b0eac6f408b555\", element=\"0653804d-d215-4fa4-b76c-60d14a79ce44\")>,\n",
       " <selenium.webdriver.remote.webelement.WebElement (session=\"d60d9c3112a6fb4815b0eac6f408b555\", element=\"4ea90d66-364d-42a6-8a02-4d72f63bcd7b\")>,\n",
       " <selenium.webdriver.remote.webelement.WebElement (session=\"d60d9c3112a6fb4815b0eac6f408b555\", element=\"7d52e6fc-49fc-48c5-bf97-3a94a05f0149\")>,\n",
       " <selenium.webdriver.remote.webelement.WebElement (session=\"d60d9c3112a6fb4815b0eac6f408b555\", element=\"c1e7b054-1569-4dd6-a284-2bf3366d847e\")>,\n",
       " <selenium.webdriver.remote.webelement.WebElement (session=\"d60d9c3112a6fb4815b0eac6f408b555\", element=\"fde1c847-c8b3-46bc-bae6-bca3c2d5fcc7\")>,\n",
       " <selenium.webdriver.remote.webelement.WebElement (session=\"d60d9c3112a6fb4815b0eac6f408b555\", element=\"506a035a-6325-4bc8-b6df-8df86213e3d4\")>,\n",
       " <selenium.webdriver.remote.webelement.WebElement (session=\"d60d9c3112a6fb4815b0eac6f408b555\", element=\"bbceaf6c-3ce2-452e-b5a2-ac2b2ba408cb\")>,\n",
       " <selenium.webdriver.remote.webelement.WebElement (session=\"d60d9c3112a6fb4815b0eac6f408b555\", element=\"963b8a33-165f-45fc-8b4c-45de872eacec\")>,\n",
       " <selenium.webdriver.remote.webelement.WebElement (session=\"d60d9c3112a6fb4815b0eac6f408b555\", element=\"64a91cad-d7f9-4ca2-85c4-cb4d46a8811b\")>,\n",
       " <selenium.webdriver.remote.webelement.WebElement (session=\"d60d9c3112a6fb4815b0eac6f408b555\", element=\"15c1d2dc-3ac7-4d7b-bcdd-631b191fac34\")>,\n",
       " <selenium.webdriver.remote.webelement.WebElement (session=\"d60d9c3112a6fb4815b0eac6f408b555\", element=\"3dceb01d-7308-4ea5-bf07-29252a1fa2ab\")>,\n",
       " <selenium.webdriver.remote.webelement.WebElement (session=\"d60d9c3112a6fb4815b0eac6f408b555\", element=\"0ec044e6-9e90-4f98-8d79-33ac71147f86\")>,\n",
       " <selenium.webdriver.remote.webelement.WebElement (session=\"d60d9c3112a6fb4815b0eac6f408b555\", element=\"ced9ce40-7dfc-499c-8a54-96176fc9a831\")>,\n",
       " <selenium.webdriver.remote.webelement.WebElement (session=\"d60d9c3112a6fb4815b0eac6f408b555\", element=\"aea387d7-4128-4537-8bdd-bec08c872587\")>,\n",
       " <selenium.webdriver.remote.webelement.WebElement (session=\"d60d9c3112a6fb4815b0eac6f408b555\", element=\"990634ec-9604-4da8-9188-b67d23b16233\")>,\n",
       " <selenium.webdriver.remote.webelement.WebElement (session=\"d60d9c3112a6fb4815b0eac6f408b555\", element=\"e7957c82-6bc3-4872-ab66-b948557a82e0\")>,\n",
       " <selenium.webdriver.remote.webelement.WebElement (session=\"d60d9c3112a6fb4815b0eac6f408b555\", element=\"d6c53257-b2c1-4863-b169-b5dd4fbe3242\")>,\n",
       " <selenium.webdriver.remote.webelement.WebElement (session=\"d60d9c3112a6fb4815b0eac6f408b555\", element=\"e334c3e6-e360-4c57-b9c5-6655e7e970c6\")>,\n",
       " <selenium.webdriver.remote.webelement.WebElement (session=\"d60d9c3112a6fb4815b0eac6f408b555\", element=\"04c40f2b-9af7-4bd7-88a9-39aee73cc644\")>,\n",
       " <selenium.webdriver.remote.webelement.WebElement (session=\"d60d9c3112a6fb4815b0eac6f408b555\", element=\"b6b7ac72-cbae-4ec3-9a1e-f321d0974312\")>,\n",
       " <selenium.webdriver.remote.webelement.WebElement (session=\"d60d9c3112a6fb4815b0eac6f408b555\", element=\"d92ac755-f940-44f3-8c84-32fe55e6f414\")>,\n",
       " <selenium.webdriver.remote.webelement.WebElement (session=\"d60d9c3112a6fb4815b0eac6f408b555\", element=\"e144b4c3-d352-40ef-b540-970438a2fd40\")>,\n",
       " <selenium.webdriver.remote.webelement.WebElement (session=\"d60d9c3112a6fb4815b0eac6f408b555\", element=\"937f4ad6-8b8a-4bbd-909f-9b4314cc547b\")>,\n",
       " <selenium.webdriver.remote.webelement.WebElement (session=\"d60d9c3112a6fb4815b0eac6f408b555\", element=\"4857a9be-577a-4e68-aa81-7c0cb7854723\")>,\n",
       " <selenium.webdriver.remote.webelement.WebElement (session=\"d60d9c3112a6fb4815b0eac6f408b555\", element=\"e83246bf-9db6-4fdf-ad9d-f2d2de1ac584\")>,\n",
       " <selenium.webdriver.remote.webelement.WebElement (session=\"d60d9c3112a6fb4815b0eac6f408b555\", element=\"1d59c1fd-ab97-4659-93ae-495811ff1c09\")>,\n",
       " <selenium.webdriver.remote.webelement.WebElement (session=\"d60d9c3112a6fb4815b0eac6f408b555\", element=\"af208d9c-7aa1-4385-8325-833ce01496ee\")>,\n",
       " <selenium.webdriver.remote.webelement.WebElement (session=\"d60d9c3112a6fb4815b0eac6f408b555\", element=\"f0eae347-49d9-4c53-a3de-1d3676f4c902\")>,\n",
       " <selenium.webdriver.remote.webelement.WebElement (session=\"d60d9c3112a6fb4815b0eac6f408b555\", element=\"983076e7-9722-49e6-9d2a-9e1a933bfddd\")>,\n",
       " <selenium.webdriver.remote.webelement.WebElement (session=\"d60d9c3112a6fb4815b0eac6f408b555\", element=\"161a002a-a740-4734-b1db-5358950698e6\")>,\n",
       " <selenium.webdriver.remote.webelement.WebElement (session=\"d60d9c3112a6fb4815b0eac6f408b555\", element=\"ad5eae41-97f1-47bb-9487-da2301837301\")>,\n",
       " <selenium.webdriver.remote.webelement.WebElement (session=\"d60d9c3112a6fb4815b0eac6f408b555\", element=\"be602a31-f364-447a-b833-1ef10b408058\")>,\n",
       " <selenium.webdriver.remote.webelement.WebElement (session=\"d60d9c3112a6fb4815b0eac6f408b555\", element=\"3f52e3b5-9034-4c48-a8e7-ed4b4d91c38a\")>,\n",
       " <selenium.webdriver.remote.webelement.WebElement (session=\"d60d9c3112a6fb4815b0eac6f408b555\", element=\"561009c7-e6c0-427a-8c54-fe4b9a5b2df9\")>,\n",
       " <selenium.webdriver.remote.webelement.WebElement (session=\"d60d9c3112a6fb4815b0eac6f408b555\", element=\"b9d7ddeb-70ca-4a57-bd78-b54244f4e2c1\")>,\n",
       " <selenium.webdriver.remote.webelement.WebElement (session=\"d60d9c3112a6fb4815b0eac6f408b555\", element=\"cbb704cd-6958-4961-ba2b-30ef222479ff\")>,\n",
       " <selenium.webdriver.remote.webelement.WebElement (session=\"d60d9c3112a6fb4815b0eac6f408b555\", element=\"893ef452-e593-4de0-bd9c-0cfb09864090\")>,\n",
       " <selenium.webdriver.remote.webelement.WebElement (session=\"d60d9c3112a6fb4815b0eac6f408b555\", element=\"7bcf87dc-326b-4f4d-9ace-3001b29595e0\")>,\n",
       " <selenium.webdriver.remote.webelement.WebElement (session=\"d60d9c3112a6fb4815b0eac6f408b555\", element=\"a14c848b-0f33-4a61-8ef5-6c79b52d6a4c\")>,\n",
       " <selenium.webdriver.remote.webelement.WebElement (session=\"d60d9c3112a6fb4815b0eac6f408b555\", element=\"601bcc6f-f668-4ec7-a217-470c03496944\")>,\n",
       " <selenium.webdriver.remote.webelement.WebElement (session=\"d60d9c3112a6fb4815b0eac6f408b555\", element=\"935cfa56-64f7-448a-b263-b323cc4f4c0f\")>,\n",
       " <selenium.webdriver.remote.webelement.WebElement (session=\"d60d9c3112a6fb4815b0eac6f408b555\", element=\"97ffdf38-8203-4b03-a514-b5f6d9850519\")>,\n",
       " <selenium.webdriver.remote.webelement.WebElement (session=\"d60d9c3112a6fb4815b0eac6f408b555\", element=\"382da8a9-3c9a-474a-9e34-1883fde7742a\")>,\n",
       " <selenium.webdriver.remote.webelement.WebElement (session=\"d60d9c3112a6fb4815b0eac6f408b555\", element=\"f2226a2b-5d2e-47cc-84ff-85ac68b8e4a9\")>,\n",
       " <selenium.webdriver.remote.webelement.WebElement (session=\"d60d9c3112a6fb4815b0eac6f408b555\", element=\"dbcfda61-1075-42f5-8b43-4ebf80dd049d\")>,\n",
       " <selenium.webdriver.remote.webelement.WebElement (session=\"d60d9c3112a6fb4815b0eac6f408b555\", element=\"459a87e3-0c68-42a2-9540-adc1a0de5613\")>,\n",
       " <selenium.webdriver.remote.webelement.WebElement (session=\"d60d9c3112a6fb4815b0eac6f408b555\", element=\"f4a78a64-ae0c-4bc3-a2f2-fc1e98e4e695\")>,\n",
       " <selenium.webdriver.remote.webelement.WebElement (session=\"d60d9c3112a6fb4815b0eac6f408b555\", element=\"c2a48fa3-58e0-42b2-af5d-8e472bbadcf5\")>,\n",
       " <selenium.webdriver.remote.webelement.WebElement (session=\"d60d9c3112a6fb4815b0eac6f408b555\", element=\"df03a54c-92e4-4711-8406-3f81a6e00a06\")>,\n",
       " <selenium.webdriver.remote.webelement.WebElement (session=\"d60d9c3112a6fb4815b0eac6f408b555\", element=\"0ec91dee-9fc4-47f6-a198-12fcc27a206e\")>,\n",
       " <selenium.webdriver.remote.webelement.WebElement (session=\"d60d9c3112a6fb4815b0eac6f408b555\", element=\"2e313a70-fa55-4a50-ae04-e5b331fbc895\")>,\n",
       " <selenium.webdriver.remote.webelement.WebElement (session=\"d60d9c3112a6fb4815b0eac6f408b555\", element=\"2c638af2-21f1-4459-9bc2-095a33540342\")>,\n",
       " <selenium.webdriver.remote.webelement.WebElement (session=\"d60d9c3112a6fb4815b0eac6f408b555\", element=\"0a3a6da4-9385-428d-9087-25f26c13ddc0\")>,\n",
       " <selenium.webdriver.remote.webelement.WebElement (session=\"d60d9c3112a6fb4815b0eac6f408b555\", element=\"cecee7be-f2a8-48e4-954d-ba38136893b5\")>,\n",
       " <selenium.webdriver.remote.webelement.WebElement (session=\"d60d9c3112a6fb4815b0eac6f408b555\", element=\"4b7520b6-1737-4308-a0c7-028850ad72d1\")>,\n",
       " <selenium.webdriver.remote.webelement.WebElement (session=\"d60d9c3112a6fb4815b0eac6f408b555\", element=\"016a1b41-c332-418e-9381-87da574c1d93\")>,\n",
       " <selenium.webdriver.remote.webelement.WebElement (session=\"d60d9c3112a6fb4815b0eac6f408b555\", element=\"b7e9d57f-c3f8-4607-bdcc-1b0f71582a43\")>,\n",
       " <selenium.webdriver.remote.webelement.WebElement (session=\"d60d9c3112a6fb4815b0eac6f408b555\", element=\"c95db555-ef54-4500-9c39-5a7bafd4f2d5\")>,\n",
       " <selenium.webdriver.remote.webelement.WebElement (session=\"d60d9c3112a6fb4815b0eac6f408b555\", element=\"54f0b815-1d26-4bba-8068-1b35038ae536\")>,\n",
       " <selenium.webdriver.remote.webelement.WebElement (session=\"d60d9c3112a6fb4815b0eac6f408b555\", element=\"06910155-90d2-43aa-964c-000b645b7f56\")>,\n",
       " <selenium.webdriver.remote.webelement.WebElement (session=\"d60d9c3112a6fb4815b0eac6f408b555\", element=\"8219768e-ad5c-4695-b660-b7330ddf5ae0\")>,\n",
       " <selenium.webdriver.remote.webelement.WebElement (session=\"d60d9c3112a6fb4815b0eac6f408b555\", element=\"fca1eaa3-4dd6-401e-a80c-05f68794b6e8\")>,\n",
       " <selenium.webdriver.remote.webelement.WebElement (session=\"d60d9c3112a6fb4815b0eac6f408b555\", element=\"9fc88b49-93a7-4a69-9cf7-849031f7bfe7\")>,\n",
       " <selenium.webdriver.remote.webelement.WebElement (session=\"d60d9c3112a6fb4815b0eac6f408b555\", element=\"afc41307-c4ac-4523-807e-c4afa8b225f4\")>,\n",
       " <selenium.webdriver.remote.webelement.WebElement (session=\"d60d9c3112a6fb4815b0eac6f408b555\", element=\"686a47ab-7323-4f99-ab75-736bf2ac25b0\")>,\n",
       " <selenium.webdriver.remote.webelement.WebElement (session=\"d60d9c3112a6fb4815b0eac6f408b555\", element=\"163df4ad-8ace-43a6-97b0-aa5128a7dfe6\")>,\n",
       " <selenium.webdriver.remote.webelement.WebElement (session=\"d60d9c3112a6fb4815b0eac6f408b555\", element=\"e32ec1fb-b768-49ee-af3d-439cbba54d16\")>,\n",
       " <selenium.webdriver.remote.webelement.WebElement (session=\"d60d9c3112a6fb4815b0eac6f408b555\", element=\"10e12397-8929-4dd9-93dc-8c0628ff3a80\")>,\n",
       " <selenium.webdriver.remote.webelement.WebElement (session=\"d60d9c3112a6fb4815b0eac6f408b555\", element=\"5f12dd58-9239-4b82-8308-de82d8df965d\")>,\n",
       " <selenium.webdriver.remote.webelement.WebElement (session=\"d60d9c3112a6fb4815b0eac6f408b555\", element=\"eb3d149c-eb0a-4d3d-97d9-07f8c65feed5\")>,\n",
       " <selenium.webdriver.remote.webelement.WebElement (session=\"d60d9c3112a6fb4815b0eac6f408b555\", element=\"791dcf8d-bc21-4a69-b56f-359698f015ad\")>,\n",
       " <selenium.webdriver.remote.webelement.WebElement (session=\"d60d9c3112a6fb4815b0eac6f408b555\", element=\"76321527-9e0b-45ac-a65a-5cacc013ae17\")>,\n",
       " <selenium.webdriver.remote.webelement.WebElement (session=\"d60d9c3112a6fb4815b0eac6f408b555\", element=\"f5578dcb-6bb5-4584-b3f4-5473a664f0a2\")>,\n",
       " <selenium.webdriver.remote.webelement.WebElement (session=\"d60d9c3112a6fb4815b0eac6f408b555\", element=\"769acdb1-596c-42a1-b2c8-64a42550e45f\")>,\n",
       " <selenium.webdriver.remote.webelement.WebElement (session=\"d60d9c3112a6fb4815b0eac6f408b555\", element=\"68ca2114-42f3-4186-aaf9-de89f4c68b01\")>,\n",
       " <selenium.webdriver.remote.webelement.WebElement (session=\"d60d9c3112a6fb4815b0eac6f408b555\", element=\"6f588079-3f2d-4774-bb6e-76eaa653fe0f\")>]"
      ]
     },
     "execution_count": 37,
     "metadata": {},
     "output_type": "execute_result"
    }
   ],
   "source": [
    "images1"
   ]
  },
  {
   "cell_type": "code",
   "execution_count": 38,
   "id": "3bf9c9ff",
   "metadata": {},
   "outputs": [],
   "source": [
    "img1_urls = []\n",
    "\n",
    "for image in images1:\n",
    "    source= image.get_attribute('src')\n",
    "    if source is not None:\n",
    "        if(source[0:4] == 'http'):\n",
    "            img1_urls.append(source)"
   ]
  },
  {
   "cell_type": "code",
   "execution_count": 40,
   "id": "702bbe5b",
   "metadata": {},
   "outputs": [
    {
     "name": "stdout",
     "output_type": "stream",
     "text": [
      "Downloading 0 of 10 images\n",
      "Downloading 1 of 10 images\n",
      "Downloading 2 of 10 images\n",
      "Downloading 3 of 10 images\n",
      "Downloading 4 of 10 images\n",
      "Downloading 5 of 10 images\n",
      "Downloading 6 of 10 images\n",
      "Downloading 7 of 10 images\n",
      "Downloading 8 of 10 images\n",
      "Downloading 9 of 10 images\n",
      "Downloading 10 of 10 images\n"
     ]
    }
   ],
   "source": [
    "import requests\n",
    "\n",
    "for i in range(len(img1_urls)):\n",
    "    if i > 10:\n",
    "        break\n",
    "    print(\"Downloading {0} of {1} images\" .format(i, 10))\n",
    "    response= requests.get(img1_urls[i])\n",
    "    file = open(r\"E:\\AssignmentImage\"+str(i)+\".jpg\", \"wb\")\n",
    "    file.write(response.content)"
   ]
  },
  {
   "cell_type": "markdown",
   "id": "4a729fcc",
   "metadata": {},
   "source": [
    "Machine Learning"
   ]
  },
  {
   "cell_type": "code",
   "execution_count": null,
   "id": "dd55bd06",
   "metadata": {},
   "outputs": [],
   "source": [
    "# Lets first connect to the webdriver\n",
    "\n",
    "driver=webdriver.Chrome(r\"C:\\Users\\Hello world\\Downloads\\chromedriver_win32\\chromedriver.exe\")"
   ]
  },
  {
   "cell_type": "code",
   "execution_count": null,
   "id": "55a1b247",
   "metadata": {},
   "outputs": [],
   "source": [
    "driver.get(\"https://images.google.com\")"
   ]
  },
  {
   "cell_type": "code",
   "execution_count": 43,
   "id": "474a7dc2",
   "metadata": {},
   "outputs": [],
   "source": [
    "designation=driver.find_element(By.XPATH, \"/html/body/div[1]/div[3]/form/div[1]/div[1]/div[1]/div/div[2]/input\")\n",
    "designation.send_keys('Machine Learning')"
   ]
  },
  {
   "cell_type": "code",
   "execution_count": 44,
   "id": "25f0a5f6",
   "metadata": {},
   "outputs": [],
   "source": [
    "search=driver.find_element(By.XPATH, '/html/body/div[1]/div[3]/form/div[1]/div[1]/div[1]/button/div/span')\n",
    "search.click()"
   ]
  },
  {
   "cell_type": "code",
   "execution_count": 45,
   "id": "6ffbb985",
   "metadata": {},
   "outputs": [],
   "source": [
    "for _ in range(20):\n",
    "    driver.execute_script(\"window.scrollBy(0,1000)\")\n",
    "    images2 = driver.find_elements(By.XPATH,'//img[@class=\"rg_i Q4LuWd\"]')"
   ]
  },
  {
   "cell_type": "code",
   "execution_count": 46,
   "id": "5de3074e",
   "metadata": {},
   "outputs": [
    {
     "data": {
      "text/plain": [
       "[<selenium.webdriver.remote.webelement.WebElement (session=\"31f8060479cc23a2f8c13d7fe998c3f8\", element=\"44d1f9fb-ca4f-49c2-bf56-d22a1bdd67ed\")>,\n",
       " <selenium.webdriver.remote.webelement.WebElement (session=\"31f8060479cc23a2f8c13d7fe998c3f8\", element=\"5ba555ac-d559-4247-a24a-b6b87895a9bb\")>,\n",
       " <selenium.webdriver.remote.webelement.WebElement (session=\"31f8060479cc23a2f8c13d7fe998c3f8\", element=\"95f2270c-6ba5-43ef-b31e-18a7cc8260a2\")>,\n",
       " <selenium.webdriver.remote.webelement.WebElement (session=\"31f8060479cc23a2f8c13d7fe998c3f8\", element=\"480a4964-2711-4cab-8e16-8ae9b566e0a9\")>,\n",
       " <selenium.webdriver.remote.webelement.WebElement (session=\"31f8060479cc23a2f8c13d7fe998c3f8\", element=\"1be521d2-3cfb-4e1e-b13b-6508aa69d622\")>,\n",
       " <selenium.webdriver.remote.webelement.WebElement (session=\"31f8060479cc23a2f8c13d7fe998c3f8\", element=\"54641052-75ab-426a-8089-324d980931cf\")>,\n",
       " <selenium.webdriver.remote.webelement.WebElement (session=\"31f8060479cc23a2f8c13d7fe998c3f8\", element=\"4c8b73ab-30fc-42c6-86c7-dbc3afdbec65\")>,\n",
       " <selenium.webdriver.remote.webelement.WebElement (session=\"31f8060479cc23a2f8c13d7fe998c3f8\", element=\"addc8b6d-30ee-4269-a9ab-cdad68f2986f\")>,\n",
       " <selenium.webdriver.remote.webelement.WebElement (session=\"31f8060479cc23a2f8c13d7fe998c3f8\", element=\"8d6a355d-070d-454a-a89c-c4bdbcc1efa1\")>,\n",
       " <selenium.webdriver.remote.webelement.WebElement (session=\"31f8060479cc23a2f8c13d7fe998c3f8\", element=\"23c9385e-e444-4e02-bd45-b0e884df4a16\")>,\n",
       " <selenium.webdriver.remote.webelement.WebElement (session=\"31f8060479cc23a2f8c13d7fe998c3f8\", element=\"17a88bab-1a8a-4a0d-af7f-d4fc00a16c28\")>,\n",
       " <selenium.webdriver.remote.webelement.WebElement (session=\"31f8060479cc23a2f8c13d7fe998c3f8\", element=\"5deaa561-3dc9-45ae-b094-dcaa53f14c8a\")>,\n",
       " <selenium.webdriver.remote.webelement.WebElement (session=\"31f8060479cc23a2f8c13d7fe998c3f8\", element=\"a419f7c4-6c7e-477b-ac53-e22d8129999a\")>,\n",
       " <selenium.webdriver.remote.webelement.WebElement (session=\"31f8060479cc23a2f8c13d7fe998c3f8\", element=\"bd609cbe-25df-4642-9a69-b8b30114bfc9\")>,\n",
       " <selenium.webdriver.remote.webelement.WebElement (session=\"31f8060479cc23a2f8c13d7fe998c3f8\", element=\"b7b99896-de6f-4876-bd73-f088194e5c0e\")>,\n",
       " <selenium.webdriver.remote.webelement.WebElement (session=\"31f8060479cc23a2f8c13d7fe998c3f8\", element=\"48761193-4784-4638-b1d7-424d0025eb94\")>,\n",
       " <selenium.webdriver.remote.webelement.WebElement (session=\"31f8060479cc23a2f8c13d7fe998c3f8\", element=\"ca32746d-f1c2-4b74-88a0-97b73ea9051f\")>,\n",
       " <selenium.webdriver.remote.webelement.WebElement (session=\"31f8060479cc23a2f8c13d7fe998c3f8\", element=\"af445c61-5008-48fe-ba26-10abb7f9d67e\")>,\n",
       " <selenium.webdriver.remote.webelement.WebElement (session=\"31f8060479cc23a2f8c13d7fe998c3f8\", element=\"5fcf929f-d2e3-48b2-aabc-caa2804f2246\")>,\n",
       " <selenium.webdriver.remote.webelement.WebElement (session=\"31f8060479cc23a2f8c13d7fe998c3f8\", element=\"205ecabf-45c7-4a61-a0d8-42203aa6e13f\")>,\n",
       " <selenium.webdriver.remote.webelement.WebElement (session=\"31f8060479cc23a2f8c13d7fe998c3f8\", element=\"b1a2df68-2d8e-448a-82ae-ccd6bceef68a\")>,\n",
       " <selenium.webdriver.remote.webelement.WebElement (session=\"31f8060479cc23a2f8c13d7fe998c3f8\", element=\"e3904ad6-dc3d-4921-9c89-434f7bee2861\")>,\n",
       " <selenium.webdriver.remote.webelement.WebElement (session=\"31f8060479cc23a2f8c13d7fe998c3f8\", element=\"43a6057c-80e4-4dd1-b3ac-67ec977df66f\")>,\n",
       " <selenium.webdriver.remote.webelement.WebElement (session=\"31f8060479cc23a2f8c13d7fe998c3f8\", element=\"79ced111-f6d4-4508-90f7-470861b8c942\")>,\n",
       " <selenium.webdriver.remote.webelement.WebElement (session=\"31f8060479cc23a2f8c13d7fe998c3f8\", element=\"be308141-510d-4674-9deb-754dec0a3d6c\")>,\n",
       " <selenium.webdriver.remote.webelement.WebElement (session=\"31f8060479cc23a2f8c13d7fe998c3f8\", element=\"bbf5bd77-a2c8-485f-bb5c-1b3ea1aad2bf\")>,\n",
       " <selenium.webdriver.remote.webelement.WebElement (session=\"31f8060479cc23a2f8c13d7fe998c3f8\", element=\"fec7249d-27dd-4b22-a21c-e581b43da8f9\")>,\n",
       " <selenium.webdriver.remote.webelement.WebElement (session=\"31f8060479cc23a2f8c13d7fe998c3f8\", element=\"2d76b062-6425-439a-970b-119dcfaa29b3\")>,\n",
       " <selenium.webdriver.remote.webelement.WebElement (session=\"31f8060479cc23a2f8c13d7fe998c3f8\", element=\"e178b114-bf39-4a7f-84d3-cb581d97ac2a\")>,\n",
       " <selenium.webdriver.remote.webelement.WebElement (session=\"31f8060479cc23a2f8c13d7fe998c3f8\", element=\"dc531985-1ee4-4e07-bfa3-fd999e8e3aa3\")>,\n",
       " <selenium.webdriver.remote.webelement.WebElement (session=\"31f8060479cc23a2f8c13d7fe998c3f8\", element=\"11dfd6fb-0b4c-455b-9395-ff5379137460\")>,\n",
       " <selenium.webdriver.remote.webelement.WebElement (session=\"31f8060479cc23a2f8c13d7fe998c3f8\", element=\"6af28fb9-dd33-4d4f-91ea-03471b506e1f\")>,\n",
       " <selenium.webdriver.remote.webelement.WebElement (session=\"31f8060479cc23a2f8c13d7fe998c3f8\", element=\"d2d617a4-8494-4909-9d09-5007909e17eb\")>,\n",
       " <selenium.webdriver.remote.webelement.WebElement (session=\"31f8060479cc23a2f8c13d7fe998c3f8\", element=\"053f78b6-af1b-432e-9189-d14a08f28294\")>,\n",
       " <selenium.webdriver.remote.webelement.WebElement (session=\"31f8060479cc23a2f8c13d7fe998c3f8\", element=\"e0d5b832-7e98-45e2-b58c-e53a5ecd8c7b\")>,\n",
       " <selenium.webdriver.remote.webelement.WebElement (session=\"31f8060479cc23a2f8c13d7fe998c3f8\", element=\"5fc56a0d-b1a6-441b-aa30-e3629d48a375\")>,\n",
       " <selenium.webdriver.remote.webelement.WebElement (session=\"31f8060479cc23a2f8c13d7fe998c3f8\", element=\"fcb4f4a8-1432-4733-a96b-db58d9681936\")>,\n",
       " <selenium.webdriver.remote.webelement.WebElement (session=\"31f8060479cc23a2f8c13d7fe998c3f8\", element=\"6a52feec-8765-4e04-a9af-7291c656d9b3\")>,\n",
       " <selenium.webdriver.remote.webelement.WebElement (session=\"31f8060479cc23a2f8c13d7fe998c3f8\", element=\"695341bc-9078-4a02-ad95-9a2928d1b141\")>,\n",
       " <selenium.webdriver.remote.webelement.WebElement (session=\"31f8060479cc23a2f8c13d7fe998c3f8\", element=\"83d9c375-3367-4824-9c6a-f0757f8eb429\")>,\n",
       " <selenium.webdriver.remote.webelement.WebElement (session=\"31f8060479cc23a2f8c13d7fe998c3f8\", element=\"dad86fe1-abcb-48a3-a0ff-76e4e6ec563a\")>,\n",
       " <selenium.webdriver.remote.webelement.WebElement (session=\"31f8060479cc23a2f8c13d7fe998c3f8\", element=\"9582e42c-6c53-413c-982e-4975bbd9c78a\")>,\n",
       " <selenium.webdriver.remote.webelement.WebElement (session=\"31f8060479cc23a2f8c13d7fe998c3f8\", element=\"fa5ca5e2-c277-4b58-adee-bfff59036ee7\")>,\n",
       " <selenium.webdriver.remote.webelement.WebElement (session=\"31f8060479cc23a2f8c13d7fe998c3f8\", element=\"9331c4a3-1bc3-4f8c-bf86-c69987a732cc\")>,\n",
       " <selenium.webdriver.remote.webelement.WebElement (session=\"31f8060479cc23a2f8c13d7fe998c3f8\", element=\"2dd2ddde-3f48-46d3-8357-8a280785b808\")>,\n",
       " <selenium.webdriver.remote.webelement.WebElement (session=\"31f8060479cc23a2f8c13d7fe998c3f8\", element=\"eea05fee-6067-43e2-9475-8ce4dc4d40eb\")>,\n",
       " <selenium.webdriver.remote.webelement.WebElement (session=\"31f8060479cc23a2f8c13d7fe998c3f8\", element=\"de526df1-984f-4a44-a0fc-410189d1351a\")>,\n",
       " <selenium.webdriver.remote.webelement.WebElement (session=\"31f8060479cc23a2f8c13d7fe998c3f8\", element=\"80e6142e-d507-4136-b92c-8d849247234d\")>,\n",
       " <selenium.webdriver.remote.webelement.WebElement (session=\"31f8060479cc23a2f8c13d7fe998c3f8\", element=\"4b6cd3f4-3421-478c-acfd-026b532e2998\")>,\n",
       " <selenium.webdriver.remote.webelement.WebElement (session=\"31f8060479cc23a2f8c13d7fe998c3f8\", element=\"44945816-06d7-4d05-b750-4c38eae77b7e\")>,\n",
       " <selenium.webdriver.remote.webelement.WebElement (session=\"31f8060479cc23a2f8c13d7fe998c3f8\", element=\"4f412406-8f23-4911-bc81-0befc3d70e56\")>,\n",
       " <selenium.webdriver.remote.webelement.WebElement (session=\"31f8060479cc23a2f8c13d7fe998c3f8\", element=\"5d3bc53b-8f56-4be4-99e2-89a098ec4acc\")>,\n",
       " <selenium.webdriver.remote.webelement.WebElement (session=\"31f8060479cc23a2f8c13d7fe998c3f8\", element=\"cf8e9f4d-b585-4163-971d-e47ea3d34b88\")>,\n",
       " <selenium.webdriver.remote.webelement.WebElement (session=\"31f8060479cc23a2f8c13d7fe998c3f8\", element=\"dfd38463-0d06-4c3f-b13b-421f9192a7c7\")>,\n",
       " <selenium.webdriver.remote.webelement.WebElement (session=\"31f8060479cc23a2f8c13d7fe998c3f8\", element=\"e6ad890c-5fe9-40d5-9920-fbec0da0038a\")>,\n",
       " <selenium.webdriver.remote.webelement.WebElement (session=\"31f8060479cc23a2f8c13d7fe998c3f8\", element=\"5dab038d-cb98-4d3b-8c72-dd6530f1807a\")>,\n",
       " <selenium.webdriver.remote.webelement.WebElement (session=\"31f8060479cc23a2f8c13d7fe998c3f8\", element=\"25ab9b74-8e5b-47e6-9d46-368cb937301f\")>,\n",
       " <selenium.webdriver.remote.webelement.WebElement (session=\"31f8060479cc23a2f8c13d7fe998c3f8\", element=\"da5f3eec-7890-4325-9842-43bdb34a80fa\")>,\n",
       " <selenium.webdriver.remote.webelement.WebElement (session=\"31f8060479cc23a2f8c13d7fe998c3f8\", element=\"285d07ac-f1da-4f18-9d07-04fa39c9388e\")>,\n",
       " <selenium.webdriver.remote.webelement.WebElement (session=\"31f8060479cc23a2f8c13d7fe998c3f8\", element=\"e81bbcb4-9c3b-4fd4-aae9-4494d2413fc8\")>,\n",
       " <selenium.webdriver.remote.webelement.WebElement (session=\"31f8060479cc23a2f8c13d7fe998c3f8\", element=\"d78b56b0-d0e9-4221-ba41-5db85c5e72df\")>,\n",
       " <selenium.webdriver.remote.webelement.WebElement (session=\"31f8060479cc23a2f8c13d7fe998c3f8\", element=\"3e295b95-6fd9-4a1a-a860-7200c645edc8\")>,\n",
       " <selenium.webdriver.remote.webelement.WebElement (session=\"31f8060479cc23a2f8c13d7fe998c3f8\", element=\"9ae51f2b-1664-4c6e-888b-2087abb96a46\")>,\n",
       " <selenium.webdriver.remote.webelement.WebElement (session=\"31f8060479cc23a2f8c13d7fe998c3f8\", element=\"1156ec8f-cfdf-4e2d-9c88-77facce624cb\")>,\n",
       " <selenium.webdriver.remote.webelement.WebElement (session=\"31f8060479cc23a2f8c13d7fe998c3f8\", element=\"b9fa945a-3288-456a-a6e5-4beadafe2a5d\")>,\n",
       " <selenium.webdriver.remote.webelement.WebElement (session=\"31f8060479cc23a2f8c13d7fe998c3f8\", element=\"d8e54633-a2c0-487f-b0f6-718811070766\")>,\n",
       " <selenium.webdriver.remote.webelement.WebElement (session=\"31f8060479cc23a2f8c13d7fe998c3f8\", element=\"862281f5-b5ab-434b-845f-4413c24f1579\")>,\n",
       " <selenium.webdriver.remote.webelement.WebElement (session=\"31f8060479cc23a2f8c13d7fe998c3f8\", element=\"b5cbfa72-9139-48a6-918b-cc3b2dacf862\")>,\n",
       " <selenium.webdriver.remote.webelement.WebElement (session=\"31f8060479cc23a2f8c13d7fe998c3f8\", element=\"fb6cdaa9-9452-4efd-bad3-b76c38a066dc\")>,\n",
       " <selenium.webdriver.remote.webelement.WebElement (session=\"31f8060479cc23a2f8c13d7fe998c3f8\", element=\"9567910e-f00b-452d-b7f0-719e7b708cad\")>,\n",
       " <selenium.webdriver.remote.webelement.WebElement (session=\"31f8060479cc23a2f8c13d7fe998c3f8\", element=\"234f885a-a843-40a4-bf42-9f30f0b8cfd2\")>,\n",
       " <selenium.webdriver.remote.webelement.WebElement (session=\"31f8060479cc23a2f8c13d7fe998c3f8\", element=\"1dfc6cf7-6978-4bb2-a9c5-095e92b489aa\")>,\n",
       " <selenium.webdriver.remote.webelement.WebElement (session=\"31f8060479cc23a2f8c13d7fe998c3f8\", element=\"66fc19e1-cc99-440b-8ea0-6eb489bad6d1\")>,\n",
       " <selenium.webdriver.remote.webelement.WebElement (session=\"31f8060479cc23a2f8c13d7fe998c3f8\", element=\"d2552152-3d05-4422-822c-66040fbf9d20\")>,\n",
       " <selenium.webdriver.remote.webelement.WebElement (session=\"31f8060479cc23a2f8c13d7fe998c3f8\", element=\"a8212c5a-444a-4e6c-87d9-25145b795cde\")>,\n",
       " <selenium.webdriver.remote.webelement.WebElement (session=\"31f8060479cc23a2f8c13d7fe998c3f8\", element=\"bd2dd033-885b-4600-ad74-df7a366ab17c\")>,\n",
       " <selenium.webdriver.remote.webelement.WebElement (session=\"31f8060479cc23a2f8c13d7fe998c3f8\", element=\"e0b6e0be-bb0c-4d97-8435-b9f4ac032df2\")>,\n",
       " <selenium.webdriver.remote.webelement.WebElement (session=\"31f8060479cc23a2f8c13d7fe998c3f8\", element=\"01a05f5c-df05-4f67-8748-e912e14287e0\")>,\n",
       " <selenium.webdriver.remote.webelement.WebElement (session=\"31f8060479cc23a2f8c13d7fe998c3f8\", element=\"ca0488ae-f606-44f4-b3c0-07b9ab2e5bcf\")>,\n",
       " <selenium.webdriver.remote.webelement.WebElement (session=\"31f8060479cc23a2f8c13d7fe998c3f8\", element=\"109e94a0-a0dd-4ff9-957e-4f9a2d9d36eb\")>,\n",
       " <selenium.webdriver.remote.webelement.WebElement (session=\"31f8060479cc23a2f8c13d7fe998c3f8\", element=\"13b4c93b-3628-4d32-bdc5-4d6cf3ed65da\")>,\n",
       " <selenium.webdriver.remote.webelement.WebElement (session=\"31f8060479cc23a2f8c13d7fe998c3f8\", element=\"368be9aa-97db-429d-9df4-c093042db168\")>,\n",
       " <selenium.webdriver.remote.webelement.WebElement (session=\"31f8060479cc23a2f8c13d7fe998c3f8\", element=\"4567aaa5-1157-4a65-aab7-4936a8a3ffbf\")>,\n",
       " <selenium.webdriver.remote.webelement.WebElement (session=\"31f8060479cc23a2f8c13d7fe998c3f8\", element=\"2ed60478-8c0c-49a1-8bbe-14b9866841df\")>,\n",
       " <selenium.webdriver.remote.webelement.WebElement (session=\"31f8060479cc23a2f8c13d7fe998c3f8\", element=\"8d472980-e073-4d87-8f1c-a2a695bd6115\")>,\n",
       " <selenium.webdriver.remote.webelement.WebElement (session=\"31f8060479cc23a2f8c13d7fe998c3f8\", element=\"9474341d-314f-4339-83b6-f9c7514b520a\")>,\n",
       " <selenium.webdriver.remote.webelement.WebElement (session=\"31f8060479cc23a2f8c13d7fe998c3f8\", element=\"a55d105b-03cc-426d-a7a8-36ad3c8c9385\")>,\n",
       " <selenium.webdriver.remote.webelement.WebElement (session=\"31f8060479cc23a2f8c13d7fe998c3f8\", element=\"1e22699d-50ba-41f0-926d-ad3dee524e4e\")>,\n",
       " <selenium.webdriver.remote.webelement.WebElement (session=\"31f8060479cc23a2f8c13d7fe998c3f8\", element=\"d948d6b1-f4a6-4137-94fc-f83f37e2838c\")>,\n",
       " <selenium.webdriver.remote.webelement.WebElement (session=\"31f8060479cc23a2f8c13d7fe998c3f8\", element=\"2a28be3f-9f03-4749-8f1f-08e8a76b07aa\")>,\n",
       " <selenium.webdriver.remote.webelement.WebElement (session=\"31f8060479cc23a2f8c13d7fe998c3f8\", element=\"30d58fde-72e6-41ae-8c79-473f176641a8\")>,\n",
       " <selenium.webdriver.remote.webelement.WebElement (session=\"31f8060479cc23a2f8c13d7fe998c3f8\", element=\"3c1abca8-a76f-4bc3-85ed-4e364c7ae9d4\")>,\n",
       " <selenium.webdriver.remote.webelement.WebElement (session=\"31f8060479cc23a2f8c13d7fe998c3f8\", element=\"1a02850c-3e39-4e5c-b9c6-b624539a0416\")>,\n",
       " <selenium.webdriver.remote.webelement.WebElement (session=\"31f8060479cc23a2f8c13d7fe998c3f8\", element=\"ee13c054-17e4-49bc-aeff-506f18d1020f\")>,\n",
       " <selenium.webdriver.remote.webelement.WebElement (session=\"31f8060479cc23a2f8c13d7fe998c3f8\", element=\"4359c52a-4b10-4ab7-a778-fc90a0d7aaae\")>,\n",
       " <selenium.webdriver.remote.webelement.WebElement (session=\"31f8060479cc23a2f8c13d7fe998c3f8\", element=\"ae9e4ae3-36f4-4bfa-831f-43c1982adfc5\")>,\n",
       " <selenium.webdriver.remote.webelement.WebElement (session=\"31f8060479cc23a2f8c13d7fe998c3f8\", element=\"d65b86c2-452b-4979-bd25-943f55506a30\")>,\n",
       " <selenium.webdriver.remote.webelement.WebElement (session=\"31f8060479cc23a2f8c13d7fe998c3f8\", element=\"67db353a-ea1d-4d22-8255-1bed4f1973e4\")>,\n",
       " <selenium.webdriver.remote.webelement.WebElement (session=\"31f8060479cc23a2f8c13d7fe998c3f8\", element=\"9ec825c4-1755-4e81-b9df-fe428d16562f\")>,\n",
       " <selenium.webdriver.remote.webelement.WebElement (session=\"31f8060479cc23a2f8c13d7fe998c3f8\", element=\"a917dddd-84ee-41a3-9107-fc3348228f78\")>,\n",
       " <selenium.webdriver.remote.webelement.WebElement (session=\"31f8060479cc23a2f8c13d7fe998c3f8\", element=\"5ecb48e2-80ac-4058-b015-ddea6d750417\")>,\n",
       " <selenium.webdriver.remote.webelement.WebElement (session=\"31f8060479cc23a2f8c13d7fe998c3f8\", element=\"cc3ecb75-ff44-4636-82f6-ef940ac3b100\")>,\n",
       " <selenium.webdriver.remote.webelement.WebElement (session=\"31f8060479cc23a2f8c13d7fe998c3f8\", element=\"3f5ccdb9-789a-415b-a763-b3a508f2db23\")>,\n",
       " <selenium.webdriver.remote.webelement.WebElement (session=\"31f8060479cc23a2f8c13d7fe998c3f8\", element=\"750f6581-298d-4bc6-8b50-4a9943f642b5\")>,\n",
       " <selenium.webdriver.remote.webelement.WebElement (session=\"31f8060479cc23a2f8c13d7fe998c3f8\", element=\"be742403-f0f9-4a7e-9e6e-696e04440f1a\")>,\n",
       " <selenium.webdriver.remote.webelement.WebElement (session=\"31f8060479cc23a2f8c13d7fe998c3f8\", element=\"77c6f24d-98b8-40ae-9412-53b27dfd21d2\")>,\n",
       " <selenium.webdriver.remote.webelement.WebElement (session=\"31f8060479cc23a2f8c13d7fe998c3f8\", element=\"250724de-3dbd-4818-bc2e-0f94b50bef01\")>,\n",
       " <selenium.webdriver.remote.webelement.WebElement (session=\"31f8060479cc23a2f8c13d7fe998c3f8\", element=\"b2f2e455-11cd-438f-b238-b33b399d910f\")>,\n",
       " <selenium.webdriver.remote.webelement.WebElement (session=\"31f8060479cc23a2f8c13d7fe998c3f8\", element=\"f1e22bd5-b495-4cce-bc19-ffa5030c562d\")>,\n",
       " <selenium.webdriver.remote.webelement.WebElement (session=\"31f8060479cc23a2f8c13d7fe998c3f8\", element=\"0882fde4-0bb6-4ea3-9ddc-3ac2a7dc8802\")>,\n",
       " <selenium.webdriver.remote.webelement.WebElement (session=\"31f8060479cc23a2f8c13d7fe998c3f8\", element=\"7130fb4f-2004-4daf-90db-6d372a14399e\")>,\n",
       " <selenium.webdriver.remote.webelement.WebElement (session=\"31f8060479cc23a2f8c13d7fe998c3f8\", element=\"cec35f9a-09e9-4dd6-b630-cc0c66dd42e5\")>]"
      ]
     },
     "execution_count": 46,
     "metadata": {},
     "output_type": "execute_result"
    }
   ],
   "source": [
    "images2"
   ]
  },
  {
   "cell_type": "code",
   "execution_count": 48,
   "id": "a1973005",
   "metadata": {},
   "outputs": [],
   "source": [
    "img2_urls = []\n",
    "\n",
    "for image in images2:\n",
    "    source= image.get_attribute('src')\n",
    "    if source is not None:\n",
    "        if(source[0:4] == 'http'):\n",
    "            img2_urls.append(source)"
   ]
  },
  {
   "cell_type": "code",
   "execution_count": 49,
   "id": "fdc22936",
   "metadata": {},
   "outputs": [
    {
     "name": "stdout",
     "output_type": "stream",
     "text": [
      "Downloading 0 of 10 images\n",
      "Downloading 1 of 10 images\n",
      "Downloading 2 of 10 images\n",
      "Downloading 3 of 10 images\n",
      "Downloading 4 of 10 images\n",
      "Downloading 5 of 10 images\n",
      "Downloading 6 of 10 images\n",
      "Downloading 7 of 10 images\n",
      "Downloading 8 of 10 images\n",
      "Downloading 9 of 10 images\n",
      "Downloading 10 of 10 images\n"
     ]
    }
   ],
   "source": [
    "import requests\n",
    "\n",
    "for i in range(len(img2_urls)):\n",
    "    if i > 10:\n",
    "        break\n",
    "    print(\"Downloading {0} of {1} images\" .format(i, 10))\n",
    "    response= requests.get(img2_urls[i])\n",
    "    file = open(r\"E:\\AssignmentImage\"+str(i)+\".jpg\", \"wb\")\n",
    "    file.write(response.content)"
   ]
  },
  {
   "cell_type": "markdown",
   "id": "5d84c43e",
   "metadata": {},
   "source": [
    "Guitar"
   ]
  },
  {
   "cell_type": "code",
   "execution_count": 3,
   "id": "7058c581",
   "metadata": {},
   "outputs": [],
   "source": [
    "# Lets first connect to the webdriver\n",
    "\n",
    "driver=webdriver.Chrome(r\"C:\\Users\\Hello world\\Downloads\\chromedriver_win32\\chromedriver.exe\")"
   ]
  },
  {
   "cell_type": "code",
   "execution_count": 4,
   "id": "09735ea9",
   "metadata": {},
   "outputs": [],
   "source": [
    "driver.get(\"https://images.google.com\")"
   ]
  },
  {
   "cell_type": "code",
   "execution_count": 5,
   "id": "b74c1968",
   "metadata": {},
   "outputs": [],
   "source": [
    "designation=driver.find_element(By.XPATH, \"/html/body/div[1]/div[3]/form/div[1]/div[1]/div[1]/div/div[2]/input\")\n",
    "designation.send_keys('Guitar')"
   ]
  },
  {
   "cell_type": "code",
   "execution_count": 6,
   "id": "315bc043",
   "metadata": {},
   "outputs": [],
   "source": [
    "search=driver.find_element(By.XPATH, '/html/body/div[1]/div[3]/form/div[1]/div[1]/div[1]/button/div/span')\n",
    "search.click()"
   ]
  },
  {
   "cell_type": "code",
   "execution_count": 7,
   "id": "5a1b302a",
   "metadata": {},
   "outputs": [],
   "source": [
    "for _ in range(20):\n",
    "    driver.execute_script(\"window.scrollBy(0,1000)\")\n",
    "    images3 = driver.find_elements(By.XPATH,'//img[@class=\"rg_i Q4LuWd\"]')"
   ]
  },
  {
   "cell_type": "code",
   "execution_count": 8,
   "id": "35ec5a8d",
   "metadata": {},
   "outputs": [
    {
     "data": {
      "text/plain": [
       "[<selenium.webdriver.remote.webelement.WebElement (session=\"4c257232638949fcd0f4cd3578e0839d\", element=\"eaeb884d-5dea-47af-9a0d-79dbafefa8e5\")>,\n",
       " <selenium.webdriver.remote.webelement.WebElement (session=\"4c257232638949fcd0f4cd3578e0839d\", element=\"c513214f-d6fa-4193-a132-794817484aa1\")>,\n",
       " <selenium.webdriver.remote.webelement.WebElement (session=\"4c257232638949fcd0f4cd3578e0839d\", element=\"bbb59f09-b676-4de5-a78a-6d2ff43276fc\")>,\n",
       " <selenium.webdriver.remote.webelement.WebElement (session=\"4c257232638949fcd0f4cd3578e0839d\", element=\"738578f6-ef9c-4cca-8600-d67487cd559d\")>,\n",
       " <selenium.webdriver.remote.webelement.WebElement (session=\"4c257232638949fcd0f4cd3578e0839d\", element=\"425ce5ae-4d7f-4af1-a003-e3a62c071de0\")>,\n",
       " <selenium.webdriver.remote.webelement.WebElement (session=\"4c257232638949fcd0f4cd3578e0839d\", element=\"b418a196-4b22-4b78-ac9d-2bd4f32f9627\")>,\n",
       " <selenium.webdriver.remote.webelement.WebElement (session=\"4c257232638949fcd0f4cd3578e0839d\", element=\"ad3e5542-790c-4874-b31e-eef90512bed8\")>,\n",
       " <selenium.webdriver.remote.webelement.WebElement (session=\"4c257232638949fcd0f4cd3578e0839d\", element=\"d4c12129-7b06-48e2-a269-c31149427b8c\")>,\n",
       " <selenium.webdriver.remote.webelement.WebElement (session=\"4c257232638949fcd0f4cd3578e0839d\", element=\"6c084bcd-01a2-42db-8360-c6487b190cad\")>,\n",
       " <selenium.webdriver.remote.webelement.WebElement (session=\"4c257232638949fcd0f4cd3578e0839d\", element=\"002dfdad-a8ac-4b2e-86c3-d089197eea60\")>,\n",
       " <selenium.webdriver.remote.webelement.WebElement (session=\"4c257232638949fcd0f4cd3578e0839d\", element=\"654d1d2e-faef-4b71-89ae-c830853e2485\")>,\n",
       " <selenium.webdriver.remote.webelement.WebElement (session=\"4c257232638949fcd0f4cd3578e0839d\", element=\"1091f182-9ece-4a1d-934e-8cb2ea4fde67\")>,\n",
       " <selenium.webdriver.remote.webelement.WebElement (session=\"4c257232638949fcd0f4cd3578e0839d\", element=\"bc67c704-69c3-4e5a-a3f7-d3c9119dfe16\")>,\n",
       " <selenium.webdriver.remote.webelement.WebElement (session=\"4c257232638949fcd0f4cd3578e0839d\", element=\"b194916c-3ccd-48b1-9074-7f52b4368af3\")>,\n",
       " <selenium.webdriver.remote.webelement.WebElement (session=\"4c257232638949fcd0f4cd3578e0839d\", element=\"5726129b-c6e5-480c-b752-cd86b32bb6ab\")>,\n",
       " <selenium.webdriver.remote.webelement.WebElement (session=\"4c257232638949fcd0f4cd3578e0839d\", element=\"d1bac9f8-304c-4a84-9387-005243673523\")>,\n",
       " <selenium.webdriver.remote.webelement.WebElement (session=\"4c257232638949fcd0f4cd3578e0839d\", element=\"1a4e03c6-6718-41f0-9307-b54bd7569c2a\")>,\n",
       " <selenium.webdriver.remote.webelement.WebElement (session=\"4c257232638949fcd0f4cd3578e0839d\", element=\"25d8bd9b-ea2b-43e0-84b9-f6232ed4e5d4\")>,\n",
       " <selenium.webdriver.remote.webelement.WebElement (session=\"4c257232638949fcd0f4cd3578e0839d\", element=\"878605cf-8dfc-47c7-8bc5-e2788736b54f\")>,\n",
       " <selenium.webdriver.remote.webelement.WebElement (session=\"4c257232638949fcd0f4cd3578e0839d\", element=\"02fc9978-1d26-4a47-8aca-a8d60510ff10\")>,\n",
       " <selenium.webdriver.remote.webelement.WebElement (session=\"4c257232638949fcd0f4cd3578e0839d\", element=\"fdd51a15-7334-4a41-8c44-87c6d4451830\")>,\n",
       " <selenium.webdriver.remote.webelement.WebElement (session=\"4c257232638949fcd0f4cd3578e0839d\", element=\"23a1cc44-1e52-4bc7-829c-1446c4a865fd\")>,\n",
       " <selenium.webdriver.remote.webelement.WebElement (session=\"4c257232638949fcd0f4cd3578e0839d\", element=\"1c329890-0ec9-43f6-96eb-9332d014d76b\")>,\n",
       " <selenium.webdriver.remote.webelement.WebElement (session=\"4c257232638949fcd0f4cd3578e0839d\", element=\"60dda8f0-95e5-4bce-854e-1a62ce070bb3\")>,\n",
       " <selenium.webdriver.remote.webelement.WebElement (session=\"4c257232638949fcd0f4cd3578e0839d\", element=\"f9659180-070f-4c4f-a72c-bcc6846c6cec\")>,\n",
       " <selenium.webdriver.remote.webelement.WebElement (session=\"4c257232638949fcd0f4cd3578e0839d\", element=\"e2fb7846-b516-4afe-b8d3-121bc4be2f78\")>,\n",
       " <selenium.webdriver.remote.webelement.WebElement (session=\"4c257232638949fcd0f4cd3578e0839d\", element=\"6939a0af-b5b5-4245-b01c-7ff2c7e0490d\")>,\n",
       " <selenium.webdriver.remote.webelement.WebElement (session=\"4c257232638949fcd0f4cd3578e0839d\", element=\"066646d8-d220-409e-ab4d-8b7bdd67931e\")>,\n",
       " <selenium.webdriver.remote.webelement.WebElement (session=\"4c257232638949fcd0f4cd3578e0839d\", element=\"067cb88b-1730-4071-ba7e-f8ded574472a\")>,\n",
       " <selenium.webdriver.remote.webelement.WebElement (session=\"4c257232638949fcd0f4cd3578e0839d\", element=\"f152af44-bccc-477c-aa93-e69fcc5babdb\")>,\n",
       " <selenium.webdriver.remote.webelement.WebElement (session=\"4c257232638949fcd0f4cd3578e0839d\", element=\"4085cc7f-4341-45c2-8ab4-79fe7d67cefe\")>,\n",
       " <selenium.webdriver.remote.webelement.WebElement (session=\"4c257232638949fcd0f4cd3578e0839d\", element=\"0d83d2d6-57cb-4558-89de-60a06635f105\")>,\n",
       " <selenium.webdriver.remote.webelement.WebElement (session=\"4c257232638949fcd0f4cd3578e0839d\", element=\"a8663875-5866-484e-8788-f58a1ccb58f9\")>,\n",
       " <selenium.webdriver.remote.webelement.WebElement (session=\"4c257232638949fcd0f4cd3578e0839d\", element=\"d9423d76-c8a8-4619-909f-f95df88a502c\")>,\n",
       " <selenium.webdriver.remote.webelement.WebElement (session=\"4c257232638949fcd0f4cd3578e0839d\", element=\"67993f95-92ea-436e-9353-4ad2ff5d6f5f\")>,\n",
       " <selenium.webdriver.remote.webelement.WebElement (session=\"4c257232638949fcd0f4cd3578e0839d\", element=\"5dd26714-b634-4e38-8946-35349b097984\")>,\n",
       " <selenium.webdriver.remote.webelement.WebElement (session=\"4c257232638949fcd0f4cd3578e0839d\", element=\"337db0a9-098c-443c-a361-0b7ec7de0e89\")>,\n",
       " <selenium.webdriver.remote.webelement.WebElement (session=\"4c257232638949fcd0f4cd3578e0839d\", element=\"b2f88631-c0f7-489a-be27-40288d722f2c\")>,\n",
       " <selenium.webdriver.remote.webelement.WebElement (session=\"4c257232638949fcd0f4cd3578e0839d\", element=\"b4ad8860-3cb5-4abe-9e53-3b6a4fcb6406\")>,\n",
       " <selenium.webdriver.remote.webelement.WebElement (session=\"4c257232638949fcd0f4cd3578e0839d\", element=\"1f8fa850-b6f9-40ec-b110-cd64cab10815\")>,\n",
       " <selenium.webdriver.remote.webelement.WebElement (session=\"4c257232638949fcd0f4cd3578e0839d\", element=\"7be61cfc-289b-4eaf-af1f-8c8fb816de3b\")>,\n",
       " <selenium.webdriver.remote.webelement.WebElement (session=\"4c257232638949fcd0f4cd3578e0839d\", element=\"aac15feb-3fcc-462e-b839-00b3f8ac175d\")>,\n",
       " <selenium.webdriver.remote.webelement.WebElement (session=\"4c257232638949fcd0f4cd3578e0839d\", element=\"3eb315de-c653-44d9-8863-9de87c8dfa74\")>,\n",
       " <selenium.webdriver.remote.webelement.WebElement (session=\"4c257232638949fcd0f4cd3578e0839d\", element=\"67d17e2c-d0d2-4314-ae5a-599541e250b9\")>,\n",
       " <selenium.webdriver.remote.webelement.WebElement (session=\"4c257232638949fcd0f4cd3578e0839d\", element=\"d061aa0e-ff7e-4d8c-9cd4-4d47bb6276c0\")>,\n",
       " <selenium.webdriver.remote.webelement.WebElement (session=\"4c257232638949fcd0f4cd3578e0839d\", element=\"f650742a-7c7e-4913-8050-4cdffe62a473\")>,\n",
       " <selenium.webdriver.remote.webelement.WebElement (session=\"4c257232638949fcd0f4cd3578e0839d\", element=\"b84c9543-f6fa-4e81-84f0-ab9a082727b8\")>,\n",
       " <selenium.webdriver.remote.webelement.WebElement (session=\"4c257232638949fcd0f4cd3578e0839d\", element=\"6fbfe6c7-09de-4652-880d-8818274a22f2\")>,\n",
       " <selenium.webdriver.remote.webelement.WebElement (session=\"4c257232638949fcd0f4cd3578e0839d\", element=\"f4478fad-cef9-485d-afd7-dd1f069c9543\")>,\n",
       " <selenium.webdriver.remote.webelement.WebElement (session=\"4c257232638949fcd0f4cd3578e0839d\", element=\"41681a5d-51c9-4f85-b310-e49c86ef7e17\")>,\n",
       " <selenium.webdriver.remote.webelement.WebElement (session=\"4c257232638949fcd0f4cd3578e0839d\", element=\"70f51d13-0277-4421-b40f-ee5f38c55438\")>,\n",
       " <selenium.webdriver.remote.webelement.WebElement (session=\"4c257232638949fcd0f4cd3578e0839d\", element=\"dbcb5796-4026-4b18-b044-091cdb091c92\")>,\n",
       " <selenium.webdriver.remote.webelement.WebElement (session=\"4c257232638949fcd0f4cd3578e0839d\", element=\"09ac6943-efd1-42dc-84ae-e78cbe961da9\")>,\n",
       " <selenium.webdriver.remote.webelement.WebElement (session=\"4c257232638949fcd0f4cd3578e0839d\", element=\"7fceca1b-04de-4236-bc07-ee29a210a709\")>,\n",
       " <selenium.webdriver.remote.webelement.WebElement (session=\"4c257232638949fcd0f4cd3578e0839d\", element=\"74de6f3f-5110-4a65-a63b-7b3e749c76aa\")>,\n",
       " <selenium.webdriver.remote.webelement.WebElement (session=\"4c257232638949fcd0f4cd3578e0839d\", element=\"bb3b6309-2d6a-4864-a937-2ebc7503b5b0\")>,\n",
       " <selenium.webdriver.remote.webelement.WebElement (session=\"4c257232638949fcd0f4cd3578e0839d\", element=\"bab2d007-433b-4257-8faf-c010967231d9\")>,\n",
       " <selenium.webdriver.remote.webelement.WebElement (session=\"4c257232638949fcd0f4cd3578e0839d\", element=\"8949adbe-b321-49d6-94b0-14a627319e99\")>,\n",
       " <selenium.webdriver.remote.webelement.WebElement (session=\"4c257232638949fcd0f4cd3578e0839d\", element=\"91d26fa9-07dd-4bad-bef3-2bae9e5b2202\")>,\n",
       " <selenium.webdriver.remote.webelement.WebElement (session=\"4c257232638949fcd0f4cd3578e0839d\", element=\"01927d47-eedf-4cf2-be84-7862e0e73863\")>,\n",
       " <selenium.webdriver.remote.webelement.WebElement (session=\"4c257232638949fcd0f4cd3578e0839d\", element=\"d28fc0dd-87e4-497a-ba96-ebe86c9188f3\")>,\n",
       " <selenium.webdriver.remote.webelement.WebElement (session=\"4c257232638949fcd0f4cd3578e0839d\", element=\"432c775d-bf54-41cd-bd03-3ec87fbe0e61\")>,\n",
       " <selenium.webdriver.remote.webelement.WebElement (session=\"4c257232638949fcd0f4cd3578e0839d\", element=\"d5395372-e596-40c8-ac18-43dca3af74fa\")>,\n",
       " <selenium.webdriver.remote.webelement.WebElement (session=\"4c257232638949fcd0f4cd3578e0839d\", element=\"b76c7eaf-7a51-4db3-98b0-21c21fb33959\")>,\n",
       " <selenium.webdriver.remote.webelement.WebElement (session=\"4c257232638949fcd0f4cd3578e0839d\", element=\"d3638ebb-009d-4aff-a3c6-9cd90a7d1ead\")>,\n",
       " <selenium.webdriver.remote.webelement.WebElement (session=\"4c257232638949fcd0f4cd3578e0839d\", element=\"0bb907cc-d974-4799-8282-03418a32fa6e\")>,\n",
       " <selenium.webdriver.remote.webelement.WebElement (session=\"4c257232638949fcd0f4cd3578e0839d\", element=\"e8ae8e50-ea47-42d9-a465-1ff45be7de8c\")>,\n",
       " <selenium.webdriver.remote.webelement.WebElement (session=\"4c257232638949fcd0f4cd3578e0839d\", element=\"dabc81f2-7166-487d-9411-fce0ce43a2b1\")>,\n",
       " <selenium.webdriver.remote.webelement.WebElement (session=\"4c257232638949fcd0f4cd3578e0839d\", element=\"99afeb70-0c9f-4c4d-b74a-f76eb16731a3\")>,\n",
       " <selenium.webdriver.remote.webelement.WebElement (session=\"4c257232638949fcd0f4cd3578e0839d\", element=\"ea10f855-f87c-46ec-b770-06f69ea3dbe6\")>,\n",
       " <selenium.webdriver.remote.webelement.WebElement (session=\"4c257232638949fcd0f4cd3578e0839d\", element=\"d7918948-35a7-4cc2-8416-e4a1a86d9491\")>,\n",
       " <selenium.webdriver.remote.webelement.WebElement (session=\"4c257232638949fcd0f4cd3578e0839d\", element=\"6d4ead6b-1370-4fbf-a3e5-90428445a0d3\")>,\n",
       " <selenium.webdriver.remote.webelement.WebElement (session=\"4c257232638949fcd0f4cd3578e0839d\", element=\"cbb0ce83-506b-4b20-b56a-866694873a08\")>,\n",
       " <selenium.webdriver.remote.webelement.WebElement (session=\"4c257232638949fcd0f4cd3578e0839d\", element=\"7e0b2ad3-c3df-45dd-b100-8cfcf7072407\")>,\n",
       " <selenium.webdriver.remote.webelement.WebElement (session=\"4c257232638949fcd0f4cd3578e0839d\", element=\"114d2156-45d0-40b6-8611-15b498a2f56e\")>,\n",
       " <selenium.webdriver.remote.webelement.WebElement (session=\"4c257232638949fcd0f4cd3578e0839d\", element=\"617a339d-7fee-4621-865c-eafacc430884\")>,\n",
       " <selenium.webdriver.remote.webelement.WebElement (session=\"4c257232638949fcd0f4cd3578e0839d\", element=\"521ef85d-934c-4eeb-98f7-749ed23f72da\")>,\n",
       " <selenium.webdriver.remote.webelement.WebElement (session=\"4c257232638949fcd0f4cd3578e0839d\", element=\"928f43e9-8ca4-491d-82a2-5ff9434e96f7\")>,\n",
       " <selenium.webdriver.remote.webelement.WebElement (session=\"4c257232638949fcd0f4cd3578e0839d\", element=\"0ce20f16-0bb2-44dc-9d76-16507ae69508\")>,\n",
       " <selenium.webdriver.remote.webelement.WebElement (session=\"4c257232638949fcd0f4cd3578e0839d\", element=\"b888d9d4-d3d8-424e-952b-530699c78368\")>,\n",
       " <selenium.webdriver.remote.webelement.WebElement (session=\"4c257232638949fcd0f4cd3578e0839d\", element=\"74659be8-d471-4670-8cca-234e92048472\")>,\n",
       " <selenium.webdriver.remote.webelement.WebElement (session=\"4c257232638949fcd0f4cd3578e0839d\", element=\"a76dd423-79fd-4961-b075-80fdd934d3c1\")>,\n",
       " <selenium.webdriver.remote.webelement.WebElement (session=\"4c257232638949fcd0f4cd3578e0839d\", element=\"42606020-0cb6-48f7-8dab-b7502f4a60f0\")>,\n",
       " <selenium.webdriver.remote.webelement.WebElement (session=\"4c257232638949fcd0f4cd3578e0839d\", element=\"ce7db9d3-ed79-42c5-8d6b-a8ea82fad05d\")>,\n",
       " <selenium.webdriver.remote.webelement.WebElement (session=\"4c257232638949fcd0f4cd3578e0839d\", element=\"fec37607-bcb7-4d8d-8e11-c565e75cd5c4\")>,\n",
       " <selenium.webdriver.remote.webelement.WebElement (session=\"4c257232638949fcd0f4cd3578e0839d\", element=\"a7c3db4f-35c7-41ff-bcb8-d0d9c477ccdc\")>,\n",
       " <selenium.webdriver.remote.webelement.WebElement (session=\"4c257232638949fcd0f4cd3578e0839d\", element=\"c03610c0-dbd4-48a2-8fc0-378437d45c9e\")>,\n",
       " <selenium.webdriver.remote.webelement.WebElement (session=\"4c257232638949fcd0f4cd3578e0839d\", element=\"85aaeb01-7e57-4277-a51b-c0dfd7d6f9d7\")>,\n",
       " <selenium.webdriver.remote.webelement.WebElement (session=\"4c257232638949fcd0f4cd3578e0839d\", element=\"dfaba4d3-0e7e-4eeb-bd6e-3d5ca8a3b5d1\")>,\n",
       " <selenium.webdriver.remote.webelement.WebElement (session=\"4c257232638949fcd0f4cd3578e0839d\", element=\"bd6c4350-e3f2-482c-ba73-230594335dbf\")>,\n",
       " <selenium.webdriver.remote.webelement.WebElement (session=\"4c257232638949fcd0f4cd3578e0839d\", element=\"82c89688-6e19-43a5-b97e-0e16b88eee8b\")>,\n",
       " <selenium.webdriver.remote.webelement.WebElement (session=\"4c257232638949fcd0f4cd3578e0839d\", element=\"900ff004-3599-4a72-a14c-1907684a6b66\")>,\n",
       " <selenium.webdriver.remote.webelement.WebElement (session=\"4c257232638949fcd0f4cd3578e0839d\", element=\"15e94aab-58fb-4c6f-980d-1b2f8c825bc3\")>,\n",
       " <selenium.webdriver.remote.webelement.WebElement (session=\"4c257232638949fcd0f4cd3578e0839d\", element=\"0bd96a85-4493-44c9-8103-dd1e6c0551a8\")>,\n",
       " <selenium.webdriver.remote.webelement.WebElement (session=\"4c257232638949fcd0f4cd3578e0839d\", element=\"2471d95e-412b-4ff5-8cb7-e38af4bdda0c\")>,\n",
       " <selenium.webdriver.remote.webelement.WebElement (session=\"4c257232638949fcd0f4cd3578e0839d\", element=\"fc1f084c-6e93-45e7-be1f-e6eb777f05e3\")>,\n",
       " <selenium.webdriver.remote.webelement.WebElement (session=\"4c257232638949fcd0f4cd3578e0839d\", element=\"1d698632-c29c-449a-92ff-a4df0ed892ba\")>,\n",
       " <selenium.webdriver.remote.webelement.WebElement (session=\"4c257232638949fcd0f4cd3578e0839d\", element=\"cd3dfe95-38d8-4bc6-ac74-e1cea2332c46\")>,\n",
       " <selenium.webdriver.remote.webelement.WebElement (session=\"4c257232638949fcd0f4cd3578e0839d\", element=\"06eecac8-6601-49c2-a7a5-fd434df11b01\")>,\n",
       " <selenium.webdriver.remote.webelement.WebElement (session=\"4c257232638949fcd0f4cd3578e0839d\", element=\"dee0308a-3834-4fca-a133-ecc00a66f697\")>,\n",
       " <selenium.webdriver.remote.webelement.WebElement (session=\"4c257232638949fcd0f4cd3578e0839d\", element=\"26eef26f-e1b6-4ba4-9c76-b5437bd07611\")>,\n",
       " <selenium.webdriver.remote.webelement.WebElement (session=\"4c257232638949fcd0f4cd3578e0839d\", element=\"1f5c3503-bae1-45c1-a5b6-99a576b2f691\")>,\n",
       " <selenium.webdriver.remote.webelement.WebElement (session=\"4c257232638949fcd0f4cd3578e0839d\", element=\"37867afd-ff04-4749-a9a3-51939cf9bf1b\")>,\n",
       " <selenium.webdriver.remote.webelement.WebElement (session=\"4c257232638949fcd0f4cd3578e0839d\", element=\"62f53f3b-2002-487a-949f-fc3c50af563d\")>,\n",
       " <selenium.webdriver.remote.webelement.WebElement (session=\"4c257232638949fcd0f4cd3578e0839d\", element=\"7302cfb3-516a-498a-94e3-1428a4bcc73f\")>,\n",
       " <selenium.webdriver.remote.webelement.WebElement (session=\"4c257232638949fcd0f4cd3578e0839d\", element=\"dbe44215-ea17-41c9-bb06-fc03715f05be\")>,\n",
       " <selenium.webdriver.remote.webelement.WebElement (session=\"4c257232638949fcd0f4cd3578e0839d\", element=\"1e9592ee-e11c-4e10-b65f-d50682187002\")>,\n",
       " <selenium.webdriver.remote.webelement.WebElement (session=\"4c257232638949fcd0f4cd3578e0839d\", element=\"c88b977e-f227-44b5-818d-cd480c3e8236\")>,\n",
       " <selenium.webdriver.remote.webelement.WebElement (session=\"4c257232638949fcd0f4cd3578e0839d\", element=\"bf7bafb0-17fa-4646-a416-2ca6fba00f24\")>,\n",
       " <selenium.webdriver.remote.webelement.WebElement (session=\"4c257232638949fcd0f4cd3578e0839d\", element=\"b52b154c-7ee2-4b15-a928-4a7d5dce20ca\")>,\n",
       " <selenium.webdriver.remote.webelement.WebElement (session=\"4c257232638949fcd0f4cd3578e0839d\", element=\"c87a1524-73ea-4018-8f33-47fca3fa87a2\")>,\n",
       " <selenium.webdriver.remote.webelement.WebElement (session=\"4c257232638949fcd0f4cd3578e0839d\", element=\"f9c4a2d4-cbab-46fe-94d0-64529cc07121\")>,\n",
       " <selenium.webdriver.remote.webelement.WebElement (session=\"4c257232638949fcd0f4cd3578e0839d\", element=\"c44a68ce-5bdf-4822-99b2-2515d307ab6c\")>,\n",
       " <selenium.webdriver.remote.webelement.WebElement (session=\"4c257232638949fcd0f4cd3578e0839d\", element=\"a3916f50-f840-42ed-9f28-ad51bc8a07ea\")>,\n",
       " <selenium.webdriver.remote.webelement.WebElement (session=\"4c257232638949fcd0f4cd3578e0839d\", element=\"738a6850-eac5-4d90-ad07-e2214c473c35\")>,\n",
       " <selenium.webdriver.remote.webelement.WebElement (session=\"4c257232638949fcd0f4cd3578e0839d\", element=\"c9b90429-10dd-4c9b-aa99-eb2543b42256\")>,\n",
       " <selenium.webdriver.remote.webelement.WebElement (session=\"4c257232638949fcd0f4cd3578e0839d\", element=\"effde3c5-321d-4e00-804b-87e66e533431\")>,\n",
       " <selenium.webdriver.remote.webelement.WebElement (session=\"4c257232638949fcd0f4cd3578e0839d\", element=\"51f572ce-2116-4712-a244-69fd6964effc\")>,\n",
       " <selenium.webdriver.remote.webelement.WebElement (session=\"4c257232638949fcd0f4cd3578e0839d\", element=\"79a803bd-021d-48b1-ba47-a0dfb482f423\")>,\n",
       " <selenium.webdriver.remote.webelement.WebElement (session=\"4c257232638949fcd0f4cd3578e0839d\", element=\"19a40ca3-18ed-4d27-9d9b-55698b97803c\")>,\n",
       " <selenium.webdriver.remote.webelement.WebElement (session=\"4c257232638949fcd0f4cd3578e0839d\", element=\"e58cc7b4-1d39-40ea-88cc-c0f29049d9e0\")>,\n",
       " <selenium.webdriver.remote.webelement.WebElement (session=\"4c257232638949fcd0f4cd3578e0839d\", element=\"83c66230-e4f5-4973-a1ed-49661c061c6a\")>,\n",
       " <selenium.webdriver.remote.webelement.WebElement (session=\"4c257232638949fcd0f4cd3578e0839d\", element=\"606138b0-8f52-4076-93ab-11c39ed47d19\")>,\n",
       " <selenium.webdriver.remote.webelement.WebElement (session=\"4c257232638949fcd0f4cd3578e0839d\", element=\"7f5c8ee3-37aa-42b3-aeac-02979244a451\")>,\n",
       " <selenium.webdriver.remote.webelement.WebElement (session=\"4c257232638949fcd0f4cd3578e0839d\", element=\"bda4c6e5-d5ce-4278-acc7-0a70e50c13a8\")>,\n",
       " <selenium.webdriver.remote.webelement.WebElement (session=\"4c257232638949fcd0f4cd3578e0839d\", element=\"58534b82-5e24-4cf2-a8b7-c6c5899a9129\")>,\n",
       " <selenium.webdriver.remote.webelement.WebElement (session=\"4c257232638949fcd0f4cd3578e0839d\", element=\"ad184538-45ee-45cf-a66b-81829449cb1d\")>,\n",
       " <selenium.webdriver.remote.webelement.WebElement (session=\"4c257232638949fcd0f4cd3578e0839d\", element=\"dd929fcf-aef4-49e4-a0be-353c104314a6\")>,\n",
       " <selenium.webdriver.remote.webelement.WebElement (session=\"4c257232638949fcd0f4cd3578e0839d\", element=\"4686734f-1f8d-4973-b0f4-02b1572972e2\")>,\n",
       " <selenium.webdriver.remote.webelement.WebElement (session=\"4c257232638949fcd0f4cd3578e0839d\", element=\"eab17046-39aa-469d-bac5-c6900b70fe8d\")>,\n",
       " <selenium.webdriver.remote.webelement.WebElement (session=\"4c257232638949fcd0f4cd3578e0839d\", element=\"b87432e6-e7df-4acd-a349-4ce760ef4019\")>,\n",
       " <selenium.webdriver.remote.webelement.WebElement (session=\"4c257232638949fcd0f4cd3578e0839d\", element=\"c66c4b54-c224-4b2a-82b2-b94bcb28c87d\")>,\n",
       " <selenium.webdriver.remote.webelement.WebElement (session=\"4c257232638949fcd0f4cd3578e0839d\", element=\"a34f7745-ae7f-49f5-a3ae-74a45eb78a95\")>,\n",
       " <selenium.webdriver.remote.webelement.WebElement (session=\"4c257232638949fcd0f4cd3578e0839d\", element=\"e6c8dfa7-7286-4ce0-91cd-a9529b39e713\")>,\n",
       " <selenium.webdriver.remote.webelement.WebElement (session=\"4c257232638949fcd0f4cd3578e0839d\", element=\"8f006a9b-13e1-494a-8130-dce7519a8c3e\")>,\n",
       " <selenium.webdriver.remote.webelement.WebElement (session=\"4c257232638949fcd0f4cd3578e0839d\", element=\"0bcbaade-1748-4e01-88c6-577a95bd95cf\")>,\n",
       " <selenium.webdriver.remote.webelement.WebElement (session=\"4c257232638949fcd0f4cd3578e0839d\", element=\"5c8e16c8-97ac-4729-a55e-4012f89bedfa\")>,\n",
       " <selenium.webdriver.remote.webelement.WebElement (session=\"4c257232638949fcd0f4cd3578e0839d\", element=\"1d0031d4-55f3-4941-997f-11af1f395fdb\")>,\n",
       " <selenium.webdriver.remote.webelement.WebElement (session=\"4c257232638949fcd0f4cd3578e0839d\", element=\"76cb5c47-44b0-4e8d-bde1-9345ca98db1f\")>,\n",
       " <selenium.webdriver.remote.webelement.WebElement (session=\"4c257232638949fcd0f4cd3578e0839d\", element=\"0cbcc44d-0bcd-4580-8ec0-0ce2488f51f7\")>,\n",
       " <selenium.webdriver.remote.webelement.WebElement (session=\"4c257232638949fcd0f4cd3578e0839d\", element=\"d0d5e3d8-6ea9-4507-89ee-a659a4adacbb\")>,\n",
       " <selenium.webdriver.remote.webelement.WebElement (session=\"4c257232638949fcd0f4cd3578e0839d\", element=\"33e32198-7de2-407a-b697-77fdacc46137\")>,\n",
       " <selenium.webdriver.remote.webelement.WebElement (session=\"4c257232638949fcd0f4cd3578e0839d\", element=\"41e1db6a-0e66-43b3-b47b-0bef0341f50a\")>,\n",
       " <selenium.webdriver.remote.webelement.WebElement (session=\"4c257232638949fcd0f4cd3578e0839d\", element=\"8a88b70b-9aa8-4032-8c78-a8836e37d36f\")>,\n",
       " <selenium.webdriver.remote.webelement.WebElement (session=\"4c257232638949fcd0f4cd3578e0839d\", element=\"7c76af67-20a2-43b7-9648-e774ee2243d2\")>,\n",
       " <selenium.webdriver.remote.webelement.WebElement (session=\"4c257232638949fcd0f4cd3578e0839d\", element=\"53632bed-356b-4757-ba62-1f69f3356abf\")>,\n",
       " <selenium.webdriver.remote.webelement.WebElement (session=\"4c257232638949fcd0f4cd3578e0839d\", element=\"78e585ea-6f77-4c74-b548-866325f4d34a\")>,\n",
       " <selenium.webdriver.remote.webelement.WebElement (session=\"4c257232638949fcd0f4cd3578e0839d\", element=\"fd361dba-4aa8-4096-b099-1f68c5fd81d9\")>,\n",
       " <selenium.webdriver.remote.webelement.WebElement (session=\"4c257232638949fcd0f4cd3578e0839d\", element=\"989e9e0f-2d2c-432b-992f-f716e2d734b2\")>,\n",
       " <selenium.webdriver.remote.webelement.WebElement (session=\"4c257232638949fcd0f4cd3578e0839d\", element=\"ed03b0dc-7065-4c0e-9257-a32c59e3800e\")>,\n",
       " <selenium.webdriver.remote.webelement.WebElement (session=\"4c257232638949fcd0f4cd3578e0839d\", element=\"b1e781d4-036d-4eed-bee0-0e6f01fe4496\")>,\n",
       " <selenium.webdriver.remote.webelement.WebElement (session=\"4c257232638949fcd0f4cd3578e0839d\", element=\"6df682b8-26ef-46da-a589-00df44861a0a\")>,\n",
       " <selenium.webdriver.remote.webelement.WebElement (session=\"4c257232638949fcd0f4cd3578e0839d\", element=\"00926e0d-8afe-4278-ac1c-a43d02737844\")>,\n",
       " <selenium.webdriver.remote.webelement.WebElement (session=\"4c257232638949fcd0f4cd3578e0839d\", element=\"13d87ede-6e54-4fcb-95ec-0196cbe7b0a4\")>,\n",
       " <selenium.webdriver.remote.webelement.WebElement (session=\"4c257232638949fcd0f4cd3578e0839d\", element=\"f0296b72-dc49-4053-ad5d-576eb226df8b\")>,\n",
       " <selenium.webdriver.remote.webelement.WebElement (session=\"4c257232638949fcd0f4cd3578e0839d\", element=\"e9a7a4ec-3a50-4395-9d75-c5fc8ed8fc12\")>,\n",
       " <selenium.webdriver.remote.webelement.WebElement (session=\"4c257232638949fcd0f4cd3578e0839d\", element=\"6e9f93aa-5a99-42ad-964e-1c1251248113\")>,\n",
       " <selenium.webdriver.remote.webelement.WebElement (session=\"4c257232638949fcd0f4cd3578e0839d\", element=\"f19127dd-802e-4036-973f-5b33dc0e6bac\")>,\n",
       " <selenium.webdriver.remote.webelement.WebElement (session=\"4c257232638949fcd0f4cd3578e0839d\", element=\"ac1dd183-dd58-4dfc-8785-2bbeb56142a4\")>,\n",
       " <selenium.webdriver.remote.webelement.WebElement (session=\"4c257232638949fcd0f4cd3578e0839d\", element=\"f3cb5871-0367-4b77-a334-dfc2165dcc0d\")>,\n",
       " <selenium.webdriver.remote.webelement.WebElement (session=\"4c257232638949fcd0f4cd3578e0839d\", element=\"4b98d104-1149-4b5a-8337-ca651cf188ea\")>,\n",
       " <selenium.webdriver.remote.webelement.WebElement (session=\"4c257232638949fcd0f4cd3578e0839d\", element=\"4428f503-9ccc-433a-aafd-8ccfc6be3999\")>,\n",
       " <selenium.webdriver.remote.webelement.WebElement (session=\"4c257232638949fcd0f4cd3578e0839d\", element=\"8e0ab119-9554-430b-923d-3c9bf795fe31\")>,\n",
       " <selenium.webdriver.remote.webelement.WebElement (session=\"4c257232638949fcd0f4cd3578e0839d\", element=\"30962d41-b320-47e2-849e-5fc887bc544e\")>,\n",
       " <selenium.webdriver.remote.webelement.WebElement (session=\"4c257232638949fcd0f4cd3578e0839d\", element=\"1543ce35-8c00-4549-a3db-56cfe4e4a3ed\")>,\n",
       " <selenium.webdriver.remote.webelement.WebElement (session=\"4c257232638949fcd0f4cd3578e0839d\", element=\"fcd4cd7c-ab47-4c33-93d2-8eb2adb46b61\")>,\n",
       " <selenium.webdriver.remote.webelement.WebElement (session=\"4c257232638949fcd0f4cd3578e0839d\", element=\"55449883-3acb-4bdd-8294-edbffce9e0a4\")>,\n",
       " <selenium.webdriver.remote.webelement.WebElement (session=\"4c257232638949fcd0f4cd3578e0839d\", element=\"5896fa7d-f8b4-4aca-afa5-8f4892d2d465\")>,\n",
       " <selenium.webdriver.remote.webelement.WebElement (session=\"4c257232638949fcd0f4cd3578e0839d\", element=\"3bcc7a77-fea5-4269-8d70-692bbde7959d\")>,\n",
       " <selenium.webdriver.remote.webelement.WebElement (session=\"4c257232638949fcd0f4cd3578e0839d\", element=\"c1e85bfa-c755-4bf6-8e1f-161d8ce17fb1\")>,\n",
       " <selenium.webdriver.remote.webelement.WebElement (session=\"4c257232638949fcd0f4cd3578e0839d\", element=\"6996302f-d21c-4353-9701-c124ceaa689c\")>,\n",
       " <selenium.webdriver.remote.webelement.WebElement (session=\"4c257232638949fcd0f4cd3578e0839d\", element=\"8aecbdca-342a-4686-9372-69751d4df80f\")>,\n",
       " <selenium.webdriver.remote.webelement.WebElement (session=\"4c257232638949fcd0f4cd3578e0839d\", element=\"c3f70872-f7fa-48d7-81d6-6df5646b1e30\")>,\n",
       " <selenium.webdriver.remote.webelement.WebElement (session=\"4c257232638949fcd0f4cd3578e0839d\", element=\"4b874835-d92d-4005-9e44-e4baa0b069a3\")>,\n",
       " <selenium.webdriver.remote.webelement.WebElement (session=\"4c257232638949fcd0f4cd3578e0839d\", element=\"e3a2de86-933c-4833-b603-0ecde3731332\")>,\n",
       " <selenium.webdriver.remote.webelement.WebElement (session=\"4c257232638949fcd0f4cd3578e0839d\", element=\"7d976f3c-3035-4443-8fb8-0bdf93fd8de1\")>,\n",
       " <selenium.webdriver.remote.webelement.WebElement (session=\"4c257232638949fcd0f4cd3578e0839d\", element=\"fdb7c686-dcb5-43a5-b5ad-d74e9c582827\")>,\n",
       " <selenium.webdriver.remote.webelement.WebElement (session=\"4c257232638949fcd0f4cd3578e0839d\", element=\"04507008-7e4e-496f-981e-c5e4b1799e9f\")>,\n",
       " <selenium.webdriver.remote.webelement.WebElement (session=\"4c257232638949fcd0f4cd3578e0839d\", element=\"cd0f7b62-72b4-409d-9b27-cc7c3f5ccedc\")>,\n",
       " <selenium.webdriver.remote.webelement.WebElement (session=\"4c257232638949fcd0f4cd3578e0839d\", element=\"48a28596-8d26-421b-a9be-33b495f8ae7f\")>,\n",
       " <selenium.webdriver.remote.webelement.WebElement (session=\"4c257232638949fcd0f4cd3578e0839d\", element=\"0417e83d-4009-48b8-9b58-1ec4c87334a8\")>,\n",
       " <selenium.webdriver.remote.webelement.WebElement (session=\"4c257232638949fcd0f4cd3578e0839d\", element=\"1a621b87-511f-4317-9a64-d9b31c2694e9\")>,\n",
       " <selenium.webdriver.remote.webelement.WebElement (session=\"4c257232638949fcd0f4cd3578e0839d\", element=\"5a82c58d-891c-4314-8235-b162e70c7df9\")>,\n",
       " <selenium.webdriver.remote.webelement.WebElement (session=\"4c257232638949fcd0f4cd3578e0839d\", element=\"a0389754-fbda-4c71-b062-52e95df2af41\")>,\n",
       " <selenium.webdriver.remote.webelement.WebElement (session=\"4c257232638949fcd0f4cd3578e0839d\", element=\"719b1d57-983d-4d39-9900-d6b13c78df66\")>,\n",
       " <selenium.webdriver.remote.webelement.WebElement (session=\"4c257232638949fcd0f4cd3578e0839d\", element=\"57a9304e-97ac-4afe-8838-9c1f09607581\")>,\n",
       " <selenium.webdriver.remote.webelement.WebElement (session=\"4c257232638949fcd0f4cd3578e0839d\", element=\"bbfc9c68-e8da-4ada-ad13-973527d42396\")>,\n",
       " <selenium.webdriver.remote.webelement.WebElement (session=\"4c257232638949fcd0f4cd3578e0839d\", element=\"a5ebee68-0132-4568-91ef-92600b1dae02\")>,\n",
       " <selenium.webdriver.remote.webelement.WebElement (session=\"4c257232638949fcd0f4cd3578e0839d\", element=\"457927a9-ba22-4c7e-803a-c65c3fc74062\")>,\n",
       " <selenium.webdriver.remote.webelement.WebElement (session=\"4c257232638949fcd0f4cd3578e0839d\", element=\"05182431-fd77-4125-8bb9-dfee72b92771\")>,\n",
       " <selenium.webdriver.remote.webelement.WebElement (session=\"4c257232638949fcd0f4cd3578e0839d\", element=\"47f5195c-b6e8-4219-a8f1-481cecb8eec1\")>,\n",
       " <selenium.webdriver.remote.webelement.WebElement (session=\"4c257232638949fcd0f4cd3578e0839d\", element=\"f5d1d686-cd34-435d-bb42-8f6a23132065\")>,\n",
       " <selenium.webdriver.remote.webelement.WebElement (session=\"4c257232638949fcd0f4cd3578e0839d\", element=\"2d470240-a0de-43c3-8622-d474770330b0\")>,\n",
       " <selenium.webdriver.remote.webelement.WebElement (session=\"4c257232638949fcd0f4cd3578e0839d\", element=\"369ee9c9-2cac-4541-88f1-819f17a5b27e\")>,\n",
       " <selenium.webdriver.remote.webelement.WebElement (session=\"4c257232638949fcd0f4cd3578e0839d\", element=\"f220922e-b7d7-4f5c-b592-dec09ff41741\")>,\n",
       " <selenium.webdriver.remote.webelement.WebElement (session=\"4c257232638949fcd0f4cd3578e0839d\", element=\"b452b0a6-042e-4dfb-ae36-8a1a0c6b7b57\")>,\n",
       " <selenium.webdriver.remote.webelement.WebElement (session=\"4c257232638949fcd0f4cd3578e0839d\", element=\"63eba899-a102-4f1b-b80d-828e54fabef6\")>,\n",
       " <selenium.webdriver.remote.webelement.WebElement (session=\"4c257232638949fcd0f4cd3578e0839d\", element=\"20364083-338a-4b3b-804d-dc30eef02da6\")>,\n",
       " <selenium.webdriver.remote.webelement.WebElement (session=\"4c257232638949fcd0f4cd3578e0839d\", element=\"bd11c1ec-3ee0-47e2-ad5b-18a2fdb201ae\")>,\n",
       " <selenium.webdriver.remote.webelement.WebElement (session=\"4c257232638949fcd0f4cd3578e0839d\", element=\"89a33096-6735-4c2e-b9ef-5326ee97abc0\")>]"
      ]
     },
     "execution_count": 8,
     "metadata": {},
     "output_type": "execute_result"
    }
   ],
   "source": [
    "images3"
   ]
  },
  {
   "cell_type": "code",
   "execution_count": 10,
   "id": "45f3dace",
   "metadata": {},
   "outputs": [],
   "source": [
    "img3_urls = []\n",
    "\n",
    "for image in images3:\n",
    "    source= image.get_attribute('src')\n",
    "    if source is not None:\n",
    "        if(source[0:4] == 'http'):\n",
    "            img3_urls.append(source)"
   ]
  },
  {
   "cell_type": "code",
   "execution_count": 12,
   "id": "ec2c8c53",
   "metadata": {},
   "outputs": [
    {
     "name": "stdout",
     "output_type": "stream",
     "text": [
      "Downloading 0 of 10 images\n",
      "Downloading 1 of 10 images\n",
      "Downloading 2 of 10 images\n",
      "Downloading 3 of 10 images\n",
      "Downloading 4 of 10 images\n",
      "Downloading 5 of 10 images\n",
      "Downloading 6 of 10 images\n",
      "Downloading 7 of 10 images\n",
      "Downloading 8 of 10 images\n",
      "Downloading 9 of 10 images\n",
      "Downloading 10 of 10 images\n"
     ]
    }
   ],
   "source": [
    "import requests\n",
    "\n",
    "for i in range(len(img3_urls)):\n",
    "    if i > 10:\n",
    "        break\n",
    "    print(\"Downloading {0} of {1} images\" .format(i, 10))\n",
    "    response= requests.get(img3_urls[i])\n",
    "    file = open(r\"E:\\AssignmentImage\"+str(i)+\".jpg\", \"wb\")\n",
    "    file.write(response.content)"
   ]
  },
  {
   "cell_type": "markdown",
   "id": "e4aa074f",
   "metadata": {},
   "source": [
    "Cakes"
   ]
  },
  {
   "cell_type": "code",
   "execution_count": 13,
   "id": "8e252e7a",
   "metadata": {},
   "outputs": [],
   "source": [
    "# Lets first connect to the webdriver\n",
    "\n",
    "driver=webdriver.Chrome(r\"C:\\Users\\Hello world\\Downloads\\chromedriver_win32\\chromedriver.exe\")"
   ]
  },
  {
   "cell_type": "code",
   "execution_count": 14,
   "id": "1a45dd44",
   "metadata": {},
   "outputs": [],
   "source": [
    "driver.get(\"https://images.google.com\")"
   ]
  },
  {
   "cell_type": "code",
   "execution_count": 15,
   "id": "f7d78aff",
   "metadata": {},
   "outputs": [],
   "source": [
    "designation=driver.find_element(By.XPATH, \"/html/body/div[1]/div[3]/form/div[1]/div[1]/div[1]/div/div[2]/input\")\n",
    "designation.send_keys('Cakes')"
   ]
  },
  {
   "cell_type": "code",
   "execution_count": 16,
   "id": "f2ed4eba",
   "metadata": {},
   "outputs": [],
   "source": [
    "search=driver.find_element(By.XPATH, '/html/body/div[1]/div[3]/form/div[1]/div[1]/div[1]/button/div/span')\n",
    "search.click()"
   ]
  },
  {
   "cell_type": "code",
   "execution_count": 17,
   "id": "89913804",
   "metadata": {},
   "outputs": [],
   "source": [
    "for _ in range(20):\n",
    "    driver.execute_script(\"window.scrollBy(0,1000)\")\n",
    "    images4 = driver.find_elements(By.XPATH,'//img[@class=\"rg_i Q4LuWd\"]')"
   ]
  },
  {
   "cell_type": "code",
   "execution_count": 18,
   "id": "bd8205b0",
   "metadata": {},
   "outputs": [
    {
     "data": {
      "text/plain": [
       "[<selenium.webdriver.remote.webelement.WebElement (session=\"01d6160fb117e85f6e2060ae0aeaa756\", element=\"0215b57d-70f8-48c7-913b-1b0ce3fc7652\")>,\n",
       " <selenium.webdriver.remote.webelement.WebElement (session=\"01d6160fb117e85f6e2060ae0aeaa756\", element=\"1bc8c1e1-ea3b-4f06-a1ea-66b9998a9216\")>,\n",
       " <selenium.webdriver.remote.webelement.WebElement (session=\"01d6160fb117e85f6e2060ae0aeaa756\", element=\"edccee5f-c92e-4b27-ab09-ee058b341828\")>,\n",
       " <selenium.webdriver.remote.webelement.WebElement (session=\"01d6160fb117e85f6e2060ae0aeaa756\", element=\"89d58fb9-26a4-4597-8e1b-741d16156562\")>,\n",
       " <selenium.webdriver.remote.webelement.WebElement (session=\"01d6160fb117e85f6e2060ae0aeaa756\", element=\"2864d265-5587-4503-9c89-8a3d8b08d9e5\")>,\n",
       " <selenium.webdriver.remote.webelement.WebElement (session=\"01d6160fb117e85f6e2060ae0aeaa756\", element=\"da44a66c-bb23-484f-abc4-0fb9e6af5c22\")>,\n",
       " <selenium.webdriver.remote.webelement.WebElement (session=\"01d6160fb117e85f6e2060ae0aeaa756\", element=\"9e27a0c2-618f-45c9-9856-247faec98697\")>,\n",
       " <selenium.webdriver.remote.webelement.WebElement (session=\"01d6160fb117e85f6e2060ae0aeaa756\", element=\"58b8b2ba-0e49-4b90-8175-762ea8f34489\")>,\n",
       " <selenium.webdriver.remote.webelement.WebElement (session=\"01d6160fb117e85f6e2060ae0aeaa756\", element=\"25d14b47-3316-464b-9917-602675ac5031\")>,\n",
       " <selenium.webdriver.remote.webelement.WebElement (session=\"01d6160fb117e85f6e2060ae0aeaa756\", element=\"e2674f29-bb04-45a8-b43f-94347116a213\")>,\n",
       " <selenium.webdriver.remote.webelement.WebElement (session=\"01d6160fb117e85f6e2060ae0aeaa756\", element=\"9204fe22-06c9-4b4f-8864-40627b5bff63\")>,\n",
       " <selenium.webdriver.remote.webelement.WebElement (session=\"01d6160fb117e85f6e2060ae0aeaa756\", element=\"d020b4ac-421f-4591-a430-45459679d01d\")>,\n",
       " <selenium.webdriver.remote.webelement.WebElement (session=\"01d6160fb117e85f6e2060ae0aeaa756\", element=\"3df81a5e-699c-424f-8988-562d12b6aca3\")>,\n",
       " <selenium.webdriver.remote.webelement.WebElement (session=\"01d6160fb117e85f6e2060ae0aeaa756\", element=\"9ec80dcb-8194-4b5e-add2-d077767e9ea7\")>,\n",
       " <selenium.webdriver.remote.webelement.WebElement (session=\"01d6160fb117e85f6e2060ae0aeaa756\", element=\"b4eb3327-b8f1-42dc-b135-036ebd0e4801\")>,\n",
       " <selenium.webdriver.remote.webelement.WebElement (session=\"01d6160fb117e85f6e2060ae0aeaa756\", element=\"ea0e42f7-be5e-4c24-a6eb-cb2cc26d828f\")>,\n",
       " <selenium.webdriver.remote.webelement.WebElement (session=\"01d6160fb117e85f6e2060ae0aeaa756\", element=\"8bce529f-fc58-4aed-92f9-3269d9bb2fc2\")>,\n",
       " <selenium.webdriver.remote.webelement.WebElement (session=\"01d6160fb117e85f6e2060ae0aeaa756\", element=\"204bae12-a6f7-4318-9fa9-da402f91a60a\")>,\n",
       " <selenium.webdriver.remote.webelement.WebElement (session=\"01d6160fb117e85f6e2060ae0aeaa756\", element=\"23ec5149-0fc6-4edc-a50f-aee87819db28\")>,\n",
       " <selenium.webdriver.remote.webelement.WebElement (session=\"01d6160fb117e85f6e2060ae0aeaa756\", element=\"cf8238b2-7666-45ce-ae02-9ea108b5ea21\")>,\n",
       " <selenium.webdriver.remote.webelement.WebElement (session=\"01d6160fb117e85f6e2060ae0aeaa756\", element=\"2a1d915f-a632-4af4-b437-b3a9d48cc470\")>,\n",
       " <selenium.webdriver.remote.webelement.WebElement (session=\"01d6160fb117e85f6e2060ae0aeaa756\", element=\"7cdc7aff-764c-4986-88b2-874f79e5c28d\")>,\n",
       " <selenium.webdriver.remote.webelement.WebElement (session=\"01d6160fb117e85f6e2060ae0aeaa756\", element=\"0db93b74-0969-43b4-9c09-0a4be6d749f6\")>,\n",
       " <selenium.webdriver.remote.webelement.WebElement (session=\"01d6160fb117e85f6e2060ae0aeaa756\", element=\"73ffcec0-8a78-4568-95fd-98692ce15ccd\")>,\n",
       " <selenium.webdriver.remote.webelement.WebElement (session=\"01d6160fb117e85f6e2060ae0aeaa756\", element=\"58c968ed-d3a3-4200-b5a8-8ff8883b7917\")>,\n",
       " <selenium.webdriver.remote.webelement.WebElement (session=\"01d6160fb117e85f6e2060ae0aeaa756\", element=\"f455c21d-2a5d-4de1-8c3b-d895f04df80b\")>,\n",
       " <selenium.webdriver.remote.webelement.WebElement (session=\"01d6160fb117e85f6e2060ae0aeaa756\", element=\"2c815905-a199-4744-90bd-36c7a37e06d2\")>,\n",
       " <selenium.webdriver.remote.webelement.WebElement (session=\"01d6160fb117e85f6e2060ae0aeaa756\", element=\"25cd253a-d58f-4d7f-9aa0-407183b009c0\")>,\n",
       " <selenium.webdriver.remote.webelement.WebElement (session=\"01d6160fb117e85f6e2060ae0aeaa756\", element=\"5bcc3d79-dc0c-49f3-baa8-57b387809049\")>,\n",
       " <selenium.webdriver.remote.webelement.WebElement (session=\"01d6160fb117e85f6e2060ae0aeaa756\", element=\"32181717-8565-4ce3-88a0-98879f21cbca\")>,\n",
       " <selenium.webdriver.remote.webelement.WebElement (session=\"01d6160fb117e85f6e2060ae0aeaa756\", element=\"563ca662-dd5c-40be-ba6b-ace47c037863\")>,\n",
       " <selenium.webdriver.remote.webelement.WebElement (session=\"01d6160fb117e85f6e2060ae0aeaa756\", element=\"b2a6bdec-403b-4d53-8595-643827f40a23\")>,\n",
       " <selenium.webdriver.remote.webelement.WebElement (session=\"01d6160fb117e85f6e2060ae0aeaa756\", element=\"93115bc0-bbd8-4e92-bde6-54782f052ee3\")>,\n",
       " <selenium.webdriver.remote.webelement.WebElement (session=\"01d6160fb117e85f6e2060ae0aeaa756\", element=\"02cb4164-a8bf-4785-9efb-625e9ab0e99e\")>,\n",
       " <selenium.webdriver.remote.webelement.WebElement (session=\"01d6160fb117e85f6e2060ae0aeaa756\", element=\"1b5156c7-1c71-4887-818d-f1c8652ef3da\")>,\n",
       " <selenium.webdriver.remote.webelement.WebElement (session=\"01d6160fb117e85f6e2060ae0aeaa756\", element=\"31ac5c3c-6c17-4c05-b4de-6c87d9fd3587\")>,\n",
       " <selenium.webdriver.remote.webelement.WebElement (session=\"01d6160fb117e85f6e2060ae0aeaa756\", element=\"ce12b55d-8d6f-4b15-8849-ca38a2a76426\")>,\n",
       " <selenium.webdriver.remote.webelement.WebElement (session=\"01d6160fb117e85f6e2060ae0aeaa756\", element=\"3c6fc917-3f85-4cb5-9d57-3c2b9a34343a\")>,\n",
       " <selenium.webdriver.remote.webelement.WebElement (session=\"01d6160fb117e85f6e2060ae0aeaa756\", element=\"e05568b6-c573-4287-b5aa-58769120b117\")>,\n",
       " <selenium.webdriver.remote.webelement.WebElement (session=\"01d6160fb117e85f6e2060ae0aeaa756\", element=\"4b1faa61-bc91-4afd-a9e6-8e957a24326c\")>,\n",
       " <selenium.webdriver.remote.webelement.WebElement (session=\"01d6160fb117e85f6e2060ae0aeaa756\", element=\"53c0394b-54ec-4130-a86c-b17b723568ef\")>,\n",
       " <selenium.webdriver.remote.webelement.WebElement (session=\"01d6160fb117e85f6e2060ae0aeaa756\", element=\"6c27f33f-bb84-45eb-81b5-65fd3c93814b\")>,\n",
       " <selenium.webdriver.remote.webelement.WebElement (session=\"01d6160fb117e85f6e2060ae0aeaa756\", element=\"60758ec3-8857-4da2-8a84-d06f8473eb6b\")>,\n",
       " <selenium.webdriver.remote.webelement.WebElement (session=\"01d6160fb117e85f6e2060ae0aeaa756\", element=\"59419ca2-ebd0-4d1b-b3ee-90a5775d2f33\")>,\n",
       " <selenium.webdriver.remote.webelement.WebElement (session=\"01d6160fb117e85f6e2060ae0aeaa756\", element=\"a100cdb5-0dcf-4a4c-8aac-05943c922041\")>,\n",
       " <selenium.webdriver.remote.webelement.WebElement (session=\"01d6160fb117e85f6e2060ae0aeaa756\", element=\"ae1b0bf0-b683-4a23-b42b-b5d1ebd38ee8\")>,\n",
       " <selenium.webdriver.remote.webelement.WebElement (session=\"01d6160fb117e85f6e2060ae0aeaa756\", element=\"6fbb9549-fc86-4c37-ba12-240ccb966da4\")>,\n",
       " <selenium.webdriver.remote.webelement.WebElement (session=\"01d6160fb117e85f6e2060ae0aeaa756\", element=\"00911515-0f2d-4747-9145-cf523401e62c\")>,\n",
       " <selenium.webdriver.remote.webelement.WebElement (session=\"01d6160fb117e85f6e2060ae0aeaa756\", element=\"2cbaa912-87aa-4c09-9f4d-f748c0232012\")>,\n",
       " <selenium.webdriver.remote.webelement.WebElement (session=\"01d6160fb117e85f6e2060ae0aeaa756\", element=\"c565f10b-76e7-425e-8b27-a9bd08e9cdf3\")>,\n",
       " <selenium.webdriver.remote.webelement.WebElement (session=\"01d6160fb117e85f6e2060ae0aeaa756\", element=\"4d912a32-d944-4a08-9a6d-ea27ec3cd1c6\")>,\n",
       " <selenium.webdriver.remote.webelement.WebElement (session=\"01d6160fb117e85f6e2060ae0aeaa756\", element=\"bd2249e7-d80e-4fca-bcb9-16b53254e067\")>,\n",
       " <selenium.webdriver.remote.webelement.WebElement (session=\"01d6160fb117e85f6e2060ae0aeaa756\", element=\"df4a5a76-3d94-4f43-a3ca-5cc9bdf3ea05\")>,\n",
       " <selenium.webdriver.remote.webelement.WebElement (session=\"01d6160fb117e85f6e2060ae0aeaa756\", element=\"bfe84d37-3d2d-4c2b-80fe-9433643a32dc\")>,\n",
       " <selenium.webdriver.remote.webelement.WebElement (session=\"01d6160fb117e85f6e2060ae0aeaa756\", element=\"299ee9b2-688b-4862-a56e-6d11119db8e6\")>,\n",
       " <selenium.webdriver.remote.webelement.WebElement (session=\"01d6160fb117e85f6e2060ae0aeaa756\", element=\"b2addac5-317b-4d08-aba1-2e5ee7156668\")>,\n",
       " <selenium.webdriver.remote.webelement.WebElement (session=\"01d6160fb117e85f6e2060ae0aeaa756\", element=\"53789519-afda-4724-b5bd-590912c9a756\")>,\n",
       " <selenium.webdriver.remote.webelement.WebElement (session=\"01d6160fb117e85f6e2060ae0aeaa756\", element=\"ea4e5c98-2e40-4d0d-9001-373b70f6d169\")>,\n",
       " <selenium.webdriver.remote.webelement.WebElement (session=\"01d6160fb117e85f6e2060ae0aeaa756\", element=\"2bd18473-4671-4a23-89db-a9489f6c5cdb\")>,\n",
       " <selenium.webdriver.remote.webelement.WebElement (session=\"01d6160fb117e85f6e2060ae0aeaa756\", element=\"6386cb17-e9db-454b-acd2-5e4205421c9b\")>,\n",
       " <selenium.webdriver.remote.webelement.WebElement (session=\"01d6160fb117e85f6e2060ae0aeaa756\", element=\"426f91c1-0581-4017-b14c-913245627ba5\")>,\n",
       " <selenium.webdriver.remote.webelement.WebElement (session=\"01d6160fb117e85f6e2060ae0aeaa756\", element=\"704dbfc8-f033-4eb0-a635-980506b1c962\")>,\n",
       " <selenium.webdriver.remote.webelement.WebElement (session=\"01d6160fb117e85f6e2060ae0aeaa756\", element=\"a542f632-1de2-4078-99c6-48eefcec86ff\")>,\n",
       " <selenium.webdriver.remote.webelement.WebElement (session=\"01d6160fb117e85f6e2060ae0aeaa756\", element=\"2dc6497c-9067-4848-b0f7-b37299ba8095\")>,\n",
       " <selenium.webdriver.remote.webelement.WebElement (session=\"01d6160fb117e85f6e2060ae0aeaa756\", element=\"1fe5827a-5ff3-4674-8ed8-b6a1f7acd61c\")>,\n",
       " <selenium.webdriver.remote.webelement.WebElement (session=\"01d6160fb117e85f6e2060ae0aeaa756\", element=\"336a4155-d387-4ccc-88f8-82b492912eb9\")>,\n",
       " <selenium.webdriver.remote.webelement.WebElement (session=\"01d6160fb117e85f6e2060ae0aeaa756\", element=\"45abe921-7944-45cd-8568-7a419f10e824\")>,\n",
       " <selenium.webdriver.remote.webelement.WebElement (session=\"01d6160fb117e85f6e2060ae0aeaa756\", element=\"a126a7fa-f193-4523-841c-4210b846f360\")>,\n",
       " <selenium.webdriver.remote.webelement.WebElement (session=\"01d6160fb117e85f6e2060ae0aeaa756\", element=\"35561838-cce3-4e42-b0e9-2ae1a1783d1f\")>,\n",
       " <selenium.webdriver.remote.webelement.WebElement (session=\"01d6160fb117e85f6e2060ae0aeaa756\", element=\"9ca80bbd-85e5-4a2e-81e3-99c8dfb5047c\")>,\n",
       " <selenium.webdriver.remote.webelement.WebElement (session=\"01d6160fb117e85f6e2060ae0aeaa756\", element=\"0ad331dc-f0a9-4b40-b5da-5c8a26bbed7a\")>,\n",
       " <selenium.webdriver.remote.webelement.WebElement (session=\"01d6160fb117e85f6e2060ae0aeaa756\", element=\"e3e81964-67a7-43ce-8b71-4f81dc906109\")>,\n",
       " <selenium.webdriver.remote.webelement.WebElement (session=\"01d6160fb117e85f6e2060ae0aeaa756\", element=\"1bae4747-8db4-4740-bd71-2e95bb755ff2\")>,\n",
       " <selenium.webdriver.remote.webelement.WebElement (session=\"01d6160fb117e85f6e2060ae0aeaa756\", element=\"c5a404b4-0f6c-49a8-9633-2260ecde068c\")>,\n",
       " <selenium.webdriver.remote.webelement.WebElement (session=\"01d6160fb117e85f6e2060ae0aeaa756\", element=\"db253211-6303-4eb8-9809-0cf815dc8766\")>,\n",
       " <selenium.webdriver.remote.webelement.WebElement (session=\"01d6160fb117e85f6e2060ae0aeaa756\", element=\"e199321a-bd05-4cb7-bc72-a3f8a09c36f2\")>,\n",
       " <selenium.webdriver.remote.webelement.WebElement (session=\"01d6160fb117e85f6e2060ae0aeaa756\", element=\"bb620955-6776-4990-8066-d0048d0ab075\")>,\n",
       " <selenium.webdriver.remote.webelement.WebElement (session=\"01d6160fb117e85f6e2060ae0aeaa756\", element=\"d942c4da-d15d-4f61-8ad4-cd3dd447e23f\")>,\n",
       " <selenium.webdriver.remote.webelement.WebElement (session=\"01d6160fb117e85f6e2060ae0aeaa756\", element=\"e36a0c58-2eb7-4faf-a706-c67a49b67f9d\")>,\n",
       " <selenium.webdriver.remote.webelement.WebElement (session=\"01d6160fb117e85f6e2060ae0aeaa756\", element=\"2aca3b80-cb40-4a6d-b1ff-bb83215d079d\")>,\n",
       " <selenium.webdriver.remote.webelement.WebElement (session=\"01d6160fb117e85f6e2060ae0aeaa756\", element=\"8149b785-7344-4efe-ae28-700b0512b392\")>,\n",
       " <selenium.webdriver.remote.webelement.WebElement (session=\"01d6160fb117e85f6e2060ae0aeaa756\", element=\"7bbfa29b-e3d4-440b-aabd-0531d2fa3126\")>,\n",
       " <selenium.webdriver.remote.webelement.WebElement (session=\"01d6160fb117e85f6e2060ae0aeaa756\", element=\"ee977438-918c-434e-b8d8-5a4ff46848ab\")>,\n",
       " <selenium.webdriver.remote.webelement.WebElement (session=\"01d6160fb117e85f6e2060ae0aeaa756\", element=\"ca1690e0-f9d2-400b-a961-74c94edd380b\")>,\n",
       " <selenium.webdriver.remote.webelement.WebElement (session=\"01d6160fb117e85f6e2060ae0aeaa756\", element=\"4d5a8209-6005-40a3-92ef-938625013632\")>,\n",
       " <selenium.webdriver.remote.webelement.WebElement (session=\"01d6160fb117e85f6e2060ae0aeaa756\", element=\"ec1b45b4-450d-4d37-abc9-214723d1c005\")>,\n",
       " <selenium.webdriver.remote.webelement.WebElement (session=\"01d6160fb117e85f6e2060ae0aeaa756\", element=\"bf6093f9-2d24-4cd7-8e09-412f194f79ce\")>,\n",
       " <selenium.webdriver.remote.webelement.WebElement (session=\"01d6160fb117e85f6e2060ae0aeaa756\", element=\"a5334ab7-ce0a-4fa3-a3a6-ce7af3e9f408\")>,\n",
       " <selenium.webdriver.remote.webelement.WebElement (session=\"01d6160fb117e85f6e2060ae0aeaa756\", element=\"344c7c19-75da-4eff-8d02-b1cdcfa4c611\")>,\n",
       " <selenium.webdriver.remote.webelement.WebElement (session=\"01d6160fb117e85f6e2060ae0aeaa756\", element=\"676b3279-753e-485f-97f3-17f8d5a5bf0b\")>,\n",
       " <selenium.webdriver.remote.webelement.WebElement (session=\"01d6160fb117e85f6e2060ae0aeaa756\", element=\"d6274f7e-faa8-4dee-8e13-061eed8db527\")>,\n",
       " <selenium.webdriver.remote.webelement.WebElement (session=\"01d6160fb117e85f6e2060ae0aeaa756\", element=\"612a812a-2339-4c88-801b-e65cc587d181\")>,\n",
       " <selenium.webdriver.remote.webelement.WebElement (session=\"01d6160fb117e85f6e2060ae0aeaa756\", element=\"27641c8d-cc33-40d6-9e50-6dbe5e546119\")>,\n",
       " <selenium.webdriver.remote.webelement.WebElement (session=\"01d6160fb117e85f6e2060ae0aeaa756\", element=\"de6ec7e2-395f-44e8-a997-4ba1cc97ed5d\")>,\n",
       " <selenium.webdriver.remote.webelement.WebElement (session=\"01d6160fb117e85f6e2060ae0aeaa756\", element=\"749ad8d1-f0ff-4257-ad0b-8f959575511b\")>,\n",
       " <selenium.webdriver.remote.webelement.WebElement (session=\"01d6160fb117e85f6e2060ae0aeaa756\", element=\"b89881ed-d5a0-4ddd-8252-012935b6d929\")>,\n",
       " <selenium.webdriver.remote.webelement.WebElement (session=\"01d6160fb117e85f6e2060ae0aeaa756\", element=\"7693f4f2-4e19-4fbe-8c37-69fe65ec7205\")>,\n",
       " <selenium.webdriver.remote.webelement.WebElement (session=\"01d6160fb117e85f6e2060ae0aeaa756\", element=\"a2edfb57-9c8b-4626-abdf-6ccafa505d18\")>,\n",
       " <selenium.webdriver.remote.webelement.WebElement (session=\"01d6160fb117e85f6e2060ae0aeaa756\", element=\"b3c65d9b-9ad3-4397-bf31-a1abded25801\")>,\n",
       " <selenium.webdriver.remote.webelement.WebElement (session=\"01d6160fb117e85f6e2060ae0aeaa756\", element=\"21c17372-309e-49cc-a627-91fc0a86a004\")>,\n",
       " <selenium.webdriver.remote.webelement.WebElement (session=\"01d6160fb117e85f6e2060ae0aeaa756\", element=\"7eb2fd78-9c00-4454-8cee-fbdaa5b2f8a5\")>,\n",
       " <selenium.webdriver.remote.webelement.WebElement (session=\"01d6160fb117e85f6e2060ae0aeaa756\", element=\"bb576365-f674-4e05-9b9b-8da013ce3b0c\")>,\n",
       " <selenium.webdriver.remote.webelement.WebElement (session=\"01d6160fb117e85f6e2060ae0aeaa756\", element=\"ca5e4d75-e4f1-4396-8b49-33c8ace46310\")>,\n",
       " <selenium.webdriver.remote.webelement.WebElement (session=\"01d6160fb117e85f6e2060ae0aeaa756\", element=\"e4b8e2f8-8871-4f4e-afe4-8980202bb140\")>,\n",
       " <selenium.webdriver.remote.webelement.WebElement (session=\"01d6160fb117e85f6e2060ae0aeaa756\", element=\"b568e993-ce24-4d4c-b64c-56d1bb1afd64\")>,\n",
       " <selenium.webdriver.remote.webelement.WebElement (session=\"01d6160fb117e85f6e2060ae0aeaa756\", element=\"e46af175-b296-430a-91c4-cfd45c73cbca\")>,\n",
       " <selenium.webdriver.remote.webelement.WebElement (session=\"01d6160fb117e85f6e2060ae0aeaa756\", element=\"759c3479-81cb-41bc-bb79-1ce72e89c977\")>,\n",
       " <selenium.webdriver.remote.webelement.WebElement (session=\"01d6160fb117e85f6e2060ae0aeaa756\", element=\"5f6d31f0-2978-47b4-a312-df2b81a5ff76\")>,\n",
       " <selenium.webdriver.remote.webelement.WebElement (session=\"01d6160fb117e85f6e2060ae0aeaa756\", element=\"9f304f86-b0d3-47e0-93ce-d0cfd211d9b0\")>,\n",
       " <selenium.webdriver.remote.webelement.WebElement (session=\"01d6160fb117e85f6e2060ae0aeaa756\", element=\"94f497f4-fc70-4f8b-8c29-6e09dde769bd\")>,\n",
       " <selenium.webdriver.remote.webelement.WebElement (session=\"01d6160fb117e85f6e2060ae0aeaa756\", element=\"724ec0b8-84f7-462e-9450-ef2aa3569456\")>,\n",
       " <selenium.webdriver.remote.webelement.WebElement (session=\"01d6160fb117e85f6e2060ae0aeaa756\", element=\"76b7f67b-2ddf-4141-a83a-7ecc50347f3e\")>]"
      ]
     },
     "execution_count": 18,
     "metadata": {},
     "output_type": "execute_result"
    }
   ],
   "source": [
    "images4"
   ]
  },
  {
   "cell_type": "code",
   "execution_count": 19,
   "id": "b18dd524",
   "metadata": {},
   "outputs": [],
   "source": [
    "img4_urls = []\n",
    "\n",
    "for image in images4:\n",
    "    source= image.get_attribute('src')\n",
    "    if source is not None:\n",
    "        if(source[0:4] == 'http'):\n",
    "            img4_urls.append(source)"
   ]
  },
  {
   "cell_type": "code",
   "execution_count": 20,
   "id": "8380179b",
   "metadata": {},
   "outputs": [
    {
     "name": "stdout",
     "output_type": "stream",
     "text": [
      "Downloading 0 of 10 images\n",
      "Downloading 1 of 10 images\n",
      "Downloading 2 of 10 images\n",
      "Downloading 3 of 10 images\n",
      "Downloading 4 of 10 images\n",
      "Downloading 5 of 10 images\n",
      "Downloading 6 of 10 images\n",
      "Downloading 7 of 10 images\n",
      "Downloading 8 of 10 images\n",
      "Downloading 9 of 10 images\n",
      "Downloading 10 of 10 images\n"
     ]
    }
   ],
   "source": [
    "import requests\n",
    "\n",
    "for i in range(len(img4_urls)):\n",
    "    if i > 10:\n",
    "        break\n",
    "    print(\"Downloading {0} of {1} images\" .format(i, 10))\n",
    "    response= requests.get(img4_urls[i])\n",
    "    file = open(r\"E:\\AssignmentImage\\Cakes\"+str(i)+\".jpg\", \"wb\")\n",
    "    file.write(response.content)"
   ]
  },
  {
   "cell_type": "code",
   "execution_count": null,
   "id": "17abedec",
   "metadata": {},
   "outputs": [],
   "source": []
  },
  {
   "cell_type": "code",
   "execution_count": null,
   "id": "31534213",
   "metadata": {},
   "outputs": [],
   "source": []
  },
  {
   "cell_type": "code",
   "execution_count": null,
   "id": "7592b371",
   "metadata": {},
   "outputs": [],
   "source": []
  },
  {
   "cell_type": "markdown",
   "id": "1ca48be0",
   "metadata": {},
   "source": [
    "4. Write a python program to search for a smartphone(e.g.: Oneplus Nord, pixel 4A, etc.) on www.flipkart.com and scrape following details for all the search results displayed on 1st page. Details to be scraped: “Brand Name”, “Smartphone name”, “Colour”, “RAM”, “Storage(ROM)”, “Primary Camera”, “Secondary Camera”, “Display Size”, “Battery Capacity”, “Price”, “Product URL”. Incase if any of the details is missing then replace it by “- “. Save your results in a dataframe and CSV."
   ]
  },
  {
   "cell_type": "code",
   "execution_count": 222,
   "id": "d5681b65",
   "metadata": {},
   "outputs": [],
   "source": [
    "# Lets first connect to the webdriver\n",
    "\n",
    "driver=webdriver.Chrome(r\"C:\\Users\\Hello world\\Downloads\\chromedriver_win32\\chromedriver.exe\")"
   ]
  },
  {
   "cell_type": "code",
   "execution_count": 223,
   "id": "02874ba0",
   "metadata": {},
   "outputs": [],
   "source": [
    "driver.get(\"https://www.flipkart.com/\")"
   ]
  },
  {
   "cell_type": "code",
   "execution_count": 224,
   "id": "48915391",
   "metadata": {},
   "outputs": [],
   "source": [
    "Product=driver.find_element(By.XPATH,\"/html/body/div[1]/div/div[1]/div[1]/div[2]/div[2]/form/div/div/input\")\n",
    "Product.send_keys('oneplus Nord, pixel 4A, Apple, Lenovo, Realme')"
   ]
  },
  {
   "cell_type": "code",
   "execution_count": 225,
   "id": "2c648f19",
   "metadata": {},
   "outputs": [],
   "source": [
    "Search=driver.find_element(By.XPATH,'/html/body/div[1]/div/div[1]/div[1]/div[2]/div[2]/form/div/button')\n",
    "Search.click()"
   ]
  },
  {
   "cell_type": "code",
   "execution_count": 226,
   "id": "bd7c6dab",
   "metadata": {},
   "outputs": [],
   "source": [
    "product_urls = []\n",
    "start=0\n",
    "end=4\n",
    "\n",
    "for page in range(start,end):\n",
    "    url=driver.find_elements(By.XPATH, '//a[@class=\"_1fQZEK\"]')"
   ]
  },
  {
   "cell_type": "code",
   "execution_count": 227,
   "id": "95c75b98",
   "metadata": {},
   "outputs": [],
   "source": [
    "for i in url:\n",
    "    product_urls.append(i.get_attribute(\"href\"))"
   ]
  },
  {
   "cell_type": "code",
   "execution_count": 228,
   "id": "e8c70a6c",
   "metadata": {},
   "outputs": [
    {
     "name": "stdout",
     "output_type": "stream",
     "text": [
      "['https://www.flipkart.com/oneplus-nord-gray-onyx-256-gb/p/itm49f817b591982?pid=MOBFUE5GGWHFC37J&lid=LSTMOBFUE5GGWHFC37JNXZLYZ&marketplace=FLIPKART&q=oneplus+Nord%2C+pixel+4A%2C+Apple%2C+Lenovo%2C+Realme&store=tyy%2F4io&srno=s_1_1&otracker=search&otracker1=search&fm=Search&iid=679f06e0-ec43-4367-b61b-d9f31df1aa29.MOBFUE5GGWHFC37J.SEARCH&ppt=sp&ppn=sp&ssid=j04kiet1zk0000001666547106112&qH=73dcca0e45850de9', 'https://www.flipkart.com/oneplus-nord-gray-onyx-64-gb/p/itm49f817b591982?pid=MOBFUE5H57THFNVJ&lid=LSTMOBFUE5H57THFNVJSYCAHJ&marketplace=FLIPKART&q=oneplus+Nord%2C+pixel+4A%2C+Apple%2C+Lenovo%2C+Realme&store=tyy%2F4io&srno=s_1_2&otracker=search&otracker1=search&fm=Search&iid=679f06e0-ec43-4367-b61b-d9f31df1aa29.MOBFUE5H57THFNVJ.SEARCH&ppt=sp&ppn=sp&ssid=j04kiet1zk0000001666547106112&qH=73dcca0e45850de9', 'https://www.flipkart.com/oneplus-nord-blue-marble-256-gb/p/itm49f817b591982?pid=MOBFUE5HUU5ZYGRY&lid=LSTMOBFUE5HUU5ZYGRY4ZWZZN&marketplace=FLIPKART&q=oneplus+Nord%2C+pixel+4A%2C+Apple%2C+Lenovo%2C+Realme&store=tyy%2F4io&srno=s_1_3&otracker=search&otracker1=search&fm=Search&iid=679f06e0-ec43-4367-b61b-d9f31df1aa29.MOBFUE5HUU5ZYGRY.SEARCH&ppt=sp&ppn=sp&ssid=j04kiet1zk0000001666547106112&qH=73dcca0e45850de9', 'https://www.flipkart.com/oneplus-nord-gray-onyx-128-gb/p/itm49f817b591982?pid=MOBFUE5HW4XUUGBN&lid=LSTMOBFUE5HW4XUUGBNMZB8TR&marketplace=FLIPKART&q=oneplus+Nord%2C+pixel+4A%2C+Apple%2C+Lenovo%2C+Realme&store=tyy%2F4io&srno=s_1_4&otracker=search&otracker1=search&fm=Search&iid=679f06e0-ec43-4367-b61b-d9f31df1aa29.MOBFUE5HW4XUUGBN.SEARCH&ppt=sp&ppn=sp&ssid=j04kiet1zk0000001666547106112&qH=73dcca0e45850de9', 'https://www.flipkart.com/oneplus-nord-blue-marble-128-gb/p/itm49f817b591982?pid=MOBFUE5JWYDZX6HX&lid=LSTMOBFUE5JWYDZX6HXJZSHIV&marketplace=FLIPKART&q=oneplus+Nord%2C+pixel+4A%2C+Apple%2C+Lenovo%2C+Realme&store=tyy%2F4io&srno=s_1_5&otracker=search&otracker1=search&fm=Search&iid=679f06e0-ec43-4367-b61b-d9f31df1aa29.MOBFUE5JWYDZX6HX.SEARCH&ppt=sp&ppn=sp&ssid=j04kiet1zk0000001666547106112&qH=73dcca0e45850de9', 'https://www.flipkart.com/oneplus-nord-blue-marble-64-gb/p/itm49f817b591982?pid=MOBFUE5N7KAGZHHC&lid=LSTMOBFUE5N7KAGZHHC6NVUQL&marketplace=FLIPKART&q=oneplus+Nord%2C+pixel+4A%2C+Apple%2C+Lenovo%2C+Realme&store=tyy%2F4io&srno=s_1_6&otracker=search&otracker1=search&fm=Search&iid=679f06e0-ec43-4367-b61b-d9f31df1aa29.MOBFUE5N7KAGZHHC.SEARCH&ppt=sp&ppn=sp&ssid=j04kiet1zk0000001666547106112&qH=73dcca0e45850de9', 'https://www.flipkart.com/oneplus-nord-ce-2-5g-gray-mirror-128-gb/p/itm2a9883679c57c?pid=MOBGDHWMFQBKFV5F&lid=LSTMOBGDHWMFQBKFV5FBSVDDD&marketplace=FLIPKART&q=oneplus+Nord%2C+pixel+4A%2C+Apple%2C+Lenovo%2C+Realme&store=tyy%2F4io&srno=s_1_7&otracker=search&otracker1=search&fm=Search&iid=679f06e0-ec43-4367-b61b-d9f31df1aa29.MOBGDHWMFQBKFV5F.SEARCH&ppt=sp&ppn=sp&ssid=j04kiet1zk0000001666547106112&qH=73dcca0e45850de9']\n"
     ]
    }
   ],
   "source": [
    "print(product_urls)"
   ]
  },
  {
   "cell_type": "code",
   "execution_count": null,
   "id": "5bb5f261",
   "metadata": {},
   "outputs": [],
   "source": []
  },
  {
   "cell_type": "code",
   "execution_count": 229,
   "id": "7bbb05a8",
   "metadata": {},
   "outputs": [],
   "source": [
    "name=[]\n",
    "\n",
    "# scraping Price of the phone\n",
    "N_tags=driver.find_elements(By.XPATH,'//div[@class=\"_4rR01T\"]')\n",
    "for i in N_tags[0:8]:\n",
    "    NAME=i.text\n",
    "    name.append(NAME)"
   ]
  },
  {
   "cell_type": "code",
   "execution_count": 230,
   "id": "016f592f",
   "metadata": {},
   "outputs": [
    {
     "data": {
      "text/plain": [
       "7"
      ]
     },
     "execution_count": 230,
     "metadata": {},
     "output_type": "execute_result"
    }
   ],
   "source": [
    "len(name)"
   ]
  },
  {
   "cell_type": "code",
   "execution_count": 231,
   "id": "6c1b6001",
   "metadata": {},
   "outputs": [],
   "source": [
    "price=[]\n",
    "\n",
    "# scraping Price of the phone\n",
    "price_tags=driver.find_elements(By.XPATH,'//div[@class=\"_30jeq3 _1_WHN1\"]')\n",
    "for i in price_tags[0:8]:\n",
    "    rate=i.text\n",
    "    price.append(rate)"
   ]
  },
  {
   "cell_type": "code",
   "execution_count": 232,
   "id": "ca19707a",
   "metadata": {},
   "outputs": [
    {
     "data": {
      "text/plain": [
       "7"
      ]
     },
     "execution_count": 232,
     "metadata": {},
     "output_type": "execute_result"
    }
   ],
   "source": [
    "len(price)"
   ]
  },
  {
   "cell_type": "code",
   "execution_count": 236,
   "id": "da6cca90",
   "metadata": {},
   "outputs": [],
   "source": [
    "Details=[]\n",
    "\n",
    "# scraping Price of the phone\n",
    "L_tags=driver.find_elements(By.XPATH,'//li[@class=\"rgWa7D\"]')\n",
    "for i in L_tags[0:50]:\n",
    "    Li=i.text\n",
    "    Details.append(Li)"
   ]
  },
  {
   "cell_type": "code",
   "execution_count": 237,
   "id": "c9dfa5c4",
   "metadata": {},
   "outputs": [
    {
     "data": {
      "text/plain": [
       "41"
      ]
     },
     "execution_count": 237,
     "metadata": {},
     "output_type": "execute_result"
    }
   ],
   "source": [
    "len(Details)"
   ]
  },
  {
   "cell_type": "code",
   "execution_count": 238,
   "id": "6a54f2c0",
   "metadata": {},
   "outputs": [
    {
     "data": {
      "text/plain": [
       "['12 GB RAM | 256 GB ROM',\n",
       " '16.36 cm (6.44 inch) Full HD+ Display',\n",
       " '48MP + 8MP | 32MP + 8MP Dual Front Camera',\n",
       " '4115 mAh Battery',\n",
       " 'Qualcomm® Snapdragon™ 765G Processor',\n",
       " '1 Year',\n",
       " '6 GB RAM | 64 GB ROM',\n",
       " '16.36 cm (6.44 inch) Full HD+ Display',\n",
       " '48MP + 8MP | 32MP + 8MP Dual Front Camera',\n",
       " '4115 mAh Battery',\n",
       " 'Qualcomm® Snapdragon™ 765G Processor',\n",
       " '1 Year',\n",
       " '12 GB RAM | 256 GB ROM',\n",
       " '16.36 cm (6.44 inch) Full HD+ Display',\n",
       " '48MP + 8MP | 32MP + 8MP Dual Front Camera',\n",
       " '4115 mAh Battery',\n",
       " 'Qualcomm® Snapdragon™ 765G Processor',\n",
       " '1 Year',\n",
       " '8 GB RAM | 128 GB ROM',\n",
       " '16.36 cm (6.44 inch) Full HD+ Display',\n",
       " '48MP + 8MP | 32MP + 8MP Dual Front Camera',\n",
       " '4115 mAh Battery',\n",
       " 'Qualcomm® Snapdragon™ 765G Processor',\n",
       " '1 Year',\n",
       " '8 GB RAM | 128 GB ROM',\n",
       " '16.36 cm (6.44 inch) Full HD+ Display',\n",
       " '48MP + 8MP | 32MP + 8MP Dual Front Camera',\n",
       " '4115 mAh Battery',\n",
       " 'Qualcomm® Snapdragon™ 765G Processor',\n",
       " '1 Year',\n",
       " '6 GB RAM | 64 GB ROM',\n",
       " '16.36 cm (6.44 inch) Full HD+ Display',\n",
       " '48MP + 8MP | 32MP + 8MP Dual Front Camera',\n",
       " '4115 mAh Battery',\n",
       " 'Qualcomm® Snapdragon™ 765G Processor',\n",
       " '1 Year',\n",
       " '8 GB RAM | 128 GB ROM',\n",
       " '16.33 cm (6.43 inch) Display',\n",
       " '64MP Rear Camera',\n",
       " '4500 mAh Battery',\n",
       " '1 Year']"
      ]
     },
     "execution_count": 238,
     "metadata": {},
     "output_type": "execute_result"
    }
   ],
   "source": [
    "Details"
   ]
  },
  {
   "cell_type": "code",
   "execution_count": 241,
   "id": "db9b9868",
   "metadata": {},
   "outputs": [
    {
     "data": {
      "text/plain": [
       "['12 GB RAM | 256 GB ROM',\n",
       " '6 GB RAM | 64 GB ROM',\n",
       " '12 GB RAM | 256 GB ROM',\n",
       " '8 GB RAM | 128 GB ROM',\n",
       " '8 GB RAM | 128 GB ROM',\n",
       " '6 GB RAM | 64 GB ROM',\n",
       " '8 GB RAM | 128 GB ROM']"
      ]
     },
     "execution_count": 241,
     "metadata": {},
     "output_type": "execute_result"
    }
   ],
   "source": [
    "RAM_ROM=[]\n",
    "RAM_ROM=Details[0 : 38 : 6]\n",
    "RAM_ROM"
   ]
  },
  {
   "cell_type": "code",
   "execution_count": 242,
   "id": "7e84ae51",
   "metadata": {},
   "outputs": [
    {
     "data": {
      "text/plain": [
       "['16.36 cm (6.44 inch) Full HD+ Display',\n",
       " '16.36 cm (6.44 inch) Full HD+ Display',\n",
       " '16.36 cm (6.44 inch) Full HD+ Display',\n",
       " '16.36 cm (6.44 inch) Full HD+ Display',\n",
       " '16.36 cm (6.44 inch) Full HD+ Display',\n",
       " '16.36 cm (6.44 inch) Full HD+ Display',\n",
       " '16.33 cm (6.43 inch) Display']"
      ]
     },
     "execution_count": 242,
     "metadata": {},
     "output_type": "execute_result"
    }
   ],
   "source": [
    "Display=[]\n",
    "Display=Details[1:40:6]\n",
    "Display"
   ]
  },
  {
   "cell_type": "code",
   "execution_count": 244,
   "id": "721fe537",
   "metadata": {},
   "outputs": [
    {
     "data": {
      "text/plain": [
       "['48MP + 8MP | 32MP + 8MP Dual Front Camera',\n",
       " '48MP + 8MP | 32MP + 8MP Dual Front Camera',\n",
       " '48MP + 8MP | 32MP + 8MP Dual Front Camera',\n",
       " '48MP + 8MP | 32MP + 8MP Dual Front Camera',\n",
       " '48MP + 8MP | 32MP + 8MP Dual Front Camera',\n",
       " '48MP + 8MP | 32MP + 8MP Dual Front Camera',\n",
       " '64MP Rear Camera']"
      ]
     },
     "execution_count": 244,
     "metadata": {},
     "output_type": "execute_result"
    }
   ],
   "source": [
    "Camera=[]\n",
    "Camera=Details[2:40:6]\n",
    "Camera"
   ]
  },
  {
   "cell_type": "code",
   "execution_count": 245,
   "id": "f58c972e",
   "metadata": {},
   "outputs": [
    {
     "data": {
      "text/plain": [
       "['4115 mAh Battery',\n",
       " '4115 mAh Battery',\n",
       " '4115 mAh Battery',\n",
       " '4115 mAh Battery',\n",
       " '4115 mAh Battery',\n",
       " '4115 mAh Battery',\n",
       " '4500 mAh Battery']"
      ]
     },
     "execution_count": 245,
     "metadata": {},
     "output_type": "execute_result"
    }
   ],
   "source": [
    "Battery=[]\n",
    "Battery=Details[3:41:6]\n",
    "Battery"
   ]
  },
  {
   "cell_type": "code",
   "execution_count": null,
   "id": "de682f7c",
   "metadata": {},
   "outputs": [],
   "source": []
  },
  {
   "cell_type": "code",
   "execution_count": null,
   "id": "d4088d4c",
   "metadata": {},
   "outputs": [],
   "source": []
  },
  {
   "cell_type": "code",
   "execution_count": 246,
   "id": "80f5586a",
   "metadata": {},
   "outputs": [
    {
     "data": {
      "text/html": [
       "<div>\n",
       "<style scoped>\n",
       "    .dataframe tbody tr th:only-of-type {\n",
       "        vertical-align: middle;\n",
       "    }\n",
       "\n",
       "    .dataframe tbody tr th {\n",
       "        vertical-align: top;\n",
       "    }\n",
       "\n",
       "    .dataframe thead th {\n",
       "        text-align: right;\n",
       "    }\n",
       "</style>\n",
       "<table border=\"1\" class=\"dataframe\">\n",
       "  <thead>\n",
       "    <tr style=\"text-align: right;\">\n",
       "      <th></th>\n",
       "      <th>Product Name</th>\n",
       "      <th>Product Price</th>\n",
       "      <th>Storage Details</th>\n",
       "      <th>Camera</th>\n",
       "      <th>Screen Size</th>\n",
       "      <th>Battery Capacity</th>\n",
       "      <th>Product_URL</th>\n",
       "    </tr>\n",
       "  </thead>\n",
       "  <tbody>\n",
       "    <tr>\n",
       "      <th>0</th>\n",
       "      <td>OnePlus Nord (Gray Onyx, 256 GB)</td>\n",
       "      <td>₹29,999</td>\n",
       "      <td>12 GB RAM | 256 GB ROM</td>\n",
       "      <td>48MP + 8MP | 32MP + 8MP Dual Front Camera</td>\n",
       "      <td>16.36 cm (6.44 inch) Full HD+ Display</td>\n",
       "      <td>4115 mAh Battery</td>\n",
       "      <td>https://www.flipkart.com/oneplus-nord-gray-ony...</td>\n",
       "    </tr>\n",
       "    <tr>\n",
       "      <th>1</th>\n",
       "      <td>OnePlus Nord (Gray Onyx, 64 GB)</td>\n",
       "      <td>₹24,999</td>\n",
       "      <td>6 GB RAM | 64 GB ROM</td>\n",
       "      <td>48MP + 8MP | 32MP + 8MP Dual Front Camera</td>\n",
       "      <td>16.36 cm (6.44 inch) Full HD+ Display</td>\n",
       "      <td>4115 mAh Battery</td>\n",
       "      <td>https://www.flipkart.com/oneplus-nord-gray-ony...</td>\n",
       "    </tr>\n",
       "    <tr>\n",
       "      <th>2</th>\n",
       "      <td>OnePlus Nord (Blue Marble, 256 GB)</td>\n",
       "      <td>₹29,999</td>\n",
       "      <td>12 GB RAM | 256 GB ROM</td>\n",
       "      <td>48MP + 8MP | 32MP + 8MP Dual Front Camera</td>\n",
       "      <td>16.36 cm (6.44 inch) Full HD+ Display</td>\n",
       "      <td>4115 mAh Battery</td>\n",
       "      <td>https://www.flipkart.com/oneplus-nord-blue-mar...</td>\n",
       "    </tr>\n",
       "    <tr>\n",
       "      <th>3</th>\n",
       "      <td>OnePlus Nord (Gray Onyx, 128 GB)</td>\n",
       "      <td>₹27,999</td>\n",
       "      <td>8 GB RAM | 128 GB ROM</td>\n",
       "      <td>48MP + 8MP | 32MP + 8MP Dual Front Camera</td>\n",
       "      <td>16.36 cm (6.44 inch) Full HD+ Display</td>\n",
       "      <td>4115 mAh Battery</td>\n",
       "      <td>https://www.flipkart.com/oneplus-nord-gray-ony...</td>\n",
       "    </tr>\n",
       "    <tr>\n",
       "      <th>4</th>\n",
       "      <td>OnePlus Nord (Blue Marble, 128 GB)</td>\n",
       "      <td>₹27,999</td>\n",
       "      <td>8 GB RAM | 128 GB ROM</td>\n",
       "      <td>48MP + 8MP | 32MP + 8MP Dual Front Camera</td>\n",
       "      <td>16.36 cm (6.44 inch) Full HD+ Display</td>\n",
       "      <td>4115 mAh Battery</td>\n",
       "      <td>https://www.flipkart.com/oneplus-nord-blue-mar...</td>\n",
       "    </tr>\n",
       "    <tr>\n",
       "      <th>5</th>\n",
       "      <td>OnePlus Nord (Blue Marble, 64 GB)</td>\n",
       "      <td>₹24,999</td>\n",
       "      <td>6 GB RAM | 64 GB ROM</td>\n",
       "      <td>48MP + 8MP | 32MP + 8MP Dual Front Camera</td>\n",
       "      <td>16.36 cm (6.44 inch) Full HD+ Display</td>\n",
       "      <td>4115 mAh Battery</td>\n",
       "      <td>https://www.flipkart.com/oneplus-nord-blue-mar...</td>\n",
       "    </tr>\n",
       "    <tr>\n",
       "      <th>6</th>\n",
       "      <td>OnePlus Nord CE 2 5G (Gray Mirror, 128 GB)</td>\n",
       "      <td>₹24,995</td>\n",
       "      <td>8 GB RAM | 128 GB ROM</td>\n",
       "      <td>64MP Rear Camera</td>\n",
       "      <td>16.33 cm (6.43 inch) Display</td>\n",
       "      <td>4500 mAh Battery</td>\n",
       "      <td>https://www.flipkart.com/oneplus-nord-ce-2-5g-...</td>\n",
       "    </tr>\n",
       "  </tbody>\n",
       "</table>\n",
       "</div>"
      ],
      "text/plain": [
       "                                 Product Name Product Price  \\\n",
       "0            OnePlus Nord (Gray Onyx, 256 GB)       ₹29,999   \n",
       "1             OnePlus Nord (Gray Onyx, 64 GB)       ₹24,999   \n",
       "2          OnePlus Nord (Blue Marble, 256 GB)       ₹29,999   \n",
       "3            OnePlus Nord (Gray Onyx, 128 GB)       ₹27,999   \n",
       "4          OnePlus Nord (Blue Marble, 128 GB)       ₹27,999   \n",
       "5           OnePlus Nord (Blue Marble, 64 GB)       ₹24,999   \n",
       "6  OnePlus Nord CE 2 5G (Gray Mirror, 128 GB)       ₹24,995   \n",
       "\n",
       "          Storage Details                                     Camera  \\\n",
       "0  12 GB RAM | 256 GB ROM  48MP + 8MP | 32MP + 8MP Dual Front Camera   \n",
       "1    6 GB RAM | 64 GB ROM  48MP + 8MP | 32MP + 8MP Dual Front Camera   \n",
       "2  12 GB RAM | 256 GB ROM  48MP + 8MP | 32MP + 8MP Dual Front Camera   \n",
       "3   8 GB RAM | 128 GB ROM  48MP + 8MP | 32MP + 8MP Dual Front Camera   \n",
       "4   8 GB RAM | 128 GB ROM  48MP + 8MP | 32MP + 8MP Dual Front Camera   \n",
       "5    6 GB RAM | 64 GB ROM  48MP + 8MP | 32MP + 8MP Dual Front Camera   \n",
       "6   8 GB RAM | 128 GB ROM                           64MP Rear Camera   \n",
       "\n",
       "                             Screen Size  Battery Capacity  \\\n",
       "0  16.36 cm (6.44 inch) Full HD+ Display  4115 mAh Battery   \n",
       "1  16.36 cm (6.44 inch) Full HD+ Display  4115 mAh Battery   \n",
       "2  16.36 cm (6.44 inch) Full HD+ Display  4115 mAh Battery   \n",
       "3  16.36 cm (6.44 inch) Full HD+ Display  4115 mAh Battery   \n",
       "4  16.36 cm (6.44 inch) Full HD+ Display  4115 mAh Battery   \n",
       "5  16.36 cm (6.44 inch) Full HD+ Display  4115 mAh Battery   \n",
       "6           16.33 cm (6.43 inch) Display  4500 mAh Battery   \n",
       "\n",
       "                                         Product_URL  \n",
       "0  https://www.flipkart.com/oneplus-nord-gray-ony...  \n",
       "1  https://www.flipkart.com/oneplus-nord-gray-ony...  \n",
       "2  https://www.flipkart.com/oneplus-nord-blue-mar...  \n",
       "3  https://www.flipkart.com/oneplus-nord-gray-ony...  \n",
       "4  https://www.flipkart.com/oneplus-nord-blue-mar...  \n",
       "5  https://www.flipkart.com/oneplus-nord-blue-mar...  \n",
       "6  https://www.flipkart.com/oneplus-nord-ce-2-5g-...  "
      ]
     },
     "execution_count": 246,
     "metadata": {},
     "output_type": "execute_result"
    }
   ],
   "source": [
    "df=pd.DataFrame({'Product Name':name,'Product Price':price,'Storage Details':RAM_ROM, 'Camera':Camera, 'Screen Size':Display, 'Battery Capacity':Battery, 'Product_URL':product_urls})\n",
    "df"
   ]
  },
  {
   "cell_type": "code",
   "execution_count": null,
   "id": "09dac13a",
   "metadata": {},
   "outputs": [],
   "source": []
  },
  {
   "cell_type": "code",
   "execution_count": 247,
   "id": "d498a596",
   "metadata": {},
   "outputs": [],
   "source": [
    "df1=pd.DataFrame(df)\n",
    "df1.to_csv('Mobiledetails.csv')"
   ]
  },
  {
   "cell_type": "code",
   "execution_count": null,
   "id": "21745855",
   "metadata": {},
   "outputs": [],
   "source": []
  },
  {
   "cell_type": "code",
   "execution_count": null,
   "id": "03e6751e",
   "metadata": {},
   "outputs": [],
   "source": []
  },
  {
   "cell_type": "markdown",
   "id": "e7d2caef",
   "metadata": {},
   "source": [
    "5. Write a program to scrap geospatial coordinates (latitude, longitude) of a city searched on google maps."
   ]
  },
  {
   "cell_type": "code",
   "execution_count": 32,
   "id": "4493bb47",
   "metadata": {},
   "outputs": [],
   "source": [
    "# Lets first connect to the webdriver\n",
    "\n",
    "driver=webdriver.Chrome(r\"C:\\Users\\Hello world\\Downloads\\chromedriver_win32\\chromedriver.exe\")"
   ]
  },
  {
   "cell_type": "code",
   "execution_count": 33,
   "id": "78900cf8",
   "metadata": {},
   "outputs": [],
   "source": [
    "driver.get(\"https://www.google.com/maps/\")"
   ]
  },
  {
   "cell_type": "code",
   "execution_count": 34,
   "id": "cc4fd367",
   "metadata": {},
   "outputs": [],
   "source": [
    "Place=driver.find_element(By.XPATH,\"/html/body/div[3]/div[9]/div[3]/div[1]/div[1]/div[1]/div[2]/form/div[2]/div[3]/div/input[1]\")\n",
    "Place.send_keys('Chennai')"
   ]
  },
  {
   "cell_type": "code",
   "execution_count": 35,
   "id": "344cadf8",
   "metadata": {},
   "outputs": [],
   "source": [
    "Search=driver.find_element(By.XPATH,'/html/body/div[3]/div[9]/div[3]/div[1]/div[1]/div[1]/div[2]/div[1]/button')\n",
    "Search.click()"
   ]
  },
  {
   "cell_type": "code",
   "execution_count": 39,
   "id": "a1b9c9fa",
   "metadata": {},
   "outputs": [
    {
     "name": "stdout",
     "output_type": "stream",
     "text": [
      "URL Extracted:  https://www.google.com/maps/place/Chennai,+Tamil+Nadu/@13.0480438,79.9288002,10z/data=!3m1!4b1!4m5!3m4!1s0x3a5265ea4f7d3361:0x6e61a70b6863d433!8m2!3d13.0826802!4d80.2707184\n",
      "Latitude = 13.0480438, Longitude = 79.9288002\n"
     ]
    }
   ],
   "source": [
    "import re\n",
    "\n",
    "try:\n",
    "    url_string = driver.current_url\n",
    "    print(\"URL Extracted: \", url_string)\n",
    "    lat_lng = re.findall(r'@(.*)data',url_string)\n",
    "    if len(lat_lng):\n",
    "        lat_lng_list = lat_lng[0].split(\",\")\n",
    "        if len(lat_lng_list)>=2:\n",
    "            lat = lat_lng_list[0]\n",
    "            lng = lat_lng_list[1]\n",
    "        print(\"Latitude = {}, Longitude = {}\".format(lat, lng))\n",
    "\n",
    "except Exception as e:\n",
    "    print(\"Error: \", str(e))"
   ]
  },
  {
   "cell_type": "code",
   "execution_count": null,
   "id": "ab9bc597",
   "metadata": {},
   "outputs": [],
   "source": []
  },
  {
   "cell_type": "markdown",
   "id": "932a1f7b",
   "metadata": {},
   "source": [
    "6. Write a program to scrap details of all the funding deals for second quarter (i.e Jan 21 – March 21) from trak.in."
   ]
  },
  {
   "cell_type": "code",
   "execution_count": 30,
   "id": "2dcd230b",
   "metadata": {},
   "outputs": [],
   "source": [
    "# Lets first connect to the webdriver\n",
    "\n",
    "driver=webdriver.Chrome(r\"C:\\Users\\Hello world\\Downloads\\chromedriver_win32\\chromedriver.exe\")"
   ]
  },
  {
   "cell_type": "code",
   "execution_count": 31,
   "id": "ee651f0f",
   "metadata": {},
   "outputs": [],
   "source": [
    "driver.get(\"https://trak.in/\")"
   ]
  },
  {
   "cell_type": "code",
   "execution_count": 33,
   "id": "f22607b4",
   "metadata": {},
   "outputs": [],
   "source": [
    "fund_button = driver.find_element(By.XPATH,'//li[@id=\"menu-item-51510\"]/a').get_attribute('href')\n",
    "driver.get(fund_button)"
   ]
  },
  {
   "cell_type": "code",
   "execution_count": null,
   "id": "66d2d310",
   "metadata": {},
   "outputs": [],
   "source": []
  },
  {
   "cell_type": "code",
   "execution_count": null,
   "id": "fb177b96",
   "metadata": {},
   "outputs": [],
   "source": []
  },
  {
   "cell_type": "markdown",
   "id": "d95ec03e",
   "metadata": {},
   "source": [
    "Funding Deals of Jan 2021."
   ]
  },
  {
   "cell_type": "code",
   "execution_count": 34,
   "id": "a6eebd59",
   "metadata": {},
   "outputs": [],
   "source": [
    "SrNo=[]\n",
    "\n",
    "# scraping Serial Number of the column\n",
    "sr_tags=driver.find_elements(By.XPATH,'//td[@class=\"column-1\"]')\n",
    "for i in sr_tags[0:29]:\n",
    "    se=i.text\n",
    "    SrNo.append(se)"
   ]
  },
  {
   "cell_type": "code",
   "execution_count": 35,
   "id": "98ad6e5a",
   "metadata": {},
   "outputs": [
    {
     "data": {
      "text/plain": [
       "29"
      ]
     },
     "execution_count": 35,
     "metadata": {},
     "output_type": "execute_result"
    }
   ],
   "source": [
    "len(SrNo)"
   ]
  },
  {
   "cell_type": "code",
   "execution_count": 36,
   "id": "275b3be3",
   "metadata": {},
   "outputs": [
    {
     "data": {
      "text/plain": [
       "['1',\n",
       " '2',\n",
       " '3',\n",
       " '4',\n",
       " '5',\n",
       " '1',\n",
       " '2',\n",
       " '3',\n",
       " '4',\n",
       " '5',\n",
       " '6',\n",
       " '7',\n",
       " '1',\n",
       " '2',\n",
       " '3',\n",
       " '4',\n",
       " '5',\n",
       " '6',\n",
       " '7',\n",
       " '8',\n",
       " '9',\n",
       " '1',\n",
       " '2',\n",
       " '3',\n",
       " '4',\n",
       " '5',\n",
       " '6',\n",
       " '7',\n",
       " '8']"
      ]
     },
     "execution_count": 36,
     "metadata": {},
     "output_type": "execute_result"
    }
   ],
   "source": [
    "SrNo"
   ]
  },
  {
   "cell_type": "code",
   "execution_count": 37,
   "id": "f5fd4ee9",
   "metadata": {},
   "outputs": [],
   "source": [
    "Number1=[]\n",
    "\n",
    "for i in SrNo[21:29]:\n",
    "    Number1.append(i)"
   ]
  },
  {
   "cell_type": "code",
   "execution_count": 38,
   "id": "6bb60962",
   "metadata": {},
   "outputs": [
    {
     "data": {
      "text/plain": [
       "['1', '2', '3', '4', '5', '6', '7', '8']"
      ]
     },
     "execution_count": 38,
     "metadata": {},
     "output_type": "execute_result"
    }
   ],
   "source": [
    "Number1"
   ]
  },
  {
   "cell_type": "code",
   "execution_count": null,
   "id": "001e9f54",
   "metadata": {},
   "outputs": [],
   "source": []
  },
  {
   "cell_type": "code",
   "execution_count": 39,
   "id": "c302c873",
   "metadata": {},
   "outputs": [],
   "source": [
    "Date=[]\n",
    "\n",
    "# scraping Date column\n",
    "Da_tags=driver.find_elements(By.XPATH,'//td[@class=\"column-2\"]')\n",
    "for i in Da_tags[0:29]:\n",
    "    date=i.text\n",
    "    Date.append(date)\n",
    "    "
   ]
  },
  {
   "cell_type": "code",
   "execution_count": 40,
   "id": "f6882dca",
   "metadata": {},
   "outputs": [
    {
     "data": {
      "text/plain": [
       "29"
      ]
     },
     "execution_count": 40,
     "metadata": {},
     "output_type": "execute_result"
    }
   ],
   "source": [
    "len(Date)"
   ]
  },
  {
   "cell_type": "code",
   "execution_count": 41,
   "id": "570f9ca7",
   "metadata": {},
   "outputs": [
    {
     "data": {
      "text/plain": [
       "['01/04/2021',\n",
       " '05/04/2021',\n",
       " '14/04/2021',\n",
       " '07/04/2021',\n",
       " '14/04/2021',\n",
       " '04/03/2021',\n",
       " '31/03/2021',\n",
       " '30/03/2021',\n",
       " '30/03/2021',\n",
       " '23/03/2021',\n",
       " '25/03/2021',\n",
       " '26/03/2021',\n",
       " '11/02/2021',\n",
       " '22/02/2021',\n",
       " '19/02/2021',\n",
       " '17/02/2021',\n",
       " '15/02/2021',\n",
       " '12/02/2021',\n",
       " '12/02/2021',\n",
       " '09/02/2021',\n",
       " '09/02/2021',\n",
       " '15/01/2021',\n",
       " '28/01/2021',\n",
       " '19/01/2021',\n",
       " '19/01/2021',\n",
       " '18/01/2021',\n",
       " '18/01/2021',\n",
       " '11/01/2021',\n",
       " '13/01/2021']"
      ]
     },
     "execution_count": 41,
     "metadata": {},
     "output_type": "execute_result"
    }
   ],
   "source": [
    "Date"
   ]
  },
  {
   "cell_type": "code",
   "execution_count": 42,
   "id": "33d4d51c",
   "metadata": {},
   "outputs": [],
   "source": [
    "Date1=[]\n",
    "\n",
    "for i in Date[21:29]:\n",
    "    Date1.append(i)"
   ]
  },
  {
   "cell_type": "code",
   "execution_count": 43,
   "id": "eec5ab2a",
   "metadata": {},
   "outputs": [
    {
     "data": {
      "text/plain": [
       "['15/01/2021',\n",
       " '28/01/2021',\n",
       " '19/01/2021',\n",
       " '19/01/2021',\n",
       " '18/01/2021',\n",
       " '18/01/2021',\n",
       " '11/01/2021',\n",
       " '13/01/2021']"
      ]
     },
     "execution_count": 43,
     "metadata": {},
     "output_type": "execute_result"
    }
   ],
   "source": [
    "Date1"
   ]
  },
  {
   "cell_type": "code",
   "execution_count": 44,
   "id": "153e91de",
   "metadata": {},
   "outputs": [],
   "source": [
    "Startup=[]\n",
    "\n",
    "# scraping Date column\n",
    "st_tags=driver.find_elements(By.XPATH,'//td[@class=\"column-3\"]')\n",
    "for i in st_tags[0:29]:\n",
    "    start=i.text\n",
    "    Startup.append(start)\n",
    "    "
   ]
  },
  {
   "cell_type": "code",
   "execution_count": 45,
   "id": "a7c22a05",
   "metadata": {},
   "outputs": [
    {
     "data": {
      "text/plain": [
       "['BYJU’S',\n",
       " 'Meesho',\n",
       " 'Swiggy',\n",
       " 'Groww',\n",
       " 'Beldara',\n",
       " 'DealShare',\n",
       " 'Uniphore',\n",
       " 'Dunzo',\n",
       " 'BYJU’S',\n",
       " 'SkilloVilla',\n",
       " 'CityMall',\n",
       " 'DotPe',\n",
       " 'Doubtnut',\n",
       " 'Zomato',\n",
       " 'Fingerlix',\n",
       " 'Zolve',\n",
       " 'KreditBee',\n",
       " 'Pepperfry',\n",
       " 'Grofers',\n",
       " 'Nothing',\n",
       " 'SplashLearn',\n",
       " 'Digit Insurance',\n",
       " 'Bombay Shaving Company',\n",
       " 'DeHaat',\n",
       " 'Darwinbox',\n",
       " 'mfine',\n",
       " 'Udayy',\n",
       " 'True Elements',\n",
       " 'Saveo']"
      ]
     },
     "execution_count": 45,
     "metadata": {},
     "output_type": "execute_result"
    }
   ],
   "source": [
    "Startup"
   ]
  },
  {
   "cell_type": "code",
   "execution_count": 46,
   "id": "e6ded9e5",
   "metadata": {},
   "outputs": [],
   "source": [
    "Startup1=[]\n",
    "\n",
    "for i in Startup[21:29]:\n",
    "    Startup1.append(i)"
   ]
  },
  {
   "cell_type": "code",
   "execution_count": 47,
   "id": "e03bd382",
   "metadata": {},
   "outputs": [
    {
     "data": {
      "text/plain": [
       "['Digit Insurance',\n",
       " 'Bombay Shaving Company',\n",
       " 'DeHaat',\n",
       " 'Darwinbox',\n",
       " 'mfine',\n",
       " 'Udayy',\n",
       " 'True Elements',\n",
       " 'Saveo']"
      ]
     },
     "execution_count": 47,
     "metadata": {},
     "output_type": "execute_result"
    }
   ],
   "source": [
    "Startup1"
   ]
  },
  {
   "cell_type": "code",
   "execution_count": null,
   "id": "1b616bfa",
   "metadata": {},
   "outputs": [],
   "source": []
  },
  {
   "cell_type": "code",
   "execution_count": 48,
   "id": "33dd7d13",
   "metadata": {},
   "outputs": [],
   "source": [
    "Industry=[]\n",
    "\n",
    "In_tags=driver.find_elements(By.XPATH,'//td[@class=\"column-4\"]')\n",
    "for i in In_tags[0:29]:\n",
    "    industry=i.text\n",
    "    Industry.append(industry)"
   ]
  },
  {
   "cell_type": "code",
   "execution_count": 49,
   "id": "e39b457c",
   "metadata": {},
   "outputs": [
    {
     "data": {
      "text/plain": [
       "['Edu-tech',\n",
       " 'E-commerce',\n",
       " 'Online Food Delivery',\n",
       " 'FinTech',\n",
       " 'E-commerce',\n",
       " 'E-commerce',\n",
       " 'Technology',\n",
       " 'E-commerce',\n",
       " 'Edu-tech',\n",
       " 'Edu-tech',\n",
       " 'E-commerce',\n",
       " 'FinTech',\n",
       " 'Edu Tech',\n",
       " 'Hospitality',\n",
       " 'Hospitality',\n",
       " 'FinTech',\n",
       " 'Finance',\n",
       " 'E-commerce',\n",
       " 'E-Commerce',\n",
       " 'Technology',\n",
       " 'EdTech',\n",
       " 'Financial Services',\n",
       " 'Consumer Goods Company',\n",
       " 'AgriTech Startup',\n",
       " 'SaaS',\n",
       " 'Health Tech Startup',\n",
       " 'EdTech',\n",
       " 'Food Startup',\n",
       " 'B2B E-commerce']"
      ]
     },
     "execution_count": 49,
     "metadata": {},
     "output_type": "execute_result"
    }
   ],
   "source": [
    "Industry"
   ]
  },
  {
   "cell_type": "code",
   "execution_count": 50,
   "id": "a9833250",
   "metadata": {},
   "outputs": [],
   "source": [
    "Industry1=[]\n",
    "\n",
    "for i in Industry[21:29]:\n",
    "    Industry1.append(i)"
   ]
  },
  {
   "cell_type": "code",
   "execution_count": 51,
   "id": "15f9baa5",
   "metadata": {},
   "outputs": [
    {
     "data": {
      "text/plain": [
       "['Financial Services',\n",
       " 'Consumer Goods Company',\n",
       " 'AgriTech Startup',\n",
       " 'SaaS',\n",
       " 'Health Tech Startup',\n",
       " 'EdTech',\n",
       " 'Food Startup',\n",
       " 'B2B E-commerce']"
      ]
     },
     "execution_count": 51,
     "metadata": {},
     "output_type": "execute_result"
    }
   ],
   "source": [
    "Industry1"
   ]
  },
  {
   "cell_type": "code",
   "execution_count": null,
   "id": "11fd2a32",
   "metadata": {},
   "outputs": [],
   "source": []
  },
  {
   "cell_type": "code",
   "execution_count": 52,
   "id": "214e6524",
   "metadata": {},
   "outputs": [],
   "source": [
    "Subvertical=[]\n",
    "\n",
    "sub_tags=driver.find_elements(By.XPATH,'//td[@class=\"column-5\"]')\n",
    "for i in sub_tags[0:29]:\n",
    "    vertical=i.text\n",
    "    Subvertical.append(vertical)"
   ]
  },
  {
   "cell_type": "code",
   "execution_count": 53,
   "id": "32d625ea",
   "metadata": {},
   "outputs": [
    {
     "data": {
      "text/plain": [
       "29"
      ]
     },
     "execution_count": 53,
     "metadata": {},
     "output_type": "execute_result"
    }
   ],
   "source": [
    "len(Subvertical)"
   ]
  },
  {
   "cell_type": "code",
   "execution_count": 54,
   "id": "11c24e78",
   "metadata": {},
   "outputs": [
    {
     "data": {
      "text/plain": [
       "['Online tutoring',\n",
       " 'Online reselling platform',\n",
       " 'Online Food Delivery',\n",
       " 'Investment platform',\n",
       " 'Global B2B marketplace',\n",
       " 'Online shopping platform',\n",
       " 'Conversational Service Automation (CSA)',\n",
       " 'Hyper-local delivery app',\n",
       " 'Online tutoring',\n",
       " 'Career and job-oriented upskilling.',\n",
       " 'Social ecommerce and online grocery platform',\n",
       " 'Commerce and payments platform to offline enterprise businesses.',\n",
       " 'E-Learning Platform',\n",
       " 'Online Food Delivery Platform',\n",
       " 'Semi-cooked food delivery app',\n",
       " 'Global Neobank Venture',\n",
       " 'Digital lending platform',\n",
       " 'Multi-brand furniture brand',\n",
       " 'Online supermarket',\n",
       " 'Consumer Technology Venture',\n",
       " 'Game-based learning programme',\n",
       " 'Insurance Services',\n",
       " 'Shave care, beard care, and skincare products',\n",
       " 'online marketplace for farm products and services',\n",
       " 'HR Tech',\n",
       " 'AI-powered telemedicine mobile app',\n",
       " 'Online learning platform for kids in class 1-5',\n",
       " 'Whole Food plant based Nashta',\n",
       " 'Pharmacies']"
      ]
     },
     "execution_count": 54,
     "metadata": {},
     "output_type": "execute_result"
    }
   ],
   "source": [
    "Subvertical"
   ]
  },
  {
   "cell_type": "code",
   "execution_count": 55,
   "id": "7ae928c4",
   "metadata": {},
   "outputs": [],
   "source": [
    "Subvertical1=[]\n",
    "\n",
    "for i in Subvertical[21:29]:\n",
    "    Subvertical1.append(i)"
   ]
  },
  {
   "cell_type": "code",
   "execution_count": 56,
   "id": "095b90ea",
   "metadata": {},
   "outputs": [
    {
     "data": {
      "text/plain": [
       "['Insurance Services',\n",
       " 'Shave care, beard care, and skincare products',\n",
       " 'online marketplace for farm products and services',\n",
       " 'HR Tech',\n",
       " 'AI-powered telemedicine mobile app',\n",
       " 'Online learning platform for kids in class 1-5',\n",
       " 'Whole Food plant based Nashta',\n",
       " 'Pharmacies']"
      ]
     },
     "execution_count": 56,
     "metadata": {},
     "output_type": "execute_result"
    }
   ],
   "source": [
    "Subvertical1"
   ]
  },
  {
   "cell_type": "code",
   "execution_count": null,
   "id": "57c23c1b",
   "metadata": {},
   "outputs": [],
   "source": []
  },
  {
   "cell_type": "code",
   "execution_count": 57,
   "id": "381cef00",
   "metadata": {},
   "outputs": [],
   "source": [
    "City=[]\n",
    "\n",
    "Ci_tags=driver.find_elements(By.XPATH,'//td[@class=\"column-6\"]')\n",
    "for i in Ci_tags[0:29]:\n",
    "    city=i.text\n",
    "    City.append(city)"
   ]
  },
  {
   "cell_type": "code",
   "execution_count": 58,
   "id": "d26f92d5",
   "metadata": {},
   "outputs": [
    {
     "data": {
      "text/plain": [
       "['Bengaluru',\n",
       " 'Bengaluru',\n",
       " 'Bengaluru',\n",
       " 'Bengaluru',\n",
       " 'Mumbai',\n",
       " 'Jaipur, Rajasthan',\n",
       " 'Palo Alto',\n",
       " 'Bengaluru',\n",
       " 'Bengaluru',\n",
       " 'Bengaluru',\n",
       " 'Gurgaon',\n",
       " 'Gurgaon',\n",
       " 'Gurgaon',\n",
       " 'Gurgaon',\n",
       " 'Mumbai',\n",
       " 'Mumbai',\n",
       " 'Bengaluru',\n",
       " 'Mumbai',\n",
       " 'Gurgaon',\n",
       " 'London',\n",
       " 'Gurgaon',\n",
       " 'Bengaluru',\n",
       " 'New Delhi',\n",
       " 'Patna',\n",
       " 'Mumbai',\n",
       " 'Bengaluru',\n",
       " 'Gurgaon',\n",
       " 'Pune',\n",
       " 'Bengaluru']"
      ]
     },
     "execution_count": 58,
     "metadata": {},
     "output_type": "execute_result"
    }
   ],
   "source": [
    "City"
   ]
  },
  {
   "cell_type": "code",
   "execution_count": 59,
   "id": "b31d0cde",
   "metadata": {},
   "outputs": [],
   "source": [
    "City1=[]\n",
    "\n",
    "for i in City[21:29]:\n",
    "    City1.append(i)"
   ]
  },
  {
   "cell_type": "code",
   "execution_count": 60,
   "id": "834377f6",
   "metadata": {},
   "outputs": [
    {
     "data": {
      "text/plain": [
       "['Bengaluru',\n",
       " 'New Delhi',\n",
       " 'Patna',\n",
       " 'Mumbai',\n",
       " 'Bengaluru',\n",
       " 'Gurgaon',\n",
       " 'Pune',\n",
       " 'Bengaluru']"
      ]
     },
     "execution_count": 60,
     "metadata": {},
     "output_type": "execute_result"
    }
   ],
   "source": [
    "City1"
   ]
  },
  {
   "cell_type": "code",
   "execution_count": null,
   "id": "259c1d88",
   "metadata": {},
   "outputs": [],
   "source": []
  },
  {
   "cell_type": "code",
   "execution_count": 61,
   "id": "1144fa9e",
   "metadata": {},
   "outputs": [],
   "source": [
    "Investors=[]\n",
    "\n",
    "# scraping Date column\n",
    "ves_tags=driver.find_elements(By.XPATH,'//td[@class=\"column-7\"]')\n",
    "for i in ves_tags[0:29]:\n",
    "    investor=i.text\n",
    "    Investors.append(investor)"
   ]
  },
  {
   "cell_type": "code",
   "execution_count": 62,
   "id": "d529acab",
   "metadata": {},
   "outputs": [
    {
     "data": {
      "text/plain": [
       "['Innoven Capital',\n",
       " 'SoftBank Vision Fund 2',\n",
       " 'Amansa Holdings, Carmignac, Falcon Edge Capital, Goldman Sachs, Think Investments',\n",
       " 'MC Global Edtech, B Capital, Baron, others',\n",
       " 'Hindustan Media Ventures',\n",
       " 'Innoven Capital',\n",
       " 'Sorenson Capital Partners',\n",
       " 'Krishtal Advisors Pte Ltd',\n",
       " 'MC Global Edtech, B Capital, Baron, others',\n",
       " 'Titan Capital, others',\n",
       " 'Accel Partners',\n",
       " 'PayU',\n",
       " 'SIG Global, Sequoia Capital, WaterBridge Ventures and ON Mauritius',\n",
       " 'Tiger Global, Kora',\n",
       " 'Rhodium Trust, Accel Partners and Swiggy',\n",
       " 'Accel Partners and Lightspeed Venture Partners',\n",
       " 'Azim Premji’s PremjiInvest and South Korea’s Mirae Asset Venture',\n",
       " 'InnoVen Capital',\n",
       " 'SoftBank Vision Fund (SVF)',\n",
       " 'GV',\n",
       " 'Owl Ventures',\n",
       " 'A91 Partners, Faering Capital, TVS Capital Funds',\n",
       " 'Reckitt Benckiser',\n",
       " 'Prosus Ventures',\n",
       " 'Salesforce Ventures',\n",
       " 'Heritas Capital Management',\n",
       " 'Sequoia Capital',\n",
       " 'SIDBI Venture Capital',\n",
       " 'Matrix Partners India, RTP Global, others']"
      ]
     },
     "execution_count": 62,
     "metadata": {},
     "output_type": "execute_result"
    }
   ],
   "source": [
    "Investors"
   ]
  },
  {
   "cell_type": "code",
   "execution_count": 63,
   "id": "05461ede",
   "metadata": {},
   "outputs": [],
   "source": [
    "Investors1=[]\n",
    "\n",
    "for i in Investors[21:29]:\n",
    "    Investors1.append(i)"
   ]
  },
  {
   "cell_type": "code",
   "execution_count": 64,
   "id": "027310c9",
   "metadata": {},
   "outputs": [
    {
     "data": {
      "text/plain": [
       "['A91 Partners, Faering Capital, TVS Capital Funds',\n",
       " 'Reckitt Benckiser',\n",
       " 'Prosus Ventures',\n",
       " 'Salesforce Ventures',\n",
       " 'Heritas Capital Management',\n",
       " 'Sequoia Capital',\n",
       " 'SIDBI Venture Capital',\n",
       " 'Matrix Partners India, RTP Global, others']"
      ]
     },
     "execution_count": 64,
     "metadata": {},
     "output_type": "execute_result"
    }
   ],
   "source": [
    "Investors1"
   ]
  },
  {
   "cell_type": "code",
   "execution_count": null,
   "id": "2991aee4",
   "metadata": {},
   "outputs": [],
   "source": []
  },
  {
   "cell_type": "code",
   "execution_count": 65,
   "id": "1e7d2224",
   "metadata": {},
   "outputs": [],
   "source": [
    "Investmentype=[]\n",
    "\n",
    "type_tags=driver.find_elements(By.XPATH,'//td[@class=\"column-8\"]')\n",
    "for i in type_tags[0:29]:\n",
    "    investment=i.text\n",
    "    Investmentype.append(investment)"
   ]
  },
  {
   "cell_type": "code",
   "execution_count": 66,
   "id": "124615fd",
   "metadata": {},
   "outputs": [
    {
     "data": {
      "text/plain": [
       "['Series F',\n",
       " 'Series E',\n",
       " 'Series J',\n",
       " 'Series D',\n",
       " 'Venture',\n",
       " 'Debt Financing',\n",
       " 'Series D',\n",
       " 'Series E',\n",
       " 'Series F',\n",
       " 'Seed',\n",
       " 'Series A',\n",
       " 'Series A',\n",
       " 'Series B',\n",
       " 'Venture',\n",
       " 'Series C',\n",
       " 'Seed',\n",
       " 'Series C',\n",
       " 'Debt Financing',\n",
       " 'Unspecified',\n",
       " 'Series A',\n",
       " 'Series C',\n",
       " 'Venture',\n",
       " 'Venture',\n",
       " 'Series C',\n",
       " 'Seed',\n",
       " 'Venture Round',\n",
       " 'Seed Funding',\n",
       " 'Series',\n",
       " 'Seed']"
      ]
     },
     "execution_count": 66,
     "metadata": {},
     "output_type": "execute_result"
    }
   ],
   "source": [
    "Investmentype"
   ]
  },
  {
   "cell_type": "code",
   "execution_count": 67,
   "id": "ccdc9fbd",
   "metadata": {},
   "outputs": [],
   "source": [
    "Investment1=[]\n",
    "\n",
    "for i in Investmentype[21:29]:\n",
    "    Investment1.append(i)"
   ]
  },
  {
   "cell_type": "code",
   "execution_count": 68,
   "id": "eecaad97",
   "metadata": {},
   "outputs": [
    {
     "data": {
      "text/plain": [
       "['Venture',\n",
       " 'Venture',\n",
       " 'Series C',\n",
       " 'Seed',\n",
       " 'Venture Round',\n",
       " 'Seed Funding',\n",
       " 'Series',\n",
       " 'Seed']"
      ]
     },
     "execution_count": 68,
     "metadata": {},
     "output_type": "execute_result"
    }
   ],
   "source": [
    "Investment1"
   ]
  },
  {
   "cell_type": "code",
   "execution_count": null,
   "id": "08f20ede",
   "metadata": {},
   "outputs": [],
   "source": []
  },
  {
   "cell_type": "code",
   "execution_count": 69,
   "id": "15f47c16",
   "metadata": {},
   "outputs": [],
   "source": [
    "Amount=[]\n",
    "\n",
    "Am_tags=driver.find_elements(By.XPATH,'//td[@class=\"column-9\"]')\n",
    "for i in Am_tags[0:29]:\n",
    "    rate=i.text\n",
    "    Amount.append(rate)"
   ]
  },
  {
   "cell_type": "code",
   "execution_count": 70,
   "id": "1f0b60ac",
   "metadata": {},
   "outputs": [
    {
     "data": {
      "text/plain": [
       "['460,000,000',\n",
       " '300,000,000',\n",
       " '343,000,000',\n",
       " '83,000,000',\n",
       " '7,400,000',\n",
       " '250,000,000',\n",
       " '140,000,000',\n",
       " '8,000,000',\n",
       " '460,000,000',\n",
       " '300,000,000',\n",
       " '11,000,000',\n",
       " '27,500,000',\n",
       " '2,500,000',\n",
       " '250,000,000',\n",
       " '2,747,045.20',\n",
       " '1,50,00,000',\n",
       " '75,000,000',\n",
       " '4,773,958',\n",
       " '55,000,000',\n",
       " '15,000,000',\n",
       " '18,000,000',\n",
       " '1,80,00,000',\n",
       " '6,172,258.50',\n",
       " '30,000,000',\n",
       " '15,000,000',\n",
       " '16,000,000',\n",
       " '15,000,000',\n",
       " '100,000,000',\n",
       " '4,000,000']"
      ]
     },
     "execution_count": 70,
     "metadata": {},
     "output_type": "execute_result"
    }
   ],
   "source": [
    "Amount"
   ]
  },
  {
   "cell_type": "code",
   "execution_count": 71,
   "id": "20d0fc28",
   "metadata": {},
   "outputs": [],
   "source": [
    "Amount1=[]\n",
    "\n",
    "for i in Amount[21:29]:\n",
    "    Amount1.append(i)"
   ]
  },
  {
   "cell_type": "code",
   "execution_count": 72,
   "id": "02725465",
   "metadata": {},
   "outputs": [
    {
     "data": {
      "text/plain": [
       "['1,80,00,000',\n",
       " '6,172,258.50',\n",
       " '30,000,000',\n",
       " '15,000,000',\n",
       " '16,000,000',\n",
       " '15,000,000',\n",
       " '100,000,000',\n",
       " '4,000,000']"
      ]
     },
     "execution_count": 72,
     "metadata": {},
     "output_type": "execute_result"
    }
   ],
   "source": [
    "Amount1"
   ]
  },
  {
   "cell_type": "markdown",
   "id": "2211ae1a",
   "metadata": {},
   "source": [
    "January Month Funding Deals"
   ]
  },
  {
   "cell_type": "code",
   "execution_count": 106,
   "id": "fb30d43c",
   "metadata": {},
   "outputs": [
    {
     "data": {
      "text/html": [
       "<div>\n",
       "<style scoped>\n",
       "    .dataframe tbody tr th:only-of-type {\n",
       "        vertical-align: middle;\n",
       "    }\n",
       "\n",
       "    .dataframe tbody tr th {\n",
       "        vertical-align: top;\n",
       "    }\n",
       "\n",
       "    .dataframe thead th {\n",
       "        text-align: right;\n",
       "    }\n",
       "</style>\n",
       "<table border=\"1\" class=\"dataframe\">\n",
       "  <thead>\n",
       "    <tr style=\"text-align: right;\">\n",
       "      <th></th>\n",
       "      <th>Sr No</th>\n",
       "      <th>Date</th>\n",
       "      <th>Startup Name</th>\n",
       "      <th>Industry/Vertical</th>\n",
       "      <th>Sub-vertical</th>\n",
       "      <th>City/Location</th>\n",
       "      <th>Investors Name</th>\n",
       "      <th>Investment Type</th>\n",
       "      <th>Amount(In USD)</th>\n",
       "    </tr>\n",
       "  </thead>\n",
       "  <tbody>\n",
       "    <tr>\n",
       "      <th>0</th>\n",
       "      <td>1</td>\n",
       "      <td>15/01/2021</td>\n",
       "      <td>Digit Insurance</td>\n",
       "      <td>Financial Services</td>\n",
       "      <td>Insurance Services</td>\n",
       "      <td>Bengaluru</td>\n",
       "      <td>A91 Partners, Faering Capital, TVS Capital Funds</td>\n",
       "      <td>Venture</td>\n",
       "      <td>1,80,00,000</td>\n",
       "    </tr>\n",
       "    <tr>\n",
       "      <th>1</th>\n",
       "      <td>2</td>\n",
       "      <td>28/01/2021</td>\n",
       "      <td>Bombay Shaving Company</td>\n",
       "      <td>Consumer Goods Company</td>\n",
       "      <td>Shave care, beard care, and skincare products</td>\n",
       "      <td>New Delhi</td>\n",
       "      <td>Reckitt Benckiser</td>\n",
       "      <td>Venture</td>\n",
       "      <td>6,172,258.50</td>\n",
       "    </tr>\n",
       "    <tr>\n",
       "      <th>2</th>\n",
       "      <td>3</td>\n",
       "      <td>19/01/2021</td>\n",
       "      <td>DeHaat</td>\n",
       "      <td>AgriTech Startup</td>\n",
       "      <td>online marketplace for farm products and services</td>\n",
       "      <td>Patna</td>\n",
       "      <td>Prosus Ventures</td>\n",
       "      <td>Series C</td>\n",
       "      <td>30,000,000</td>\n",
       "    </tr>\n",
       "    <tr>\n",
       "      <th>3</th>\n",
       "      <td>4</td>\n",
       "      <td>19/01/2021</td>\n",
       "      <td>Darwinbox</td>\n",
       "      <td>SaaS</td>\n",
       "      <td>HR Tech</td>\n",
       "      <td>Mumbai</td>\n",
       "      <td>Salesforce Ventures</td>\n",
       "      <td>Seed</td>\n",
       "      <td>15,000,000</td>\n",
       "    </tr>\n",
       "    <tr>\n",
       "      <th>4</th>\n",
       "      <td>5</td>\n",
       "      <td>18/01/2021</td>\n",
       "      <td>mfine</td>\n",
       "      <td>Health Tech Startup</td>\n",
       "      <td>AI-powered telemedicine mobile app</td>\n",
       "      <td>Bengaluru</td>\n",
       "      <td>Heritas Capital Management</td>\n",
       "      <td>Venture Round</td>\n",
       "      <td>16,000,000</td>\n",
       "    </tr>\n",
       "    <tr>\n",
       "      <th>5</th>\n",
       "      <td>6</td>\n",
       "      <td>18/01/2021</td>\n",
       "      <td>Udayy</td>\n",
       "      <td>EdTech</td>\n",
       "      <td>Online learning platform for kids in class 1-5</td>\n",
       "      <td>Gurgaon</td>\n",
       "      <td>Sequoia Capital</td>\n",
       "      <td>Seed Funding</td>\n",
       "      <td>15,000,000</td>\n",
       "    </tr>\n",
       "    <tr>\n",
       "      <th>6</th>\n",
       "      <td>7</td>\n",
       "      <td>11/01/2021</td>\n",
       "      <td>True Elements</td>\n",
       "      <td>Food Startup</td>\n",
       "      <td>Whole Food plant based Nashta</td>\n",
       "      <td>Pune</td>\n",
       "      <td>SIDBI Venture Capital</td>\n",
       "      <td>Series</td>\n",
       "      <td>100,000,000</td>\n",
       "    </tr>\n",
       "    <tr>\n",
       "      <th>7</th>\n",
       "      <td>8</td>\n",
       "      <td>13/01/2021</td>\n",
       "      <td>Saveo</td>\n",
       "      <td>B2B E-commerce</td>\n",
       "      <td>Pharmacies</td>\n",
       "      <td>Bengaluru</td>\n",
       "      <td>Matrix Partners India, RTP Global, others</td>\n",
       "      <td>Seed</td>\n",
       "      <td>4,000,000</td>\n",
       "    </tr>\n",
       "  </tbody>\n",
       "</table>\n",
       "</div>"
      ],
      "text/plain": [
       "  Sr No        Date            Startup Name       Industry/Vertical  \\\n",
       "0     1  15/01/2021         Digit Insurance      Financial Services   \n",
       "1     2  28/01/2021  Bombay Shaving Company  Consumer Goods Company   \n",
       "2     3  19/01/2021                  DeHaat        AgriTech Startup   \n",
       "3     4  19/01/2021               Darwinbox                    SaaS   \n",
       "4     5  18/01/2021                   mfine     Health Tech Startup   \n",
       "5     6  18/01/2021                   Udayy                  EdTech   \n",
       "6     7  11/01/2021           True Elements            Food Startup   \n",
       "7     8  13/01/2021                   Saveo          B2B E-commerce   \n",
       "\n",
       "                                        Sub-vertical City/Location  \\\n",
       "0                                 Insurance Services     Bengaluru   \n",
       "1      Shave care, beard care, and skincare products     New Delhi   \n",
       "2  online marketplace for farm products and services         Patna   \n",
       "3                                            HR Tech        Mumbai   \n",
       "4                 AI-powered telemedicine mobile app     Bengaluru   \n",
       "5     Online learning platform for kids in class 1-5       Gurgaon   \n",
       "6                      Whole Food plant based Nashta          Pune   \n",
       "7                                         Pharmacies     Bengaluru   \n",
       "\n",
       "                                     Investors Name Investment Type  \\\n",
       "0  A91 Partners, Faering Capital, TVS Capital Funds         Venture   \n",
       "1                                 Reckitt Benckiser         Venture   \n",
       "2                                   Prosus Ventures        Series C   \n",
       "3                               Salesforce Ventures            Seed   \n",
       "4                        Heritas Capital Management   Venture Round   \n",
       "5                                   Sequoia Capital    Seed Funding   \n",
       "6                             SIDBI Venture Capital          Series   \n",
       "7         Matrix Partners India, RTP Global, others            Seed   \n",
       "\n",
       "  Amount(In USD)  \n",
       "0    1,80,00,000  \n",
       "1   6,172,258.50  \n",
       "2     30,000,000  \n",
       "3     15,000,000  \n",
       "4     16,000,000  \n",
       "5     15,000,000  \n",
       "6    100,000,000  \n",
       "7      4,000,000  "
      ]
     },
     "execution_count": 106,
     "metadata": {},
     "output_type": "execute_result"
    }
   ],
   "source": [
    "df=pd.DataFrame({'Sr No':Number1,'Date':Date1,'Startup Name':Startup1, 'Industry/Vertical':Industry1, 'Sub-vertical':Subvertical1, 'City/Location':City1, 'Investors Name':Investors1, 'Investment Type':Investment1, 'Amount(In USD)':Amount1})\n",
    "df"
   ]
  },
  {
   "cell_type": "code",
   "execution_count": null,
   "id": "0a359ceb",
   "metadata": {},
   "outputs": [],
   "source": []
  },
  {
   "cell_type": "markdown",
   "id": "a4eea836",
   "metadata": {},
   "source": [
    "February month Funding Deals"
   ]
  },
  {
   "cell_type": "code",
   "execution_count": 73,
   "id": "99ac7a6e",
   "metadata": {},
   "outputs": [],
   "source": [
    "Number2=[]\n",
    "\n",
    "for i in SrNo[12:21]:\n",
    "    Number2.append(i)"
   ]
  },
  {
   "cell_type": "code",
   "execution_count": 74,
   "id": "9a1408ad",
   "metadata": {},
   "outputs": [
    {
     "data": {
      "text/plain": [
       "['1', '2', '3', '4', '5', '6', '7', '8', '9']"
      ]
     },
     "execution_count": 74,
     "metadata": {},
     "output_type": "execute_result"
    }
   ],
   "source": [
    "Number2"
   ]
  },
  {
   "cell_type": "code",
   "execution_count": 75,
   "id": "e94a8b44",
   "metadata": {},
   "outputs": [],
   "source": [
    "Date2=[]\n",
    "\n",
    "for i in Date[12:21]:\n",
    "    Date2.append(i)"
   ]
  },
  {
   "cell_type": "code",
   "execution_count": 76,
   "id": "87095502",
   "metadata": {},
   "outputs": [
    {
     "data": {
      "text/plain": [
       "['11/02/2021',\n",
       " '22/02/2021',\n",
       " '19/02/2021',\n",
       " '17/02/2021',\n",
       " '15/02/2021',\n",
       " '12/02/2021',\n",
       " '12/02/2021',\n",
       " '09/02/2021',\n",
       " '09/02/2021']"
      ]
     },
     "execution_count": 76,
     "metadata": {},
     "output_type": "execute_result"
    }
   ],
   "source": [
    "Date2"
   ]
  },
  {
   "cell_type": "code",
   "execution_count": 77,
   "id": "3993ecca",
   "metadata": {},
   "outputs": [],
   "source": [
    "Startup2=[]\n",
    "\n",
    "for i in Startup[12:21]:\n",
    "    Startup2.append(i)"
   ]
  },
  {
   "cell_type": "code",
   "execution_count": 78,
   "id": "51364bae",
   "metadata": {},
   "outputs": [
    {
     "data": {
      "text/plain": [
       "['Doubtnut',\n",
       " 'Zomato',\n",
       " 'Fingerlix',\n",
       " 'Zolve',\n",
       " 'KreditBee',\n",
       " 'Pepperfry',\n",
       " 'Grofers',\n",
       " 'Nothing',\n",
       " 'SplashLearn']"
      ]
     },
     "execution_count": 78,
     "metadata": {},
     "output_type": "execute_result"
    }
   ],
   "source": [
    "Startup2"
   ]
  },
  {
   "cell_type": "code",
   "execution_count": 79,
   "id": "dc88df03",
   "metadata": {},
   "outputs": [],
   "source": [
    "Industry2=[]\n",
    "\n",
    "for i in Industry[12:21]:\n",
    "    Industry2.append(i)"
   ]
  },
  {
   "cell_type": "code",
   "execution_count": 80,
   "id": "0289d0b0",
   "metadata": {},
   "outputs": [
    {
     "data": {
      "text/plain": [
       "['Edu Tech',\n",
       " 'Hospitality',\n",
       " 'Hospitality',\n",
       " 'FinTech',\n",
       " 'Finance',\n",
       " 'E-commerce',\n",
       " 'E-Commerce',\n",
       " 'Technology',\n",
       " 'EdTech']"
      ]
     },
     "execution_count": 80,
     "metadata": {},
     "output_type": "execute_result"
    }
   ],
   "source": [
    "Industry2"
   ]
  },
  {
   "cell_type": "code",
   "execution_count": 81,
   "id": "da144b6e",
   "metadata": {},
   "outputs": [],
   "source": [
    "Subvertical2=[]\n",
    "\n",
    "for i in Subvertical[12:21]:\n",
    "    Subvertical2.append(i)"
   ]
  },
  {
   "cell_type": "code",
   "execution_count": 82,
   "id": "c29c7964",
   "metadata": {},
   "outputs": [
    {
     "data": {
      "text/plain": [
       "['E-Learning Platform',\n",
       " 'Online Food Delivery Platform',\n",
       " 'Semi-cooked food delivery app',\n",
       " 'Global Neobank Venture',\n",
       " 'Digital lending platform',\n",
       " 'Multi-brand furniture brand',\n",
       " 'Online supermarket',\n",
       " 'Consumer Technology Venture',\n",
       " 'Game-based learning programme']"
      ]
     },
     "execution_count": 82,
     "metadata": {},
     "output_type": "execute_result"
    }
   ],
   "source": [
    "Subvertical2"
   ]
  },
  {
   "cell_type": "code",
   "execution_count": 83,
   "id": "9d570747",
   "metadata": {},
   "outputs": [],
   "source": [
    "City2=[]\n",
    "\n",
    "for i in City[12:21]:\n",
    "    City2.append(i)"
   ]
  },
  {
   "cell_type": "code",
   "execution_count": 84,
   "id": "cf6caea1",
   "metadata": {},
   "outputs": [
    {
     "data": {
      "text/plain": [
       "['Gurgaon',\n",
       " 'Gurgaon',\n",
       " 'Mumbai',\n",
       " 'Mumbai',\n",
       " 'Bengaluru',\n",
       " 'Mumbai',\n",
       " 'Gurgaon',\n",
       " 'London',\n",
       " 'Gurgaon']"
      ]
     },
     "execution_count": 84,
     "metadata": {},
     "output_type": "execute_result"
    }
   ],
   "source": [
    "City2"
   ]
  },
  {
   "cell_type": "code",
   "execution_count": 85,
   "id": "dbef34ad",
   "metadata": {},
   "outputs": [],
   "source": [
    "Investors2=[]\n",
    "\n",
    "for i in Investors[12:21]:\n",
    "    Investors2.append(i)"
   ]
  },
  {
   "cell_type": "code",
   "execution_count": 86,
   "id": "d1c9703c",
   "metadata": {},
   "outputs": [
    {
     "data": {
      "text/plain": [
       "['SIG Global, Sequoia Capital, WaterBridge Ventures and ON Mauritius',\n",
       " 'Tiger Global, Kora',\n",
       " 'Rhodium Trust, Accel Partners and Swiggy',\n",
       " 'Accel Partners and Lightspeed Venture Partners',\n",
       " 'Azim Premji’s PremjiInvest and South Korea’s Mirae Asset Venture',\n",
       " 'InnoVen Capital',\n",
       " 'SoftBank Vision Fund (SVF)',\n",
       " 'GV',\n",
       " 'Owl Ventures']"
      ]
     },
     "execution_count": 86,
     "metadata": {},
     "output_type": "execute_result"
    }
   ],
   "source": [
    "Investors2"
   ]
  },
  {
   "cell_type": "code",
   "execution_count": 87,
   "id": "015718c1",
   "metadata": {},
   "outputs": [],
   "source": [
    "Investment2=[]\n",
    "\n",
    "for i in Investmentype[12:21]:\n",
    "    Investment2.append(i)"
   ]
  },
  {
   "cell_type": "code",
   "execution_count": 88,
   "id": "be28f482",
   "metadata": {},
   "outputs": [
    {
     "data": {
      "text/plain": [
       "['Series B',\n",
       " 'Venture',\n",
       " 'Series C',\n",
       " 'Seed',\n",
       " 'Series C',\n",
       " 'Debt Financing',\n",
       " 'Unspecified',\n",
       " 'Series A',\n",
       " 'Series C']"
      ]
     },
     "execution_count": 88,
     "metadata": {},
     "output_type": "execute_result"
    }
   ],
   "source": [
    "Investment2"
   ]
  },
  {
   "cell_type": "code",
   "execution_count": 89,
   "id": "c5ee5bd8",
   "metadata": {},
   "outputs": [],
   "source": [
    "Amount2=[]\n",
    "\n",
    "for i in Amount[12:21]:\n",
    "    Amount2.append(i)"
   ]
  },
  {
   "cell_type": "code",
   "execution_count": 90,
   "id": "f606e6b7",
   "metadata": {},
   "outputs": [
    {
     "data": {
      "text/plain": [
       "['2,500,000',\n",
       " '250,000,000',\n",
       " '2,747,045.20',\n",
       " '1,50,00,000',\n",
       " '75,000,000',\n",
       " '4,773,958',\n",
       " '55,000,000',\n",
       " '15,000,000',\n",
       " '18,000,000']"
      ]
     },
     "execution_count": 90,
     "metadata": {},
     "output_type": "execute_result"
    }
   ],
   "source": [
    "Amount2"
   ]
  },
  {
   "cell_type": "code",
   "execution_count": 155,
   "id": "42441db9",
   "metadata": {},
   "outputs": [
    {
     "data": {
      "text/html": [
       "<div>\n",
       "<style scoped>\n",
       "    .dataframe tbody tr th:only-of-type {\n",
       "        vertical-align: middle;\n",
       "    }\n",
       "\n",
       "    .dataframe tbody tr th {\n",
       "        vertical-align: top;\n",
       "    }\n",
       "\n",
       "    .dataframe thead th {\n",
       "        text-align: right;\n",
       "    }\n",
       "</style>\n",
       "<table border=\"1\" class=\"dataframe\">\n",
       "  <thead>\n",
       "    <tr style=\"text-align: right;\">\n",
       "      <th></th>\n",
       "      <th>Sr No</th>\n",
       "      <th>Date</th>\n",
       "      <th>Startup Name</th>\n",
       "      <th>Industry/Vertical</th>\n",
       "      <th>Sub-vertical</th>\n",
       "      <th>City/Location</th>\n",
       "      <th>Investors Name</th>\n",
       "      <th>Investment Type</th>\n",
       "      <th>Amount(In USD)</th>\n",
       "    </tr>\n",
       "  </thead>\n",
       "  <tbody>\n",
       "    <tr>\n",
       "      <th>0</th>\n",
       "      <td>1</td>\n",
       "      <td>11/02/2021</td>\n",
       "      <td>Doubtnut</td>\n",
       "      <td>Edu Tech</td>\n",
       "      <td>E-Learning Platform</td>\n",
       "      <td>Gurgaon</td>\n",
       "      <td>SIG Global, Sequoia Capital, WaterBridge Ventu...</td>\n",
       "      <td>Series B</td>\n",
       "      <td>2,500,000</td>\n",
       "    </tr>\n",
       "    <tr>\n",
       "      <th>1</th>\n",
       "      <td>2</td>\n",
       "      <td>22/02/2021</td>\n",
       "      <td>Zomato</td>\n",
       "      <td>Hospitality</td>\n",
       "      <td>Online Food Delivery Platform</td>\n",
       "      <td>Gurgaon</td>\n",
       "      <td>Tiger Global, Kora</td>\n",
       "      <td>Venture</td>\n",
       "      <td>250,000,000</td>\n",
       "    </tr>\n",
       "    <tr>\n",
       "      <th>2</th>\n",
       "      <td>3</td>\n",
       "      <td>19/02/2021</td>\n",
       "      <td>Fingerlix</td>\n",
       "      <td>Hospitality</td>\n",
       "      <td>Semi-cooked food delivery app</td>\n",
       "      <td>Mumbai</td>\n",
       "      <td>Rhodium Trust, Accel Partners and Swiggy</td>\n",
       "      <td>Series C</td>\n",
       "      <td>2,747,045.20</td>\n",
       "    </tr>\n",
       "    <tr>\n",
       "      <th>3</th>\n",
       "      <td>4</td>\n",
       "      <td>17/02/2021</td>\n",
       "      <td>Zolve</td>\n",
       "      <td>FinTech</td>\n",
       "      <td>Global Neobank Venture</td>\n",
       "      <td>Mumbai</td>\n",
       "      <td>Accel Partners and Lightspeed Venture Partners</td>\n",
       "      <td>Seed</td>\n",
       "      <td>1,50,00,000</td>\n",
       "    </tr>\n",
       "    <tr>\n",
       "      <th>4</th>\n",
       "      <td>5</td>\n",
       "      <td>15/02/2021</td>\n",
       "      <td>KreditBee</td>\n",
       "      <td>Finance</td>\n",
       "      <td>Digital lending platform</td>\n",
       "      <td>Bengaluru</td>\n",
       "      <td>Azim Premji’s PremjiInvest and South Korea’s M...</td>\n",
       "      <td>Series C</td>\n",
       "      <td>75,000,000</td>\n",
       "    </tr>\n",
       "    <tr>\n",
       "      <th>5</th>\n",
       "      <td>6</td>\n",
       "      <td>12/02/2021</td>\n",
       "      <td>Pepperfry</td>\n",
       "      <td>E-commerce</td>\n",
       "      <td>Multi-brand furniture brand</td>\n",
       "      <td>Mumbai</td>\n",
       "      <td>InnoVen Capital</td>\n",
       "      <td>Debt Financing</td>\n",
       "      <td>4,773,958</td>\n",
       "    </tr>\n",
       "    <tr>\n",
       "      <th>6</th>\n",
       "      <td>7</td>\n",
       "      <td>12/02/2021</td>\n",
       "      <td>Grofers</td>\n",
       "      <td>E-Commerce</td>\n",
       "      <td>Online supermarket</td>\n",
       "      <td>Gurgaon</td>\n",
       "      <td>SoftBank Vision Fund (SVF)</td>\n",
       "      <td>Unspecified</td>\n",
       "      <td>55,000,000</td>\n",
       "    </tr>\n",
       "    <tr>\n",
       "      <th>7</th>\n",
       "      <td>8</td>\n",
       "      <td>09/02/2021</td>\n",
       "      <td>Nothing</td>\n",
       "      <td>Technology</td>\n",
       "      <td>Consumer Technology Venture</td>\n",
       "      <td>London</td>\n",
       "      <td>GV</td>\n",
       "      <td>Series A</td>\n",
       "      <td>15,000,000</td>\n",
       "    </tr>\n",
       "    <tr>\n",
       "      <th>8</th>\n",
       "      <td>9</td>\n",
       "      <td>09/02/2021</td>\n",
       "      <td>SplashLearn</td>\n",
       "      <td>EdTech</td>\n",
       "      <td>Game-based learning programme</td>\n",
       "      <td>Gurgaon</td>\n",
       "      <td>Owl Ventures</td>\n",
       "      <td>Series C</td>\n",
       "      <td>18,000,000</td>\n",
       "    </tr>\n",
       "  </tbody>\n",
       "</table>\n",
       "</div>"
      ],
      "text/plain": [
       "  Sr No        Date Startup Name Industry/Vertical  \\\n",
       "0     1  11/02/2021     Doubtnut          Edu Tech   \n",
       "1     2  22/02/2021       Zomato       Hospitality   \n",
       "2     3  19/02/2021    Fingerlix       Hospitality   \n",
       "3     4  17/02/2021        Zolve           FinTech   \n",
       "4     5  15/02/2021    KreditBee           Finance   \n",
       "5     6  12/02/2021    Pepperfry        E-commerce   \n",
       "6     7  12/02/2021      Grofers        E-Commerce   \n",
       "7     8  09/02/2021      Nothing        Technology   \n",
       "8     9  09/02/2021  SplashLearn            EdTech   \n",
       "\n",
       "                    Sub-vertical City/Location  \\\n",
       "0            E-Learning Platform       Gurgaon   \n",
       "1  Online Food Delivery Platform       Gurgaon   \n",
       "2  Semi-cooked food delivery app        Mumbai   \n",
       "3         Global Neobank Venture        Mumbai   \n",
       "4       Digital lending platform     Bengaluru   \n",
       "5    Multi-brand furniture brand        Mumbai   \n",
       "6             Online supermarket       Gurgaon   \n",
       "7    Consumer Technology Venture        London   \n",
       "8  Game-based learning programme       Gurgaon   \n",
       "\n",
       "                                      Investors Name Investment Type  \\\n",
       "0  SIG Global, Sequoia Capital, WaterBridge Ventu...        Series B   \n",
       "1                                 Tiger Global, Kora         Venture   \n",
       "2           Rhodium Trust, Accel Partners and Swiggy        Series C   \n",
       "3     Accel Partners and Lightspeed Venture Partners            Seed   \n",
       "4  Azim Premji’s PremjiInvest and South Korea’s M...        Series C   \n",
       "5                                    InnoVen Capital  Debt Financing   \n",
       "6                         SoftBank Vision Fund (SVF)     Unspecified   \n",
       "7                                                 GV        Series A   \n",
       "8                                       Owl Ventures        Series C   \n",
       "\n",
       "  Amount(In USD)  \n",
       "0      2,500,000  \n",
       "1    250,000,000  \n",
       "2   2,747,045.20  \n",
       "3    1,50,00,000  \n",
       "4     75,000,000  \n",
       "5      4,773,958  \n",
       "6     55,000,000  \n",
       "7     15,000,000  \n",
       "8     18,000,000  "
      ]
     },
     "execution_count": 155,
     "metadata": {},
     "output_type": "execute_result"
    }
   ],
   "source": [
    "df=pd.DataFrame({'Sr No':Number2,'Date':Date2,'Startup Name':Startup2, 'Industry/Vertical':Industry2, 'Sub-vertical':Subvertical2, 'City/Location':City2, 'Investors Name':Investors2, 'Investment Type':Investment2, 'Amount(In USD)':Amount2})\n",
    "df"
   ]
  },
  {
   "cell_type": "code",
   "execution_count": null,
   "id": "e0ba1857",
   "metadata": {},
   "outputs": [],
   "source": []
  },
  {
   "cell_type": "markdown",
   "id": "b379d8fc",
   "metadata": {},
   "source": [
    "March month Funding Deals"
   ]
  },
  {
   "cell_type": "code",
   "execution_count": 91,
   "id": "c605f230",
   "metadata": {},
   "outputs": [],
   "source": [
    "Number3=[]\n",
    "\n",
    "for i in SrNo[5:12]:\n",
    "    Number3.append(i)"
   ]
  },
  {
   "cell_type": "code",
   "execution_count": 92,
   "id": "a334c0be",
   "metadata": {},
   "outputs": [
    {
     "data": {
      "text/plain": [
       "['1', '2', '3', '4', '5', '6', '7']"
      ]
     },
     "execution_count": 92,
     "metadata": {},
     "output_type": "execute_result"
    }
   ],
   "source": [
    "Number3"
   ]
  },
  {
   "cell_type": "code",
   "execution_count": 93,
   "id": "621c7fbe",
   "metadata": {},
   "outputs": [],
   "source": [
    "Date3=[]\n",
    "\n",
    "for i in Date[5:12]:\n",
    "    Date3.append(i)"
   ]
  },
  {
   "cell_type": "code",
   "execution_count": 94,
   "id": "1b02e583",
   "metadata": {},
   "outputs": [
    {
     "data": {
      "text/plain": [
       "['04/03/2021',\n",
       " '31/03/2021',\n",
       " '30/03/2021',\n",
       " '30/03/2021',\n",
       " '23/03/2021',\n",
       " '25/03/2021',\n",
       " '26/03/2021']"
      ]
     },
     "execution_count": 94,
     "metadata": {},
     "output_type": "execute_result"
    }
   ],
   "source": [
    "Date3"
   ]
  },
  {
   "cell_type": "code",
   "execution_count": 95,
   "id": "f51bb1b7",
   "metadata": {},
   "outputs": [],
   "source": [
    "Startup3=[]\n",
    "\n",
    "for i in Startup[5:12]:\n",
    "    Startup3.append(i)"
   ]
  },
  {
   "cell_type": "code",
   "execution_count": 96,
   "id": "834c8086",
   "metadata": {},
   "outputs": [
    {
     "data": {
      "text/plain": [
       "['DealShare',\n",
       " 'Uniphore',\n",
       " 'Dunzo',\n",
       " 'BYJU’S',\n",
       " 'SkilloVilla',\n",
       " 'CityMall',\n",
       " 'DotPe']"
      ]
     },
     "execution_count": 96,
     "metadata": {},
     "output_type": "execute_result"
    }
   ],
   "source": [
    "Startup3"
   ]
  },
  {
   "cell_type": "code",
   "execution_count": 97,
   "id": "43233987",
   "metadata": {},
   "outputs": [],
   "source": [
    "Industry3=[]\n",
    "\n",
    "for i in Industry[5:12]:\n",
    "    Industry3.append(i)"
   ]
  },
  {
   "cell_type": "code",
   "execution_count": 98,
   "id": "0dbdbb34",
   "metadata": {},
   "outputs": [
    {
     "data": {
      "text/plain": [
       "['E-commerce',\n",
       " 'Technology',\n",
       " 'E-commerce',\n",
       " 'Edu-tech',\n",
       " 'Edu-tech',\n",
       " 'E-commerce',\n",
       " 'FinTech']"
      ]
     },
     "execution_count": 98,
     "metadata": {},
     "output_type": "execute_result"
    }
   ],
   "source": [
    "Industry3"
   ]
  },
  {
   "cell_type": "code",
   "execution_count": 99,
   "id": "97721285",
   "metadata": {},
   "outputs": [],
   "source": [
    "Subvertical3=[]\n",
    "\n",
    "for i in Subvertical[5:12]:\n",
    "    Subvertical3.append(i)"
   ]
  },
  {
   "cell_type": "code",
   "execution_count": 100,
   "id": "5d26aef1",
   "metadata": {},
   "outputs": [
    {
     "data": {
      "text/plain": [
       "['Online shopping platform',\n",
       " 'Conversational Service Automation (CSA)',\n",
       " 'Hyper-local delivery app',\n",
       " 'Online tutoring',\n",
       " 'Career and job-oriented upskilling.',\n",
       " 'Social ecommerce and online grocery platform',\n",
       " 'Commerce and payments platform to offline enterprise businesses.']"
      ]
     },
     "execution_count": 100,
     "metadata": {},
     "output_type": "execute_result"
    }
   ],
   "source": [
    "Subvertical3"
   ]
  },
  {
   "cell_type": "code",
   "execution_count": 101,
   "id": "ff07a872",
   "metadata": {},
   "outputs": [],
   "source": [
    "City3=[]\n",
    "\n",
    "for i in City[5:12]:\n",
    "    City3.append(i)"
   ]
  },
  {
   "cell_type": "code",
   "execution_count": 102,
   "id": "76750b67",
   "metadata": {},
   "outputs": [
    {
     "data": {
      "text/plain": [
       "['Jaipur, Rajasthan',\n",
       " 'Palo Alto',\n",
       " 'Bengaluru',\n",
       " 'Bengaluru',\n",
       " 'Bengaluru',\n",
       " 'Gurgaon',\n",
       " 'Gurgaon']"
      ]
     },
     "execution_count": 102,
     "metadata": {},
     "output_type": "execute_result"
    }
   ],
   "source": [
    "City3"
   ]
  },
  {
   "cell_type": "code",
   "execution_count": 103,
   "id": "6a4c2002",
   "metadata": {},
   "outputs": [],
   "source": [
    "Investors3=[]\n",
    "\n",
    "for i in Investors[5:12]:\n",
    "    Investors3.append(i)"
   ]
  },
  {
   "cell_type": "code",
   "execution_count": 104,
   "id": "8f5effff",
   "metadata": {},
   "outputs": [
    {
     "data": {
      "text/plain": [
       "['Innoven Capital',\n",
       " 'Sorenson Capital Partners',\n",
       " 'Krishtal Advisors Pte Ltd',\n",
       " 'MC Global Edtech, B Capital, Baron, others',\n",
       " 'Titan Capital, others',\n",
       " 'Accel Partners',\n",
       " 'PayU']"
      ]
     },
     "execution_count": 104,
     "metadata": {},
     "output_type": "execute_result"
    }
   ],
   "source": [
    "Investors3"
   ]
  },
  {
   "cell_type": "code",
   "execution_count": 105,
   "id": "d131aff3",
   "metadata": {},
   "outputs": [],
   "source": [
    "Investment3=[]\n",
    "\n",
    "for i in Investmentype[5:12]:\n",
    "    Investment3.append(i)"
   ]
  },
  {
   "cell_type": "code",
   "execution_count": 106,
   "id": "d57e1235",
   "metadata": {},
   "outputs": [
    {
     "data": {
      "text/plain": [
       "['Debt Financing',\n",
       " 'Series D',\n",
       " 'Series E',\n",
       " 'Series F',\n",
       " 'Seed',\n",
       " 'Series A',\n",
       " 'Series A']"
      ]
     },
     "execution_count": 106,
     "metadata": {},
     "output_type": "execute_result"
    }
   ],
   "source": [
    "Investment3"
   ]
  },
  {
   "cell_type": "code",
   "execution_count": 107,
   "id": "fdaaf58d",
   "metadata": {},
   "outputs": [],
   "source": [
    "Amount3=[]\n",
    "\n",
    "for i in Amount[5:12]:\n",
    "    Amount3.append(i)"
   ]
  },
  {
   "cell_type": "code",
   "execution_count": 108,
   "id": "6b62a7e1",
   "metadata": {},
   "outputs": [
    {
     "data": {
      "text/plain": [
       "['250,000,000',\n",
       " '140,000,000',\n",
       " '8,000,000',\n",
       " '460,000,000',\n",
       " '300,000,000',\n",
       " '11,000,000',\n",
       " '27,500,000']"
      ]
     },
     "execution_count": 108,
     "metadata": {},
     "output_type": "execute_result"
    }
   ],
   "source": [
    "Amount3"
   ]
  },
  {
   "cell_type": "code",
   "execution_count": null,
   "id": "dc9deedd",
   "metadata": {},
   "outputs": [],
   "source": []
  },
  {
   "cell_type": "code",
   "execution_count": 110,
   "id": "932a21dd",
   "metadata": {},
   "outputs": [
    {
     "data": {
      "text/html": [
       "<div>\n",
       "<style scoped>\n",
       "    .dataframe tbody tr th:only-of-type {\n",
       "        vertical-align: middle;\n",
       "    }\n",
       "\n",
       "    .dataframe tbody tr th {\n",
       "        vertical-align: top;\n",
       "    }\n",
       "\n",
       "    .dataframe thead th {\n",
       "        text-align: right;\n",
       "    }\n",
       "</style>\n",
       "<table border=\"1\" class=\"dataframe\">\n",
       "  <thead>\n",
       "    <tr style=\"text-align: right;\">\n",
       "      <th></th>\n",
       "      <th>Sr No</th>\n",
       "      <th>Date</th>\n",
       "      <th>Startup Name</th>\n",
       "      <th>Industry/Vertical</th>\n",
       "      <th>Sub-vertical</th>\n",
       "      <th>City/Location</th>\n",
       "      <th>Investors Name</th>\n",
       "      <th>Investment Type</th>\n",
       "      <th>Amount(In USD)</th>\n",
       "    </tr>\n",
       "  </thead>\n",
       "  <tbody>\n",
       "    <tr>\n",
       "      <th>0</th>\n",
       "      <td>1</td>\n",
       "      <td>04/03/2021</td>\n",
       "      <td>DealShare</td>\n",
       "      <td>E-commerce</td>\n",
       "      <td>Online shopping platform</td>\n",
       "      <td>Jaipur, Rajasthan</td>\n",
       "      <td>Innoven Capital</td>\n",
       "      <td>Debt Financing</td>\n",
       "      <td>250,000,000</td>\n",
       "    </tr>\n",
       "    <tr>\n",
       "      <th>1</th>\n",
       "      <td>2</td>\n",
       "      <td>31/03/2021</td>\n",
       "      <td>Uniphore</td>\n",
       "      <td>Technology</td>\n",
       "      <td>Conversational Service Automation (CSA)</td>\n",
       "      <td>Palo Alto</td>\n",
       "      <td>Sorenson Capital Partners</td>\n",
       "      <td>Series D</td>\n",
       "      <td>140,000,000</td>\n",
       "    </tr>\n",
       "    <tr>\n",
       "      <th>2</th>\n",
       "      <td>3</td>\n",
       "      <td>30/03/2021</td>\n",
       "      <td>Dunzo</td>\n",
       "      <td>E-commerce</td>\n",
       "      <td>Hyper-local delivery app</td>\n",
       "      <td>Bengaluru</td>\n",
       "      <td>Krishtal Advisors Pte Ltd</td>\n",
       "      <td>Series E</td>\n",
       "      <td>8,000,000</td>\n",
       "    </tr>\n",
       "    <tr>\n",
       "      <th>3</th>\n",
       "      <td>4</td>\n",
       "      <td>30/03/2021</td>\n",
       "      <td>BYJU’S</td>\n",
       "      <td>Edu-tech</td>\n",
       "      <td>Online tutoring</td>\n",
       "      <td>Bengaluru</td>\n",
       "      <td>MC Global Edtech, B Capital, Baron, others</td>\n",
       "      <td>Series F</td>\n",
       "      <td>460,000,000</td>\n",
       "    </tr>\n",
       "    <tr>\n",
       "      <th>4</th>\n",
       "      <td>5</td>\n",
       "      <td>23/03/2021</td>\n",
       "      <td>SkilloVilla</td>\n",
       "      <td>Edu-tech</td>\n",
       "      <td>Career and job-oriented upskilling.</td>\n",
       "      <td>Bengaluru</td>\n",
       "      <td>Titan Capital, others</td>\n",
       "      <td>Seed</td>\n",
       "      <td>300,000,000</td>\n",
       "    </tr>\n",
       "    <tr>\n",
       "      <th>5</th>\n",
       "      <td>6</td>\n",
       "      <td>25/03/2021</td>\n",
       "      <td>CityMall</td>\n",
       "      <td>E-commerce</td>\n",
       "      <td>Social ecommerce and online grocery platform</td>\n",
       "      <td>Gurgaon</td>\n",
       "      <td>Accel Partners</td>\n",
       "      <td>Series A</td>\n",
       "      <td>11,000,000</td>\n",
       "    </tr>\n",
       "    <tr>\n",
       "      <th>6</th>\n",
       "      <td>7</td>\n",
       "      <td>26/03/2021</td>\n",
       "      <td>DotPe</td>\n",
       "      <td>FinTech</td>\n",
       "      <td>Commerce and payments platform to offline ente...</td>\n",
       "      <td>Gurgaon</td>\n",
       "      <td>PayU</td>\n",
       "      <td>Series A</td>\n",
       "      <td>27,500,000</td>\n",
       "    </tr>\n",
       "  </tbody>\n",
       "</table>\n",
       "</div>"
      ],
      "text/plain": [
       "  Sr No        Date Startup Name Industry/Vertical  \\\n",
       "0     1  04/03/2021    DealShare        E-commerce   \n",
       "1     2  31/03/2021     Uniphore        Technology   \n",
       "2     3  30/03/2021        Dunzo        E-commerce   \n",
       "3     4  30/03/2021       BYJU’S          Edu-tech   \n",
       "4     5  23/03/2021  SkilloVilla          Edu-tech   \n",
       "5     6  25/03/2021     CityMall        E-commerce   \n",
       "6     7  26/03/2021        DotPe           FinTech   \n",
       "\n",
       "                                        Sub-vertical      City/Location  \\\n",
       "0                           Online shopping platform  Jaipur, Rajasthan   \n",
       "1            Conversational Service Automation (CSA)          Palo Alto   \n",
       "2                           Hyper-local delivery app          Bengaluru   \n",
       "3                                    Online tutoring          Bengaluru   \n",
       "4                Career and job-oriented upskilling.          Bengaluru   \n",
       "5       Social ecommerce and online grocery platform            Gurgaon   \n",
       "6  Commerce and payments platform to offline ente...            Gurgaon   \n",
       "\n",
       "                               Investors Name Investment Type Amount(In USD)  \n",
       "0                             Innoven Capital  Debt Financing    250,000,000  \n",
       "1                   Sorenson Capital Partners        Series D    140,000,000  \n",
       "2                   Krishtal Advisors Pte Ltd        Series E      8,000,000  \n",
       "3  MC Global Edtech, B Capital, Baron, others        Series F    460,000,000  \n",
       "4                       Titan Capital, others            Seed    300,000,000  \n",
       "5                              Accel Partners        Series A     11,000,000  \n",
       "6                                        PayU        Series A     27,500,000  "
      ]
     },
     "execution_count": 110,
     "metadata": {},
     "output_type": "execute_result"
    }
   ],
   "source": [
    "df=pd.DataFrame({'Sr No':Number3,'Date':Date3,'Startup Name':Startup3, 'Industry/Vertical':Industry3, 'Sub-vertical':Subvertical3, 'City/Location':City3, 'Investors Name':Investors3, 'Investment Type':Investment3, 'Amount(In USD)':Amount3})\n",
    "df"
   ]
  },
  {
   "cell_type": "code",
   "execution_count": null,
   "id": "961cbb41",
   "metadata": {},
   "outputs": [],
   "source": []
  },
  {
   "cell_type": "markdown",
   "id": "7b6129b6",
   "metadata": {},
   "source": [
    "7. Write a program to scrap all the available details of best gaming laptops from digit.in."
   ]
  },
  {
   "cell_type": "code",
   "execution_count": 133,
   "id": "7ad47e81",
   "metadata": {},
   "outputs": [],
   "source": [
    "# Lets first connect to the webdriver\n",
    "\n",
    "driver=webdriver.Chrome(r\"C:\\Users\\Hello world\\Downloads\\chromedriver_win32\\chromedriver.exe\")"
   ]
  },
  {
   "cell_type": "code",
   "execution_count": 134,
   "id": "f831c6d3",
   "metadata": {},
   "outputs": [],
   "source": [
    "driver.get(\"https://www.digit.in/\")"
   ]
  },
  {
   "cell_type": "code",
   "execution_count": 135,
   "id": "7a1b8a4c",
   "metadata": {},
   "outputs": [],
   "source": [
    "search=driver.find_element(By.XPATH, \"/html/body/div[6]/div/div[2]/div[2]/ul/li[10]/a\")\n",
    "search.click()"
   ]
  },
  {
   "cell_type": "code",
   "execution_count": 137,
   "id": "9f3e2dbb",
   "metadata": {},
   "outputs": [],
   "source": [
    "Name=[]\n",
    "\n",
    "Na_tags=driver.find_elements(By.XPATH,\"//table[@id='summtable']//tr//td[1]\")\n",
    "for i in Na_tags[0:10]:\n",
    "    nam=i.text\n",
    "    Name.append(nam)"
   ]
  },
  {
   "cell_type": "code",
   "execution_count": 138,
   "id": "4b631f5c",
   "metadata": {},
   "outputs": [
    {
     "data": {
      "text/plain": [
       "['MSI Titan GT77-12UHS',\n",
       " 'Alienware x17 R2',\n",
       " 'Acer Predator Triton 500 SE PT516-52s',\n",
       " 'Omen by HP (16-B1371TX)',\n",
       " 'Acer Predator Helios 300 AN515-45 (NH.QBRSI.0',\n",
       " 'MSI Delta 15 (A5EFK-083IN)',\n",
       " 'Omen by HP (16-c0141AX)',\n",
       " 'Lenovo Legion 5i Pro (82RF00MGIN)',\n",
       " 'Alienware m15 R5 Ryzen Edition icc-c780001win',\n",
       " 'Lenovo Slim 7 Gen 6 (82K8002JIN)']"
      ]
     },
     "execution_count": 138,
     "metadata": {},
     "output_type": "execute_result"
    }
   ],
   "source": [
    "Name"
   ]
  },
  {
   "cell_type": "code",
   "execution_count": null,
   "id": "14094a2e",
   "metadata": {},
   "outputs": [],
   "source": []
  },
  {
   "cell_type": "code",
   "execution_count": 139,
   "id": "a7c30b47",
   "metadata": {},
   "outputs": [],
   "source": [
    "OS=[]\n",
    "\n",
    "o_tags=driver.find_elements(By.XPATH,\"//div[@class='Spcs-details']//tr[5]//td[3]\")\n",
    "for i in o_tags[0:10]:\n",
    "    os=i.text\n",
    "    OS.append(os)"
   ]
  },
  {
   "cell_type": "code",
   "execution_count": 140,
   "id": "228897e0",
   "metadata": {},
   "outputs": [
    {
     "data": {
      "text/plain": [
       "['Windows 11 Home',\n",
       " 'Windows 11 Home',\n",
       " 'Windows 11 Home',\n",
       " 'Windows 11 Home',\n",
       " 'Windows 11 Home',\n",
       " 'Windows 11 Home',\n",
       " 'Windows 11 Home',\n",
       " 'Windows 11 Home',\n",
       " 'Windows 11 Home',\n",
       " 'Windows 11 Home']"
      ]
     },
     "execution_count": 140,
     "metadata": {},
     "output_type": "execute_result"
    }
   ],
   "source": [
    "OS"
   ]
  },
  {
   "cell_type": "code",
   "execution_count": null,
   "id": "8e2e90be",
   "metadata": {},
   "outputs": [],
   "source": []
  },
  {
   "cell_type": "code",
   "execution_count": 141,
   "id": "85cc5906",
   "metadata": {},
   "outputs": [],
   "source": [
    "Processor=[]\n",
    "\n",
    "pro_tags=driver.find_elements(By.XPATH,'//div[@class=\"Spcs-details\"]//tr[3]//td[3]')\n",
    "for i in pro_tags[0:10]:\n",
    "    dis=i.text\n",
    "    Processor.append(dis)"
   ]
  },
  {
   "cell_type": "code",
   "execution_count": 142,
   "id": "257cb9e0",
   "metadata": {},
   "outputs": [
    {
     "data": {
      "text/plain": [
       "['12th Gen Intel Core i9-12900HX 16 core processor',\n",
       " '12th Gen Intel Core i9-12900H 14 core processor with 5 GHz clock speed',\n",
       " '12th Gen Intel Core i7-12700H 14 core processor with 3.50 GHz clock speed',\n",
       " '12th Gen Intel Core i7-12700H 14 core processor with 4.7 GHz clock speed',\n",
       " 'AMD Ryzen 9-5900HX 8 core processor',\n",
       " 'AMD 5th Gen Ryzen 9-5900HX 8 core processor with 3.3GHz clock speed',\n",
       " 'AMD Ryzen™ 9 5900HX 8 core processor with 3.3 GHz clock speed',\n",
       " '12th Gen Intel Core i7-12700H 14 core processor with 2.3 GHz clock speed',\n",
       " 'AMD Ryzen R7-5800H 8 core processor with 4.40 GHz clock speed',\n",
       " 'Lenovo Ryzen 7-5800H processor with 3.2 GHz clock speed']"
      ]
     },
     "execution_count": 142,
     "metadata": {},
     "output_type": "execute_result"
    }
   ],
   "source": [
    "Processor"
   ]
  },
  {
   "cell_type": "code",
   "execution_count": null,
   "id": "ebd47f74",
   "metadata": {},
   "outputs": [],
   "source": []
  },
  {
   "cell_type": "code",
   "execution_count": 143,
   "id": "7ffa8a6e",
   "metadata": {},
   "outputs": [],
   "source": [
    "Display=[]\n",
    "\n",
    "play_tags=driver.find_elements(By.XPATH,'//div[@class=\"Spcs-details\"]//tr[4]//td[3]')\n",
    "for i in play_tags[0:10]:\n",
    "    dis=i.text\n",
    "    Display.append(dis)"
   ]
  },
  {
   "cell_type": "code",
   "execution_count": 144,
   "id": "29ba6437",
   "metadata": {},
   "outputs": [
    {
     "data": {
      "text/plain": [
       "['17.3″ (3840 x 2160) screen, 120 Hz refresh rate',\n",
       " '17.3″ (1920 x 1080) screen, 360 Hz refresh rate',\n",
       " '16″ (2560 x 1600) screen, 240 Hz refresh rate',\n",
       " '16.1″ (2560 x 1440) screen',\n",
       " '15.6″ (2560 x 1440) screen, 165 Hz refresh rate',\n",
       " '15.6″ (1920 x 1080) screen, 240Hz refresh rate',\n",
       " '16.1″ (2560 x 1440) screen',\n",
       " '16″ (2560 x 1600) screen, 165 Hz refresh rate',\n",
       " '15.6″ (1920 x 1080) screen, 165Hz refresh rate',\n",
       " '15.6″ screen, 165 Hz refresh rate']"
      ]
     },
     "execution_count": 144,
     "metadata": {},
     "output_type": "execute_result"
    }
   ],
   "source": [
    "Display"
   ]
  },
  {
   "cell_type": "code",
   "execution_count": null,
   "id": "adae7454",
   "metadata": {},
   "outputs": [],
   "source": []
  },
  {
   "cell_type": "code",
   "execution_count": 145,
   "id": "45e4092a",
   "metadata": {},
   "outputs": [],
   "source": [
    "Memory=[]\n",
    "\n",
    "Mem_tags=driver.find_elements(By.XPATH,'//div[@class=\"Spcs-details\"]//tr[6]//td[3]')\n",
    "for i in Mem_tags[0:10]:\n",
    "    dis=i.text\n",
    "    Memory.append(dis)"
   ]
  },
  {
   "cell_type": "code",
   "execution_count": 146,
   "id": "192b3424",
   "metadata": {},
   "outputs": [
    {
     "data": {
      "text/plain": [
       "['64 GB DDR5 RAM & 2 TB SSD',\n",
       " '32 GB DDR5 RAM & 1 TB SSD',\n",
       " '32 GB DDR5 RAM & 2 TB SSD',\n",
       " '8 GB DDR5 RAM & 1 TB SSD',\n",
       " '16 GB DDR4 RAM & 512 GB SSD',\n",
       " '16 GB DDR4 RAM & 1 TB SSD',\n",
       " '16 GB DDR4 RAM & 1 TB NVMe',\n",
       " '16 GB DDR5 RAM & 1 TB SSD',\n",
       " '16 GB DDR4 RAM & 512 GB SSD',\n",
       " '16 GB DDR4 RAM & 1 TB SSD']"
      ]
     },
     "execution_count": 146,
     "metadata": {},
     "output_type": "execute_result"
    }
   ],
   "source": [
    "Memory"
   ]
  },
  {
   "cell_type": "code",
   "execution_count": null,
   "id": "0c4cb818",
   "metadata": {},
   "outputs": [],
   "source": []
  },
  {
   "cell_type": "code",
   "execution_count": 147,
   "id": "dd1019f5",
   "metadata": {},
   "outputs": [],
   "source": [
    "GProcessor=[]\n",
    "\n",
    "GP_tags=driver.find_elements(By.XPATH,'//div[@class=\"Spcs-details\"]//tr[7]//td[3]')\n",
    "for i in GP_tags[0:10]:\n",
    "    dis=i.text\n",
    "    GProcessor.append(dis)"
   ]
  },
  {
   "cell_type": "code",
   "execution_count": 148,
   "id": "ed64cbb8",
   "metadata": {},
   "outputs": [
    {
     "data": {
      "text/plain": [
       "['16 GB DDR6 NVIDIA GeForce RTX 3080 Ti Graphics card',\n",
       " '16 GB DDR6 NVIDIA GEFORCE RTX 3080 Ti Graphics card',\n",
       " '8 GB DDR6 NVIDIA GeForce RTXTM 3070 Ti Graphics card',\n",
       " '8 GB GDDR6 NVIDIA GeForce RTX 3070 Graphics card',\n",
       " '8 GB DDR6 NVIDIA GeForce RTX 3070 Graphics card',\n",
       " '10 GB DDR6 AMD Radeon RX 6700M Graphics card',\n",
       " '8 GB GDDR6 AMD Radeon™ RX 6600M Graphics card',\n",
       " '6 GB DDR6 NVIDIA GeForce RTX 3060 Graphics card',\n",
       " '6 GB DDR6 NVIDIA GeForce RTX 3060 Graphics card',\n",
       " '6 GB DDR6 NVIDIA GeForce 3060 Max-Q Graphics card']"
      ]
     },
     "execution_count": 148,
     "metadata": {},
     "output_type": "execute_result"
    }
   ],
   "source": [
    "GProcessor"
   ]
  },
  {
   "cell_type": "code",
   "execution_count": null,
   "id": "abb447cf",
   "metadata": {},
   "outputs": [],
   "source": []
  },
  {
   "cell_type": "code",
   "execution_count": 149,
   "id": "a7cace56",
   "metadata": {},
   "outputs": [],
   "source": [
    "Body=[]\n",
    "\n",
    "BO_tags=driver.find_elements(By.XPATH,'//div[@class=\"Spcs-details\"]//tr[8]//td[3]')\n",
    "for i in BO_tags[0:10]:\n",
    "    dis=i.text\n",
    "    Body.append(dis)"
   ]
  },
  {
   "cell_type": "code",
   "execution_count": null,
   "id": "f1e21324",
   "metadata": {},
   "outputs": [],
   "source": []
  },
  {
   "cell_type": "code",
   "execution_count": 150,
   "id": "fd9db7dd",
   "metadata": {},
   "outputs": [
    {
     "data": {
      "text/plain": [
       "['397 x 330 x 23 mm dimension & 3.3 kg weight',\n",
       " '299 x 359 x 21 mm dimension & 2.96 kg weight',\n",
       " '358 x 262 x 19.9 mm dimension & 2.4 kg weight',\n",
       " '369 x 248 x 23 mm dimension & 2.32 kg weight',\n",
       " '363 x 255 x 23.9 mm dimension & 2.4 kg weight',\n",
       " '357 x 247 x 19 mm dimension & 1.9 kg weight',\n",
       " '36.92 x 24.8 x 2.3 mm dimension & 2.3 kg weight',\n",
       " '360 x 264 x 20 mm dimension & 2.49 kg weight',\n",
       " '356.2 x 272.5 x 22.85 mm dimension & 2.69 kg weight',\n",
       " '356 x 252 x 16 mm dimension & 1.9 kg weight']"
      ]
     },
     "execution_count": 150,
     "metadata": {},
     "output_type": "execute_result"
    }
   ],
   "source": [
    "Body"
   ]
  },
  {
   "cell_type": "code",
   "execution_count": null,
   "id": "78ee9157",
   "metadata": {},
   "outputs": [],
   "source": []
  },
  {
   "cell_type": "code",
   "execution_count": 155,
   "id": "d699b92b",
   "metadata": {},
   "outputs": [],
   "source": [
    "Price=[]\n",
    "\n",
    "try:\n",
    "    PR_tags=driver.find_elements(By.XPATH,'//div[@class=\"Spcs-details\"]//tr[9]//td[3]')\n",
    "    for i in PR_tags[0:10]:\n",
    "        pri=i.text\n",
    "        Price.append(pri)\n",
    "except NoSuchElementException as e:\n",
    "        Price.append('-')"
   ]
  },
  {
   "cell_type": "code",
   "execution_count": 156,
   "id": "6213e49d",
   "metadata": {},
   "outputs": [
    {
     "data": {
      "text/plain": [
       "['₹ 389,990',\n",
       " '₹ 300,000',\n",
       " '₹ 176,290',\n",
       " '₹ 172,999',\n",
       " '₹ 188,990',\n",
       " '₹ 124,990',\n",
       " '₹ 168,500',\n",
       " '₹ 144,990',\n",
       " '₹ 131,990']"
      ]
     },
     "execution_count": 156,
     "metadata": {},
     "output_type": "execute_result"
    }
   ],
   "source": [
    "Price"
   ]
  },
  {
   "cell_type": "code",
   "execution_count": 157,
   "id": "6fbb3a02",
   "metadata": {},
   "outputs": [
    {
     "data": {
      "text/plain": [
       "9"
      ]
     },
     "execution_count": 157,
     "metadata": {},
     "output_type": "execute_result"
    }
   ],
   "source": [
    "len(Price)"
   ]
  },
  {
   "cell_type": "code",
   "execution_count": null,
   "id": "f6f6260a",
   "metadata": {},
   "outputs": [],
   "source": []
  },
  {
   "cell_type": "code",
   "execution_count": 153,
   "id": "d2b75fb5",
   "metadata": {},
   "outputs": [
    {
     "data": {
      "text/html": [
       "<div>\n",
       "<style scoped>\n",
       "    .dataframe tbody tr th:only-of-type {\n",
       "        vertical-align: middle;\n",
       "    }\n",
       "\n",
       "    .dataframe tbody tr th {\n",
       "        vertical-align: top;\n",
       "    }\n",
       "\n",
       "    .dataframe thead th {\n",
       "        text-align: right;\n",
       "    }\n",
       "</style>\n",
       "<table border=\"1\" class=\"dataframe\">\n",
       "  <thead>\n",
       "    <tr style=\"text-align: right;\">\n",
       "      <th></th>\n",
       "      <th>Laptop Name</th>\n",
       "      <th>OS</th>\n",
       "      <th>Processor</th>\n",
       "      <th>Display</th>\n",
       "      <th>Memory</th>\n",
       "      <th>Graphics Processor</th>\n",
       "      <th>Body</th>\n",
       "    </tr>\n",
       "  </thead>\n",
       "  <tbody>\n",
       "    <tr>\n",
       "      <th>0</th>\n",
       "      <td>MSI Titan GT77-12UHS</td>\n",
       "      <td>Windows 11 Home</td>\n",
       "      <td>12th Gen Intel Core i9-12900HX 16 core processor</td>\n",
       "      <td>17.3″ (3840 x 2160) screen, 120 Hz refresh rate</td>\n",
       "      <td>64 GB DDR5 RAM &amp; 2 TB SSD</td>\n",
       "      <td>16 GB DDR6 NVIDIA GeForce RTX 3080 Ti Graphics...</td>\n",
       "      <td>397 x 330 x 23 mm dimension &amp; 3.3 kg weight</td>\n",
       "    </tr>\n",
       "    <tr>\n",
       "      <th>1</th>\n",
       "      <td>Alienware x17 R2</td>\n",
       "      <td>Windows 11 Home</td>\n",
       "      <td>12th Gen Intel Core i9-12900H 14 core processo...</td>\n",
       "      <td>17.3″ (1920 x 1080) screen, 360 Hz refresh rate</td>\n",
       "      <td>32 GB DDR5 RAM &amp; 1 TB SSD</td>\n",
       "      <td>16 GB DDR6 NVIDIA GEFORCE RTX 3080 Ti Graphics...</td>\n",
       "      <td>299 x 359 x 21 mm dimension &amp; 2.96 kg weight</td>\n",
       "    </tr>\n",
       "    <tr>\n",
       "      <th>2</th>\n",
       "      <td>Acer Predator Triton 500 SE PT516-52s</td>\n",
       "      <td>Windows 11 Home</td>\n",
       "      <td>12th Gen Intel Core i7-12700H 14 core processo...</td>\n",
       "      <td>16″ (2560 x 1600) screen, 240 Hz refresh rate</td>\n",
       "      <td>32 GB DDR5 RAM &amp; 2 TB SSD</td>\n",
       "      <td>8 GB DDR6 NVIDIA GeForce RTXTM 3070 Ti Graphic...</td>\n",
       "      <td>358 x 262 x 19.9 mm dimension &amp; 2.4 kg weight</td>\n",
       "    </tr>\n",
       "    <tr>\n",
       "      <th>3</th>\n",
       "      <td>Omen by HP (16-B1371TX)</td>\n",
       "      <td>Windows 11 Home</td>\n",
       "      <td>12th Gen Intel Core i7-12700H 14 core processo...</td>\n",
       "      <td>16.1″ (2560 x 1440) screen</td>\n",
       "      <td>8 GB DDR5 RAM &amp; 1 TB SSD</td>\n",
       "      <td>8 GB GDDR6 NVIDIA GeForce RTX 3070 Graphics card</td>\n",
       "      <td>369 x 248 x 23 mm dimension &amp; 2.32 kg weight</td>\n",
       "    </tr>\n",
       "    <tr>\n",
       "      <th>4</th>\n",
       "      <td>Acer Predator Helios 300 AN515-45 (NH.QBRSI.0</td>\n",
       "      <td>Windows 11 Home</td>\n",
       "      <td>AMD Ryzen 9-5900HX 8 core processor</td>\n",
       "      <td>15.6″ (2560 x 1440) screen, 165 Hz refresh rate</td>\n",
       "      <td>16 GB DDR4 RAM &amp; 512 GB SSD</td>\n",
       "      <td>8 GB DDR6 NVIDIA GeForce RTX 3070 Graphics card</td>\n",
       "      <td>363 x 255 x 23.9 mm dimension &amp; 2.4 kg weight</td>\n",
       "    </tr>\n",
       "    <tr>\n",
       "      <th>5</th>\n",
       "      <td>MSI Delta 15 (A5EFK-083IN)</td>\n",
       "      <td>Windows 11 Home</td>\n",
       "      <td>AMD 5th Gen Ryzen 9-5900HX 8 core processor wi...</td>\n",
       "      <td>15.6″ (1920 x 1080) screen, 240Hz refresh rate</td>\n",
       "      <td>16 GB DDR4 RAM &amp; 1 TB SSD</td>\n",
       "      <td>10 GB DDR6 AMD Radeon RX 6700M Graphics card</td>\n",
       "      <td>357 x 247 x 19 mm dimension &amp; 1.9 kg weight</td>\n",
       "    </tr>\n",
       "    <tr>\n",
       "      <th>6</th>\n",
       "      <td>Omen by HP (16-c0141AX)</td>\n",
       "      <td>Windows 11 Home</td>\n",
       "      <td>AMD Ryzen™ 9 5900HX 8 core processor with 3.3 ...</td>\n",
       "      <td>16.1″ (2560 x 1440) screen</td>\n",
       "      <td>16 GB DDR4 RAM &amp; 1 TB NVMe</td>\n",
       "      <td>8 GB GDDR6 AMD Radeon™ RX 6600M Graphics card</td>\n",
       "      <td>36.92 x 24.8 x 2.3 mm dimension &amp; 2.3 kg weight</td>\n",
       "    </tr>\n",
       "    <tr>\n",
       "      <th>7</th>\n",
       "      <td>Lenovo Legion 5i Pro (82RF00MGIN)</td>\n",
       "      <td>Windows 11 Home</td>\n",
       "      <td>12th Gen Intel Core i7-12700H 14 core processo...</td>\n",
       "      <td>16″ (2560 x 1600) screen, 165 Hz refresh rate</td>\n",
       "      <td>16 GB DDR5 RAM &amp; 1 TB SSD</td>\n",
       "      <td>6 GB DDR6 NVIDIA GeForce RTX 3060 Graphics card</td>\n",
       "      <td>360 x 264 x 20 mm dimension &amp; 2.49 kg weight</td>\n",
       "    </tr>\n",
       "    <tr>\n",
       "      <th>8</th>\n",
       "      <td>Alienware m15 R5 Ryzen Edition icc-c780001win</td>\n",
       "      <td>Windows 11 Home</td>\n",
       "      <td>AMD Ryzen R7-5800H 8 core processor with 4.40 ...</td>\n",
       "      <td>15.6″ (1920 x 1080) screen, 165Hz refresh rate</td>\n",
       "      <td>16 GB DDR4 RAM &amp; 512 GB SSD</td>\n",
       "      <td>6 GB DDR6 NVIDIA GeForce RTX 3060 Graphics card</td>\n",
       "      <td>356.2 x 272.5 x 22.85 mm dimension &amp; 2.69 kg w...</td>\n",
       "    </tr>\n",
       "    <tr>\n",
       "      <th>9</th>\n",
       "      <td>Lenovo Slim 7 Gen 6 (82K8002JIN)</td>\n",
       "      <td>Windows 11 Home</td>\n",
       "      <td>Lenovo Ryzen 7-5800H processor with 3.2 GHz cl...</td>\n",
       "      <td>15.6″ screen, 165 Hz refresh rate</td>\n",
       "      <td>16 GB DDR4 RAM &amp; 1 TB SSD</td>\n",
       "      <td>6 GB DDR6 NVIDIA GeForce 3060 Max-Q Graphics card</td>\n",
       "      <td>356 x 252 x 16 mm dimension &amp; 1.9 kg weight</td>\n",
       "    </tr>\n",
       "  </tbody>\n",
       "</table>\n",
       "</div>"
      ],
      "text/plain": [
       "                                     Laptop Name               OS  \\\n",
       "0                           MSI Titan GT77-12UHS  Windows 11 Home   \n",
       "1                               Alienware x17 R2  Windows 11 Home   \n",
       "2          Acer Predator Triton 500 SE PT516-52s  Windows 11 Home   \n",
       "3                        Omen by HP (16-B1371TX)  Windows 11 Home   \n",
       "4  Acer Predator Helios 300 AN515-45 (NH.QBRSI.0  Windows 11 Home   \n",
       "5                     MSI Delta 15 (A5EFK-083IN)  Windows 11 Home   \n",
       "6                        Omen by HP (16-c0141AX)  Windows 11 Home   \n",
       "7              Lenovo Legion 5i Pro (82RF00MGIN)  Windows 11 Home   \n",
       "8  Alienware m15 R5 Ryzen Edition icc-c780001win  Windows 11 Home   \n",
       "9               Lenovo Slim 7 Gen 6 (82K8002JIN)  Windows 11 Home   \n",
       "\n",
       "                                           Processor  \\\n",
       "0   12th Gen Intel Core i9-12900HX 16 core processor   \n",
       "1  12th Gen Intel Core i9-12900H 14 core processo...   \n",
       "2  12th Gen Intel Core i7-12700H 14 core processo...   \n",
       "3  12th Gen Intel Core i7-12700H 14 core processo...   \n",
       "4                AMD Ryzen 9-5900HX 8 core processor   \n",
       "5  AMD 5th Gen Ryzen 9-5900HX 8 core processor wi...   \n",
       "6  AMD Ryzen™ 9 5900HX 8 core processor with 3.3 ...   \n",
       "7  12th Gen Intel Core i7-12700H 14 core processo...   \n",
       "8  AMD Ryzen R7-5800H 8 core processor with 4.40 ...   \n",
       "9  Lenovo Ryzen 7-5800H processor with 3.2 GHz cl...   \n",
       "\n",
       "                                           Display  \\\n",
       "0  17.3″ (3840 x 2160) screen, 120 Hz refresh rate   \n",
       "1  17.3″ (1920 x 1080) screen, 360 Hz refresh rate   \n",
       "2    16″ (2560 x 1600) screen, 240 Hz refresh rate   \n",
       "3                       16.1″ (2560 x 1440) screen   \n",
       "4  15.6″ (2560 x 1440) screen, 165 Hz refresh rate   \n",
       "5   15.6″ (1920 x 1080) screen, 240Hz refresh rate   \n",
       "6                       16.1″ (2560 x 1440) screen   \n",
       "7    16″ (2560 x 1600) screen, 165 Hz refresh rate   \n",
       "8   15.6″ (1920 x 1080) screen, 165Hz refresh rate   \n",
       "9                15.6″ screen, 165 Hz refresh rate   \n",
       "\n",
       "                        Memory  \\\n",
       "0    64 GB DDR5 RAM & 2 TB SSD   \n",
       "1    32 GB DDR5 RAM & 1 TB SSD   \n",
       "2    32 GB DDR5 RAM & 2 TB SSD   \n",
       "3     8 GB DDR5 RAM & 1 TB SSD   \n",
       "4  16 GB DDR4 RAM & 512 GB SSD   \n",
       "5    16 GB DDR4 RAM & 1 TB SSD   \n",
       "6   16 GB DDR4 RAM & 1 TB NVMe   \n",
       "7    16 GB DDR5 RAM & 1 TB SSD   \n",
       "8  16 GB DDR4 RAM & 512 GB SSD   \n",
       "9    16 GB DDR4 RAM & 1 TB SSD   \n",
       "\n",
       "                                  Graphics Processor  \\\n",
       "0  16 GB DDR6 NVIDIA GeForce RTX 3080 Ti Graphics...   \n",
       "1  16 GB DDR6 NVIDIA GEFORCE RTX 3080 Ti Graphics...   \n",
       "2  8 GB DDR6 NVIDIA GeForce RTXTM 3070 Ti Graphic...   \n",
       "3   8 GB GDDR6 NVIDIA GeForce RTX 3070 Graphics card   \n",
       "4    8 GB DDR6 NVIDIA GeForce RTX 3070 Graphics card   \n",
       "5       10 GB DDR6 AMD Radeon RX 6700M Graphics card   \n",
       "6      8 GB GDDR6 AMD Radeon™ RX 6600M Graphics card   \n",
       "7    6 GB DDR6 NVIDIA GeForce RTX 3060 Graphics card   \n",
       "8    6 GB DDR6 NVIDIA GeForce RTX 3060 Graphics card   \n",
       "9  6 GB DDR6 NVIDIA GeForce 3060 Max-Q Graphics card   \n",
       "\n",
       "                                                Body  \n",
       "0        397 x 330 x 23 mm dimension & 3.3 kg weight  \n",
       "1       299 x 359 x 21 mm dimension & 2.96 kg weight  \n",
       "2      358 x 262 x 19.9 mm dimension & 2.4 kg weight  \n",
       "3       369 x 248 x 23 mm dimension & 2.32 kg weight  \n",
       "4      363 x 255 x 23.9 mm dimension & 2.4 kg weight  \n",
       "5        357 x 247 x 19 mm dimension & 1.9 kg weight  \n",
       "6    36.92 x 24.8 x 2.3 mm dimension & 2.3 kg weight  \n",
       "7       360 x 264 x 20 mm dimension & 2.49 kg weight  \n",
       "8  356.2 x 272.5 x 22.85 mm dimension & 2.69 kg w...  \n",
       "9        356 x 252 x 16 mm dimension & 1.9 kg weight  "
      ]
     },
     "execution_count": 153,
     "metadata": {},
     "output_type": "execute_result"
    }
   ],
   "source": [
    "df=pd.DataFrame({'Laptop Name':Name,'OS':OS,'Processor':Processor, 'Display':Display, 'Memory':Memory, 'Graphics Processor':GProcessor, 'Body':Body})\n",
    "df"
   ]
  },
  {
   "cell_type": "code",
   "execution_count": null,
   "id": "69a733d4",
   "metadata": {},
   "outputs": [],
   "source": []
  },
  {
   "cell_type": "code",
   "execution_count": null,
   "id": "044ca39c",
   "metadata": {},
   "outputs": [],
   "source": []
  },
  {
   "cell_type": "markdown",
   "id": "bddecdbb",
   "metadata": {},
   "source": [
    "8. Write a python program to scrape the details for all billionaires from www.forbes.com. Details to be scrapped: “Rank”, “Name”, “Net worth”, “Age”, “Citizenship”, “Source”, “Industry”."
   ]
  },
  {
   "cell_type": "code",
   "execution_count": 170,
   "id": "cc7d1ff4",
   "metadata": {},
   "outputs": [],
   "source": [
    "driver=webdriver.Chrome(r\"C:\\Users\\Hello world\\Downloads\\chromedriver_win32\\chromedriver.exe\")"
   ]
  },
  {
   "cell_type": "code",
   "execution_count": 171,
   "id": "53b154a3",
   "metadata": {},
   "outputs": [],
   "source": [
    "driver.get(\"https://www.forbes.com/\")"
   ]
  },
  {
   "cell_type": "code",
   "execution_count": 172,
   "id": "4b839e56",
   "metadata": {},
   "outputs": [],
   "source": [
    "# clicking the explore button\n",
    "\n",
    "search=driver.find_element(By.XPATH, \"/html/body/div[1]/header/nav/div[1]/div/div/div[1]\")\n",
    "search.click()"
   ]
  },
  {
   "cell_type": "code",
   "execution_count": 173,
   "id": "4291a67f",
   "metadata": {},
   "outputs": [],
   "source": [
    "# Clicking the billionaires\n",
    "\n",
    "search=driver.find_element(By.XPATH, '//div[@class=\"mpBfVZz3\"]')\n",
    "search.click()"
   ]
  },
  {
   "cell_type": "code",
   "execution_count": 175,
   "id": "a5a79b81",
   "metadata": {},
   "outputs": [],
   "source": [
    "# clicking the World's Billionaries\n",
    "\n",
    "search=driver.find_element(By.XPATH, '/html/body/div[1]/header/nav/div[1]/div/div/div[2]/ul/li[1]/div[2]/div[3]/ul/li[1]/a')\n",
    "search.click()"
   ]
  },
  {
   "cell_type": "code",
   "execution_count": null,
   "id": "04eb5b4f",
   "metadata": {},
   "outputs": [],
   "source": []
  },
  {
   "cell_type": "code",
   "execution_count": null,
   "id": "da00ce2f",
   "metadata": {},
   "outputs": [],
   "source": []
  },
  {
   "cell_type": "code",
   "execution_count": 177,
   "id": "2c3c9192",
   "metadata": {},
   "outputs": [],
   "source": [
    "Rank=[]\n",
    "Name=[]\n",
    "Net_Worth=[]\n",
    "Age=[]\n",
    "Citizenship=[]\n",
    "Source=[]\n",
    "Industry=[]\n",
    "\n",
    "while(True):\n",
    "    #scraping rank of billionaire\n",
    "    rank= driver.find_elements(By.XPATH, \"//div[@class='rank']\")\n",
    "    for i in rank:\n",
    "        Rank.append(i.text)\n",
    "    time.sleep(1)\n",
    "\n",
    "    try:\n",
    "        next_button = driver.find_element_by_xpath(\"//button[@class='pagination-btn pagination-btn--next ']\")\n",
    "        next_button.click()\n",
    "    except:\n",
    "        break  "
   ]
  },
  {
   "cell_type": "code",
   "execution_count": 178,
   "id": "db1369fd",
   "metadata": {},
   "outputs": [
    {
     "data": {
      "text/plain": [
       "['1.',\n",
       " '2.',\n",
       " '3.',\n",
       " '4.',\n",
       " '5.',\n",
       " '6.',\n",
       " '7.',\n",
       " '8.',\n",
       " '9.',\n",
       " '10.',\n",
       " '11.',\n",
       " '12.',\n",
       " '13.',\n",
       " '14.',\n",
       " '15.',\n",
       " '16.',\n",
       " '17.',\n",
       " '18.',\n",
       " '19.',\n",
       " '19.',\n",
       " '21.',\n",
       " '21.',\n",
       " '23.',\n",
       " '24.',\n",
       " '25.',\n",
       " '26.',\n",
       " '27.',\n",
       " '28.',\n",
       " '29.',\n",
       " '30.',\n",
       " '31.',\n",
       " '32.',\n",
       " '33.',\n",
       " '34.',\n",
       " '35.',\n",
       " '36.',\n",
       " '37.',\n",
       " '37.',\n",
       " '39.',\n",
       " '40.',\n",
       " '41.',\n",
       " '41.',\n",
       " '43.',\n",
       " '43.',\n",
       " '45.',\n",
       " '46.',\n",
       " '47.',\n",
       " '48.',\n",
       " '49.',\n",
       " '50.',\n",
       " '51.',\n",
       " '52.',\n",
       " '53.',\n",
       " '54.',\n",
       " '55.',\n",
       " '56.',\n",
       " '56.',\n",
       " '56.',\n",
       " '59.',\n",
       " '60.',\n",
       " '61.',\n",
       " '62.',\n",
       " '63.',\n",
       " '64.',\n",
       " '65.',\n",
       " '66.',\n",
       " '67.',\n",
       " '67.',\n",
       " '69.',\n",
       " '70.',\n",
       " '71.',\n",
       " '71.',\n",
       " '73.',\n",
       " '74.',\n",
       " '75.',\n",
       " '76.',\n",
       " '77.',\n",
       " '78.',\n",
       " '79.',\n",
       " '80.',\n",
       " '81.',\n",
       " '82.',\n",
       " '83.',\n",
       " '84.',\n",
       " '85.',\n",
       " '85.',\n",
       " '87.',\n",
       " '88.',\n",
       " '89.',\n",
       " '90.',\n",
       " '91.',\n",
       " '91.',\n",
       " '91.',\n",
       " '94.',\n",
       " '94.',\n",
       " '96.',\n",
       " '97.',\n",
       " '98.',\n",
       " '99.',\n",
       " '100.',\n",
       " '100.',\n",
       " '102.',\n",
       " '103.',\n",
       " '104.',\n",
       " '104.',\n",
       " '106.',\n",
       " '106.',\n",
       " '106.',\n",
       " '106.',\n",
       " '110.',\n",
       " '111.',\n",
       " '112.',\n",
       " '113.',\n",
       " '114.',\n",
       " '115.',\n",
       " '116.',\n",
       " '117.',\n",
       " '117.',\n",
       " '119.',\n",
       " '119.',\n",
       " '121.',\n",
       " '121.',\n",
       " '123.',\n",
       " '123.',\n",
       " '125.',\n",
       " '126.',\n",
       " '127.',\n",
       " '128.',\n",
       " '129.',\n",
       " '130.',\n",
       " '130.',\n",
       " '132.',\n",
       " '133.',\n",
       " '134.',\n",
       " '135.',\n",
       " '135.',\n",
       " '137.',\n",
       " '138.',\n",
       " '138.',\n",
       " '138.',\n",
       " '138.',\n",
       " '142.',\n",
       " '142.',\n",
       " '144.',\n",
       " '144.',\n",
       " '146.',\n",
       " '146.',\n",
       " '146.',\n",
       " '149.',\n",
       " '150.',\n",
       " '151.',\n",
       " '152.',\n",
       " '152.',\n",
       " '154.',\n",
       " '154.',\n",
       " '156.',\n",
       " '156.',\n",
       " '158.',\n",
       " '158.',\n",
       " '158.',\n",
       " '161.',\n",
       " '161.',\n",
       " '163.',\n",
       " '163.',\n",
       " '163.',\n",
       " '166.',\n",
       " '167.',\n",
       " '167.',\n",
       " '167.',\n",
       " '167.',\n",
       " '171.',\n",
       " '171.',\n",
       " '173.',\n",
       " '173.',\n",
       " '173.',\n",
       " '173.',\n",
       " '177.',\n",
       " '177.',\n",
       " '179.',\n",
       " '180.',\n",
       " '180.',\n",
       " '180.',\n",
       " '183.',\n",
       " '183.',\n",
       " '185.',\n",
       " '185.',\n",
       " '185.',\n",
       " '188.',\n",
       " '188.',\n",
       " '188.',\n",
       " '191.',\n",
       " '192.',\n",
       " '192.',\n",
       " '192.',\n",
       " '192.',\n",
       " '192.',\n",
       " '197.',\n",
       " '197.',\n",
       " '197.',\n",
       " '197.']"
      ]
     },
     "execution_count": 178,
     "metadata": {},
     "output_type": "execute_result"
    }
   ],
   "source": [
    "Rank"
   ]
  },
  {
   "cell_type": "code",
   "execution_count": null,
   "id": "c674376e",
   "metadata": {},
   "outputs": [],
   "source": []
  },
  {
   "cell_type": "code",
   "execution_count": 179,
   "id": "8e0d5fb7",
   "metadata": {},
   "outputs": [],
   "source": [
    "# Scraping Name\n",
    "E_tags=driver.find_elements(By.XPATH,'//div[@class=\"personName\"]')\n",
    "for i in E_tags[0:200]:\n",
    "    me=i.text\n",
    "    Name.append(me)\n",
    "    \n",
    "    \n",
    "# Scraping Net worth\n",
    "NW_tags=driver.find_elements(By.XPATH,'//div[@class=\"netWorth\"]')\n",
    "for i in NW_tags[0:200]:\n",
    "    nw=i.text\n",
    "    Net_Worth.append(nw)\n",
    "    \n",
    "# Scraping Age    \n",
    "AG_tags=driver.find_elements(By.XPATH,'//div[@class=\"age\"]')\n",
    "for i in AG_tags[0:200]:\n",
    "    age=i.text\n",
    "    Age.append(age)\n",
    "    \n",
    "# Scraping Citizenship\n",
    "Ci_tags=driver.find_elements(By.XPATH,'//div[@class=\"countryOfCitizenship\"]')\n",
    "for i in Ci_tags[0:200]:\n",
    "    city=i.text\n",
    "    Citizenship.append(city)\n",
    "    \n",
    "\n",
    "# Scraping Source\n",
    "SO_tags=driver.find_elements(By.XPATH,'//div[@class=\"source\"]')\n",
    "for i in SO_tags[0:200]:\n",
    "    rce=i.text\n",
    "    Source.append(rce)"
   ]
  },
  {
   "cell_type": "code",
   "execution_count": 189,
   "id": "18176974",
   "metadata": {},
   "outputs": [],
   "source": [
    "# Scraping Industry\n",
    "IND_tags=driver.find_elements(By.XPATH,'//div[@class=\"category\"]')\n",
    "for i in IND_tags[0:200]:\n",
    "    dus=i.text\n",
    "    Industry.append(dus)"
   ]
  },
  {
   "cell_type": "code",
   "execution_count": null,
   "id": "d8b40c71",
   "metadata": {},
   "outputs": [],
   "source": []
  },
  {
   "cell_type": "code",
   "execution_count": 188,
   "id": "55bcd886",
   "metadata": {},
   "outputs": [
    {
     "data": {
      "text/html": [
       "<div>\n",
       "<style scoped>\n",
       "    .dataframe tbody tr th:only-of-type {\n",
       "        vertical-align: middle;\n",
       "    }\n",
       "\n",
       "    .dataframe tbody tr th {\n",
       "        vertical-align: top;\n",
       "    }\n",
       "\n",
       "    .dataframe thead th {\n",
       "        text-align: right;\n",
       "    }\n",
       "</style>\n",
       "<table border=\"1\" class=\"dataframe\">\n",
       "  <thead>\n",
       "    <tr style=\"text-align: right;\">\n",
       "      <th></th>\n",
       "      <th>RANK</th>\n",
       "      <th>NAME</th>\n",
       "      <th>AGE</th>\n",
       "      <th>NET WORTH</th>\n",
       "      <th>COUNTRY/TERRITORY</th>\n",
       "      <th>SOURCE</th>\n",
       "    </tr>\n",
       "  </thead>\n",
       "  <tbody>\n",
       "    <tr>\n",
       "      <th>0</th>\n",
       "      <td>1.</td>\n",
       "      <td>Elon Musk</td>\n",
       "      <td></td>\n",
       "      <td>$219 B</td>\n",
       "      <td>United States</td>\n",
       "      <td>Tesla, SpaceX</td>\n",
       "    </tr>\n",
       "    <tr>\n",
       "      <th>1</th>\n",
       "      <td>2.</td>\n",
       "      <td>Jeff Bezos</td>\n",
       "      <td></td>\n",
       "      <td>$171 B</td>\n",
       "      <td>United States</td>\n",
       "      <td>Amazon</td>\n",
       "    </tr>\n",
       "    <tr>\n",
       "      <th>2</th>\n",
       "      <td>3.</td>\n",
       "      <td>Bernard Arnault &amp; family</td>\n",
       "      <td></td>\n",
       "      <td>$158 B</td>\n",
       "      <td>France</td>\n",
       "      <td>LVMH</td>\n",
       "    </tr>\n",
       "    <tr>\n",
       "      <th>3</th>\n",
       "      <td>4.</td>\n",
       "      <td>Bill Gates</td>\n",
       "      <td></td>\n",
       "      <td>$129 B</td>\n",
       "      <td>United States</td>\n",
       "      <td>Microsoft</td>\n",
       "    </tr>\n",
       "    <tr>\n",
       "      <th>4</th>\n",
       "      <td>5.</td>\n",
       "      <td>Warren Buffett</td>\n",
       "      <td></td>\n",
       "      <td>$118 B</td>\n",
       "      <td>United States</td>\n",
       "      <td>Berkshire Hathaway</td>\n",
       "    </tr>\n",
       "    <tr>\n",
       "      <th>...</th>\n",
       "      <td>...</td>\n",
       "      <td>...</td>\n",
       "      <td>...</td>\n",
       "      <td>...</td>\n",
       "      <td>...</td>\n",
       "      <td>...</td>\n",
       "    </tr>\n",
       "    <tr>\n",
       "      <th>195</th>\n",
       "      <td>192.</td>\n",
       "      <td>Marcel Herrmann Telles</td>\n",
       "      <td></td>\n",
       "      <td>$10.3 B</td>\n",
       "      <td>Brazil</td>\n",
       "      <td>beer</td>\n",
       "    </tr>\n",
       "    <tr>\n",
       "      <th>196</th>\n",
       "      <td>197.</td>\n",
       "      <td>Leon Black</td>\n",
       "      <td></td>\n",
       "      <td>$10 B</td>\n",
       "      <td>United States</td>\n",
       "      <td>private equity</td>\n",
       "    </tr>\n",
       "    <tr>\n",
       "      <th>197</th>\n",
       "      <td>197.</td>\n",
       "      <td>Joe Gebbia</td>\n",
       "      <td></td>\n",
       "      <td>$10 B</td>\n",
       "      <td>United States</td>\n",
       "      <td>Airbnb</td>\n",
       "    </tr>\n",
       "    <tr>\n",
       "      <th>198</th>\n",
       "      <td>197.</td>\n",
       "      <td>David Geffen</td>\n",
       "      <td></td>\n",
       "      <td>$10 B</td>\n",
       "      <td>United States</td>\n",
       "      <td>movies, record labels</td>\n",
       "    </tr>\n",
       "    <tr>\n",
       "      <th>199</th>\n",
       "      <td>197.</td>\n",
       "      <td>Yu Renrong</td>\n",
       "      <td></td>\n",
       "      <td>$10 B</td>\n",
       "      <td>China</td>\n",
       "      <td>semiconductors</td>\n",
       "    </tr>\n",
       "  </tbody>\n",
       "</table>\n",
       "<p>200 rows × 6 columns</p>\n",
       "</div>"
      ],
      "text/plain": [
       "     RANK                      NAME AGE NET WORTH COUNTRY/TERRITORY  \\\n",
       "0      1.                 Elon Musk        $219 B     United States   \n",
       "1      2.                Jeff Bezos        $171 B     United States   \n",
       "2      3.  Bernard Arnault & family        $158 B            France   \n",
       "3      4.                Bill Gates        $129 B     United States   \n",
       "4      5.            Warren Buffett        $118 B     United States   \n",
       "..    ...                       ...  ..       ...               ...   \n",
       "195  192.    Marcel Herrmann Telles       $10.3 B            Brazil   \n",
       "196  197.                Leon Black         $10 B     United States   \n",
       "197  197.                Joe Gebbia         $10 B     United States   \n",
       "198  197.              David Geffen         $10 B     United States   \n",
       "199  197.                Yu Renrong         $10 B             China   \n",
       "\n",
       "                    SOURCE  \n",
       "0            Tesla, SpaceX  \n",
       "1                   Amazon  \n",
       "2                     LVMH  \n",
       "3                Microsoft  \n",
       "4       Berkshire Hathaway  \n",
       "..                     ...  \n",
       "195                   beer  \n",
       "196         private equity  \n",
       "197                 Airbnb  \n",
       "198  movies, record labels  \n",
       "199         semiconductors  \n",
       "\n",
       "[200 rows x 6 columns]"
      ]
     },
     "execution_count": 188,
     "metadata": {},
     "output_type": "execute_result"
    }
   ],
   "source": [
    "df=pd.DataFrame({'RANK':Rank,'NAME':Name, 'AGE':Age, 'NET WORTH':Net_Worth, 'COUNTRY/TERRITORY':Citizenship, 'SOURCE':Source})\n",
    "df"
   ]
  },
  {
   "cell_type": "code",
   "execution_count": null,
   "id": "4d770dae",
   "metadata": {},
   "outputs": [],
   "source": []
  },
  {
   "cell_type": "code",
   "execution_count": null,
   "id": "e29df44c",
   "metadata": {},
   "outputs": [],
   "source": []
  },
  {
   "cell_type": "code",
   "execution_count": null,
   "id": "4823aa5b",
   "metadata": {},
   "outputs": [],
   "source": []
  },
  {
   "cell_type": "code",
   "execution_count": null,
   "id": "2ce3d0ee",
   "metadata": {},
   "outputs": [],
   "source": []
  },
  {
   "cell_type": "code",
   "execution_count": null,
   "id": "b6aee916",
   "metadata": {},
   "outputs": [],
   "source": []
  },
  {
   "cell_type": "code",
   "execution_count": null,
   "id": "3f36b7b8",
   "metadata": {},
   "outputs": [],
   "source": []
  },
  {
   "cell_type": "code",
   "execution_count": null,
   "id": "b98564ec",
   "metadata": {},
   "outputs": [],
   "source": []
  },
  {
   "cell_type": "markdown",
   "id": "530a69a2",
   "metadata": {},
   "source": [
    "9. Write a program to extract at least 500 Comments, Comment upvote and time when comment was posted from any YouTube Video."
   ]
  },
  {
   "cell_type": "code",
   "execution_count": 246,
   "id": "4194ae8f",
   "metadata": {},
   "outputs": [],
   "source": [
    "driver=webdriver.Chrome(r\"C:\\Users\\Hello world\\Downloads\\chromedriver_win32\\chromedriver.exe\")"
   ]
  },
  {
   "cell_type": "code",
   "execution_count": 247,
   "id": "8e4648c2",
   "metadata": {},
   "outputs": [],
   "source": [
    "driver.get(\"https://www.youtube.com/\")"
   ]
  },
  {
   "cell_type": "code",
   "execution_count": 249,
   "id": "20783c7f",
   "metadata": {},
   "outputs": [],
   "source": [
    "video=driver.find_element(By.XPATH,\"/html/body/ytd-app/div[1]/div/ytd-masthead/div[3]/div[2]/ytd-searchbox/form/div[1]/div[1]/input\")\n",
    "video.send_keys('GOT')"
   ]
  },
  {
   "cell_type": "code",
   "execution_count": 250,
   "id": "c99fb443",
   "metadata": {},
   "outputs": [],
   "source": [
    "search=driver.find_element(By.XPATH, \"/html/body/ytd-app/div[1]/div/ytd-masthead/div[3]/div[2]/ytd-searchbox/button/yt-icon\")\n",
    "search.click()"
   ]
  },
  {
   "cell_type": "code",
   "execution_count": 254,
   "id": "483af100",
   "metadata": {},
   "outputs": [],
   "source": [
    "#clicking on first video\n",
    "link_click = driver.find_element(By.XPATH,'//yt-formatted-string[@class=\"style-scope ytd-video-renderer\"]')\n",
    "link_click.click()"
   ]
  },
  {
   "cell_type": "code",
   "execution_count": 255,
   "id": "d6fa31bc",
   "metadata": {},
   "outputs": [],
   "source": [
    "for _ in range(1000):\n",
    "    driver.execute_script(\"window.scrollBy(0,10000)\")"
   ]
  },
  {
   "cell_type": "code",
   "execution_count": 257,
   "id": "e573c0e7",
   "metadata": {},
   "outputs": [],
   "source": [
    "comments=[]\n",
    "\n",
    "#scraping the data of comments\n",
    "cm_tags = driver.find_elements(By.ID, \"content-text\")\n",
    "for cm in cm_tags:\n",
    "    if cm.text is None:\n",
    "        comments.append(\"--\")\n",
    "    else:\n",
    "        comments.append(cm.text)\n",
    "time.sleep(5)"
   ]
  },
  {
   "cell_type": "code",
   "execution_count": 258,
   "id": "0b1ce2ff",
   "metadata": {},
   "outputs": [
    {
     "data": {
      "text/plain": [
       "['That moment of Tirion trial is the most powerful moment in the entire show \\nSo great',\n",
       " 'I literally just noticed that even after Arya killed the entire Frey family, nothing was ever said about it in the show. Like, how does no one know WINTER came?',\n",
       " \"It is amazing just how spectacular and perfectly written the early seasons were. Arguably the best thing I've ever seen on television. It really puts into perspective just how badly it was ruined. They owe it to all of us to redo at least the last season. Say what you want. They owe us.\",\n",
       " 'The scene with Hodor was one of the most underrated scenes in the entire series',\n",
       " '“A dragon is not a slave” \\n\\nI got chills when I first read that in the books, I couldn’t wait to see it in the show. They did it well',\n",
       " 'Danny riding the dragon into battle against the Lannisters is one of the greatest scenes in cinema history.',\n",
       " 'Jon Snow pulling out his sword and confronting his fate with absolute no fear in the eyes is the most powerful scene in the entire series. Goosebumps literally everytime I see that.',\n",
       " \"I will never get over how Rhaegal and Viserion were handled. Viserion, I at least kind of understand. It was necessary to knock the wall down....but Rhaegal dying the way he did was just a giant middle finger. I personally don't think he needed to die, but if he was going to, it should've been when they attacked King's Landing. Drogon taking on the entire Iron Fleet and Lannister army without getting hit just isn't realistic when one episode prior, Euron two tapped and headshotted Rhaegal out of nowhere...for the sake of subversion. But if Rhaegal and Drogon took on King's Landing, and Rhaegal ends up getting hit...not only would it make it more realistic, it would make Danny snapping feel more earned too...They fucked it up so many different ways. The dragons were essential characters from the beginning of the show, they deserved better\",\n",
       " \"I have a love/hate relationship with rewatching this show. Literally one of the best shows of all time and the ending was just terrible. It's like getting blue balled. Jon never got any justice dude is just an idiot. Arya I guess just did the whole faceless training to poison house Frey cause that was the last we saw of it, Dany is obviously a Gemini cause she went from breaker of chains to breaker of yo whole family in the blink of an eye, Jamie's arc was ending nicely then he went back for Cersei, the only one with an ok ending was Sansa but let's be honest who gave a f about Sansa. The night king came and went with no damn explanation. Smh... the show had some great moments, incredible crew and camerawork, but damn D&D for that last season\",\n",
       " 'My favourite scene is where Arya is talking to Tywin about the legend of Robb Stark.. \"They call him the young wolf\". Class! ',\n",
       " 'Tyrion was the best character in this show.',\n",
       " \"Queen Margery's death still haunts me even today. I really loved her!\",\n",
       " 'I always loved that Arya didn’t let that girl drink the wine.',\n",
       " \"They are actually making things right with HOTD. It's incredible. It makes me really excited for Snow\",\n",
       " 'Hard Home, Season 5. Jon Snow looking back from the boat at how powerful the Night King had become. Masterpiece Episode.',\n",
       " 'I cried harder than Danny over the dragons… I wish she would have showed more emotions for her children',\n",
       " 'Always loved how Unsullied were still kind of unsure for that split second until Dracaris! Then they\\'re just like \"well like, fuck it, that\\'s what they trained us right? I can get behind this.\"',\n",
       " 'I love how that gold melted in like 10 seconds from a cooking fire lmao',\n",
       " 'I think  when the nights watch fought the Giant in the tunnel and understood what their fate was too was one of the best scenes.',\n",
       " \"Why does nobody talk about Jorah? I always felt bad for him. His longing for Danny's love was so heartbreaking to watch all the time. And the lady Mormont who died fighting a giant was too heroic for me \",\n",
       " \"That scene where John's uncle saves him was unexpected and crazy\",\n",
       " 'The scene where Arya spars against brienne of Tarth was a underrated scene as well.',\n",
       " 'It still angers me greatly that I invested years into this programme which was truly epic, all for the ending to be so rushed and disappointing. I waited years, years dammit, for the battle with the white walkers and it lasted 1 episode. I will never get over it.',\n",
       " 'Emilia Clark is an amazing actor  kinda miss watching these and the wait was intense I was so excited to find out what was going to happen :. All amazing actors and the dragons cry aww .. and Tyrion with his dad makes me giggle the sarcasm  mint acting ',\n",
       " 'The immediate head whip from Missandei when Danny speaks high Valerian is so telling in such a small flash.',\n",
       " 'Fabulous scripting, lighting, screenplay,acters performance, direction,story developing, animation,VFX everything\\nHow much hard work behind of this \\nSo proud to watch',\n",
       " 'Dude George RR Martin is a savage for creating this masterpiece. The books were incredible and to see it on the screen is just as equally amazing... Thank you for inspiring us',\n",
       " 'I found the oberyn trial by combat the best scene….. it was just the most shocking by far',\n",
       " 'When the Night King kills one of the dragons, I really notice the stunned and horrified expressions on everyone’s faces; Tormund, Jon, etc.\\nI was too busy crying the first time during this scene to notice. It’s just heartbreaking and made me loathe the Nignt King for eternity.',\n",
       " 'Tyrion confession was the best confession ever known to man',\n",
       " 'The dragon scene with the night king always gets me poor dragon ',\n",
       " 'You can already see the Red Viper thinking \"Hmm, this may be an opportunity\" when Tyrion demands trial by combat.',\n",
       " 'The best TV show I’ve ever watched. Overshadowed by a shitty ending but I can only remember the awesome bits which was most of it.',\n",
       " 'Cersei has got to be one of the best villains/ anti hero what ever',\n",
       " 'God I wish they made a Jon vs the night king fight',\n",
       " \"I don't understand why plot armor couldn't protect the most reasonable Starks but was able to keep Jon alive till the end.\",\n",
       " 'Jon snow named as king in the north was my favourite scene',\n",
       " 'Tirion lines at the trial was outstanding , the best momment for me absolutely',\n",
       " '“Leave one wolf alive and the sheep are never safe” so badass',\n",
       " \"Currently reading the books and omg I'm looking forward to the real ending\",\n",
       " 'Dany was always better when she listened to herself and took her own advice and counsel',\n",
       " 'If you hate a character in this series, it means they acted really well!\\n\\nEx: Joffrey, Cerci, Freys, Ramsay, little finger...',\n",
       " 'Woah that Arya scene is so badass!',\n",
       " 'When I think of how fresh, inspired, across the board brilliant the show was for six seasons - almost never missing a step, utterly gripping and immersive, rarely tipping what was coming (even though you had read the books!) - and then watching the writing devolve from the best show perhaps of all time to the hack clichés of season eight... Argh!!!',\n",
       " 'Watching these scenes reminds me even more of how they butchered my Dany in the last season. When she saved Jon like THAT.',\n",
       " 'My favourite scenes were too many :\\nDany and the slave Masters\\nThe dragon saving Dany\\nDany burning the Dothraki leaders',\n",
       " 'Greyworm not killing the low-born outsider but the other two instead was my favorite',\n",
       " 'now I want to rewatch the whole series uwu',\n",
       " 'This is pure perfection.',\n",
       " 'Honestly, I feel the pain of being sinned upon by GOT helped unite us as a people a lil',\n",
       " 'That look Tywin gives Tyrion always looks like he’s thinking,” Damn, how’d he end up the smartest”',\n",
       " 'I still cry when the dragon gets speared.',\n",
       " 'The saddest parts are the dragons dying',\n",
       " 'Best thing about this video is that there is no commentary ️',\n",
       " 'The scene of the queen shamed naked in the streets was the best scene. Every character was well done.',\n",
       " 'There’s a multiverse somewhere in which Jamie and Bronn are captured at the field of fire, and I think that’s the one with a game of thrones that had a good ending',\n",
       " \"The video is so good i don't know why people are complaining about the intro . I think it is really good\",\n",
       " '3 of the greatest scenes in film/TV HISTORY - (S7,ep6) Beyond the Wall, when they capture the walker.  (S6,ep9) Battle of the Bastards. AND MY FAV 2!- (S5,ep8) HARDHOME , & (S8,ep3) THE LONG NIGHT!-  I can’t choose which one I like more, Hardhome is a close 2nd to the Long Night if not just as good!  ️',\n",
       " 'Tyrion: I demand a trial by combat ️',\n",
       " 'Great stuff guys, keep it up <3',\n",
       " 'Peter dink is so fucking good. Tyrion was my favorite by far in the book and he brought the character to life! Respect',\n",
       " 'Cercie burns the whole courtroom & she gets away with it..not happy with danerys being stabbed by the one she trusted the most ',\n",
       " \"Currently on s6, really disappointed with Night's watch coup against Jon Snow. They wouldn't act that rashly if they had seen the Walkers. They were indeed fools\",\n",
       " 'Cersei being that one badass Queen',\n",
       " 'Now  after finale, I feel so so bad for these characters....a masterpiece has been ruined by two fools !!',\n",
       " 'The midget always was a good actor in damn near everything he played in',\n",
       " 'A crown for a king! Then crouches down and stares right into his burning soul. ️️ ',\n",
       " 'Winter came for house Frey..goosebumps',\n",
       " 'Damn tho, that “Power is power.” Cersi scene.',\n",
       " 'This is going down to history as greatest series ever',\n",
       " 'The silent scene of Tyrion having to kill his lover, right before his father, that’s tough. Underrated.',\n",
       " '\"Fire cannot kill a dragon.\"\\n\\nIdk Dany I think that\\'s MOLTEN GOLD but okay.',\n",
       " \"One of the most puzzling scenes in GOT, for me, was the scene when Stannis invades the Wildlings at their camp by the wall.\\nHow the HELL did he get his army north of the wall??? They didn't come through the tunnel, and there's no breach in the wall, and if there HAD been a breach, why would the Night King need a dragon to make a breach????\",\n",
       " 'Nothing from the final two seasons should ever be in a \"Best Of\" compilation',\n",
       " 'The last scene was a heartbreak',\n",
       " '\"I demand a trial by combat!\"\\nOberyn: Interesting...',\n",
       " 'I always wondered how the dragon that was shot by the spear could be actually brought to ice surface-the wights could not swim so how are the wights able to pick up dragon carcass when he slipped underwater?',\n",
       " 'Best Show ever ',\n",
       " 'First scene was the OG\\n\"Does she speak English?\"\\n\"When she wants to\"',\n",
       " 'My doubt is if the one who  gived dragon eggs to dany knowed that John is taragarian would he have given it to him ?? And what dany should have done without dragons ',\n",
       " 'john show resqueing the wildlings when he seeing night king first time is also a very good scene',\n",
       " 'Anyone else hyped for the prequel?!',\n",
       " 'Hot d is out. I’m back watching this. & when Danny’s dragon got hit I sobbed like it was the first time ',\n",
       " '4:30 nobody caught that Tyrion called them bastards ',\n",
       " 'Could never figure out how Arya changed her height when she wore a face.',\n",
       " 'The red wedding was insane',\n",
       " 'God just imagine if this was made now lol',\n",
       " 'They should make a GOT what if? Book series or show imagine if tywin and tyrion were close',\n",
       " 'Id do anything to watch this over for the first time',\n",
       " \"All these would have been very satisfying if the show didn't end in a shot way\",\n",
       " 'There was a time that this show was AWESOME! Seasons 7 and 8 ruined its legacy.',\n",
       " 'Nothing made me more sad than dragon hit by the ICE man  and them turned',\n",
       " 'Battle of the bastards was 1 of the best moments for me!',\n",
       " '\"Fire cannot kill the dragon\"  But it was molten gold not fire KhAlEsSi ',\n",
       " 'Brandon Stark: \"Will I walk again?\"\\n3 Eyed Raven: \"No, but you will fly.\"\\nBrandon Stark Wargs into Hodor\\nHodor: Flaps arms in failed flight attempt',\n",
       " 'Nah...the scene where Jon snow faces death from a charging bolton army was my favorite for me.',\n",
       " 'Not just me or everyone does wanted to see khalisee on the iron throne once??',\n",
       " 'I demand a Trial by Combat',\n",
       " 'The whole night king troupe could have been so bad ass and they could have rode in on their spiders and lay waste to the human world and see the night king actually fight but nope',\n",
       " 'I love Daenerys and Jon separately as individuals. They were born leaders/rulers. However, I hated how they had to be paired up as a couple like last minute. They had no chemistry and then the incest. I could have ignored the incest if there was a little bit of chemistry between them but there was none ',\n",
       " 'It doesn’t make sense that John doesn’t die in that scene. Pulled underwater in freezing conditions, multiple layers including sword, boots, armour, and full fur outfit. That would weigh a ton when wet. There’s no way he’d be able to swim in that. Plus he’s exhausted already at that point. Then he’s underwater for sooo long. And even if he did get out, he’s soaking wet in that freezing arctic. He’d literally turn to ice. Impossible for him to be alive unless for some supernatural reasons.',\n",
       " 'jon in battles of bastards is theGOAT IN GOT..',\n",
       " 'Every episode ended with a sad plot, betrayal beyond betrayal, even when the villain dies can’t feed off the satisfaction cuz of the previous sad plots that build up.\\nStill love you tho',\n",
       " 'Watching this remember me how bad was the end for Dany and Jhon, make no sense all they do , how Dany save Jhon , how he survived to end  alone whit no family there in the north ️. I’m so freaking mad .',\n",
       " \"They could've ended everything in the battle of blackwater rush and I would've been fine with it.\",\n",
       " 'Game of throne is the best web series I have ever seen.',\n",
       " 'So I just finished the show and I don’t get why people didn’t like the last season. I’ve always heard it’s really bad but I don’t understand why. Can someone explain?',\n",
       " 'Tyrion was the goat of this show man',\n",
       " \"Still can't believe little finger got killed by Arya\",\n",
       " 'Best show ever !! ',\n",
       " 'I will always think the shows writers done those dragons dirty! He should have had all 3 in the last episodes.',\n",
       " 'Dani saved Jon just to be murdered by him',\n",
       " 'The last season gave us some of the best scenes in Game of Thrones. \\nYou may not have liked the ending, but it’s still an amazing show.',\n",
       " 'When they said Winter was coming, they were talking about rising fuel prices in 2022.',\n",
       " \"I didn't really enjoyed GOT until the end of Season 2 with the battle ship and special green explosive, i did really enjoyed the show after this and was disappointed by how the show ended.\\n\\nHowever, after rewatching some of my Fav episode like Season 5 Episode 8 and Season 7 Episode 6, i wondered why at \",\n",
       " 'Night King is a best Dragon Hunter :)',\n",
       " 'Worst scenes of the whole show is when the dragons die ',\n",
       " 'goosebumps is over 9000',\n",
       " \"the Brienne and Sandor Clegane duel, Jeoffrey's death, Hodor's story, Sansa getting revenge on Ramsey with his dogs,\",\n",
       " 'How could they messed up all this fine work on last season like it was...',\n",
       " 'It’s hands down Joffreys death, I don’t care what u say\\nNope, actually I changed my mind, the best scene was the red wedding, horrible as it is to watch, it was just fantastic (if that makes sense)',\n",
       " 'Power is power scene is badass!!',\n",
       " 'I demand a trial by combact \\nSo amazing still.',\n",
       " 'Remember kids “a dragon is not a slave”',\n",
       " 'Dang, I forgot - how great, and, AWFUL, it got. Dany, ABANDONING JON -uh-uh; it COULDN\\'T happen.There are certain basic character traits built in here. And yet - the \"YOU SPEAK VALYRIAN?!?\" scene with (soon-to-be human torch) Dickweed the Unsullied salesman was brilliant, so bestie-ever.',\n",
       " 'danny:fire not kill a dragon.\\nme: its a fucking melted gold!',\n",
       " '\" I demand a trail by combat  \"',\n",
       " 'I’m not sure how everyone else thinks the show should have ended, but Jon should have been king, imo\\n\\nEdit to add I love Daenerys. I hate how they did her too. Honestly I don’t understand why they didn’t make her and Jon get married and be king and queen. Yeah irl that wouldn’t be cool at all, but in GoT world it would have been fine… especially since Targaryens Wes brothers and sisters. I wanted them together weird as that may seem',\n",
       " 'Thanks for not putting your commentary ️....some fools ruin the scene by speaking behind the scenes',\n",
       " 'The Hodor scene makes me really, REALLY hate Bran.',\n",
       " 'Knowledge is power afterall.',\n",
       " 'When she said \"sadrisez buzdari gozdavor\", I felt that fr...',\n",
       " \"I rewatched recently and noticed a big Foo Foo.  Benjee tells bran when he helps him get back to castle black that he can't cross the wall since he us partial white walker. He tells him there are spells and magic that keeps him from crossing. So why the F didn't bran tell Jon that at winter fell or send a raven to dragonstone ? Then he wouldn't have had need to daptyre a white walker to show cercie . And a dragon would never have been captured. Whole thing avoided. But then look at how the F Ed up the ending .\",\n",
       " 'GOT won’t be made again it’s like we lived it .',\n",
       " \"One thing that's always bugged me and if someone could explain that would be awesome. A spear is a spear no matter how you quote it in fantasy, but when ol' ice daddy throws the magic spear how does it pretty much incapacitate an adolescent to full grown dragon? Even IF it's super sharp and ice cold with death magic and all that magic fuckery. How does a comparative knife/needle to the size of the dragon drop it when it hit it's mid flight? Surely it would freak out and fly away not spew blood like that and drop instantly? I dunno, maybe Mr freeze has a rail gun for an arm and shot it through the spine as well? Just doesn't make sense to me on a biological and thematic sense\",\n",
       " \"Game of Thrones is in a weird spot... 85% of the show is incredible, and then 15% is so horrendously bad that you don't see any point in rewatching it... but I want to rewatch it just for that 85%, but it's not the same anymore...\",\n",
       " 'God damnnnnnnnn I miss this lol',\n",
       " \"As much as I love game of thrones... It's where the cissy man started\",\n",
       " 'Such a shame what they did to this show…',\n",
       " 'Yeah, \"best\" moment till dumb Jon stayed unnecessarily long to fight off the   deads',\n",
       " 'Jon, the Whites are everywhere! Hurry, jump on Drogon like the rest of us did!\\nJon - “jus hod onn, I tink I can kill da resta dem”',\n",
       " \"It's sad how they throwed Battle of Winterfell do bad\",\n",
       " \"17:00  this scene's so damn cringe. Jon being a stubborn shite, thinking he's being a hero by holding the horde back, only to be pinned down so he can get saved by his long lost uncle from Season freaking 1, and the Night King just couldn't match the might of plot armor, so he just jav'ed a flying one instead of Drogon. And then the wights and the white walkers, who can't even swim or walk underwater, suddenly were able to put chains around Vyseris so they can hoist him back to the surface. Damn you DnD. Thanks for ruining the early 5 seasons of good entertainment. \",\n",
       " 'I HATE HATE HATE watching those dragons die! i cant stand it\\ni know its just a show but its painful to watch and so stupid that both die and only one lives',\n",
       " \"Best scene would be where Melisandre revealed as an old witch which is really disgusting. I couldn't bat an eye at her for a slight moment after that scene showed.\",\n",
       " 'As much as season 8 was a total disaster, the real failure of GOT was the whole zombie bullshit. What a shame the story was ruined by the inclusion of zombies. Any story based on that premise is doomed to fail.',\n",
       " 'Peak game of thrones ️',\n",
       " \"Nothing touches the acting in the first couple season's of thrones..ibhad a lot of fun watching this with my wife it was so good at first..then got progressively worse..now everything is just a forced attempt to recreate the energy this show once had..it is no more.\",\n",
       " \"Why the hell  the knight king didn't aim for the dragon in front of him first\",\n",
       " 'Jesus Christ is lord and savior amen  ',\n",
       " 'Tyrion Lannister ',\n",
       " '\"he was no dragon.\"',\n",
       " '\"We can hold them off\"\\nScreeeeeeechhh!!!!!',\n",
       " 'Tyrion lannister the best.. ',\n",
       " '03:12  this scene',\n",
       " 'Not be sobbing over a CGI Dragon dying.',\n",
       " 'Best movies pure apisode dekhliya',\n",
       " 'Hold the door my favourite',\n",
       " 'A man has seen the best video of 2021 on the last day of 2021',\n",
       " 'love the part where the intro busted my eardrums',\n",
       " 'Prince Oberyn was the best',\n",
       " '\"im not wasting good wine on a WOMEN\"  LOLLLL --- would love to see him interviewed on the VIEW lol',\n",
       " 'First of all gold doesn’t melt that easy and fire from wood can in no way melt gold',\n",
       " 'this is like a dream',\n",
       " 'Daenaryis bro has a point lol he got scammed',\n",
       " \"Guys what episode when Jon where about to be stampede by horses but he's allies came and saved him\",\n",
       " 'Ah, Game of thrones. The series with incest, prostitution, violence, beheadings, children being killed, alcoholism, drug use, torture, castrations...........but No Cigarettes were Smoked in Game of Thrones land.',\n",
       " 'hmm was expecting the scene where Sansa and arya killed little finger ngl',\n",
       " \"I can't get over this show.. Getting over it   on korean show Kingdom..\",\n",
       " \"Correct me if I'm wrong, daenarys was rhaegar targaryens sister and Jon snow was rhaegar and lyannas son as we found out later. And I season 7 daenarys and Jon had something together which means that he did the dirty deed with his auntie.\\nA very hot auntie I may add\",\n",
       " 'dont forget about Lord Ballish died',\n",
       " 'It would take ages for that gold fk melt',\n",
       " 'Almeno i sottotitoli in italiano grazie',\n",
       " 'The freeing of the slaves is the most deservedly absolutely wicked wicked shit ever,.. I wish this happened in this World!!',\n",
       " 'By the way my name is game of space (inspired from game of thrones )',\n",
       " 'Where can I watch this?',\n",
       " 'Lotr will always be better',\n",
       " 'Very well',\n",
       " 'come back',\n",
       " 'can anyone point to me where is that first scene @0:01? Thanks',\n",
       " 'Last scene is in which episode???',\n",
       " 'If these are the best of the show it’s really not good',\n",
       " 'The vikings and Def the last kingdom were far far better shows than this',\n",
       " 'I’m thankful for the hard work you put into this video but fix your audio volume levels bro your going to damage peoples ears',\n",
       " 'Full movie give please',\n",
       " 'Lit',\n",
       " 'Why the tf they kept making garbage after they had such a good run with this',\n",
       " 'For the last scene on here to be one of the dumbest scenes in the show ruined this video for me. Every other scene was great I’ll give you that but that scene with the dragon getting killed was some bad writing. Why did Jon not just get on the damn dragon and leave…come on',\n",
       " 'its so sad\\nI try to care  for this show again\\nI really do\\nBut well',\n",
       " 'Where the ladder speach at?',\n",
       " 'Duuuude ..: Volume leveling, pleease!',\n",
       " 'Can u melt gold like this \\nGold has a very high melting point ??',\n",
       " 'Intro song?',\n",
       " 'Where is the red wedding?',\n",
       " '6 great season 7 season look better because of season 8. And season 8 the worst season of any television season ever!',\n",
       " 'Bata speedrun game of thrones pornless edition bros',\n",
       " 'Its not GOLD melted on fire but crystal...fool...so judgesmental...',\n",
       " 'king of undead is op . not a good scene .',\n",
       " '‘Game of Thrones’ Is Suddenly All About Powerful Women Getting Their Way over man…  feminist agenda for sure..',\n",
       " 'THE CAST AND CREW AND SOME FANS GO TO DEANIE AT DEATH. ORDAINED. -Revelation',\n",
       " \"The first scene reminds me of captain America standing alone in front of Thanos's army\",\n",
       " 'Excuse me? No HODOR scene? Lame',\n",
       " 'quality : 72p',\n",
       " 'burn all copies of the movie i hate hollywood.',\n",
       " 'John snow is so overrated',\n",
       " 'look i like ur vid but, man that intro is really bad :( and its loud and hurts the ears....',\n",
       " 'Remove subtitles',\n",
       " 'I want in hindi',\n",
       " 'I can’t buy it',\n",
       " '还行吧',\n",
       " 'Dagarish',\n",
       " '2 comments wtf. Well I guess 3 now',\n",
       " 'Please do subscribe me very close to 1k',\n",
       " 'FPS GAMEPLAY:https://youtu.be/RbegxpIDRFc',\n",
       " 'What the fuck is your fucking problem and you start with low volume and suddenly NAYNAYANYANAY those fucking channels man, istg',\n",
       " '7th wtf',\n",
       " '8th wtf',\n",
       " '11th dafuq',\n",
       " '24th comment',\n",
       " '12th wtf',\n",
       " '4th comment!',\n",
       " '6th now']"
      ]
     },
     "execution_count": 258,
     "metadata": {},
     "output_type": "execute_result"
    }
   ],
   "source": [
    "comments"
   ]
  },
  {
   "cell_type": "code",
   "execution_count": 259,
   "id": "163bf9b3",
   "metadata": {},
   "outputs": [
    {
     "data": {
      "text/plain": [
       "222"
      ]
     },
     "execution_count": 259,
     "metadata": {},
     "output_type": "execute_result"
    }
   ],
   "source": [
    "len(comments)"
   ]
  },
  {
   "cell_type": "code",
   "execution_count": null,
   "id": "1ca8c109",
   "metadata": {},
   "outputs": [],
   "source": []
  },
  {
   "cell_type": "code",
   "execution_count": 270,
   "id": "775a8e20",
   "metadata": {},
   "outputs": [],
   "source": [
    "comment_time=[]\n",
    "Time=[]\n",
    "\n",
    "# scraping the data of time when comment was posted\n",
    "tm_tags = driver.find_elements(By.XPATH, \"//a[contains(text(),'ago')]\")\n",
    "for tm in tm_tags:\n",
    "    Time.append(tm.text)\n",
    "\n",
    "for i in range(0,len(Time)):\n",
    "    comment_time.append(Time[i])\n",
    "time.sleep(5)"
   ]
  },
  {
   "cell_type": "code",
   "execution_count": 271,
   "id": "4ba5b0d3",
   "metadata": {},
   "outputs": [
    {
     "data": {
      "text/plain": [
       "222"
      ]
     },
     "execution_count": 271,
     "metadata": {},
     "output_type": "execute_result"
    }
   ],
   "source": [
    "len(comment_time)"
   ]
  },
  {
   "cell_type": "code",
   "execution_count": 263,
   "id": "09df2322",
   "metadata": {},
   "outputs": [
    {
     "data": {
      "text/plain": [
       "['10 months ago',\n",
       " '1 month ago',\n",
       " '4 months ago (edited)',\n",
       " '4 months ago',\n",
       " '9 months ago',\n",
       " '1 year ago',\n",
       " '1 month ago',\n",
       " '1 year ago',\n",
       " '1 year ago (edited)',\n",
       " '1 year ago (edited)',\n",
       " '10 months ago',\n",
       " '1 month ago (edited)',\n",
       " '1 month ago',\n",
       " '4 months ago',\n",
       " '3 months ago',\n",
       " '3 days ago',\n",
       " '1 month ago',\n",
       " '9 months ago',\n",
       " '1 year ago',\n",
       " '4 weeks ago',\n",
       " '3 months ago',\n",
       " '1 year ago',\n",
       " '1 year ago',\n",
       " '1 year ago',\n",
       " '4 months ago',\n",
       " '2 months ago',\n",
       " '1 year ago',\n",
       " '4 months ago',\n",
       " '1 year ago',\n",
       " '3 months ago',\n",
       " '3 weeks ago',\n",
       " '1 year ago',\n",
       " '1 year ago',\n",
       " '1 month ago',\n",
       " '1 month ago',\n",
       " '2 months ago',\n",
       " '6 months ago',\n",
       " '11 months ago',\n",
       " '4 months ago (edited)',\n",
       " '1 year ago',\n",
       " '10 months ago',\n",
       " '2 months ago',\n",
       " '3 weeks ago',\n",
       " '2 months ago',\n",
       " '7 months ago',\n",
       " '7 months ago',\n",
       " '2 months ago',\n",
       " '1 year ago',\n",
       " '1 month ago',\n",
       " '10 months ago',\n",
       " '7 months ago',\n",
       " '3 months ago',\n",
       " '6 months ago',\n",
       " '2 weeks ago',\n",
       " '1 year ago',\n",
       " '5 months ago',\n",
       " '8 months ago',\n",
       " '9 months ago (edited)',\n",
       " '1 month ago',\n",
       " '2 months ago',\n",
       " '11 months ago (edited)',\n",
       " '1 month ago',\n",
       " '7 months ago (edited)',\n",
       " '8 months ago',\n",
       " '1 year ago',\n",
       " '10 months ago',\n",
       " '2 months ago',\n",
       " '11 days ago',\n",
       " '5 months ago',\n",
       " '4 months ago (edited)',\n",
       " '1 month ago',\n",
       " '2 months ago (edited)',\n",
       " '1 year ago',\n",
       " '1 year ago',\n",
       " '3 months ago',\n",
       " '1 year ago',\n",
       " '1 month ago',\n",
       " '7 months ago',\n",
       " '8 months ago',\n",
       " '9 months ago',\n",
       " '1 month ago',\n",
       " '11 months ago',\n",
       " '10 months ago',\n",
       " '6 months ago (edited)',\n",
       " '1 year ago',\n",
       " '1 month ago',\n",
       " '2 months ago',\n",
       " '1 year ago',\n",
       " '9 months ago',\n",
       " '1 year ago',\n",
       " '1 year ago',\n",
       " '2 weeks ago',\n",
       " '2 weeks ago',\n",
       " '4 weeks ago',\n",
       " '4 months ago',\n",
       " '1 year ago',\n",
       " '1 year ago',\n",
       " '3 months ago',\n",
       " '9 months ago',\n",
       " '1 month ago',\n",
       " '1 year ago',\n",
       " '11 days ago',\n",
       " '6 months ago',\n",
       " '4 months ago',\n",
       " '3 weeks ago',\n",
       " '1 year ago',\n",
       " '8 months ago',\n",
       " '1 year ago',\n",
       " '1 year ago',\n",
       " '1 year ago',\n",
       " '1 year ago']"
      ]
     },
     "execution_count": 263,
     "metadata": {},
     "output_type": "execute_result"
    }
   ],
   "source": [
    "comment_time"
   ]
  },
  {
   "cell_type": "code",
   "execution_count": 264,
   "id": "3e739ce2",
   "metadata": {},
   "outputs": [
    {
     "data": {
      "text/plain": [
       "111"
      ]
     },
     "execution_count": 264,
     "metadata": {},
     "output_type": "execute_result"
    }
   ],
   "source": [
    "len(comment_time)"
   ]
  },
  {
   "cell_type": "code",
   "execution_count": null,
   "id": "9b2b43df",
   "metadata": {},
   "outputs": [],
   "source": []
  },
  {
   "cell_type": "code",
   "execution_count": 266,
   "id": "2387c1bc",
   "metadata": {},
   "outputs": [],
   "source": [
    "Likes=[]\n",
    "No_of_Likes=[]\n",
    "\n",
    "# scraping the data of comment likes\n",
    "like_tags = driver.find_elements(By.XPATH, \"//span[@class='style-scope ytd-comment-action-buttons-renderer']\")\n",
    "for like in like_tags:\n",
    "    Likes.append(like.text)\n",
    "    \n",
    "for i in range(1,len(Likes),2):\n",
    "    No_of_Likes.append(Likes[i])"
   ]
  },
  {
   "cell_type": "code",
   "execution_count": null,
   "id": "9d002e65",
   "metadata": {},
   "outputs": [],
   "source": []
  },
  {
   "cell_type": "code",
   "execution_count": 267,
   "id": "89ad5e1d",
   "metadata": {},
   "outputs": [
    {
     "data": {
      "text/plain": [
       "222"
      ]
     },
     "execution_count": 267,
     "metadata": {},
     "output_type": "execute_result"
    }
   ],
   "source": [
    "len(No_of_Likes)"
   ]
  },
  {
   "cell_type": "code",
   "execution_count": null,
   "id": "4f7019ce",
   "metadata": {},
   "outputs": [],
   "source": []
  },
  {
   "cell_type": "code",
   "execution_count": 272,
   "id": "77a22124",
   "metadata": {},
   "outputs": [
    {
     "data": {
      "text/html": [
       "<div>\n",
       "<style scoped>\n",
       "    .dataframe tbody tr th:only-of-type {\n",
       "        vertical-align: middle;\n",
       "    }\n",
       "\n",
       "    .dataframe tbody tr th {\n",
       "        vertical-align: top;\n",
       "    }\n",
       "\n",
       "    .dataframe thead th {\n",
       "        text-align: right;\n",
       "    }\n",
       "</style>\n",
       "<table border=\"1\" class=\"dataframe\">\n",
       "  <thead>\n",
       "    <tr style=\"text-align: right;\">\n",
       "      <th></th>\n",
       "      <th>Comments</th>\n",
       "      <th>Comment_Time</th>\n",
       "      <th>Comment Upvotes</th>\n",
       "    </tr>\n",
       "  </thead>\n",
       "  <tbody>\n",
       "    <tr>\n",
       "      <th>0</th>\n",
       "      <td>That moment of Tirion trial is the most powerf...</td>\n",
       "      <td>10 months ago</td>\n",
       "      <td>894</td>\n",
       "    </tr>\n",
       "    <tr>\n",
       "      <th>1</th>\n",
       "      <td>I literally just noticed that even after Arya ...</td>\n",
       "      <td>1 year ago</td>\n",
       "      <td>1.1K</td>\n",
       "    </tr>\n",
       "    <tr>\n",
       "      <th>2</th>\n",
       "      <td>It is amazing just how spectacular and perfect...</td>\n",
       "      <td>1 month ago</td>\n",
       "      <td>103</td>\n",
       "    </tr>\n",
       "    <tr>\n",
       "      <th>3</th>\n",
       "      <td>The scene with Hodor was one of the most under...</td>\n",
       "      <td>1 year ago</td>\n",
       "      <td>595</td>\n",
       "    </tr>\n",
       "    <tr>\n",
       "      <th>4</th>\n",
       "      <td>“A dragon is not a slave” \\n\\nI got chills whe...</td>\n",
       "      <td>4 months ago (edited)</td>\n",
       "      <td>156</td>\n",
       "    </tr>\n",
       "    <tr>\n",
       "      <th>...</th>\n",
       "      <td>...</td>\n",
       "      <td>...</td>\n",
       "      <td>...</td>\n",
       "    </tr>\n",
       "    <tr>\n",
       "      <th>217</th>\n",
       "      <td>11th dafuq</td>\n",
       "      <td>1 year ago</td>\n",
       "      <td>5</td>\n",
       "    </tr>\n",
       "    <tr>\n",
       "      <th>218</th>\n",
       "      <td>24th comment</td>\n",
       "      <td>1 year ago</td>\n",
       "      <td>2</td>\n",
       "    </tr>\n",
       "    <tr>\n",
       "      <th>219</th>\n",
       "      <td>12th wtf</td>\n",
       "      <td>1 year ago</td>\n",
       "      <td>3</td>\n",
       "    </tr>\n",
       "    <tr>\n",
       "      <th>220</th>\n",
       "      <td>4th comment!</td>\n",
       "      <td>1 year ago</td>\n",
       "      <td>5</td>\n",
       "    </tr>\n",
       "    <tr>\n",
       "      <th>221</th>\n",
       "      <td>6th now</td>\n",
       "      <td>1 year ago</td>\n",
       "      <td>5</td>\n",
       "    </tr>\n",
       "  </tbody>\n",
       "</table>\n",
       "<p>222 rows × 3 columns</p>\n",
       "</div>"
      ],
      "text/plain": [
       "                                              Comments           Comment_Time  \\\n",
       "0    That moment of Tirion trial is the most powerf...          10 months ago   \n",
       "1    I literally just noticed that even after Arya ...             1 year ago   \n",
       "2    It is amazing just how spectacular and perfect...            1 month ago   \n",
       "3    The scene with Hodor was one of the most under...             1 year ago   \n",
       "4    “A dragon is not a slave” \\n\\nI got chills whe...  4 months ago (edited)   \n",
       "..                                                 ...                    ...   \n",
       "217                                         11th dafuq             1 year ago   \n",
       "218                                       24th comment             1 year ago   \n",
       "219                                           12th wtf             1 year ago   \n",
       "220                                       4th comment!             1 year ago   \n",
       "221                                            6th now             1 year ago   \n",
       "\n",
       "    Comment Upvotes  \n",
       "0               894  \n",
       "1              1.1K  \n",
       "2               103  \n",
       "3               595  \n",
       "4               156  \n",
       "..              ...  \n",
       "217               5  \n",
       "218               2  \n",
       "219               3  \n",
       "220               5  \n",
       "221               5  \n",
       "\n",
       "[222 rows x 3 columns]"
      ]
     },
     "execution_count": 272,
     "metadata": {},
     "output_type": "execute_result"
    }
   ],
   "source": [
    "df=pd.DataFrame({'Comments':comments,'Comment_Time':comment_time,'Comment Upvotes':No_of_Likes})\n",
    "df"
   ]
  },
  {
   "cell_type": "code",
   "execution_count": null,
   "id": "fcc03864",
   "metadata": {},
   "outputs": [],
   "source": []
  },
  {
   "cell_type": "markdown",
   "id": "0f14ee9c",
   "metadata": {},
   "source": [
    "10. Write a python program to scrape a data for all available Hostels from https://www.hostelworld.com/ in “London” location. You have to scrape hostel name, distance from city centre, ratings, total reviews, overall reviews, privates from price, dorms from price, facilities and property description."
   ]
  },
  {
   "cell_type": "code",
   "execution_count": 158,
   "id": "f61b01a5",
   "metadata": {},
   "outputs": [],
   "source": [
    "driver=webdriver.Chrome(r\"C:\\Users\\Hello world\\Downloads\\chromedriver_win32\\chromedriver.exe\")"
   ]
  },
  {
   "cell_type": "code",
   "execution_count": 159,
   "id": "3ef9b4ae",
   "metadata": {},
   "outputs": [],
   "source": [
    "driver.get(\"https://www.hostelworld.com/\")"
   ]
  },
  {
   "cell_type": "code",
   "execution_count": 161,
   "id": "e5996399",
   "metadata": {},
   "outputs": [],
   "source": [
    "#locating the location search bar\n",
    "search_bar = driver.find_element(By.XPATH, '/html/body/div[3]/div/div/div[2]/div[1]/div/div/div[4]/div/div[2]/div/div[1]/div/div/div/input')\n",
    "\n",
    "# Entering Lonodn in search bar\n",
    "search_bar.send_keys(\"London\")\n",
    "time.sleep(3)"
   ]
  },
  {
   "cell_type": "code",
   "execution_count": 162,
   "id": "fec7b39f",
   "metadata": {},
   "outputs": [],
   "source": [
    "#Select london\n",
    "London = driver.find_element(By.XPATH, '/html/body/div[3]/div/div/div[2]/div[1]/div/div/div[4]/div/div[2]/div/div[1]/div/div/ul/li[2]')\n",
    "# Clicking on the button\n",
    "London.click()\n",
    "time.sleep(3)\n",
    "\n",
    "\n",
    "# Do click on search button\n",
    "search_btn = driver.find_element(By.ID, 'search-button')\n",
    "search_btn.click()"
   ]
  },
  {
   "cell_type": "code",
   "execution_count": null,
   "id": "cd54b39b",
   "metadata": {},
   "outputs": [],
   "source": [
    "#lets find required data\n",
    "hostel_name = []\n",
    "distance = []\n",
    "pvt_prices = []\n",
    "dorms_price = []\n",
    "rating = []\n",
    "reviews = []\n",
    "over_all = []\n",
    "facilities = []\n",
    "description =[]\n",
    "product_url = []"
   ]
  },
  {
   "cell_type": "code",
   "execution_count": null,
   "id": "da5f0b19",
   "metadata": {},
   "outputs": [],
   "source": []
  },
  {
   "cell_type": "code",
   "execution_count": null,
   "id": "e18112fd",
   "metadata": {},
   "outputs": [],
   "source": [
    "#Scraping the required informations\n",
    "for i in driver.find_element(By.XPATH,\"//div[@class = 'pagination-item pagination-current' or @class='pagination-item']\"):\n",
    "    i.click()\n",
    "    time.sleep(4)\n",
    "    \n",
    "    #Scraping hostel name\n",
    "    try:\n",
    "        name = driver.find_element(By.XPATH,\"//h2[@class='title title-6']\")\n",
    "        for i in name:\n",
    "            hostel_name.append(i.text)\n",
    "    except NoSuchElementException:\n",
    "        hostel_name.append('-')\n",
    "        \n",
    "    #Scraping distance from city centre\n",
    "    try:\n",
    "        dist = driver.find_element(By.XPATH,\"//div[@class='subtitle body-3']//a//span[1]\")\n",
    "        for i in dist:\n",
    "            distance.append(i.text.replace('Hostel - ',''))\n",
    "    except NoSuchElementException:\n",
    "        distance.append('-')\n",
    "        \n",
    "    for i in driver.find_element(By.XPATH,\"//div[@class='prices-col']\"):\n",
    "    #Scraping privates from price\n",
    "        try:\n",
    "            pvt_price = driver.find_element(By.XPATH,\"//a[@class='prices']//div[1]//div\")\n",
    "            pvt_prices.append(pvt_price.text)\n",
    "        except NoSuchElementException:\n",
    "            pvt_prices.append('-')\n",
    "            \n",
    "    #Scraping dorms from price\n",
    "    for i in driver.find_element(By.XPATH,\"//div[@class='prices-col']\"):\n",
    "        try:\n",
    "            dorms = driver.find_element(By.XPATH,\"//a[@class='prices']//div[2]//div\")\n",
    "            dorms_price.append(dorms.text)\n",
    "        except NoSuchElementException:\n",
    "            dorms_price.append('-')\n",
    "            \n",
    "    #Scraping facilities\n",
    "    try:\n",
    "        fac1 = driver.find_element(By.XPATH,\"//div[@class='has-wifi']\")\n",
    "        fac2 = driver.find_element(By.XPATH,\"//div[@class='has-sanitation']\")\n",
    "        for i in fac1:\n",
    "            for j in fac2:\n",
    "                facilities.append(i.text +', '+ j.text )\n",
    "    except NoSuchElementException:\n",
    "        facilities.append('-')\n",
    "        \n",
    "    #Fetching url of each hostel\n",
    "    p_url = driver.find_element(By.XPATH,\"//div[@class='prices-col']//a[2]\")\n",
    "    for i in p_url:\n",
    "        product_url.append(i.get_attribute('href'))\n",
    "\n",
    "for i in product_url:\n",
    "    driver.get(i)\n",
    "    time.sleep(3)\n",
    "   \n",
    "    #Do click on show more button for description\n",
    "    try:\n",
    "        driver.find_element(By.XPATH,\"//a[@class='toggle-content']\").click()\n",
    "        time.sleep(5)\n",
    "    except NoSuchElementException:\n",
    "        pass\n",
    "    \n",
    "    #Scraping ratings\n",
    "    try:\n",
    "        rat = driver.find_element(By.XPATH,\"//div[@class='score orange big' or @class='score gray big']\")\n",
    "        rating.append(rat.text)\n",
    "    except NoSuchElementException:\n",
    "        rating.append('-')\n",
    "        \n",
    "    #Scraping total reviews   \n",
    "    try:\n",
    "        rws = driver.find_element(By.XPATH,\"//div[@class='reviews']\")\n",
    "        reviews.append(rws.text.replace('Total Reviews',''))\n",
    "    except NoSuchElementException:\n",
    "        reviews.append('-')\n",
    "        \n",
    "    #Fetching overall review\n",
    "    try:\n",
    "        overall_rw = driver.find_element(By.XPATH,\"//div[@class='keyword']//span\")\n",
    "        over_all.append(overall_rw.text)\n",
    "    except NoSuchElementException:\n",
    "        over_all.append('-')\n",
    "        \n",
    "    #Fetching property description \n",
    "    try:\n",
    "        disc = driver.find_element(By.XPATH,\"//div[@class='content']\")\n",
    "        description.append(disc.text)\n",
    "    except NoSuchElementException:\n",
    "        over_all.append('-')"
   ]
  },
  {
   "cell_type": "code",
   "execution_count": 46,
   "id": "963b7b89",
   "metadata": {},
   "outputs": [],
   "source": []
  },
  {
   "cell_type": "code",
   "execution_count": null,
   "id": "50bc527e",
   "metadata": {},
   "outputs": [],
   "source": []
  }
 ],
 "metadata": {
  "kernelspec": {
   "display_name": "Python 3 (ipykernel)",
   "language": "python",
   "name": "python3"
  },
  "language_info": {
   "codemirror_mode": {
    "name": "ipython",
    "version": 3
   },
   "file_extension": ".py",
   "mimetype": "text/x-python",
   "name": "python",
   "nbconvert_exporter": "python",
   "pygments_lexer": "ipython3",
   "version": "3.9.12"
  }
 },
 "nbformat": 4,
 "nbformat_minor": 5
}
