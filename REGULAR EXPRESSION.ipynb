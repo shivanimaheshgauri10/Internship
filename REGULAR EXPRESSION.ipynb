{
 "cells": [
  {
   "cell_type": "markdown",
   "id": "c71f6250",
   "metadata": {},
   "source": [
    "# Regular Expression"
   ]
  },
  {
   "cell_type": "markdown",
   "id": "7fd9de2d",
   "metadata": {},
   "source": [
    "Que 1- Write a Python program to check that a string contains only a certain set of characters (in this case a-z, A-Z and 0-9)."
   ]
  },
  {
   "cell_type": "code",
   "execution_count": 7,
   "id": "08354b4a",
   "metadata": {},
   "outputs": [],
   "source": [
    "import re\n",
    "def is_allowed_chars(string):\n",
    "    pattern = '^[a-zA-Z0-9]*$'\n",
    "    return bool (re.match(pattern, string))\n"
   ]
  },
  {
   "cell_type": "code",
   "execution_count": 8,
   "id": "e3d9e900",
   "metadata": {},
   "outputs": [
    {
     "name": "stdout",
     "output_type": "stream",
     "text": [
      "True\n"
     ]
    }
   ],
   "source": [
    "test_string = \"ABCabc123\"\n",
    "print(is_allowed_chars(test_string)) "
   ]
  },
  {
   "cell_type": "markdown",
   "id": "e61db861",
   "metadata": {},
   "source": [
    "Que 2- Create a function in python that matches a string that has an a followed by zero or more b's"
   ]
  },
  {
   "cell_type": "code",
   "execution_count": 10,
   "id": "1e31b4a5",
   "metadata": {},
   "outputs": [],
   "source": [
    "import re\n",
    "def match_ab(string):\n",
    "    pattern = '^ab*'\n",
    "    return bool(re.match(pattern, string))"
   ]
  },
  {
   "cell_type": "code",
   "execution_count": 11,
   "id": "fe509ee3",
   "metadata": {},
   "outputs": [
    {
     "name": "stdout",
     "output_type": "stream",
     "text": [
      "True\n"
     ]
    }
   ],
   "source": [
    "test_string = \"ac\"\n",
    "print(match_ab(test_string))"
   ]
  },
  {
   "cell_type": "code",
   "execution_count": 12,
   "id": "ea23bb5c",
   "metadata": {},
   "outputs": [
    {
     "name": "stdout",
     "output_type": "stream",
     "text": [
      "True\n"
     ]
    }
   ],
   "source": [
    "test_string =\"ab\"\n",
    "print(match_ab(test_string))"
   ]
  },
  {
   "cell_type": "code",
   "execution_count": 13,
   "id": "8ffacef5",
   "metadata": {},
   "outputs": [
    {
     "name": "stdout",
     "output_type": "stream",
     "text": [
      "True\n"
     ]
    }
   ],
   "source": [
    "test_string =\"aabbcc\"\n",
    "print(match_ab(test_string))"
   ]
  },
  {
   "cell_type": "markdown",
   "id": "b999c2c3",
   "metadata": {},
   "source": [
    "Que 3-  Create a function in python that matches a string that has an a followed by one or more b's"
   ]
  },
  {
   "cell_type": "code",
   "execution_count": 14,
   "id": "38134151",
   "metadata": {},
   "outputs": [],
   "source": [
    "import re\n",
    "def match_ab(string):\n",
    "    pattern = '^ab+'\n",
    "    return bool(re.match(pattern, string))"
   ]
  },
  {
   "cell_type": "code",
   "execution_count": 16,
   "id": "dc2aed0e",
   "metadata": {},
   "outputs": [
    {
     "name": "stdout",
     "output_type": "stream",
     "text": [
      "True\n"
     ]
    }
   ],
   "source": [
    "test_string = \"abc\"\n",
    "print(match_ab(test_string))"
   ]
  },
  {
   "cell_type": "code",
   "execution_count": 17,
   "id": "7a6dce78",
   "metadata": {},
   "outputs": [
    {
     "name": "stdout",
     "output_type": "stream",
     "text": [
      "False\n"
     ]
    }
   ],
   "source": [
    "test_string = \"aabbcc\"\n",
    "print(match_ab(test_string))"
   ]
  },
  {
   "cell_type": "code",
   "execution_count": 18,
   "id": "b41d347d",
   "metadata": {},
   "outputs": [
    {
     "name": "stdout",
     "output_type": "stream",
     "text": [
      "True\n"
     ]
    }
   ],
   "source": [
    "test_string= \"abbc\"\n",
    "print(match_ab(test_string))"
   ]
  },
  {
   "cell_type": "markdown",
   "id": "203f4143",
   "metadata": {},
   "source": [
    "Que 4- Create a function in Python and use RegEx that matches a string that has an a followed by zero or one 'b'."
   ]
  },
  {
   "cell_type": "code",
   "execution_count": 23,
   "id": "c35a051d",
   "metadata": {},
   "outputs": [],
   "source": [
    "import re\n",
    "def match_ab(string):\n",
    "    pattern = '^ab?'\n",
    "    return bool(re.match(pattern, string))"
   ]
  },
  {
   "cell_type": "code",
   "execution_count": 24,
   "id": "f67111f7",
   "metadata": {},
   "outputs": [
    {
     "name": "stdout",
     "output_type": "stream",
     "text": [
      "True\n"
     ]
    }
   ],
   "source": [
    "test_string = \"ac\"\n",
    "print(match_ab(test_string)) \n"
   ]
  },
  {
   "cell_type": "code",
   "execution_count": 25,
   "id": "83464151",
   "metadata": {},
   "outputs": [
    {
     "name": "stdout",
     "output_type": "stream",
     "text": [
      "True\n"
     ]
    }
   ],
   "source": [
    "test_string = \"abc\"\n",
    "print (match_ab(test_string))"
   ]
  },
  {
   "cell_type": "markdown",
   "id": "9f21d83b",
   "metadata": {},
   "source": [
    "Que5- Write a Python program that matches a string that has an a followed by three 'b'."
   ]
  },
  {
   "cell_type": "code",
   "execution_count": 26,
   "id": "50ef9a15",
   "metadata": {},
   "outputs": [],
   "source": [
    "import re\n",
    "def match_abb(string):\n",
    "    pattern = '^ab{3}'\n",
    "    return bool(re.match(pattern, string))"
   ]
  },
  {
   "cell_type": "code",
   "execution_count": 28,
   "id": "1de25563",
   "metadata": {},
   "outputs": [
    {
     "name": "stdout",
     "output_type": "stream",
     "text": [
      "True\n"
     ]
    }
   ],
   "source": [
    "test_string = \"abbbc\"\n",
    "print(match_abb(test_string))"
   ]
  },
  {
   "cell_type": "markdown",
   "id": "c8f11ebc",
   "metadata": {},
   "source": [
    "Que 6- Write a regular expression in Python to split a string into uppercase letters.\n",
    "Sample text: “ImportanceOfRegularExpressionsInPython”\n",
    "Output: [‘Importance’, ‘Of’, ‘Regular’, ‘Expression’, ‘In’, ‘Python’]\n"
   ]
  },
  {
   "cell_type": "code",
   "execution_count": 33,
   "id": "37b9ca4a",
   "metadata": {},
   "outputs": [],
   "source": [
    "import re\n",
    "def split_uppercase(string):\n",
    "    return re.findall(r'[A-Z][a-z]*', string)"
   ]
  },
  {
   "cell_type": "code",
   "execution_count": 34,
   "id": "a4545b97",
   "metadata": {},
   "outputs": [
    {
     "name": "stdout",
     "output_type": "stream",
     "text": [
      "['Importance', 'Of', 'Regular', 'Expressions', 'In', 'Python']\n"
     ]
    }
   ],
   "source": [
    "test_string = \"ImportanceOfRegularExpressionsInPython\"\n",
    "print(split_uppercase(test_string))"
   ]
  },
  {
   "cell_type": "markdown",
   "id": "c61bba23",
   "metadata": {},
   "source": [
    "Que 7- Write a Python program that matches a string that has an a followed by two to three 'b'."
   ]
  },
  {
   "cell_type": "code",
   "execution_count": 36,
   "id": "52aaea5e",
   "metadata": {},
   "outputs": [],
   "source": [
    "import re\n",
    "def match_abb(string):\n",
    "    pattern = '^ab{2,3}'\n",
    "    return bool(re.match(pattern, string))\n"
   ]
  },
  {
   "cell_type": "code",
   "execution_count": 37,
   "id": "5c0beaec",
   "metadata": {},
   "outputs": [
    {
     "name": "stdout",
     "output_type": "stream",
     "text": [
      "True\n"
     ]
    }
   ],
   "source": [
    "test_string = \"abbc\"\n",
    "print(match_abb(test_string))"
   ]
  },
  {
   "cell_type": "code",
   "execution_count": 39,
   "id": "c35f97d6",
   "metadata": {},
   "outputs": [
    {
     "name": "stdout",
     "output_type": "stream",
     "text": [
      "True\n"
     ]
    }
   ],
   "source": [
    "test_string = \"abbbc\"\n",
    "print(match_abb(test_string))"
   ]
  },
  {
   "cell_type": "markdown",
   "id": "82b83f0d",
   "metadata": {},
   "source": [
    "Que 8- Write a Python program to find sequences of lowercase letters joined with a underscore."
   ]
  },
  {
   "cell_type": "code",
   "execution_count": 40,
   "id": "6087e1c5",
   "metadata": {},
   "outputs": [],
   "source": [
    "import re\n",
    "def find_lowercase_underscore(string):\n",
    "    return re.findall(r'\\b[a-z]+_[a-z]+\\b', string)"
   ]
  },
  {
   "cell_type": "code",
   "execution_count": 43,
   "id": "1a88b2b8",
   "metadata": {},
   "outputs": [
    {
     "name": "stdout",
     "output_type": "stream",
     "text": [
      "['has_seven']\n"
     ]
    }
   ],
   "source": [
    "test_string = \"The rainbow has_seven colors\"\n",
    "print(find_lowercase_underscore(test_string))"
   ]
  },
  {
   "cell_type": "markdown",
   "id": "b065ecf6",
   "metadata": {},
   "source": [
    "Que 9- Write a Python program that matches a string that has an 'a' followed by anything, ending in 'b'."
   ]
  },
  {
   "cell_type": "code",
   "execution_count": 44,
   "id": "886fe68d",
   "metadata": {},
   "outputs": [],
   "source": [
    "import re\n",
    "def match_ab(string):\n",
    "    pattern = '^a.*b$'\n",
    "    return bool(re.match(pattern, string))"
   ]
  },
  {
   "cell_type": "code",
   "execution_count": 45,
   "id": "cbfd71de",
   "metadata": {},
   "outputs": [
    {
     "name": "stdout",
     "output_type": "stream",
     "text": [
      "True\n"
     ]
    }
   ],
   "source": [
    "test_string = \"a123b\"\n",
    "print(match_ab(test_string))"
   ]
  },
  {
   "cell_type": "code",
   "execution_count": 46,
   "id": "715c7d41",
   "metadata": {},
   "outputs": [
    {
     "name": "stdout",
     "output_type": "stream",
     "text": [
      "True\n"
     ]
    }
   ],
   "source": [
    "test_string = \"adverb\"\n",
    "print(match_ab(test_string))"
   ]
  },
  {
   "cell_type": "markdown",
   "id": "9393e34a",
   "metadata": {},
   "source": [
    "Que 10- Write a Python program that matches a word at the beginning of a string."
   ]
  },
  {
   "cell_type": "code",
   "execution_count": 52,
   "id": "36516bb7",
   "metadata": {},
   "outputs": [],
   "source": [
    "import re\n",
    "def match_word_start(string):\n",
    "    return re.findall(r'^\\w+', string)"
   ]
  },
  {
   "cell_type": "code",
   "execution_count": 54,
   "id": "707b0b11",
   "metadata": {},
   "outputs": [
    {
     "name": "stdout",
     "output_type": "stream",
     "text": [
      "['Hello']\n"
     ]
    }
   ],
   "source": [
    "test_string = \"Hello, all!\"\n",
    "print(match_word_start(test_string))"
   ]
  },
  {
   "cell_type": "markdown",
   "id": "f048a7e2",
   "metadata": {},
   "source": [
    "Ques 11- Write a Python program to match a string that contains only upper and lowercase letters, numbers, and underscores."
   ]
  },
  {
   "cell_type": "code",
   "execution_count": 55,
   "id": "e0cdf014",
   "metadata": {},
   "outputs": [],
   "source": [
    "import re\n",
    "def is_allowed_chars(string):\n",
    "    pattern = '^\\w+$'\n",
    "    return bool(re.match(pattern, string))"
   ]
  },
  {
   "cell_type": "code",
   "execution_count": 56,
   "id": "8f3769f9",
   "metadata": {},
   "outputs": [
    {
     "name": "stdout",
     "output_type": "stream",
     "text": [
      "True\n"
     ]
    }
   ],
   "source": [
    "test_string = \"ABCabc123_\"\n",
    "print(is_allowed_chars(test_string))"
   ]
  },
  {
   "cell_type": "code",
   "execution_count": 57,
   "id": "cac4a589",
   "metadata": {},
   "outputs": [
    {
     "name": "stdout",
     "output_type": "stream",
     "text": [
      "True\n"
     ]
    }
   ],
   "source": [
    "test_string = \"SUM_one111\"\n",
    "print(is_allowed_chars(test_string))"
   ]
  },
  {
   "cell_type": "code",
   "execution_count": 58,
   "id": "a48f7ae7",
   "metadata": {},
   "outputs": [
    {
     "name": "stdout",
     "output_type": "stream",
     "text": [
      "True\n"
     ]
    }
   ],
   "source": [
    "test_string = \"_tincy100ABC\"\n",
    "print(is_allowed_chars(test_string))"
   ]
  },
  {
   "cell_type": "markdown",
   "id": "449d7bda",
   "metadata": {},
   "source": [
    "Que 12- Write a Python program where a string will start with a specific number. "
   ]
  },
  {
   "cell_type": "code",
   "execution_count": 59,
   "id": "899bbd9b",
   "metadata": {},
   "outputs": [],
   "source": [
    "import re\n",
    "def match_start_number(string, number):\n",
    "    pattern = '^' + str(number)\n",
    "    return bool(re.match(pattern, string))\n"
   ]
  },
  {
   "cell_type": "code",
   "execution_count": 62,
   "id": "08fddd79",
   "metadata": {},
   "outputs": [
    {
     "name": "stdout",
     "output_type": "stream",
     "text": [
      "True\n"
     ]
    }
   ],
   "source": [
    "test_string = \"123abc\"\n",
    "print(match_start_number(test_string, 123))"
   ]
  },
  {
   "cell_type": "code",
   "execution_count": 63,
   "id": "a16ab2b5",
   "metadata": {},
   "outputs": [
    {
     "name": "stdout",
     "output_type": "stream",
     "text": [
      "False\n"
     ]
    }
   ],
   "source": [
    "test_string = \"678abc\"\n",
    "print(match_start_number(test_string, 123))"
   ]
  },
  {
   "cell_type": "markdown",
   "id": "c02cf1d6",
   "metadata": {},
   "source": [
    "Ques 13- Write a Python program to remove leading zeros from an IP address"
   ]
  },
  {
   "cell_type": "code",
   "execution_count": 64,
   "id": "6f5835a3",
   "metadata": {},
   "outputs": [],
   "source": [
    "import re\n",
    "def remove_leading_zeros(ip):\n",
    "    return re.sub(r'\\b0+(\\d)', r'\\1', ip)"
   ]
  },
  {
   "cell_type": "code",
   "execution_count": 66,
   "id": "e0ccbcda",
   "metadata": {},
   "outputs": [
    {
     "name": "stdout",
     "output_type": "stream",
     "text": [
      "162.8.894.11\n"
     ]
    }
   ],
   "source": [
    "test_ip = \"162.08.894.0011\"\n",
    "print(remove_leading_zeros(test_ip)) "
   ]
  },
  {
   "cell_type": "markdown",
   "id": "40ee79de",
   "metadata": {},
   "source": [
    "Ques 14- Write a regular expression in python to match a date string in the form of Month name followed by day number and year stored in a text file."
   ]
  },
  {
   "cell_type": "code",
   "execution_count": 76,
   "id": "bb80263d",
   "metadata": {},
   "outputs": [],
   "source": [
    "import re\n",
    "regex = r\"([a-zA-Z]+) (\\d{1,2}), (\\d{4})\"\n",
    "test_str = \"July 1, 2023\"\n",
    "\n"
   ]
  },
  {
   "cell_type": "code",
   "execution_count": 78,
   "id": "33b2d7bf",
   "metadata": {},
   "outputs": [
    {
     "name": "stdout",
     "output_type": "stream",
     "text": [
      "Match was found at 0-12: July 1, 2023\n"
     ]
    }
   ],
   "source": [
    "matches = re.search(regex, test_str)\n",
    "\n",
    "if matches:\n",
    "     print(\"Match was found at {start}-{end}: {match}\".format(\n",
    "        start=matches.start(), end=matches.end(), match=matches.group()\n",
    "    ))"
   ]
  },
  {
   "cell_type": "markdown",
   "id": "c4e28712",
   "metadata": {},
   "source": [
    "Que 14- Write a regular expression in python to match a date string in the form of Month name followed by day number and year stored in a text file.\n",
    "Sample text : ' On August 15th 1947 that India was declared independent from British colonialism, and the reins of control were handed over to the leaders of the Country’.\n",
    "Output- August 15th 1947\n",
    "Hint- Use re.match() method here\n"
   ]
  },
  {
   "cell_type": "code",
   "execution_count": 96,
   "id": "ceb72673",
   "metadata": {},
   "outputs": [],
   "source": [
    "import re\n",
    "text = \"On August 15th 1947 that India was declared independent from British colonialism, and the rei\"\n",
    "date_regex = r\"([A-Z][a-z]+) (\\d{1,2})[a-z]{0,2} (\\d{4})\""
   ]
  },
  {
   "cell_type": "code",
   "execution_count": 97,
   "id": "47bafcff",
   "metadata": {},
   "outputs": [
    {
     "name": "stdout",
     "output_type": "stream",
     "text": [
      "Month name: August\n",
      "Day number: 15\n",
      "Year: 1947\n"
     ]
    }
   ],
   "source": [
    "match = re.search(date_regex, text)\n",
    "if match:\n",
    "    month_name = match.group(1)\n",
    "    day_number = match.group(2)\n",
    "    year = match.group(3)\n",
    "    print(f\"Month name: {month_name}\\nDay number: {day_number}\\nYear: {year}\")"
   ]
  },
  {
   "cell_type": "markdown",
   "id": "feb67d1f",
   "metadata": {},
   "source": [
    "Que 15- Write a Python program to search some literals strings in a string. Go to the editor\n",
    "Sample text : 'The quick brown fox jumps over the lazy dog.'\n",
    "Searched words : 'fox', 'dog', 'horse'\n"
   ]
  },
  {
   "cell_type": "code",
   "execution_count": 98,
   "id": "8391bd54",
   "metadata": {},
   "outputs": [],
   "source": [
    "text = 'The quick brown fox jumps over the lazy dog.'\n",
    "searched_words = ['fox', 'dog', 'horse']"
   ]
  },
  {
   "cell_type": "code",
   "execution_count": 99,
   "id": "37b6c6d2",
   "metadata": {},
   "outputs": [
    {
     "name": "stdout",
     "output_type": "stream",
     "text": [
      "'fox' found in 'The quick brown fox jumps over the lazy dog.'\n",
      "'dog' found in 'The quick brown fox jumps over the lazy dog.'\n",
      "'horse' not found in 'The quick brown fox jumps over the lazy dog.'\n"
     ]
    }
   ],
   "source": [
    "for word in searched_words:\n",
    "    if text.find(word) != -1:\n",
    "        print(f\"'{word}' found in '{text}'\")\n",
    "    else:\n",
    "        print(f\"'{word}' not found in '{text}'\")"
   ]
  },
  {
   "cell_type": "markdown",
   "id": "5ec79e9c",
   "metadata": {},
   "source": [
    "Que 16- Write a Python program to search a literals string in a string and also find the location within the original string where the pattern occurs\n",
    "Sample text : 'The quick brown fox jumps over the lazy dog.'\n",
    "Searched words : 'fox'\n"
   ]
  },
  {
   "cell_type": "code",
   "execution_count": 5,
   "id": "dd23f4b0",
   "metadata": {},
   "outputs": [],
   "source": [
    "import re\n",
    "pattern = 'fox'\n",
    "text = 'the quick brown fox jumps over the lazy dog.'"
   ]
  },
  {
   "cell_type": "code",
   "execution_count": 7,
   "id": "9c42271d",
   "metadata": {},
   "outputs": [
    {
     "name": "stdout",
     "output_type": "stream",
     "text": [
      "'fox' found at match 16\n"
     ]
    }
   ],
   "source": [
    "match = text.find(pattern)\n",
    "if match != -1:\n",
    "    print(f\"'{pattern}' found at match {match}\")\n",
    "else:\n",
    "    print(f\"'{pattern}' not found\")"
   ]
  },
  {
   "cell_type": "markdown",
   "id": "03b434f0",
   "metadata": {},
   "source": [
    "Que 17- Write a Python program to find the substrings within a string.\n",
    "Sample text : 'Python exercises, PHP exercises, C# exercises'\n",
    "Pattern : 'exercises'.\n"
   ]
  },
  {
   "cell_type": "code",
   "execution_count": 8,
   "id": "ff1aafb1",
   "metadata": {},
   "outputs": [],
   "source": [
    "import re\n",
    "pattern = 'exercises'\n",
    "text = 'Python exercises, PHP exercises, C# exercises'\n"
   ]
  },
  {
   "cell_type": "code",
   "execution_count": 17,
   "id": "ed41069c",
   "metadata": {},
   "outputs": [
    {
     "name": "stdout",
     "output_type": "stream",
     "text": [
      "'exercises' found at index 36 \n"
     ]
    }
   ],
   "source": [
    "for match in re.finditer(pattern, text):\n",
    "    start = match.start()\n",
    "   \n",
    "print(f\"'{pattern}' found at index {start} \")"
   ]
  },
  {
   "cell_type": "markdown",
   "id": "3ba60de4",
   "metadata": {},
   "source": [
    "Que 18- Write a Python program to find the occurrence and position of the substrings within a string."
   ]
  },
  {
   "cell_type": "code",
   "execution_count": 18,
   "id": "e65c961d",
   "metadata": {},
   "outputs": [],
   "source": [
    "import re\n",
    "pattern = 'exercises'\n",
    "text = 'Python exercises, PHP exercises, C# exercises'\n"
   ]
  },
  {
   "cell_type": "code",
   "execution_count": 19,
   "id": "67dc0d18",
   "metadata": {},
   "outputs": [
    {
     "name": "stdout",
     "output_type": "stream",
     "text": [
      "Found 3 occurrences of \"exercises\" in \"Python exercises, PHP exercises, C# exercises\":\n",
      "\"exercises\" at position 7 to 16\n",
      "\"exercises\" at position 22 to 31\n",
      "\"exercises\" at position 36 to 45\n"
     ]
    }
   ],
   "source": [
    "matches = re.finditer(pattern, text)\n",
    "if matches:\n",
    "    print(f'Found {len(list(matches))} occurrences of \"{pattern}\" in \"{text}\":')\n",
    "    for match in re.finditer(pattern, text):\n",
    "        s = match.start()\n",
    "        e = match.end()\n",
    "        print(f'\"{match.group()}\" at position {s} to {e}')\n",
    "else:\n",
    "    print(f'\"{pattern}\" not found in \"{text}\"')"
   ]
  },
  {
   "cell_type": "markdown",
   "id": "53adf6c9",
   "metadata": {},
   "source": [
    "Que 19- Write a Python program to convert a date of yyyy-mm-dd format to dd-mm-yyyy format."
   ]
  },
  {
   "cell_type": "code",
   "execution_count": 22,
   "id": "543fb7b5",
   "metadata": {},
   "outputs": [],
   "source": [
    "from datetime import datetime\n",
    "date_str = '2023-07-12' # example date in yyyy-mm-dd format\n",
    "date_obj = datetime.strptime(date_str, '%Y-%m-%d')\n",
    "new_date_str = date_obj.strftime('%d-%m-%Y')\n"
   ]
  },
  {
   "cell_type": "code",
   "execution_count": 23,
   "id": "b1f89214",
   "metadata": {},
   "outputs": [
    {
     "name": "stdout",
     "output_type": "stream",
     "text": [
      "Original date: 2023-07-12\n",
      "New date: 12-07-2023\n"
     ]
    }
   ],
   "source": [
    "print(f\"Original date: {date_str}\")\n",
    "print(f\"New date: {new_date_str}\")"
   ]
  },
  {
   "cell_type": "markdown",
   "id": "b311389f",
   "metadata": {},
   "source": [
    "Que 20- Write a Python program to find all words starting with 'a' or 'e' in a given string."
   ]
  },
  {
   "cell_type": "code",
   "execution_count": 26,
   "id": "3228e379",
   "metadata": {},
   "outputs": [],
   "source": [
    "import re\n",
    "text = 'There is an baby elephant playing with tourists.'\n",
    "pattern = r'\\b[aeAE]\\w+\\b'\n",
    "words = re.findall(pattern, text)"
   ]
  },
  {
   "cell_type": "code",
   "execution_count": 27,
   "id": "6732da57",
   "metadata": {},
   "outputs": [
    {
     "name": "stdout",
     "output_type": "stream",
     "text": [
      "Words starting with 'a' or 'e': ['an', 'elephant']\n"
     ]
    }
   ],
   "source": [
    "print(f\"Words starting with 'a' or 'e': {words}\")"
   ]
  },
  {
   "cell_type": "markdown",
   "id": "f2d1f6e1",
   "metadata": {},
   "source": [
    "Que 21- Write a Python program to separate and print the numbers and their position of a given string."
   ]
  },
  {
   "cell_type": "code",
   "execution_count": 29,
   "id": "4373819e",
   "metadata": {},
   "outputs": [],
   "source": [
    "import re\n",
    "text = 'The quick white rabbit jumps 20 feet over the lazy tortoise.'\n",
    "pattern = r'\\d+'"
   ]
  },
  {
   "cell_type": "code",
   "execution_count": 30,
   "id": "32603e65",
   "metadata": {},
   "outputs": [
    {
     "name": "stdout",
     "output_type": "stream",
     "text": [
      "Number: 20, Position: 29-31\n"
     ]
    }
   ],
   "source": [
    "for match in re.finditer(pattern, text):\n",
    "    number = match.group()\n",
    "    start = match.start()\n",
    "    end = match.end()\n",
    "    print(f\"Number: {number}, Position: {start}-{end}\")"
   ]
  },
  {
   "cell_type": "markdown",
   "id": "81cc274b",
   "metadata": {},
   "source": [
    "Que 22- Write a regular expression in python program to extract maximum numeric value from a string"
   ]
  },
  {
   "cell_type": "code",
   "execution_count": 31,
   "id": "705f519c",
   "metadata": {},
   "outputs": [],
   "source": [
    "import re\n",
    "text = 'The quick white rabbit jumps 20 feet over the lazy tortoise and eats 5 carrots.'\n",
    "pattern = r'\\d+'\n",
    "numbers = [int(match.group()) for match in re.finditer(pattern, text)]\n",
    "max_number = max(numbers)"
   ]
  },
  {
   "cell_type": "code",
   "execution_count": 32,
   "id": "b7c53660",
   "metadata": {},
   "outputs": [
    {
     "name": "stdout",
     "output_type": "stream",
     "text": [
      "Maximum numeric value: 20\n"
     ]
    }
   ],
   "source": [
    "print(f\"Maximum numeric value: {max_number}\")"
   ]
  },
  {
   "cell_type": "markdown",
   "id": "ca596d31",
   "metadata": {},
   "source": [
    "Que 23- Write a Regex in Python to put spaces between words starting with capital letters."
   ]
  },
  {
   "cell_type": "code",
   "execution_count": 39,
   "id": "74bc906d",
   "metadata": {},
   "outputs": [],
   "source": [
    "import re\n",
    "text = 'LookThereIsKiteFlyingInTheSky'\n",
    "pattern = r'([A-Z][a-z]+)'\n",
    "\n",
    "new_text = re.sub(pattern, r'\\1 ', text).strip()\n"
   ]
  },
  {
   "cell_type": "code",
   "execution_count": 40,
   "id": "4aaadb77",
   "metadata": {},
   "outputs": [
    {
     "name": "stdout",
     "output_type": "stream",
     "text": [
      "Original text: LookThereIsKiteFlyingInTheSky\n",
      "New text: Look There Is Kite Flying In The Sky\n"
     ]
    }
   ],
   "source": [
    "print(f\"Original text: {text}\")\n",
    "print(f\"New text: {new_text}\")"
   ]
  },
  {
   "cell_type": "markdown",
   "id": "cd7e3c07",
   "metadata": {},
   "source": [
    "Que 24- Python regex to find sequences of one upper case letter followed by lower case letters."
   ]
  },
  {
   "cell_type": "code",
   "execution_count": 41,
   "id": "de661353",
   "metadata": {},
   "outputs": [],
   "source": [
    "import re\n",
    "text = 'LookThereIsKiteFlyingInTheSky'\n",
    "pattern = r'[A-Z][a-z]+'\n",
    "\n",
    "matches = re.findall(pattern, text)"
   ]
  },
  {
   "cell_type": "code",
   "execution_count": 42,
   "id": "b4610e6a",
   "metadata": {},
   "outputs": [
    {
     "name": "stdout",
     "output_type": "stream",
     "text": [
      "Matches: ['Look', 'There', 'Is', 'Kite', 'Flying', 'In', 'The', 'Sky']\n"
     ]
    }
   ],
   "source": [
    "print(f\"Matches: {matches}\")"
   ]
  },
  {
   "cell_type": "markdown",
   "id": "73d7ae58",
   "metadata": {},
   "source": [
    "Que 25- Write a Python program to remove duplicate words from Sentence using Regular Expression"
   ]
  },
  {
   "cell_type": "code",
   "execution_count": 43,
   "id": "1e6e8b74",
   "metadata": {},
   "outputs": [],
   "source": [
    "import re\n",
    "text = 'The quick brown kangaroo jumps over the lazy rabbit and the lazy rabbit jumps over the quick brown kangaroo.'\n",
    "pattern = r'\\b(\\w+)\\b(?=.*\\b\\1\\b)'\n",
    "\n",
    "new_text = re.sub(pattern, '', text)"
   ]
  },
  {
   "cell_type": "code",
   "execution_count": 44,
   "id": "ac6cdcc7",
   "metadata": {},
   "outputs": [
    {
     "name": "stdout",
     "output_type": "stream",
     "text": [
      "Original text: The quick brown kangaroo jumps over the lazy rabbit and the lazy rabbit jumps over the quick brown kangaroo.\n",
      "New text: The         and  lazy rabbit jumps over the quick brown kangaroo.\n"
     ]
    }
   ],
   "source": [
    "print(f\"Original text: {text}\")\n",
    "print(f\"New text: {new_text}\")"
   ]
  },
  {
   "cell_type": "markdown",
   "id": "d34c599a",
   "metadata": {},
   "source": [
    "Que 26-  Write a python program using RegEx to accept string ending with alphanumeric character."
   ]
  },
  {
   "cell_type": "code",
   "execution_count": 49,
   "id": "e1796176",
   "metadata": {},
   "outputs": [],
   "source": [
    "import re\n",
    "def is_valid(text):\n",
    "    pattern = r'\\w$'\n",
    "    return bool(re.search(pattern, text))\n",
    "\n",
    "text1 = 'The rainbow has total 7 colors in it.'\n",
    "text2 = 'The rainbow has total seven colors in it'"
   ]
  },
  {
   "cell_type": "code",
   "execution_count": 50,
   "id": "df714dc7",
   "metadata": {},
   "outputs": [
    {
     "name": "stdout",
     "output_type": "stream",
     "text": [
      "The rainbow has total 7 colors in it.: False\n",
      "The rainbow has total seven colors in it: True\n"
     ]
    }
   ],
   "source": [
    "print(f\"{text1}: {is_valid(text1)}\")\n",
    "print(f\"{text2}: {is_valid(text2)}\")"
   ]
  },
  {
   "cell_type": "markdown",
   "id": "d0269e6d",
   "metadata": {},
   "source": [
    "Que 27-Write a python program using RegEx to extract the hashtags.\n",
    "Sample Text: text = \"\"\"RT @kapil_kausik: #Doltiwal I mean #xyzabc is \"hurt\" by #Demonetization as the same has rendered USELESS <ed><U+00A0><U+00BD><ed><U+00B1><U+0089> \"acquired funds\" No wo\"\"\"\n",
    "Output: ['#Doltiwal', '#xyzabc', '#Demonetization']\n"
   ]
  },
  {
   "cell_type": "code",
   "execution_count": 55,
   "id": "17cc52cb",
   "metadata": {},
   "outputs": [],
   "source": [
    "import re\n",
    "text = \"\"\"RT @kapil_kausik: #Doltiwal I mean #xyzabc is \"hurt\" by #Demonetization as the same has rendered USELESS <ed><U+00A0><U+00BD><ed><U+00B1><U+0089> \"acquired funds\" No wo\"\"\"\n",
    "pattern = r'#\\w+'\n",
    "hashtags = re.findall(pattern, text)"
   ]
  },
  {
   "cell_type": "code",
   "execution_count": 56,
   "id": "43ade62c",
   "metadata": {},
   "outputs": [
    {
     "name": "stdout",
     "output_type": "stream",
     "text": [
      "Hashtags: ['#Doltiwal', '#xyzabc', '#Demonetization']\n"
     ]
    }
   ],
   "source": [
    "print(f\"Hashtags: {hashtags}\")"
   ]
  },
  {
   "cell_type": "markdown",
   "id": "c85c1d7e",
   "metadata": {},
   "source": [
    "Que 28- Write a python program using RegEx to remove <U+..> like symbols\n",
    "Check the below sample text, there are strange symbols something of the sort <U+..> all over the place. You need to come up with a general Regex expression that will cover all such symbols.\n",
    "Sample Text: \"@Jags123456 Bharat band on 28??<ed><U+00A0><U+00BD><ed><U+00B8><U+0082>Those who  are protesting #demonetization  are all different party leaders\"\n",
    "Output: @Jags123456 Bharat band on 28??<ed><ed>Those who  are protesting #demonetization  are all different party leaders\n"
   ]
  },
  {
   "cell_type": "code",
   "execution_count": 57,
   "id": "995772b7",
   "metadata": {},
   "outputs": [],
   "source": [
    "import re\n",
    "text = '@Jags123456 Bharat band on 28??<ed><U+00A0><U+00BD><ed><U+00B8><U+0082>Those who  are protesting #demonetization  are all different party leaders'\n",
    "pattern = r'<U\\+\\w+>'\n",
    "new_text = re.sub(pattern, '', text)"
   ]
  },
  {
   "cell_type": "code",
   "execution_count": 59,
   "id": "673b8033",
   "metadata": {},
   "outputs": [
    {
     "name": "stdout",
     "output_type": "stream",
     "text": [
      "New text: @Jags123456 Bharat band on 28??<ed><ed>Those who  are protesting #demonetization  are all different party leaders\n"
     ]
    }
   ],
   "source": [
    "print(f\"New text: {new_text}\")"
   ]
  },
  {
   "cell_type": "markdown",
   "id": "def62289",
   "metadata": {},
   "source": [
    "Que 29- Write a python program to extract dates from the text stored in the text file.\n",
    "Sample Text: Ron was born on 12-09-1992 and he was admitted to school 15-12-1999.\n",
    "Store this sample text in the file and then extract dates.\n"
   ]
  },
  {
   "cell_type": "code",
   "execution_count": 60,
   "id": "d304c0b0",
   "metadata": {},
   "outputs": [],
   "source": [
    "import re\n",
    "with open('sample.txt', 'w') as f:\n",
    "    f.write('Ron was born on 12-09-1992 and he was admitted to school 15-12-1999.')\n",
    "with open('sample.txt', 'r') as f:\n",
    "    text = f.read()\n",
    "\n",
    "pattern = r'\\d{2}-\\d{2}-\\d{4}'\n",
    "\n",
    "dates = re.findall(pattern, text)"
   ]
  },
  {
   "cell_type": "code",
   "execution_count": 61,
   "id": "a98f45a7",
   "metadata": {},
   "outputs": [
    {
     "name": "stdout",
     "output_type": "stream",
     "text": [
      "Dates: ['12-09-1992', '15-12-1999']\n"
     ]
    }
   ],
   "source": [
    "print(f\"Dates: {dates}\")"
   ]
  },
  {
   "cell_type": "markdown",
   "id": "33ce0088",
   "metadata": {},
   "source": [
    "Que 30- Write a Python program to replace all occurrences of a space, comma, or dot with a colon.\n",
    "Sample Text- 'Python Exercises, PHP exercises.'\n",
    "Output: Python:Exercises::PHP:exercises:\n"
   ]
  },
  {
   "cell_type": "code",
   "execution_count": 62,
   "id": "44de2a1b",
   "metadata": {},
   "outputs": [],
   "source": [
    "import re\n",
    "text = 'Python Exercises, PHP exercises.'\n",
    "pattern = r'[ ,.]'\n",
    "\n",
    "new_text = re.sub(pattern, ':', text)"
   ]
  },
  {
   "cell_type": "code",
   "execution_count": 63,
   "id": "c6240d65",
   "metadata": {},
   "outputs": [
    {
     "name": "stdout",
     "output_type": "stream",
     "text": [
      "New text: Python:Exercises::PHP:exercises:\n"
     ]
    }
   ],
   "source": [
    "print(f\"New text: {new_text}\")"
   ]
  },
  {
   "cell_type": "code",
   "execution_count": null,
   "id": "e4bf01bf",
   "metadata": {},
   "outputs": [],
   "source": []
  }
 ],
 "metadata": {
  "kernelspec": {
   "display_name": "Python 3 (ipykernel)",
   "language": "python",
   "name": "python3"
  },
  "language_info": {
   "codemirror_mode": {
    "name": "ipython",
    "version": 3
   },
   "file_extension": ".py",
   "mimetype": "text/x-python",
   "name": "python",
   "nbconvert_exporter": "python",
   "pygments_lexer": "ipython3",
   "version": "3.9.13"
  }
 },
 "nbformat": 4,
 "nbformat_minor": 5
}
